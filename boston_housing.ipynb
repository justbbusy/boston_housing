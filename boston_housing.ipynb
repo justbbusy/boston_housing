<!DOCTYPE html>
<html>
<head><meta charset="utf-8" />
<title>boston_housing</title><script src="https://cdnjs.cloudflare.com/ajax/libs/require.js/2.1.10/require.min.js"></script>
<script src="https://cdnjs.cloudflare.com/ajax/libs/jquery/2.0.3/jquery.min.js"></script>

<style type="text/css">
    /*!
*
* Twitter Bootstrap
*
*/
/*!
 * Bootstrap v3.3.7 (http://getbootstrap.com)
 * Copyright 2011-2016 Twitter, Inc.
 * Licensed under MIT (https://github.com/twbs/bootstrap/blob/master/LICENSE)
 */
/*! normalize.css v3.0.3 | MIT License | github.com/necolas/normalize.css */
html {
  font-family: sans-serif;
  -ms-text-size-adjust: 100%;
  -webkit-text-size-adjust: 100%;
}
body {
  margin: 0;
}
article,
aside,
details,
figcaption,
figure,
footer,
header,
hgroup,
main,
menu,
nav,
section,
summary {
  display: block;
}
audio,
canvas,
progress,
video {
  display: inline-block;
  vertical-align: baseline;
}
audio:not([controls]) {
  display: none;
  height: 0;
}
[hidden],
template {
  display: none;
}
a {
  background-color: transparent;
}
a:active,
a:hover {
  outline: 0;
}
abbr[title] {
  border-bottom: 1px dotted;
}
b,
strong {
  font-weight: bold;
}
dfn {
  font-style: italic;
}
h1 {
  font-size: 2em;
  margin: 0.67em 0;
}
mark {
  background: #ff0;
  color: #000;
}
small {
  font-size: 80%;
}
sub,
sup {
  font-size: 75%;
  line-height: 0;
  position: relative;
  vertical-align: baseline;
}
sup {
  top: -0.5em;
}
sub {
  bottom: -0.25em;
}
img {
  border: 0;
}
svg:not(:root) {
  overflow: hidden;
}
figure {
  margin: 1em 40px;
}
hr {
  box-sizing: content-box;
  height: 0;
}
pre {
  overflow: auto;
}
code,
kbd,
pre,
samp {
  font-family: monospace, monospace;
  font-size: 1em;
}
button,
input,
optgroup,
select,
textarea {
  color: inherit;
  font: inherit;
  margin: 0;
}
button {
  overflow: visible;
}
button,
select {
  text-transform: none;
}
button,
html input[type="button"],
input[type="reset"],
input[type="submit"] {
  -webkit-appearance: button;
  cursor: pointer;
}
button[disabled],
html input[disabled] {
  cursor: default;
}
button::-moz-focus-inner,
input::-moz-focus-inner {
  border: 0;
  padding: 0;
}
input {
  line-height: normal;
}
input[type="checkbox"],
input[type="radio"] {
  box-sizing: border-box;
  padding: 0;
}
input[type="number"]::-webkit-inner-spin-button,
input[type="number"]::-webkit-outer-spin-button {
  height: auto;
}
input[type="search"] {
  -webkit-appearance: textfield;
  box-sizing: content-box;
}
input[type="search"]::-webkit-search-cancel-button,
input[type="search"]::-webkit-search-decoration {
  -webkit-appearance: none;
}
fieldset {
  border: 1px solid #c0c0c0;
  margin: 0 2px;
  padding: 0.35em 0.625em 0.75em;
}
legend {
  border: 0;
  padding: 0;
}
textarea {
  overflow: auto;
}
optgroup {
  font-weight: bold;
}
table {
  border-collapse: collapse;
  border-spacing: 0;
}
td,
th {
  padding: 0;
}
/*! Source: https://github.com/h5bp/html5-boilerplate/blob/master/src/css/main.css */
@media print {
  *,
  *:before,
  *:after {
    background: transparent !important;
    color: #000 !important;
    box-shadow: none !important;
    text-shadow: none !important;
  }
  a,
  a:visited {
    text-decoration: underline;
  }
  a[href]:after {
    content: " (" attr(href) ")";
  }
  abbr[title]:after {
    content: " (" attr(title) ")";
  }
  a[href^="#"]:after,
  a[href^="javascript:"]:after {
    content: "";
  }
  pre,
  blockquote {
    border: 1px solid #999;
    page-break-inside: avoid;
  }
  thead {
    display: table-header-group;
  }
  tr,
  img {
    page-break-inside: avoid;
  }
  img {
    max-width: 100% !important;
  }
  p,
  h2,
  h3 {
    orphans: 3;
    widows: 3;
  }
  h2,
  h3 {
    page-break-after: avoid;
  }
  .navbar {
    display: none;
  }
  .btn > .caret,
  .dropup > .btn > .caret {
    border-top-color: #000 !important;
  }
  .label {
    border: 1px solid #000;
  }
  .table {
    border-collapse: collapse !important;
  }
  .table td,
  .table th {
    background-color: #fff !important;
  }
  .table-bordered th,
  .table-bordered td {
    border: 1px solid #ddd !important;
  }
}
@font-face {
  font-family: 'Glyphicons Halflings';
  src: url('../components/bootstrap/fonts/glyphicons-halflings-regular.eot');
  src: url('../components/bootstrap/fonts/glyphicons-halflings-regular.eot?#iefix') format('embedded-opentype'), url('../components/bootstrap/fonts/glyphicons-halflings-regular.woff2') format('woff2'), url('../components/bootstrap/fonts/glyphicons-halflings-regular.woff') format('woff'), url('../components/bootstrap/fonts/glyphicons-halflings-regular.ttf') format('truetype'), url('../components/bootstrap/fonts/glyphicons-halflings-regular.svg#glyphicons_halflingsregular') format('svg');
}
.glyphicon {
  position: relative;
  top: 1px;
  display: inline-block;
  font-family: 'Glyphicons Halflings';
  font-style: normal;
  font-weight: normal;
  line-height: 1;
  -webkit-font-smoothing: antialiased;
  -moz-osx-font-smoothing: grayscale;
}
.glyphicon-asterisk:before {
  content: "\002a";
}
.glyphicon-plus:before {
  content: "\002b";
}
.glyphicon-euro:before,
.glyphicon-eur:before {
  content: "\20ac";
}
.glyphicon-minus:before {
  content: "\2212";
}
.glyphicon-cloud:before {
  content: "\2601";
}
.glyphicon-envelope:before {
  content: "\2709";
}
.glyphicon-pencil:before {
  content: "\270f";
}
.glyphicon-glass:before {
  content: "\e001";
}
.glyphicon-music:before {
  content: "\e002";
}
.glyphicon-search:before {
  content: "\e003";
}
.glyphicon-heart:before {
  content: "\e005";
}
.glyphicon-star:before {
  content: "\e006";
}
.glyphicon-star-empty:before {
  content: "\e007";
}
.glyphicon-user:before {
  content: "\e008";
}
.glyphicon-film:before {
  content: "\e009";
}
.glyphicon-th-large:before {
  content: "\e010";
}
.glyphicon-th:before {
  content: "\e011";
}
.glyphicon-th-list:before {
  content: "\e012";
}
.glyphicon-ok:before {
  content: "\e013";
}
.glyphicon-remove:before {
  content: "\e014";
}
.glyphicon-zoom-in:before {
  content: "\e015";
}
.glyphicon-zoom-out:before {
  content: "\e016";
}
.glyphicon-off:before {
  content: "\e017";
}
.glyphicon-signal:before {
  content: "\e018";
}
.glyphicon-cog:before {
  content: "\e019";
}
.glyphicon-trash:before {
  content: "\e020";
}
.glyphicon-home:before {
  content: "\e021";
}
.glyphicon-file:before {
  content: "\e022";
}
.glyphicon-time:before {
  content: "\e023";
}
.glyphicon-road:before {
  content: "\e024";
}
.glyphicon-download-alt:before {
  content: "\e025";
}
.glyphicon-download:before {
  content: "\e026";
}
.glyphicon-upload:before {
  content: "\e027";
}
.glyphicon-inbox:before {
  content: "\e028";
}
.glyphicon-play-circle:before {
  content: "\e029";
}
.glyphicon-repeat:before {
  content: "\e030";
}
.glyphicon-refresh:before {
  content: "\e031";
}
.glyphicon-list-alt:before {
  content: "\e032";
}
.glyphicon-lock:before {
  content: "\e033";
}
.glyphicon-flag:before {
  content: "\e034";
}
.glyphicon-headphones:before {
  content: "\e035";
}
.glyphicon-volume-off:before {
  content: "\e036";
}
.glyphicon-volume-down:before {
  content: "\e037";
}
.glyphicon-volume-up:before {
  content: "\e038";
}
.glyphicon-qrcode:before {
  content: "\e039";
}
.glyphicon-barcode:before {
  content: "\e040";
}
.glyphicon-tag:before {
  content: "\e041";
}
.glyphicon-tags:before {
  content: "\e042";
}
.glyphicon-book:before {
  content: "\e043";
}
.glyphicon-bookmark:before {
  content: "\e044";
}
.glyphicon-print:before {
  content: "\e045";
}
.glyphicon-camera:before {
  content: "\e046";
}
.glyphicon-font:before {
  content: "\e047";
}
.glyphicon-bold:before {
  content: "\e048";
}
.glyphicon-italic:before {
  content: "\e049";
}
.glyphicon-text-height:before {
  content: "\e050";
}
.glyphicon-text-width:before {
  content: "\e051";
}
.glyphicon-align-left:before {
  content: "\e052";
}
.glyphicon-align-center:before {
  content: "\e053";
}
.glyphicon-align-right:before {
  content: "\e054";
}
.glyphicon-align-justify:before {
  content: "\e055";
}
.glyphicon-list:before {
  content: "\e056";
}
.glyphicon-indent-left:before {
  content: "\e057";
}
.glyphicon-indent-right:before {
  content: "\e058";
}
.glyphicon-facetime-video:before {
  content: "\e059";
}
.glyphicon-picture:before {
  content: "\e060";
}
.glyphicon-map-marker:before {
  content: "\e062";
}
.glyphicon-adjust:before {
  content: "\e063";
}
.glyphicon-tint:before {
  content: "\e064";
}
.glyphicon-edit:before {
  content: "\e065";
}
.glyphicon-share:before {
  content: "\e066";
}
.glyphicon-check:before {
  content: "\e067";
}
.glyphicon-move:before {
  content: "\e068";
}
.glyphicon-step-backward:before {
  content: "\e069";
}
.glyphicon-fast-backward:before {
  content: "\e070";
}
.glyphicon-backward:before {
  content: "\e071";
}
.glyphicon-play:before {
  content: "\e072";
}
.glyphicon-pause:before {
  content: "\e073";
}
.glyphicon-stop:before {
  content: "\e074";
}
.glyphicon-forward:before {
  content: "\e075";
}
.glyphicon-fast-forward:before {
  content: "\e076";
}
.glyphicon-step-forward:before {
  content: "\e077";
}
.glyphicon-eject:before {
  content: "\e078";
}
.glyphicon-chevron-left:before {
  content: "\e079";
}
.glyphicon-chevron-right:before {
  content: "\e080";
}
.glyphicon-plus-sign:before {
  content: "\e081";
}
.glyphicon-minus-sign:before {
  content: "\e082";
}
.glyphicon-remove-sign:before {
  content: "\e083";
}
.glyphicon-ok-sign:before {
  content: "\e084";
}
.glyphicon-question-sign:before {
  content: "\e085";
}
.glyphicon-info-sign:before {
  content: "\e086";
}
.glyphicon-screenshot:before {
  content: "\e087";
}
.glyphicon-remove-circle:before {
  content: "\e088";
}
.glyphicon-ok-circle:before {
  content: "\e089";
}
.glyphicon-ban-circle:before {
  content: "\e090";
}
.glyphicon-arrow-left:before {
  content: "\e091";
}
.glyphicon-arrow-right:before {
  content: "\e092";
}
.glyphicon-arrow-up:before {
  content: "\e093";
}
.glyphicon-arrow-down:before {
  content: "\e094";
}
.glyphicon-share-alt:before {
  content: "\e095";
}
.glyphicon-resize-full:before {
  content: "\e096";
}
.glyphicon-resize-small:before {
  content: "\e097";
}
.glyphicon-exclamation-sign:before {
  content: "\e101";
}
.glyphicon-gift:before {
  content: "\e102";
}
.glyphicon-leaf:before {
  content: "\e103";
}
.glyphicon-fire:before {
  content: "\e104";
}
.glyphicon-eye-open:before {
  content: "\e105";
}
.glyphicon-eye-close:before {
  content: "\e106";
}
.glyphicon-warning-sign:before {
  content: "\e107";
}
.glyphicon-plane:before {
  content: "\e108";
}
.glyphicon-calendar:before {
  content: "\e109";
}
.glyphicon-random:before {
  content: "\e110";
}
.glyphicon-comment:before {
  content: "\e111";
}
.glyphicon-magnet:before {
  content: "\e112";
}
.glyphicon-chevron-up:before {
  content: "\e113";
}
.glyphicon-chevron-down:before {
  content: "\e114";
}
.glyphicon-retweet:before {
  content: "\e115";
}
.glyphicon-shopping-cart:before {
  content: "\e116";
}
.glyphicon-folder-close:before {
  content: "\e117";
}
.glyphicon-folder-open:before {
  content: "\e118";
}
.glyphicon-resize-vertical:before {
  content: "\e119";
}
.glyphicon-resize-horizontal:before {
  content: "\e120";
}
.glyphicon-hdd:before {
  content: "\e121";
}
.glyphicon-bullhorn:before {
  content: "\e122";
}
.glyphicon-bell:before {
  content: "\e123";
}
.glyphicon-certificate:before {
  content: "\e124";
}
.glyphicon-thumbs-up:before {
  content: "\e125";
}
.glyphicon-thumbs-down:before {
  content: "\e126";
}
.glyphicon-hand-right:before {
  content: "\e127";
}
.glyphicon-hand-left:before {
  content: "\e128";
}
.glyphicon-hand-up:before {
  content: "\e129";
}
.glyphicon-hand-down:before {
  content: "\e130";
}
.glyphicon-circle-arrow-right:before {
  content: "\e131";
}
.glyphicon-circle-arrow-left:before {
  content: "\e132";
}
.glyphicon-circle-arrow-up:before {
  content: "\e133";
}
.glyphicon-circle-arrow-down:before {
  content: "\e134";
}
.glyphicon-globe:before {
  content: "\e135";
}
.glyphicon-wrench:before {
  content: "\e136";
}
.glyphicon-tasks:before {
  content: "\e137";
}
.glyphicon-filter:before {
  content: "\e138";
}
.glyphicon-briefcase:before {
  content: "\e139";
}
.glyphicon-fullscreen:before {
  content: "\e140";
}
.glyphicon-dashboard:before {
  content: "\e141";
}
.glyphicon-paperclip:before {
  content: "\e142";
}
.glyphicon-heart-empty:before {
  content: "\e143";
}
.glyphicon-link:before {
  content: "\e144";
}
.glyphicon-phone:before {
  content: "\e145";
}
.glyphicon-pushpin:before {
  content: "\e146";
}
.glyphicon-usd:before {
  content: "\e148";
}
.glyphicon-gbp:before {
  content: "\e149";
}
.glyphicon-sort:before {
  content: "\e150";
}
.glyphicon-sort-by-alphabet:before {
  content: "\e151";
}
.glyphicon-sort-by-alphabet-alt:before {
  content: "\e152";
}
.glyphicon-sort-by-order:before {
  content: "\e153";
}
.glyphicon-sort-by-order-alt:before {
  content: "\e154";
}
.glyphicon-sort-by-attributes:before {
  content: "\e155";
}
.glyphicon-sort-by-attributes-alt:before {
  content: "\e156";
}
.glyphicon-unchecked:before {
  content: "\e157";
}
.glyphicon-expand:before {
  content: "\e158";
}
.glyphicon-collapse-down:before {
  content: "\e159";
}
.glyphicon-collapse-up:before {
  content: "\e160";
}
.glyphicon-log-in:before {
  content: "\e161";
}
.glyphicon-flash:before {
  content: "\e162";
}
.glyphicon-log-out:before {
  content: "\e163";
}
.glyphicon-new-window:before {
  content: "\e164";
}
.glyphicon-record:before {
  content: "\e165";
}
.glyphicon-save:before {
  content: "\e166";
}
.glyphicon-open:before {
  content: "\e167";
}
.glyphicon-saved:before {
  content: "\e168";
}
.glyphicon-import:before {
  content: "\e169";
}
.glyphicon-export:before {
  content: "\e170";
}
.glyphicon-send:before {
  content: "\e171";
}
.glyphicon-floppy-disk:before {
  content: "\e172";
}
.glyphicon-floppy-saved:before {
  content: "\e173";
}
.glyphicon-floppy-remove:before {
  content: "\e174";
}
.glyphicon-floppy-save:before {
  content: "\e175";
}
.glyphicon-floppy-open:before {
  content: "\e176";
}
.glyphicon-credit-card:before {
  content: "\e177";
}
.glyphicon-transfer:before {
  content: "\e178";
}
.glyphicon-cutlery:before {
  content: "\e179";
}
.glyphicon-header:before {
  content: "\e180";
}
.glyphicon-compressed:before {
  content: "\e181";
}
.glyphicon-earphone:before {
  content: "\e182";
}
.glyphicon-phone-alt:before {
  content: "\e183";
}
.glyphicon-tower:before {
  content: "\e184";
}
.glyphicon-stats:before {
  content: "\e185";
}
.glyphicon-sd-video:before {
  content: "\e186";
}
.glyphicon-hd-video:before {
  content: "\e187";
}
.glyphicon-subtitles:before {
  content: "\e188";
}
.glyphicon-sound-stereo:before {
  content: "\e189";
}
.glyphicon-sound-dolby:before {
  content: "\e190";
}
.glyphicon-sound-5-1:before {
  content: "\e191";
}
.glyphicon-sound-6-1:before {
  content: "\e192";
}
.glyphicon-sound-7-1:before {
  content: "\e193";
}
.glyphicon-copyright-mark:before {
  content: "\e194";
}
.glyphicon-registration-mark:before {
  content: "\e195";
}
.glyphicon-cloud-download:before {
  content: "\e197";
}
.glyphicon-cloud-upload:before {
  content: "\e198";
}
.glyphicon-tree-conifer:before {
  content: "\e199";
}
.glyphicon-tree-deciduous:before {
  content: "\e200";
}
.glyphicon-cd:before {
  content: "\e201";
}
.glyphicon-save-file:before {
  content: "\e202";
}
.glyphicon-open-file:before {
  content: "\e203";
}
.glyphicon-level-up:before {
  content: "\e204";
}
.glyphicon-copy:before {
  content: "\e205";
}
.glyphicon-paste:before {
  content: "\e206";
}
.glyphicon-alert:before {
  content: "\e209";
}
.glyphicon-equalizer:before {
  content: "\e210";
}
.glyphicon-king:before {
  content: "\e211";
}
.glyphicon-queen:before {
  content: "\e212";
}
.glyphicon-pawn:before {
  content: "\e213";
}
.glyphicon-bishop:before {
  content: "\e214";
}
.glyphicon-knight:before {
  content: "\e215";
}
.glyphicon-baby-formula:before {
  content: "\e216";
}
.glyphicon-tent:before {
  content: "\26fa";
}
.glyphicon-blackboard:before {
  content: "\e218";
}
.glyphicon-bed:before {
  content: "\e219";
}
.glyphicon-apple:before {
  content: "\f8ff";
}
.glyphicon-erase:before {
  content: "\e221";
}
.glyphicon-hourglass:before {
  content: "\231b";
}
.glyphicon-lamp:before {
  content: "\e223";
}
.glyphicon-duplicate:before {
  content: "\e224";
}
.glyphicon-piggy-bank:before {
  content: "\e225";
}
.glyphicon-scissors:before {
  content: "\e226";
}
.glyphicon-bitcoin:before {
  content: "\e227";
}
.glyphicon-btc:before {
  content: "\e227";
}
.glyphicon-xbt:before {
  content: "\e227";
}
.glyphicon-yen:before {
  content: "\00a5";
}
.glyphicon-jpy:before {
  content: "\00a5";
}
.glyphicon-ruble:before {
  content: "\20bd";
}
.glyphicon-rub:before {
  content: "\20bd";
}
.glyphicon-scale:before {
  content: "\e230";
}
.glyphicon-ice-lolly:before {
  content: "\e231";
}
.glyphicon-ice-lolly-tasted:before {
  content: "\e232";
}
.glyphicon-education:before {
  content: "\e233";
}
.glyphicon-option-horizontal:before {
  content: "\e234";
}
.glyphicon-option-vertical:before {
  content: "\e235";
}
.glyphicon-menu-hamburger:before {
  content: "\e236";
}
.glyphicon-modal-window:before {
  content: "\e237";
}
.glyphicon-oil:before {
  content: "\e238";
}
.glyphicon-grain:before {
  content: "\e239";
}
.glyphicon-sunglasses:before {
  content: "\e240";
}
.glyphicon-text-size:before {
  content: "\e241";
}
.glyphicon-text-color:before {
  content: "\e242";
}
.glyphicon-text-background:before {
  content: "\e243";
}
.glyphicon-object-align-top:before {
  content: "\e244";
}
.glyphicon-object-align-bottom:before {
  content: "\e245";
}
.glyphicon-object-align-horizontal:before {
  content: "\e246";
}
.glyphicon-object-align-left:before {
  content: "\e247";
}
.glyphicon-object-align-vertical:before {
  content: "\e248";
}
.glyphicon-object-align-right:before {
  content: "\e249";
}
.glyphicon-triangle-right:before {
  content: "\e250";
}
.glyphicon-triangle-left:before {
  content: "\e251";
}
.glyphicon-triangle-bottom:before {
  content: "\e252";
}
.glyphicon-triangle-top:before {
  content: "\e253";
}
.glyphicon-console:before {
  content: "\e254";
}
.glyphicon-superscript:before {
  content: "\e255";
}
.glyphicon-subscript:before {
  content: "\e256";
}
.glyphicon-menu-left:before {
  content: "\e257";
}
.glyphicon-menu-right:before {
  content: "\e258";
}
.glyphicon-menu-down:before {
  content: "\e259";
}
.glyphicon-menu-up:before {
  content: "\e260";
}
* {
  -webkit-box-sizing: border-box;
  -moz-box-sizing: border-box;
  box-sizing: border-box;
}
*:before,
*:after {
  -webkit-box-sizing: border-box;
  -moz-box-sizing: border-box;
  box-sizing: border-box;
}
html {
  font-size: 10px;
  -webkit-tap-highlight-color: rgba(0, 0, 0, 0);
}
body {
  font-family: "Helvetica Neue", Helvetica, Arial, sans-serif;
  font-size: 13px;
  line-height: 1.42857143;
  color: #000;
  background-color: #fff;
}
input,
button,
select,
textarea {
  font-family: inherit;
  font-size: inherit;
  line-height: inherit;
}
a {
  color: #337ab7;
  text-decoration: none;
}
a:hover,
a:focus {
  color: #23527c;
  text-decoration: underline;
}
a:focus {
  outline: 5px auto -webkit-focus-ring-color;
  outline-offset: -2px;
}
figure {
  margin: 0;
}
img {
  vertical-align: middle;
}
.img-responsive,
.thumbnail > img,
.thumbnail a > img,
.carousel-inner > .item > img,
.carousel-inner > .item > a > img {
  display: block;
  max-width: 100%;
  height: auto;
}
.img-rounded {
  border-radius: 3px;
}
.img-thumbnail {
  padding: 4px;
  line-height: 1.42857143;
  background-color: #fff;
  border: 1px solid #ddd;
  border-radius: 2px;
  -webkit-transition: all 0.2s ease-in-out;
  -o-transition: all 0.2s ease-in-out;
  transition: all 0.2s ease-in-out;
  display: inline-block;
  max-width: 100%;
  height: auto;
}
.img-circle {
  border-radius: 50%;
}
hr {
  margin-top: 18px;
  margin-bottom: 18px;
  border: 0;
  border-top: 1px solid #eeeeee;
}
.sr-only {
  position: absolute;
  width: 1px;
  height: 1px;
  margin: -1px;
  padding: 0;
  overflow: hidden;
  clip: rect(0, 0, 0, 0);
  border: 0;
}
.sr-only-focusable:active,
.sr-only-focusable:focus {
  position: static;
  width: auto;
  height: auto;
  margin: 0;
  overflow: visible;
  clip: auto;
}
[role="button"] {
  cursor: pointer;
}
h1,
h2,
h3,
h4,
h5,
h6,
.h1,
.h2,
.h3,
.h4,
.h5,
.h6 {
  font-family: inherit;
  font-weight: 500;
  line-height: 1.1;
  color: inherit;
}
h1 small,
h2 small,
h3 small,
h4 small,
h5 small,
h6 small,
.h1 small,
.h2 small,
.h3 small,
.h4 small,
.h5 small,
.h6 small,
h1 .small,
h2 .small,
h3 .small,
h4 .small,
h5 .small,
h6 .small,
.h1 .small,
.h2 .small,
.h3 .small,
.h4 .small,
.h5 .small,
.h6 .small {
  font-weight: normal;
  line-height: 1;
  color: #777777;
}
h1,
.h1,
h2,
.h2,
h3,
.h3 {
  margin-top: 18px;
  margin-bottom: 9px;
}
h1 small,
.h1 small,
h2 small,
.h2 small,
h3 small,
.h3 small,
h1 .small,
.h1 .small,
h2 .small,
.h2 .small,
h3 .small,
.h3 .small {
  font-size: 65%;
}
h4,
.h4,
h5,
.h5,
h6,
.h6 {
  margin-top: 9px;
  margin-bottom: 9px;
}
h4 small,
.h4 small,
h5 small,
.h5 small,
h6 small,
.h6 small,
h4 .small,
.h4 .small,
h5 .small,
.h5 .small,
h6 .small,
.h6 .small {
  font-size: 75%;
}
h1,
.h1 {
  font-size: 33px;
}
h2,
.h2 {
  font-size: 27px;
}
h3,
.h3 {
  font-size: 23px;
}
h4,
.h4 {
  font-size: 17px;
}
h5,
.h5 {
  font-size: 13px;
}
h6,
.h6 {
  font-size: 12px;
}
p {
  margin: 0 0 9px;
}
.lead {
  margin-bottom: 18px;
  font-size: 14px;
  font-weight: 300;
  line-height: 1.4;
}
@media (min-width: 768px) {
  .lead {
    font-size: 19.5px;
  }
}
small,
.small {
  font-size: 92%;
}
mark,
.mark {
  background-color: #fcf8e3;
  padding: .2em;
}
.text-left {
  text-align: left;
}
.text-right {
  text-align: right;
}
.text-center {
  text-align: center;
}
.text-justify {
  text-align: justify;
}
.text-nowrap {
  white-space: nowrap;
}
.text-lowercase {
  text-transform: lowercase;
}
.text-uppercase {
  text-transform: uppercase;
}
.text-capitalize {
  text-transform: capitalize;
}
.text-muted {
  color: #777777;
}
.text-primary {
  color: #337ab7;
}
a.text-primary:hover,
a.text-primary:focus {
  color: #286090;
}
.text-success {
  color: #3c763d;
}
a.text-success:hover,
a.text-success:focus {
  color: #2b542c;
}
.text-info {
  color: #31708f;
}
a.text-info:hover,
a.text-info:focus {
  color: #245269;
}
.text-warning {
  color: #8a6d3b;
}
a.text-warning:hover,
a.text-warning:focus {
  color: #66512c;
}
.text-danger {
  color: #a94442;
}
a.text-danger:hover,
a.text-danger:focus {
  color: #843534;
}
.bg-primary {
  color: #fff;
  background-color: #337ab7;
}
a.bg-primary:hover,
a.bg-primary:focus {
  background-color: #286090;
}
.bg-success {
  background-color: #dff0d8;
}
a.bg-success:hover,
a.bg-success:focus {
  background-color: #c1e2b3;
}
.bg-info {
  background-color: #d9edf7;
}
a.bg-info:hover,
a.bg-info:focus {
  background-color: #afd9ee;
}
.bg-warning {
  background-color: #fcf8e3;
}
a.bg-warning:hover,
a.bg-warning:focus {
  background-color: #f7ecb5;
}
.bg-danger {
  background-color: #f2dede;
}
a.bg-danger:hover,
a.bg-danger:focus {
  background-color: #e4b9b9;
}
.page-header {
  padding-bottom: 8px;
  margin: 36px 0 18px;
  border-bottom: 1px solid #eeeeee;
}
ul,
ol {
  margin-top: 0;
  margin-bottom: 9px;
}
ul ul,
ol ul,
ul ol,
ol ol {
  margin-bottom: 0;
}
.list-unstyled {
  padding-left: 0;
  list-style: none;
}
.list-inline {
  padding-left: 0;
  list-style: none;
  margin-left: -5px;
}
.list-inline > li {
  display: inline-block;
  padding-left: 5px;
  padding-right: 5px;
}
dl {
  margin-top: 0;
  margin-bottom: 18px;
}
dt,
dd {
  line-height: 1.42857143;
}
dt {
  font-weight: bold;
}
dd {
  margin-left: 0;
}
@media (min-width: 541px) {
  .dl-horizontal dt {
    float: left;
    width: 160px;
    clear: left;
    text-align: right;
    overflow: hidden;
    text-overflow: ellipsis;
    white-space: nowrap;
  }
  .dl-horizontal dd {
    margin-left: 180px;
  }
}
abbr[title],
abbr[data-original-title] {
  cursor: help;
  border-bottom: 1px dotted #777777;
}
.initialism {
  font-size: 90%;
  text-transform: uppercase;
}
blockquote {
  padding: 9px 18px;
  margin: 0 0 18px;
  font-size: inherit;
  border-left: 5px solid #eeeeee;
}
blockquote p:last-child,
blockquote ul:last-child,
blockquote ol:last-child {
  margin-bottom: 0;
}
blockquote footer,
blockquote small,
blockquote .small {
  display: block;
  font-size: 80%;
  line-height: 1.42857143;
  color: #777777;
}
blockquote footer:before,
blockquote small:before,
blockquote .small:before {
  content: '\2014 \00A0';
}
.blockquote-reverse,
blockquote.pull-right {
  padding-right: 15px;
  padding-left: 0;
  border-right: 5px solid #eeeeee;
  border-left: 0;
  text-align: right;
}
.blockquote-reverse footer:before,
blockquote.pull-right footer:before,
.blockquote-reverse small:before,
blockquote.pull-right small:before,
.blockquote-reverse .small:before,
blockquote.pull-right .small:before {
  content: '';
}
.blockquote-reverse footer:after,
blockquote.pull-right footer:after,
.blockquote-reverse small:after,
blockquote.pull-right small:after,
.blockquote-reverse .small:after,
blockquote.pull-right .small:after {
  content: '\00A0 \2014';
}
address {
  margin-bottom: 18px;
  font-style: normal;
  line-height: 1.42857143;
}
code,
kbd,
pre,
samp {
  font-family: monospace;
}
code {
  padding: 2px 4px;
  font-size: 90%;
  color: #c7254e;
  background-color: #f9f2f4;
  border-radius: 2px;
}
kbd {
  padding: 2px 4px;
  font-size: 90%;
  color: #888;
  background-color: transparent;
  border-radius: 1px;
  box-shadow: inset 0 -1px 0 rgba(0, 0, 0, 0.25);
}
kbd kbd {
  padding: 0;
  font-size: 100%;
  font-weight: bold;
  box-shadow: none;
}
pre {
  display: block;
  padding: 8.5px;
  margin: 0 0 9px;
  font-size: 12px;
  line-height: 1.42857143;
  word-break: break-all;
  word-wrap: break-word;
  color: #333333;
  background-color: #f5f5f5;
  border: 1px solid #ccc;
  border-radius: 2px;
}
pre code {
  padding: 0;
  font-size: inherit;
  color: inherit;
  white-space: pre-wrap;
  background-color: transparent;
  border-radius: 0;
}
.pre-scrollable {
  max-height: 340px;
  overflow-y: scroll;
}
.container {
  margin-right: auto;
  margin-left: auto;
  padding-left: 0px;
  padding-right: 0px;
}
@media (min-width: 768px) {
  .container {
    width: 768px;
  }
}
@media (min-width: 992px) {
  .container {
    width: 940px;
  }
}
@media (min-width: 1200px) {
  .container {
    width: 1140px;
  }
}
.container-fluid {
  margin-right: auto;
  margin-left: auto;
  padding-left: 0px;
  padding-right: 0px;
}
.row {
  margin-left: 0px;
  margin-right: 0px;
}
.col-xs-1, .col-sm-1, .col-md-1, .col-lg-1, .col-xs-2, .col-sm-2, .col-md-2, .col-lg-2, .col-xs-3, .col-sm-3, .col-md-3, .col-lg-3, .col-xs-4, .col-sm-4, .col-md-4, .col-lg-4, .col-xs-5, .col-sm-5, .col-md-5, .col-lg-5, .col-xs-6, .col-sm-6, .col-md-6, .col-lg-6, .col-xs-7, .col-sm-7, .col-md-7, .col-lg-7, .col-xs-8, .col-sm-8, .col-md-8, .col-lg-8, .col-xs-9, .col-sm-9, .col-md-9, .col-lg-9, .col-xs-10, .col-sm-10, .col-md-10, .col-lg-10, .col-xs-11, .col-sm-11, .col-md-11, .col-lg-11, .col-xs-12, .col-sm-12, .col-md-12, .col-lg-12 {
  position: relative;
  min-height: 1px;
  padding-left: 0px;
  padding-right: 0px;
}
.col-xs-1, .col-xs-2, .col-xs-3, .col-xs-4, .col-xs-5, .col-xs-6, .col-xs-7, .col-xs-8, .col-xs-9, .col-xs-10, .col-xs-11, .col-xs-12 {
  float: left;
}
.col-xs-12 {
  width: 100%;
}
.col-xs-11 {
  width: 91.66666667%;
}
.col-xs-10 {
  width: 83.33333333%;
}
.col-xs-9 {
  width: 75%;
}
.col-xs-8 {
  width: 66.66666667%;
}
.col-xs-7 {
  width: 58.33333333%;
}
.col-xs-6 {
  width: 50%;
}
.col-xs-5 {
  width: 41.66666667%;
}
.col-xs-4 {
  width: 33.33333333%;
}
.col-xs-3 {
  width: 25%;
}
.col-xs-2 {
  width: 16.66666667%;
}
.col-xs-1 {
  width: 8.33333333%;
}
.col-xs-pull-12 {
  right: 100%;
}
.col-xs-pull-11 {
  right: 91.66666667%;
}
.col-xs-pull-10 {
  right: 83.33333333%;
}
.col-xs-pull-9 {
  right: 75%;
}
.col-xs-pull-8 {
  right: 66.66666667%;
}
.col-xs-pull-7 {
  right: 58.33333333%;
}
.col-xs-pull-6 {
  right: 50%;
}
.col-xs-pull-5 {
  right: 41.66666667%;
}
.col-xs-pull-4 {
  right: 33.33333333%;
}
.col-xs-pull-3 {
  right: 25%;
}
.col-xs-pull-2 {
  right: 16.66666667%;
}
.col-xs-pull-1 {
  right: 8.33333333%;
}
.col-xs-pull-0 {
  right: auto;
}
.col-xs-push-12 {
  left: 100%;
}
.col-xs-push-11 {
  left: 91.66666667%;
}
.col-xs-push-10 {
  left: 83.33333333%;
}
.col-xs-push-9 {
  left: 75%;
}
.col-xs-push-8 {
  left: 66.66666667%;
}
.col-xs-push-7 {
  left: 58.33333333%;
}
.col-xs-push-6 {
  left: 50%;
}
.col-xs-push-5 {
  left: 41.66666667%;
}
.col-xs-push-4 {
  left: 33.33333333%;
}
.col-xs-push-3 {
  left: 25%;
}
.col-xs-push-2 {
  left: 16.66666667%;
}
.col-xs-push-1 {
  left: 8.33333333%;
}
.col-xs-push-0 {
  left: auto;
}
.col-xs-offset-12 {
  margin-left: 100%;
}
.col-xs-offset-11 {
  margin-left: 91.66666667%;
}
.col-xs-offset-10 {
  margin-left: 83.33333333%;
}
.col-xs-offset-9 {
  margin-left: 75%;
}
.col-xs-offset-8 {
  margin-left: 66.66666667%;
}
.col-xs-offset-7 {
  margin-left: 58.33333333%;
}
.col-xs-offset-6 {
  margin-left: 50%;
}
.col-xs-offset-5 {
  margin-left: 41.66666667%;
}
.col-xs-offset-4 {
  margin-left: 33.33333333%;
}
.col-xs-offset-3 {
  margin-left: 25%;
}
.col-xs-offset-2 {
  margin-left: 16.66666667%;
}
.col-xs-offset-1 {
  margin-left: 8.33333333%;
}
.col-xs-offset-0 {
  margin-left: 0%;
}
@media (min-width: 768px) {
  .col-sm-1, .col-sm-2, .col-sm-3, .col-sm-4, .col-sm-5, .col-sm-6, .col-sm-7, .col-sm-8, .col-sm-9, .col-sm-10, .col-sm-11, .col-sm-12 {
    float: left;
  }
  .col-sm-12 {
    width: 100%;
  }
  .col-sm-11 {
    width: 91.66666667%;
  }
  .col-sm-10 {
    width: 83.33333333%;
  }
  .col-sm-9 {
    width: 75%;
  }
  .col-sm-8 {
    width: 66.66666667%;
  }
  .col-sm-7 {
    width: 58.33333333%;
  }
  .col-sm-6 {
    width: 50%;
  }
  .col-sm-5 {
    width: 41.66666667%;
  }
  .col-sm-4 {
    width: 33.33333333%;
  }
  .col-sm-3 {
    width: 25%;
  }
  .col-sm-2 {
    width: 16.66666667%;
  }
  .col-sm-1 {
    width: 8.33333333%;
  }
  .col-sm-pull-12 {
    right: 100%;
  }
  .col-sm-pull-11 {
    right: 91.66666667%;
  }
  .col-sm-pull-10 {
    right: 83.33333333%;
  }
  .col-sm-pull-9 {
    right: 75%;
  }
  .col-sm-pull-8 {
    right: 66.66666667%;
  }
  .col-sm-pull-7 {
    right: 58.33333333%;
  }
  .col-sm-pull-6 {
    right: 50%;
  }
  .col-sm-pull-5 {
    right: 41.66666667%;
  }
  .col-sm-pull-4 {
    right: 33.33333333%;
  }
  .col-sm-pull-3 {
    right: 25%;
  }
  .col-sm-pull-2 {
    right: 16.66666667%;
  }
  .col-sm-pull-1 {
    right: 8.33333333%;
  }
  .col-sm-pull-0 {
    right: auto;
  }
  .col-sm-push-12 {
    left: 100%;
  }
  .col-sm-push-11 {
    left: 91.66666667%;
  }
  .col-sm-push-10 {
    left: 83.33333333%;
  }
  .col-sm-push-9 {
    left: 75%;
  }
  .col-sm-push-8 {
    left: 66.66666667%;
  }
  .col-sm-push-7 {
    left: 58.33333333%;
  }
  .col-sm-push-6 {
    left: 50%;
  }
  .col-sm-push-5 {
    left: 41.66666667%;
  }
  .col-sm-push-4 {
    left: 33.33333333%;
  }
  .col-sm-push-3 {
    left: 25%;
  }
  .col-sm-push-2 {
    left: 16.66666667%;
  }
  .col-sm-push-1 {
    left: 8.33333333%;
  }
  .col-sm-push-0 {
    left: auto;
  }
  .col-sm-offset-12 {
    margin-left: 100%;
  }
  .col-sm-offset-11 {
    margin-left: 91.66666667%;
  }
  .col-sm-offset-10 {
    margin-left: 83.33333333%;
  }
  .col-sm-offset-9 {
    margin-left: 75%;
  }
  .col-sm-offset-8 {
    margin-left: 66.66666667%;
  }
  .col-sm-offset-7 {
    margin-left: 58.33333333%;
  }
  .col-sm-offset-6 {
    margin-left: 50%;
  }
  .col-sm-offset-5 {
    margin-left: 41.66666667%;
  }
  .col-sm-offset-4 {
    margin-left: 33.33333333%;
  }
  .col-sm-offset-3 {
    margin-left: 25%;
  }
  .col-sm-offset-2 {
    margin-left: 16.66666667%;
  }
  .col-sm-offset-1 {
    margin-left: 8.33333333%;
  }
  .col-sm-offset-0 {
    margin-left: 0%;
  }
}
@media (min-width: 992px) {
  .col-md-1, .col-md-2, .col-md-3, .col-md-4, .col-md-5, .col-md-6, .col-md-7, .col-md-8, .col-md-9, .col-md-10, .col-md-11, .col-md-12 {
    float: left;
  }
  .col-md-12 {
    width: 100%;
  }
  .col-md-11 {
    width: 91.66666667%;
  }
  .col-md-10 {
    width: 83.33333333%;
  }
  .col-md-9 {
    width: 75%;
  }
  .col-md-8 {
    width: 66.66666667%;
  }
  .col-md-7 {
    width: 58.33333333%;
  }
  .col-md-6 {
    width: 50%;
  }
  .col-md-5 {
    width: 41.66666667%;
  }
  .col-md-4 {
    width: 33.33333333%;
  }
  .col-md-3 {
    width: 25%;
  }
  .col-md-2 {
    width: 16.66666667%;
  }
  .col-md-1 {
    width: 8.33333333%;
  }
  .col-md-pull-12 {
    right: 100%;
  }
  .col-md-pull-11 {
    right: 91.66666667%;
  }
  .col-md-pull-10 {
    right: 83.33333333%;
  }
  .col-md-pull-9 {
    right: 75%;
  }
  .col-md-pull-8 {
    right: 66.66666667%;
  }
  .col-md-pull-7 {
    right: 58.33333333%;
  }
  .col-md-pull-6 {
    right: 50%;
  }
  .col-md-pull-5 {
    right: 41.66666667%;
  }
  .col-md-pull-4 {
    right: 33.33333333%;
  }
  .col-md-pull-3 {
    right: 25%;
  }
  .col-md-pull-2 {
    right: 16.66666667%;
  }
  .col-md-pull-1 {
    right: 8.33333333%;
  }
  .col-md-pull-0 {
    right: auto;
  }
  .col-md-push-12 {
    left: 100%;
  }
  .col-md-push-11 {
    left: 91.66666667%;
  }
  .col-md-push-10 {
    left: 83.33333333%;
  }
  .col-md-push-9 {
    left: 75%;
  }
  .col-md-push-8 {
    left: 66.66666667%;
  }
  .col-md-push-7 {
    left: 58.33333333%;
  }
  .col-md-push-6 {
    left: 50%;
  }
  .col-md-push-5 {
    left: 41.66666667%;
  }
  .col-md-push-4 {
    left: 33.33333333%;
  }
  .col-md-push-3 {
    left: 25%;
  }
  .col-md-push-2 {
    left: 16.66666667%;
  }
  .col-md-push-1 {
    left: 8.33333333%;
  }
  .col-md-push-0 {
    left: auto;
  }
  .col-md-offset-12 {
    margin-left: 100%;
  }
  .col-md-offset-11 {
    margin-left: 91.66666667%;
  }
  .col-md-offset-10 {
    margin-left: 83.33333333%;
  }
  .col-md-offset-9 {
    margin-left: 75%;
  }
  .col-md-offset-8 {
    margin-left: 66.66666667%;
  }
  .col-md-offset-7 {
    margin-left: 58.33333333%;
  }
  .col-md-offset-6 {
    margin-left: 50%;
  }
  .col-md-offset-5 {
    margin-left: 41.66666667%;
  }
  .col-md-offset-4 {
    margin-left: 33.33333333%;
  }
  .col-md-offset-3 {
    margin-left: 25%;
  }
  .col-md-offset-2 {
    margin-left: 16.66666667%;
  }
  .col-md-offset-1 {
    margin-left: 8.33333333%;
  }
  .col-md-offset-0 {
    margin-left: 0%;
  }
}
@media (min-width: 1200px) {
  .col-lg-1, .col-lg-2, .col-lg-3, .col-lg-4, .col-lg-5, .col-lg-6, .col-lg-7, .col-lg-8, .col-lg-9, .col-lg-10, .col-lg-11, .col-lg-12 {
    float: left;
  }
  .col-lg-12 {
    width: 100%;
  }
  .col-lg-11 {
    width: 91.66666667%;
  }
  .col-lg-10 {
    width: 83.33333333%;
  }
  .col-lg-9 {
    width: 75%;
  }
  .col-lg-8 {
    width: 66.66666667%;
  }
  .col-lg-7 {
    width: 58.33333333%;
  }
  .col-lg-6 {
    width: 50%;
  }
  .col-lg-5 {
    width: 41.66666667%;
  }
  .col-lg-4 {
    width: 33.33333333%;
  }
  .col-lg-3 {
    width: 25%;
  }
  .col-lg-2 {
    width: 16.66666667%;
  }
  .col-lg-1 {
    width: 8.33333333%;
  }
  .col-lg-pull-12 {
    right: 100%;
  }
  .col-lg-pull-11 {
    right: 91.66666667%;
  }
  .col-lg-pull-10 {
    right: 83.33333333%;
  }
  .col-lg-pull-9 {
    right: 75%;
  }
  .col-lg-pull-8 {
    right: 66.66666667%;
  }
  .col-lg-pull-7 {
    right: 58.33333333%;
  }
  .col-lg-pull-6 {
    right: 50%;
  }
  .col-lg-pull-5 {
    right: 41.66666667%;
  }
  .col-lg-pull-4 {
    right: 33.33333333%;
  }
  .col-lg-pull-3 {
    right: 25%;
  }
  .col-lg-pull-2 {
    right: 16.66666667%;
  }
  .col-lg-pull-1 {
    right: 8.33333333%;
  }
  .col-lg-pull-0 {
    right: auto;
  }
  .col-lg-push-12 {
    left: 100%;
  }
  .col-lg-push-11 {
    left: 91.66666667%;
  }
  .col-lg-push-10 {
    left: 83.33333333%;
  }
  .col-lg-push-9 {
    left: 75%;
  }
  .col-lg-push-8 {
    left: 66.66666667%;
  }
  .col-lg-push-7 {
    left: 58.33333333%;
  }
  .col-lg-push-6 {
    left: 50%;
  }
  .col-lg-push-5 {
    left: 41.66666667%;
  }
  .col-lg-push-4 {
    left: 33.33333333%;
  }
  .col-lg-push-3 {
    left: 25%;
  }
  .col-lg-push-2 {
    left: 16.66666667%;
  }
  .col-lg-push-1 {
    left: 8.33333333%;
  }
  .col-lg-push-0 {
    left: auto;
  }
  .col-lg-offset-12 {
    margin-left: 100%;
  }
  .col-lg-offset-11 {
    margin-left: 91.66666667%;
  }
  .col-lg-offset-10 {
    margin-left: 83.33333333%;
  }
  .col-lg-offset-9 {
    margin-left: 75%;
  }
  .col-lg-offset-8 {
    margin-left: 66.66666667%;
  }
  .col-lg-offset-7 {
    margin-left: 58.33333333%;
  }
  .col-lg-offset-6 {
    margin-left: 50%;
  }
  .col-lg-offset-5 {
    margin-left: 41.66666667%;
  }
  .col-lg-offset-4 {
    margin-left: 33.33333333%;
  }
  .col-lg-offset-3 {
    margin-left: 25%;
  }
  .col-lg-offset-2 {
    margin-left: 16.66666667%;
  }
  .col-lg-offset-1 {
    margin-left: 8.33333333%;
  }
  .col-lg-offset-0 {
    margin-left: 0%;
  }
}
table {
  background-color: transparent;
}
caption {
  padding-top: 8px;
  padding-bottom: 8px;
  color: #777777;
  text-align: left;
}
th {
  text-align: left;
}
.table {
  width: 100%;
  max-width: 100%;
  margin-bottom: 18px;
}
.table > thead > tr > th,
.table > tbody > tr > th,
.table > tfoot > tr > th,
.table > thead > tr > td,
.table > tbody > tr > td,
.table > tfoot > tr > td {
  padding: 8px;
  line-height: 1.42857143;
  vertical-align: top;
  border-top: 1px solid #ddd;
}
.table > thead > tr > th {
  vertical-align: bottom;
  border-bottom: 2px solid #ddd;
}
.table > caption + thead > tr:first-child > th,
.table > colgroup + thead > tr:first-child > th,
.table > thead:first-child > tr:first-child > th,
.table > caption + thead > tr:first-child > td,
.table > colgroup + thead > tr:first-child > td,
.table > thead:first-child > tr:first-child > td {
  border-top: 0;
}
.table > tbody + tbody {
  border-top: 2px solid #ddd;
}
.table .table {
  background-color: #fff;
}
.table-condensed > thead > tr > th,
.table-condensed > tbody > tr > th,
.table-condensed > tfoot > tr > th,
.table-condensed > thead > tr > td,
.table-condensed > tbody > tr > td,
.table-condensed > tfoot > tr > td {
  padding: 5px;
}
.table-bordered {
  border: 1px solid #ddd;
}
.table-bordered > thead > tr > th,
.table-bordered > tbody > tr > th,
.table-bordered > tfoot > tr > th,
.table-bordered > thead > tr > td,
.table-bordered > tbody > tr > td,
.table-bordered > tfoot > tr > td {
  border: 1px solid #ddd;
}
.table-bordered > thead > tr > th,
.table-bordered > thead > tr > td {
  border-bottom-width: 2px;
}
.table-striped > tbody > tr:nth-of-type(odd) {
  background-color: #f9f9f9;
}
.table-hover > tbody > tr:hover {
  background-color: #f5f5f5;
}
table col[class*="col-"] {
  position: static;
  float: none;
  display: table-column;
}
table td[class*="col-"],
table th[class*="col-"] {
  position: static;
  float: none;
  display: table-cell;
}
.table > thead > tr > td.active,
.table > tbody > tr > td.active,
.table > tfoot > tr > td.active,
.table > thead > tr > th.active,
.table > tbody > tr > th.active,
.table > tfoot > tr > th.active,
.table > thead > tr.active > td,
.table > tbody > tr.active > td,
.table > tfoot > tr.active > td,
.table > thead > tr.active > th,
.table > tbody > tr.active > th,
.table > tfoot > tr.active > th {
  background-color: #f5f5f5;
}
.table-hover > tbody > tr > td.active:hover,
.table-hover > tbody > tr > th.active:hover,
.table-hover > tbody > tr.active:hover > td,
.table-hover > tbody > tr:hover > .active,
.table-hover > tbody > tr.active:hover > th {
  background-color: #e8e8e8;
}
.table > thead > tr > td.success,
.table > tbody > tr > td.success,
.table > tfoot > tr > td.success,
.table > thead > tr > th.success,
.table > tbody > tr > th.success,
.table > tfoot > tr > th.success,
.table > thead > tr.success > td,
.table > tbody > tr.success > td,
.table > tfoot > tr.success > td,
.table > thead > tr.success > th,
.table > tbody > tr.success > th,
.table > tfoot > tr.success > th {
  background-color: #dff0d8;
}
.table-hover > tbody > tr > td.success:hover,
.table-hover > tbody > tr > th.success:hover,
.table-hover > tbody > tr.success:hover > td,
.table-hover > tbody > tr:hover > .success,
.table-hover > tbody > tr.success:hover > th {
  background-color: #d0e9c6;
}
.table > thead > tr > td.info,
.table > tbody > tr > td.info,
.table > tfoot > tr > td.info,
.table > thead > tr > th.info,
.table > tbody > tr > th.info,
.table > tfoot > tr > th.info,
.table > thead > tr.info > td,
.table > tbody > tr.info > td,
.table > tfoot > tr.info > td,
.table > thead > tr.info > th,
.table > tbody > tr.info > th,
.table > tfoot > tr.info > th {
  background-color: #d9edf7;
}
.table-hover > tbody > tr > td.info:hover,
.table-hover > tbody > tr > th.info:hover,
.table-hover > tbody > tr.info:hover > td,
.table-hover > tbody > tr:hover > .info,
.table-hover > tbody > tr.info:hover > th {
  background-color: #c4e3f3;
}
.table > thead > tr > td.warning,
.table > tbody > tr > td.warning,
.table > tfoot > tr > td.warning,
.table > thead > tr > th.warning,
.table > tbody > tr > th.warning,
.table > tfoot > tr > th.warning,
.table > thead > tr.warning > td,
.table > tbody > tr.warning > td,
.table > tfoot > tr.warning > td,
.table > thead > tr.warning > th,
.table > tbody > tr.warning > th,
.table > tfoot > tr.warning > th {
  background-color: #fcf8e3;
}
.table-hover > tbody > tr > td.warning:hover,
.table-hover > tbody > tr > th.warning:hover,
.table-hover > tbody > tr.warning:hover > td,
.table-hover > tbody > tr:hover > .warning,
.table-hover > tbody > tr.warning:hover > th {
  background-color: #faf2cc;
}
.table > thead > tr > td.danger,
.table > tbody > tr > td.danger,
.table > tfoot > tr > td.danger,
.table > thead > tr > th.danger,
.table > tbody > tr > th.danger,
.table > tfoot > tr > th.danger,
.table > thead > tr.danger > td,
.table > tbody > tr.danger > td,
.table > tfoot > tr.danger > td,
.table > thead > tr.danger > th,
.table > tbody > tr.danger > th,
.table > tfoot > tr.danger > th {
  background-color: #f2dede;
}
.table-hover > tbody > tr > td.danger:hover,
.table-hover > tbody > tr > th.danger:hover,
.table-hover > tbody > tr.danger:hover > td,
.table-hover > tbody > tr:hover > .danger,
.table-hover > tbody > tr.danger:hover > th {
  background-color: #ebcccc;
}
.table-responsive {
  overflow-x: auto;
  min-height: 0.01%;
}
@media screen and (max-width: 767px) {
  .table-responsive {
    width: 100%;
    margin-bottom: 13.5px;
    overflow-y: hidden;
    -ms-overflow-style: -ms-autohiding-scrollbar;
    border: 1px solid #ddd;
  }
  .table-responsive > .table {
    margin-bottom: 0;
  }
  .table-responsive > .table > thead > tr > th,
  .table-responsive > .table > tbody > tr > th,
  .table-responsive > .table > tfoot > tr > th,
  .table-responsive > .table > thead > tr > td,
  .table-responsive > .table > tbody > tr > td,
  .table-responsive > .table > tfoot > tr > td {
    white-space: nowrap;
  }
  .table-responsive > .table-bordered {
    border: 0;
  }
  .table-responsive > .table-bordered > thead > tr > th:first-child,
  .table-responsive > .table-bordered > tbody > tr > th:first-child,
  .table-responsive > .table-bordered > tfoot > tr > th:first-child,
  .table-responsive > .table-bordered > thead > tr > td:first-child,
  .table-responsive > .table-bordered > tbody > tr > td:first-child,
  .table-responsive > .table-bordered > tfoot > tr > td:first-child {
    border-left: 0;
  }
  .table-responsive > .table-bordered > thead > tr > th:last-child,
  .table-responsive > .table-bordered > tbody > tr > th:last-child,
  .table-responsive > .table-bordered > tfoot > tr > th:last-child,
  .table-responsive > .table-bordered > thead > tr > td:last-child,
  .table-responsive > .table-bordered > tbody > tr > td:last-child,
  .table-responsive > .table-bordered > tfoot > tr > td:last-child {
    border-right: 0;
  }
  .table-responsive > .table-bordered > tbody > tr:last-child > th,
  .table-responsive > .table-bordered > tfoot > tr:last-child > th,
  .table-responsive > .table-bordered > tbody > tr:last-child > td,
  .table-responsive > .table-bordered > tfoot > tr:last-child > td {
    border-bottom: 0;
  }
}
fieldset {
  padding: 0;
  margin: 0;
  border: 0;
  min-width: 0;
}
legend {
  display: block;
  width: 100%;
  padding: 0;
  margin-bottom: 18px;
  font-size: 19.5px;
  line-height: inherit;
  color: #333333;
  border: 0;
  border-bottom: 1px solid #e5e5e5;
}
label {
  display: inline-block;
  max-width: 100%;
  margin-bottom: 5px;
  font-weight: bold;
}
input[type="search"] {
  -webkit-box-sizing: border-box;
  -moz-box-sizing: border-box;
  box-sizing: border-box;
}
input[type="radio"],
input[type="checkbox"] {
  margin: 4px 0 0;
  margin-top: 1px \9;
  line-height: normal;
}
input[type="file"] {
  display: block;
}
input[type="range"] {
  display: block;
  width: 100%;
}
select[multiple],
select[size] {
  height: auto;
}
input[type="file"]:focus,
input[type="radio"]:focus,
input[type="checkbox"]:focus {
  outline: 5px auto -webkit-focus-ring-color;
  outline-offset: -2px;
}
output {
  display: block;
  padding-top: 7px;
  font-size: 13px;
  line-height: 1.42857143;
  color: #555555;
}
.form-control {
  display: block;
  width: 100%;
  height: 32px;
  padding: 6px 12px;
  font-size: 13px;
  line-height: 1.42857143;
  color: #555555;
  background-color: #fff;
  background-image: none;
  border: 1px solid #ccc;
  border-radius: 2px;
  -webkit-box-shadow: inset 0 1px 1px rgba(0, 0, 0, 0.075);
  box-shadow: inset 0 1px 1px rgba(0, 0, 0, 0.075);
  -webkit-transition: border-color ease-in-out .15s, box-shadow ease-in-out .15s;
  -o-transition: border-color ease-in-out .15s, box-shadow ease-in-out .15s;
  transition: border-color ease-in-out .15s, box-shadow ease-in-out .15s;
}
.form-control:focus {
  border-color: #66afe9;
  outline: 0;
  -webkit-box-shadow: inset 0 1px 1px rgba(0,0,0,.075), 0 0 8px rgba(102, 175, 233, 0.6);
  box-shadow: inset 0 1px 1px rgba(0,0,0,.075), 0 0 8px rgba(102, 175, 233, 0.6);
}
.form-control::-moz-placeholder {
  color: #999;
  opacity: 1;
}
.form-control:-ms-input-placeholder {
  color: #999;
}
.form-control::-webkit-input-placeholder {
  color: #999;
}
.form-control::-ms-expand {
  border: 0;
  background-color: transparent;
}
.form-control[disabled],
.form-control[readonly],
fieldset[disabled] .form-control {
  background-color: #eeeeee;
  opacity: 1;
}
.form-control[disabled],
fieldset[disabled] .form-control {
  cursor: not-allowed;
}
textarea.form-control {
  height: auto;
}
input[type="search"] {
  -webkit-appearance: none;
}
@media screen and (-webkit-min-device-pixel-ratio: 0) {
  input[type="date"].form-control,
  input[type="time"].form-control,
  input[type="datetime-local"].form-control,
  input[type="month"].form-control {
    line-height: 32px;
  }
  input[type="date"].input-sm,
  input[type="time"].input-sm,
  input[type="datetime-local"].input-sm,
  input[type="month"].input-sm,
  .input-group-sm input[type="date"],
  .input-group-sm input[type="time"],
  .input-group-sm input[type="datetime-local"],
  .input-group-sm input[type="month"] {
    line-height: 30px;
  }
  input[type="date"].input-lg,
  input[type="time"].input-lg,
  input[type="datetime-local"].input-lg,
  input[type="month"].input-lg,
  .input-group-lg input[type="date"],
  .input-group-lg input[type="time"],
  .input-group-lg input[type="datetime-local"],
  .input-group-lg input[type="month"] {
    line-height: 45px;
  }
}
.form-group {
  margin-bottom: 15px;
}
.radio,
.checkbox {
  position: relative;
  display: block;
  margin-top: 10px;
  margin-bottom: 10px;
}
.radio label,
.checkbox label {
  min-height: 18px;
  padding-left: 20px;
  margin-bottom: 0;
  font-weight: normal;
  cursor: pointer;
}
.radio input[type="radio"],
.radio-inline input[type="radio"],
.checkbox input[type="checkbox"],
.checkbox-inline input[type="checkbox"] {
  position: absolute;
  margin-left: -20px;
  margin-top: 4px \9;
}
.radio + .radio,
.checkbox + .checkbox {
  margin-top: -5px;
}
.radio-inline,
.checkbox-inline {
  position: relative;
  display: inline-block;
  padding-left: 20px;
  margin-bottom: 0;
  vertical-align: middle;
  font-weight: normal;
  cursor: pointer;
}
.radio-inline + .radio-inline,
.checkbox-inline + .checkbox-inline {
  margin-top: 0;
  margin-left: 10px;
}
input[type="radio"][disabled],
input[type="checkbox"][disabled],
input[type="radio"].disabled,
input[type="checkbox"].disabled,
fieldset[disabled] input[type="radio"],
fieldset[disabled] input[type="checkbox"] {
  cursor: not-allowed;
}
.radio-inline.disabled,
.checkbox-inline.disabled,
fieldset[disabled] .radio-inline,
fieldset[disabled] .checkbox-inline {
  cursor: not-allowed;
}
.radio.disabled label,
.checkbox.disabled label,
fieldset[disabled] .radio label,
fieldset[disabled] .checkbox label {
  cursor: not-allowed;
}
.form-control-static {
  padding-top: 7px;
  padding-bottom: 7px;
  margin-bottom: 0;
  min-height: 31px;
}
.form-control-static.input-lg,
.form-control-static.input-sm {
  padding-left: 0;
  padding-right: 0;
}
.input-sm {
  height: 30px;
  padding: 5px 10px;
  font-size: 12px;
  line-height: 1.5;
  border-radius: 1px;
}
select.input-sm {
  height: 30px;
  line-height: 30px;
}
textarea.input-sm,
select[multiple].input-sm {
  height: auto;
}
.form-group-sm .form-control {
  height: 30px;
  padding: 5px 10px;
  font-size: 12px;
  line-height: 1.5;
  border-radius: 1px;
}
.form-group-sm select.form-control {
  height: 30px;
  line-height: 30px;
}
.form-group-sm textarea.form-control,
.form-group-sm select[multiple].form-control {
  height: auto;
}
.form-group-sm .form-control-static {
  height: 30px;
  min-height: 30px;
  padding: 6px 10px;
  font-size: 12px;
  line-height: 1.5;
}
.input-lg {
  height: 45px;
  padding: 10px 16px;
  font-size: 17px;
  line-height: 1.3333333;
  border-radius: 3px;
}
select.input-lg {
  height: 45px;
  line-height: 45px;
}
textarea.input-lg,
select[multiple].input-lg {
  height: auto;
}
.form-group-lg .form-control {
  height: 45px;
  padding: 10px 16px;
  font-size: 17px;
  line-height: 1.3333333;
  border-radius: 3px;
}
.form-group-lg select.form-control {
  height: 45px;
  line-height: 45px;
}
.form-group-lg textarea.form-control,
.form-group-lg select[multiple].form-control {
  height: auto;
}
.form-group-lg .form-control-static {
  height: 45px;
  min-height: 35px;
  padding: 11px 16px;
  font-size: 17px;
  line-height: 1.3333333;
}
.has-feedback {
  position: relative;
}
.has-feedback .form-control {
  padding-right: 40px;
}
.form-control-feedback {
  position: absolute;
  top: 0;
  right: 0;
  z-index: 2;
  display: block;
  width: 32px;
  height: 32px;
  line-height: 32px;
  text-align: center;
  pointer-events: none;
}
.input-lg + .form-control-feedback,
.input-group-lg + .form-control-feedback,
.form-group-lg .form-control + .form-control-feedback {
  width: 45px;
  height: 45px;
  line-height: 45px;
}
.input-sm + .form-control-feedback,
.input-group-sm + .form-control-feedback,
.form-group-sm .form-control + .form-control-feedback {
  width: 30px;
  height: 30px;
  line-height: 30px;
}
.has-success .help-block,
.has-success .control-label,
.has-success .radio,
.has-success .checkbox,
.has-success .radio-inline,
.has-success .checkbox-inline,
.has-success.radio label,
.has-success.checkbox label,
.has-success.radio-inline label,
.has-success.checkbox-inline label {
  color: #3c763d;
}
.has-success .form-control {
  border-color: #3c763d;
  -webkit-box-shadow: inset 0 1px 1px rgba(0, 0, 0, 0.075);
  box-shadow: inset 0 1px 1px rgba(0, 0, 0, 0.075);
}
.has-success .form-control:focus {
  border-color: #2b542c;
  -webkit-box-shadow: inset 0 1px 1px rgba(0, 0, 0, 0.075), 0 0 6px #67b168;
  box-shadow: inset 0 1px 1px rgba(0, 0, 0, 0.075), 0 0 6px #67b168;
}
.has-success .input-group-addon {
  color: #3c763d;
  border-color: #3c763d;
  background-color: #dff0d8;
}
.has-success .form-control-feedback {
  color: #3c763d;
}
.has-warning .help-block,
.has-warning .control-label,
.has-warning .radio,
.has-warning .checkbox,
.has-warning .radio-inline,
.has-warning .checkbox-inline,
.has-warning.radio label,
.has-warning.checkbox label,
.has-warning.radio-inline label,
.has-warning.checkbox-inline label {
  color: #8a6d3b;
}
.has-warning .form-control {
  border-color: #8a6d3b;
  -webkit-box-shadow: inset 0 1px 1px rgba(0, 0, 0, 0.075);
  box-shadow: inset 0 1px 1px rgba(0, 0, 0, 0.075);
}
.has-warning .form-control:focus {
  border-color: #66512c;
  -webkit-box-shadow: inset 0 1px 1px rgba(0, 0, 0, 0.075), 0 0 6px #c0a16b;
  box-shadow: inset 0 1px 1px rgba(0, 0, 0, 0.075), 0 0 6px #c0a16b;
}
.has-warning .input-group-addon {
  color: #8a6d3b;
  border-color: #8a6d3b;
  background-color: #fcf8e3;
}
.has-warning .form-control-feedback {
  color: #8a6d3b;
}
.has-error .help-block,
.has-error .control-label,
.has-error .radio,
.has-error .checkbox,
.has-error .radio-inline,
.has-error .checkbox-inline,
.has-error.radio label,
.has-error.checkbox label,
.has-error.radio-inline label,
.has-error.checkbox-inline label {
  color: #a94442;
}
.has-error .form-control {
  border-color: #a94442;
  -webkit-box-shadow: inset 0 1px 1px rgba(0, 0, 0, 0.075);
  box-shadow: inset 0 1px 1px rgba(0, 0, 0, 0.075);
}
.has-error .form-control:focus {
  border-color: #843534;
  -webkit-box-shadow: inset 0 1px 1px rgba(0, 0, 0, 0.075), 0 0 6px #ce8483;
  box-shadow: inset 0 1px 1px rgba(0, 0, 0, 0.075), 0 0 6px #ce8483;
}
.has-error .input-group-addon {
  color: #a94442;
  border-color: #a94442;
  background-color: #f2dede;
}
.has-error .form-control-feedback {
  color: #a94442;
}
.has-feedback label ~ .form-control-feedback {
  top: 23px;
}
.has-feedback label.sr-only ~ .form-control-feedback {
  top: 0;
}
.help-block {
  display: block;
  margin-top: 5px;
  margin-bottom: 10px;
  color: #404040;
}
@media (min-width: 768px) {
  .form-inline .form-group {
    display: inline-block;
    margin-bottom: 0;
    vertical-align: middle;
  }
  .form-inline .form-control {
    display: inline-block;
    width: auto;
    vertical-align: middle;
  }
  .form-inline .form-control-static {
    display: inline-block;
  }
  .form-inline .input-group {
    display: inline-table;
    vertical-align: middle;
  }
  .form-inline .input-group .input-group-addon,
  .form-inline .input-group .input-group-btn,
  .form-inline .input-group .form-control {
    width: auto;
  }
  .form-inline .input-group > .form-control {
    width: 100%;
  }
  .form-inline .control-label {
    margin-bottom: 0;
    vertical-align: middle;
  }
  .form-inline .radio,
  .form-inline .checkbox {
    display: inline-block;
    margin-top: 0;
    margin-bottom: 0;
    vertical-align: middle;
  }
  .form-inline .radio label,
  .form-inline .checkbox label {
    padding-left: 0;
  }
  .form-inline .radio input[type="radio"],
  .form-inline .checkbox input[type="checkbox"] {
    position: relative;
    margin-left: 0;
  }
  .form-inline .has-feedback .form-control-feedback {
    top: 0;
  }
}
.form-horizontal .radio,
.form-horizontal .checkbox,
.form-horizontal .radio-inline,
.form-horizontal .checkbox-inline {
  margin-top: 0;
  margin-bottom: 0;
  padding-top: 7px;
}
.form-horizontal .radio,
.form-horizontal .checkbox {
  min-height: 25px;
}
.form-horizontal .form-group {
  margin-left: 0px;
  margin-right: 0px;
}
@media (min-width: 768px) {
  .form-horizontal .control-label {
    text-align: right;
    margin-bottom: 0;
    padding-top: 7px;
  }
}
.form-horizontal .has-feedback .form-control-feedback {
  right: 0px;
}
@media (min-width: 768px) {
  .form-horizontal .form-group-lg .control-label {
    padding-top: 11px;
    font-size: 17px;
  }
}
@media (min-width: 768px) {
  .form-horizontal .form-group-sm .control-label {
    padding-top: 6px;
    font-size: 12px;
  }
}
.btn {
  display: inline-block;
  margin-bottom: 0;
  font-weight: normal;
  text-align: center;
  vertical-align: middle;
  touch-action: manipulation;
  cursor: pointer;
  background-image: none;
  border: 1px solid transparent;
  white-space: nowrap;
  padding: 6px 12px;
  font-size: 13px;
  line-height: 1.42857143;
  border-radius: 2px;
  -webkit-user-select: none;
  -moz-user-select: none;
  -ms-user-select: none;
  user-select: none;
}
.btn:focus,
.btn:active:focus,
.btn.active:focus,
.btn.focus,
.btn:active.focus,
.btn.active.focus {
  outline: 5px auto -webkit-focus-ring-color;
  outline-offset: -2px;
}
.btn:hover,
.btn:focus,
.btn.focus {
  color: #333;
  text-decoration: none;
}
.btn:active,
.btn.active {
  outline: 0;
  background-image: none;
  -webkit-box-shadow: inset 0 3px 5px rgba(0, 0, 0, 0.125);
  box-shadow: inset 0 3px 5px rgba(0, 0, 0, 0.125);
}
.btn.disabled,
.btn[disabled],
fieldset[disabled] .btn {
  cursor: not-allowed;
  opacity: 0.65;
  filter: alpha(opacity=65);
  -webkit-box-shadow: none;
  box-shadow: none;
}
a.btn.disabled,
fieldset[disabled] a.btn {
  pointer-events: none;
}
.btn-default {
  color: #333;
  background-color: #fff;
  border-color: #ccc;
}
.btn-default:focus,
.btn-default.focus {
  color: #333;
  background-color: #e6e6e6;
  border-color: #8c8c8c;
}
.btn-default:hover {
  color: #333;
  background-color: #e6e6e6;
  border-color: #adadad;
}
.btn-default:active,
.btn-default.active,
.open > .dropdown-toggle.btn-default {
  color: #333;
  background-color: #e6e6e6;
  border-color: #adadad;
}
.btn-default:active:hover,
.btn-default.active:hover,
.open > .dropdown-toggle.btn-default:hover,
.btn-default:active:focus,
.btn-default.active:focus,
.open > .dropdown-toggle.btn-default:focus,
.btn-default:active.focus,
.btn-default.active.focus,
.open > .dropdown-toggle.btn-default.focus {
  color: #333;
  background-color: #d4d4d4;
  border-color: #8c8c8c;
}
.btn-default:active,
.btn-default.active,
.open > .dropdown-toggle.btn-default {
  background-image: none;
}
.btn-default.disabled:hover,
.btn-default[disabled]:hover,
fieldset[disabled] .btn-default:hover,
.btn-default.disabled:focus,
.btn-default[disabled]:focus,
fieldset[disabled] .btn-default:focus,
.btn-default.disabled.focus,
.btn-default[disabled].focus,
fieldset[disabled] .btn-default.focus {
  background-color: #fff;
  border-color: #ccc;
}
.btn-default .badge {
  color: #fff;
  background-color: #333;
}
.btn-primary {
  color: #fff;
  background-color: #337ab7;
  border-color: #2e6da4;
}
.btn-primary:focus,
.btn-primary.focus {
  color: #fff;
  background-color: #286090;
  border-color: #122b40;
}
.btn-primary:hover {
  color: #fff;
  background-color: #286090;
  border-color: #204d74;
}
.btn-primary:active,
.btn-primary.active,
.open > .dropdown-toggle.btn-primary {
  color: #fff;
  background-color: #286090;
  border-color: #204d74;
}
.btn-primary:active:hover,
.btn-primary.active:hover,
.open > .dropdown-toggle.btn-primary:hover,
.btn-primary:active:focus,
.btn-primary.active:focus,
.open > .dropdown-toggle.btn-primary:focus,
.btn-primary:active.focus,
.btn-primary.active.focus,
.open > .dropdown-toggle.btn-primary.focus {
  color: #fff;
  background-color: #204d74;
  border-color: #122b40;
}
.btn-primary:active,
.btn-primary.active,
.open > .dropdown-toggle.btn-primary {
  background-image: none;
}
.btn-primary.disabled:hover,
.btn-primary[disabled]:hover,
fieldset[disabled] .btn-primary:hover,
.btn-primary.disabled:focus,
.btn-primary[disabled]:focus,
fieldset[disabled] .btn-primary:focus,
.btn-primary.disabled.focus,
.btn-primary[disabled].focus,
fieldset[disabled] .btn-primary.focus {
  background-color: #337ab7;
  border-color: #2e6da4;
}
.btn-primary .badge {
  color: #337ab7;
  background-color: #fff;
}
.btn-success {
  color: #fff;
  background-color: #5cb85c;
  border-color: #4cae4c;
}
.btn-success:focus,
.btn-success.focus {
  color: #fff;
  background-color: #449d44;
  border-color: #255625;
}
.btn-success:hover {
  color: #fff;
  background-color: #449d44;
  border-color: #398439;
}
.btn-success:active,
.btn-success.active,
.open > .dropdown-toggle.btn-success {
  color: #fff;
  background-color: #449d44;
  border-color: #398439;
}
.btn-success:active:hover,
.btn-success.active:hover,
.open > .dropdown-toggle.btn-success:hover,
.btn-success:active:focus,
.btn-success.active:focus,
.open > .dropdown-toggle.btn-success:focus,
.btn-success:active.focus,
.btn-success.active.focus,
.open > .dropdown-toggle.btn-success.focus {
  color: #fff;
  background-color: #398439;
  border-color: #255625;
}
.btn-success:active,
.btn-success.active,
.open > .dropdown-toggle.btn-success {
  background-image: none;
}
.btn-success.disabled:hover,
.btn-success[disabled]:hover,
fieldset[disabled] .btn-success:hover,
.btn-success.disabled:focus,
.btn-success[disabled]:focus,
fieldset[disabled] .btn-success:focus,
.btn-success.disabled.focus,
.btn-success[disabled].focus,
fieldset[disabled] .btn-success.focus {
  background-color: #5cb85c;
  border-color: #4cae4c;
}
.btn-success .badge {
  color: #5cb85c;
  background-color: #fff;
}
.btn-info {
  color: #fff;
  background-color: #5bc0de;
  border-color: #46b8da;
}
.btn-info:focus,
.btn-info.focus {
  color: #fff;
  background-color: #31b0d5;
  border-color: #1b6d85;
}
.btn-info:hover {
  color: #fff;
  background-color: #31b0d5;
  border-color: #269abc;
}
.btn-info:active,
.btn-info.active,
.open > .dropdown-toggle.btn-info {
  color: #fff;
  background-color: #31b0d5;
  border-color: #269abc;
}
.btn-info:active:hover,
.btn-info.active:hover,
.open > .dropdown-toggle.btn-info:hover,
.btn-info:active:focus,
.btn-info.active:focus,
.open > .dropdown-toggle.btn-info:focus,
.btn-info:active.focus,
.btn-info.active.focus,
.open > .dropdown-toggle.btn-info.focus {
  color: #fff;
  background-color: #269abc;
  border-color: #1b6d85;
}
.btn-info:active,
.btn-info.active,
.open > .dropdown-toggle.btn-info {
  background-image: none;
}
.btn-info.disabled:hover,
.btn-info[disabled]:hover,
fieldset[disabled] .btn-info:hover,
.btn-info.disabled:focus,
.btn-info[disabled]:focus,
fieldset[disabled] .btn-info:focus,
.btn-info.disabled.focus,
.btn-info[disabled].focus,
fieldset[disabled] .btn-info.focus {
  background-color: #5bc0de;
  border-color: #46b8da;
}
.btn-info .badge {
  color: #5bc0de;
  background-color: #fff;
}
.btn-warning {
  color: #fff;
  background-color: #f0ad4e;
  border-color: #eea236;
}
.btn-warning:focus,
.btn-warning.focus {
  color: #fff;
  background-color: #ec971f;
  border-color: #985f0d;
}
.btn-warning:hover {
  color: #fff;
  background-color: #ec971f;
  border-color: #d58512;
}
.btn-warning:active,
.btn-warning.active,
.open > .dropdown-toggle.btn-warning {
  color: #fff;
  background-color: #ec971f;
  border-color: #d58512;
}
.btn-warning:active:hover,
.btn-warning.active:hover,
.open > .dropdown-toggle.btn-warning:hover,
.btn-warning:active:focus,
.btn-warning.active:focus,
.open > .dropdown-toggle.btn-warning:focus,
.btn-warning:active.focus,
.btn-warning.active.focus,
.open > .dropdown-toggle.btn-warning.focus {
  color: #fff;
  background-color: #d58512;
  border-color: #985f0d;
}
.btn-warning:active,
.btn-warning.active,
.open > .dropdown-toggle.btn-warning {
  background-image: none;
}
.btn-warning.disabled:hover,
.btn-warning[disabled]:hover,
fieldset[disabled] .btn-warning:hover,
.btn-warning.disabled:focus,
.btn-warning[disabled]:focus,
fieldset[disabled] .btn-warning:focus,
.btn-warning.disabled.focus,
.btn-warning[disabled].focus,
fieldset[disabled] .btn-warning.focus {
  background-color: #f0ad4e;
  border-color: #eea236;
}
.btn-warning .badge {
  color: #f0ad4e;
  background-color: #fff;
}
.btn-danger {
  color: #fff;
  background-color: #d9534f;
  border-color: #d43f3a;
}
.btn-danger:focus,
.btn-danger.focus {
  color: #fff;
  background-color: #c9302c;
  border-color: #761c19;
}
.btn-danger:hover {
  color: #fff;
  background-color: #c9302c;
  border-color: #ac2925;
}
.btn-danger:active,
.btn-danger.active,
.open > .dropdown-toggle.btn-danger {
  color: #fff;
  background-color: #c9302c;
  border-color: #ac2925;
}
.btn-danger:active:hover,
.btn-danger.active:hover,
.open > .dropdown-toggle.btn-danger:hover,
.btn-danger:active:focus,
.btn-danger.active:focus,
.open > .dropdown-toggle.btn-danger:focus,
.btn-danger:active.focus,
.btn-danger.active.focus,
.open > .dropdown-toggle.btn-danger.focus {
  color: #fff;
  background-color: #ac2925;
  border-color: #761c19;
}
.btn-danger:active,
.btn-danger.active,
.open > .dropdown-toggle.btn-danger {
  background-image: none;
}
.btn-danger.disabled:hover,
.btn-danger[disabled]:hover,
fieldset[disabled] .btn-danger:hover,
.btn-danger.disabled:focus,
.btn-danger[disabled]:focus,
fieldset[disabled] .btn-danger:focus,
.btn-danger.disabled.focus,
.btn-danger[disabled].focus,
fieldset[disabled] .btn-danger.focus {
  background-color: #d9534f;
  border-color: #d43f3a;
}
.btn-danger .badge {
  color: #d9534f;
  background-color: #fff;
}
.btn-link {
  color: #337ab7;
  font-weight: normal;
  border-radius: 0;
}
.btn-link,
.btn-link:active,
.btn-link.active,
.btn-link[disabled],
fieldset[disabled] .btn-link {
  background-color: transparent;
  -webkit-box-shadow: none;
  box-shadow: none;
}
.btn-link,
.btn-link:hover,
.btn-link:focus,
.btn-link:active {
  border-color: transparent;
}
.btn-link:hover,
.btn-link:focus {
  color: #23527c;
  text-decoration: underline;
  background-color: transparent;
}
.btn-link[disabled]:hover,
fieldset[disabled] .btn-link:hover,
.btn-link[disabled]:focus,
fieldset[disabled] .btn-link:focus {
  color: #777777;
  text-decoration: none;
}
.btn-lg,
.btn-group-lg > .btn {
  padding: 10px 16px;
  font-size: 17px;
  line-height: 1.3333333;
  border-radius: 3px;
}
.btn-sm,
.btn-group-sm > .btn {
  padding: 5px 10px;
  font-size: 12px;
  line-height: 1.5;
  border-radius: 1px;
}
.btn-xs,
.btn-group-xs > .btn {
  padding: 1px 5px;
  font-size: 12px;
  line-height: 1.5;
  border-radius: 1px;
}
.btn-block {
  display: block;
  width: 100%;
}
.btn-block + .btn-block {
  margin-top: 5px;
}
input[type="submit"].btn-block,
input[type="reset"].btn-block,
input[type="button"].btn-block {
  width: 100%;
}
.fade {
  opacity: 0;
  -webkit-transition: opacity 0.15s linear;
  -o-transition: opacity 0.15s linear;
  transition: opacity 0.15s linear;
}
.fade.in {
  opacity: 1;
}
.collapse {
  display: none;
}
.collapse.in {
  display: block;
}
tr.collapse.in {
  display: table-row;
}
tbody.collapse.in {
  display: table-row-group;
}
.collapsing {
  position: relative;
  height: 0;
  overflow: hidden;
  -webkit-transition-property: height, visibility;
  transition-property: height, visibility;
  -webkit-transition-duration: 0.35s;
  transition-duration: 0.35s;
  -webkit-transition-timing-function: ease;
  transition-timing-function: ease;
}
.caret {
  display: inline-block;
  width: 0;
  height: 0;
  margin-left: 2px;
  vertical-align: middle;
  border-top: 4px dashed;
  border-top: 4px solid \9;
  border-right: 4px solid transparent;
  border-left: 4px solid transparent;
}
.dropup,
.dropdown {
  position: relative;
}
.dropdown-toggle:focus {
  outline: 0;
}
.dropdown-menu {
  position: absolute;
  top: 100%;
  left: 0;
  z-index: 1000;
  display: none;
  float: left;
  min-width: 160px;
  padding: 5px 0;
  margin: 2px 0 0;
  list-style: none;
  font-size: 13px;
  text-align: left;
  background-color: #fff;
  border: 1px solid #ccc;
  border: 1px solid rgba(0, 0, 0, 0.15);
  border-radius: 2px;
  -webkit-box-shadow: 0 6px 12px rgba(0, 0, 0, 0.175);
  box-shadow: 0 6px 12px rgba(0, 0, 0, 0.175);
  background-clip: padding-box;
}
.dropdown-menu.pull-right {
  right: 0;
  left: auto;
}
.dropdown-menu .divider {
  height: 1px;
  margin: 8px 0;
  overflow: hidden;
  background-color: #e5e5e5;
}
.dropdown-menu > li > a {
  display: block;
  padding: 3px 20px;
  clear: both;
  font-weight: normal;
  line-height: 1.42857143;
  color: #333333;
  white-space: nowrap;
}
.dropdown-menu > li > a:hover,
.dropdown-menu > li > a:focus {
  text-decoration: none;
  color: #262626;
  background-color: #f5f5f5;
}
.dropdown-menu > .active > a,
.dropdown-menu > .active > a:hover,
.dropdown-menu > .active > a:focus {
  color: #fff;
  text-decoration: none;
  outline: 0;
  background-color: #337ab7;
}
.dropdown-menu > .disabled > a,
.dropdown-menu > .disabled > a:hover,
.dropdown-menu > .disabled > a:focus {
  color: #777777;
}
.dropdown-menu > .disabled > a:hover,
.dropdown-menu > .disabled > a:focus {
  text-decoration: none;
  background-color: transparent;
  background-image: none;
  filter: progid:DXImageTransform.Microsoft.gradient(enabled = false);
  cursor: not-allowed;
}
.open > .dropdown-menu {
  display: block;
}
.open > a {
  outline: 0;
}
.dropdown-menu-right {
  left: auto;
  right: 0;
}
.dropdown-menu-left {
  left: 0;
  right: auto;
}
.dropdown-header {
  display: block;
  padding: 3px 20px;
  font-size: 12px;
  line-height: 1.42857143;
  color: #777777;
  white-space: nowrap;
}
.dropdown-backdrop {
  position: fixed;
  left: 0;
  right: 0;
  bottom: 0;
  top: 0;
  z-index: 990;
}
.pull-right > .dropdown-menu {
  right: 0;
  left: auto;
}
.dropup .caret,
.navbar-fixed-bottom .dropdown .caret {
  border-top: 0;
  border-bottom: 4px dashed;
  border-bottom: 4px solid \9;
  content: "";
}
.dropup .dropdown-menu,
.navbar-fixed-bottom .dropdown .dropdown-menu {
  top: auto;
  bottom: 100%;
  margin-bottom: 2px;
}
@media (min-width: 541px) {
  .navbar-right .dropdown-menu {
    left: auto;
    right: 0;
  }
  .navbar-right .dropdown-menu-left {
    left: 0;
    right: auto;
  }
}
.btn-group,
.btn-group-vertical {
  position: relative;
  display: inline-block;
  vertical-align: middle;
}
.btn-group > .btn,
.btn-group-vertical > .btn {
  position: relative;
  float: left;
}
.btn-group > .btn:hover,
.btn-group-vertical > .btn:hover,
.btn-group > .btn:focus,
.btn-group-vertical > .btn:focus,
.btn-group > .btn:active,
.btn-group-vertical > .btn:active,
.btn-group > .btn.active,
.btn-group-vertical > .btn.active {
  z-index: 2;
}
.btn-group .btn + .btn,
.btn-group .btn + .btn-group,
.btn-group .btn-group + .btn,
.btn-group .btn-group + .btn-group {
  margin-left: -1px;
}
.btn-toolbar {
  margin-left: -5px;
}
.btn-toolbar .btn,
.btn-toolbar .btn-group,
.btn-toolbar .input-group {
  float: left;
}
.btn-toolbar > .btn,
.btn-toolbar > .btn-group,
.btn-toolbar > .input-group {
  margin-left: 5px;
}
.btn-group > .btn:not(:first-child):not(:last-child):not(.dropdown-toggle) {
  border-radius: 0;
}
.btn-group > .btn:first-child {
  margin-left: 0;
}
.btn-group > .btn:first-child:not(:last-child):not(.dropdown-toggle) {
  border-bottom-right-radius: 0;
  border-top-right-radius: 0;
}
.btn-group > .btn:last-child:not(:first-child),
.btn-group > .dropdown-toggle:not(:first-child) {
  border-bottom-left-radius: 0;
  border-top-left-radius: 0;
}
.btn-group > .btn-group {
  float: left;
}
.btn-group > .btn-group:not(:first-child):not(:last-child) > .btn {
  border-radius: 0;
}
.btn-group > .btn-group:first-child:not(:last-child) > .btn:last-child,
.btn-group > .btn-group:first-child:not(:last-child) > .dropdown-toggle {
  border-bottom-right-radius: 0;
  border-top-right-radius: 0;
}
.btn-group > .btn-group:last-child:not(:first-child) > .btn:first-child {
  border-bottom-left-radius: 0;
  border-top-left-radius: 0;
}
.btn-group .dropdown-toggle:active,
.btn-group.open .dropdown-toggle {
  outline: 0;
}
.btn-group > .btn + .dropdown-toggle {
  padding-left: 8px;
  padding-right: 8px;
}
.btn-group > .btn-lg + .dropdown-toggle {
  padding-left: 12px;
  padding-right: 12px;
}
.btn-group.open .dropdown-toggle {
  -webkit-box-shadow: inset 0 3px 5px rgba(0, 0, 0, 0.125);
  box-shadow: inset 0 3px 5px rgba(0, 0, 0, 0.125);
}
.btn-group.open .dropdown-toggle.btn-link {
  -webkit-box-shadow: none;
  box-shadow: none;
}
.btn .caret {
  margin-left: 0;
}
.btn-lg .caret {
  border-width: 5px 5px 0;
  border-bottom-width: 0;
}
.dropup .btn-lg .caret {
  border-width: 0 5px 5px;
}
.btn-group-vertical > .btn,
.btn-group-vertical > .btn-group,
.btn-group-vertical > .btn-group > .btn {
  display: block;
  float: none;
  width: 100%;
  max-width: 100%;
}
.btn-group-vertical > .btn-group > .btn {
  float: none;
}
.btn-group-vertical > .btn + .btn,
.btn-group-vertical > .btn + .btn-group,
.btn-group-vertical > .btn-group + .btn,
.btn-group-vertical > .btn-group + .btn-group {
  margin-top: -1px;
  margin-left: 0;
}
.btn-group-vertical > .btn:not(:first-child):not(:last-child) {
  border-radius: 0;
}
.btn-group-vertical > .btn:first-child:not(:last-child) {
  border-top-right-radius: 2px;
  border-top-left-radius: 2px;
  border-bottom-right-radius: 0;
  border-bottom-left-radius: 0;
}
.btn-group-vertical > .btn:last-child:not(:first-child) {
  border-top-right-radius: 0;
  border-top-left-radius: 0;
  border-bottom-right-radius: 2px;
  border-bottom-left-radius: 2px;
}
.btn-group-vertical > .btn-group:not(:first-child):not(:last-child) > .btn {
  border-radius: 0;
}
.btn-group-vertical > .btn-group:first-child:not(:last-child) > .btn:last-child,
.btn-group-vertical > .btn-group:first-child:not(:last-child) > .dropdown-toggle {
  border-bottom-right-radius: 0;
  border-bottom-left-radius: 0;
}
.btn-group-vertical > .btn-group:last-child:not(:first-child) > .btn:first-child {
  border-top-right-radius: 0;
  border-top-left-radius: 0;
}
.btn-group-justified {
  display: table;
  width: 100%;
  table-layout: fixed;
  border-collapse: separate;
}
.btn-group-justified > .btn,
.btn-group-justified > .btn-group {
  float: none;
  display: table-cell;
  width: 1%;
}
.btn-group-justified > .btn-group .btn {
  width: 100%;
}
.btn-group-justified > .btn-group .dropdown-menu {
  left: auto;
}
[data-toggle="buttons"] > .btn input[type="radio"],
[data-toggle="buttons"] > .btn-group > .btn input[type="radio"],
[data-toggle="buttons"] > .btn input[type="checkbox"],
[data-toggle="buttons"] > .btn-group > .btn input[type="checkbox"] {
  position: absolute;
  clip: rect(0, 0, 0, 0);
  pointer-events: none;
}
.input-group {
  position: relative;
  display: table;
  border-collapse: separate;
}
.input-group[class*="col-"] {
  float: none;
  padding-left: 0;
  padding-right: 0;
}
.input-group .form-control {
  position: relative;
  z-index: 2;
  float: left;
  width: 100%;
  margin-bottom: 0;
}
.input-group .form-control:focus {
  z-index: 3;
}
.input-group-lg > .form-control,
.input-group-lg > .input-group-addon,
.input-group-lg > .input-group-btn > .btn {
  height: 45px;
  padding: 10px 16px;
  font-size: 17px;
  line-height: 1.3333333;
  border-radius: 3px;
}
select.input-group-lg > .form-control,
select.input-group-lg > .input-group-addon,
select.input-group-lg > .input-group-btn > .btn {
  height: 45px;
  line-height: 45px;
}
textarea.input-group-lg > .form-control,
textarea.input-group-lg > .input-group-addon,
textarea.input-group-lg > .input-group-btn > .btn,
select[multiple].input-group-lg > .form-control,
select[multiple].input-group-lg > .input-group-addon,
select[multiple].input-group-lg > .input-group-btn > .btn {
  height: auto;
}
.input-group-sm > .form-control,
.input-group-sm > .input-group-addon,
.input-group-sm > .input-group-btn > .btn {
  height: 30px;
  padding: 5px 10px;
  font-size: 12px;
  line-height: 1.5;
  border-radius: 1px;
}
select.input-group-sm > .form-control,
select.input-group-sm > .input-group-addon,
select.input-group-sm > .input-group-btn > .btn {
  height: 30px;
  line-height: 30px;
}
textarea.input-group-sm > .form-control,
textarea.input-group-sm > .input-group-addon,
textarea.input-group-sm > .input-group-btn > .btn,
select[multiple].input-group-sm > .form-control,
select[multiple].input-group-sm > .input-group-addon,
select[multiple].input-group-sm > .input-group-btn > .btn {
  height: auto;
}
.input-group-addon,
.input-group-btn,
.input-group .form-control {
  display: table-cell;
}
.input-group-addon:not(:first-child):not(:last-child),
.input-group-btn:not(:first-child):not(:last-child),
.input-group .form-control:not(:first-child):not(:last-child) {
  border-radius: 0;
}
.input-group-addon,
.input-group-btn {
  width: 1%;
  white-space: nowrap;
  vertical-align: middle;
}
.input-group-addon {
  padding: 6px 12px;
  font-size: 13px;
  font-weight: normal;
  line-height: 1;
  color: #555555;
  text-align: center;
  background-color: #eeeeee;
  border: 1px solid #ccc;
  border-radius: 2px;
}
.input-group-addon.input-sm {
  padding: 5px 10px;
  font-size: 12px;
  border-radius: 1px;
}
.input-group-addon.input-lg {
  padding: 10px 16px;
  font-size: 17px;
  border-radius: 3px;
}
.input-group-addon input[type="radio"],
.input-group-addon input[type="checkbox"] {
  margin-top: 0;
}
.input-group .form-control:first-child,
.input-group-addon:first-child,
.input-group-btn:first-child > .btn,
.input-group-btn:first-child > .btn-group > .btn,
.input-group-btn:first-child > .dropdown-toggle,
.input-group-btn:last-child > .btn:not(:last-child):not(.dropdown-toggle),
.input-group-btn:last-child > .btn-group:not(:last-child) > .btn {
  border-bottom-right-radius: 0;
  border-top-right-radius: 0;
}
.input-group-addon:first-child {
  border-right: 0;
}
.input-group .form-control:last-child,
.input-group-addon:last-child,
.input-group-btn:last-child > .btn,
.input-group-btn:last-child > .btn-group > .btn,
.input-group-btn:last-child > .dropdown-toggle,
.input-group-btn:first-child > .btn:not(:first-child),
.input-group-btn:first-child > .btn-group:not(:first-child) > .btn {
  border-bottom-left-radius: 0;
  border-top-left-radius: 0;
}
.input-group-addon:last-child {
  border-left: 0;
}
.input-group-btn {
  position: relative;
  font-size: 0;
  white-space: nowrap;
}
.input-group-btn > .btn {
  position: relative;
}
.input-group-btn > .btn + .btn {
  margin-left: -1px;
}
.input-group-btn > .btn:hover,
.input-group-btn > .btn:focus,
.input-group-btn > .btn:active {
  z-index: 2;
}
.input-group-btn:first-child > .btn,
.input-group-btn:first-child > .btn-group {
  margin-right: -1px;
}
.input-group-btn:last-child > .btn,
.input-group-btn:last-child > .btn-group {
  z-index: 2;
  margin-left: -1px;
}
.nav {
  margin-bottom: 0;
  padding-left: 0;
  list-style: none;
}
.nav > li {
  position: relative;
  display: block;
}
.nav > li > a {
  position: relative;
  display: block;
  padding: 10px 15px;
}
.nav > li > a:hover,
.nav > li > a:focus {
  text-decoration: none;
  background-color: #eeeeee;
}
.nav > li.disabled > a {
  color: #777777;
}
.nav > li.disabled > a:hover,
.nav > li.disabled > a:focus {
  color: #777777;
  text-decoration: none;
  background-color: transparent;
  cursor: not-allowed;
}
.nav .open > a,
.nav .open > a:hover,
.nav .open > a:focus {
  background-color: #eeeeee;
  border-color: #337ab7;
}
.nav .nav-divider {
  height: 1px;
  margin: 8px 0;
  overflow: hidden;
  background-color: #e5e5e5;
}
.nav > li > a > img {
  max-width: none;
}
.nav-tabs {
  border-bottom: 1px solid #ddd;
}
.nav-tabs > li {
  float: left;
  margin-bottom: -1px;
}
.nav-tabs > li > a {
  margin-right: 2px;
  line-height: 1.42857143;
  border: 1px solid transparent;
  border-radius: 2px 2px 0 0;
}
.nav-tabs > li > a:hover {
  border-color: #eeeeee #eeeeee #ddd;
}
.nav-tabs > li.active > a,
.nav-tabs > li.active > a:hover,
.nav-tabs > li.active > a:focus {
  color: #555555;
  background-color: #fff;
  border: 1px solid #ddd;
  border-bottom-color: transparent;
  cursor: default;
}
.nav-tabs.nav-justified {
  width: 100%;
  border-bottom: 0;
}
.nav-tabs.nav-justified > li {
  float: none;
}
.nav-tabs.nav-justified > li > a {
  text-align: center;
  margin-bottom: 5px;
}
.nav-tabs.nav-justified > .dropdown .dropdown-menu {
  top: auto;
  left: auto;
}
@media (min-width: 768px) {
  .nav-tabs.nav-justified > li {
    display: table-cell;
    width: 1%;
  }
  .nav-tabs.nav-justified > li > a {
    margin-bottom: 0;
  }
}
.nav-tabs.nav-justified > li > a {
  margin-right: 0;
  border-radius: 2px;
}
.nav-tabs.nav-justified > .active > a,
.nav-tabs.nav-justified > .active > a:hover,
.nav-tabs.nav-justified > .active > a:focus {
  border: 1px solid #ddd;
}
@media (min-width: 768px) {
  .nav-tabs.nav-justified > li > a {
    border-bottom: 1px solid #ddd;
    border-radius: 2px 2px 0 0;
  }
  .nav-tabs.nav-justified > .active > a,
  .nav-tabs.nav-justified > .active > a:hover,
  .nav-tabs.nav-justified > .active > a:focus {
    border-bottom-color: #fff;
  }
}
.nav-pills > li {
  float: left;
}
.nav-pills > li > a {
  border-radius: 2px;
}
.nav-pills > li + li {
  margin-left: 2px;
}
.nav-pills > li.active > a,
.nav-pills > li.active > a:hover,
.nav-pills > li.active > a:focus {
  color: #fff;
  background-color: #337ab7;
}
.nav-stacked > li {
  float: none;
}
.nav-stacked > li + li {
  margin-top: 2px;
  margin-left: 0;
}
.nav-justified {
  width: 100%;
}
.nav-justified > li {
  float: none;
}
.nav-justified > li > a {
  text-align: center;
  margin-bottom: 5px;
}
.nav-justified > .dropdown .dropdown-menu {
  top: auto;
  left: auto;
}
@media (min-width: 768px) {
  .nav-justified > li {
    display: table-cell;
    width: 1%;
  }
  .nav-justified > li > a {
    margin-bottom: 0;
  }
}
.nav-tabs-justified {
  border-bottom: 0;
}
.nav-tabs-justified > li > a {
  margin-right: 0;
  border-radius: 2px;
}
.nav-tabs-justified > .active > a,
.nav-tabs-justified > .active > a:hover,
.nav-tabs-justified > .active > a:focus {
  border: 1px solid #ddd;
}
@media (min-width: 768px) {
  .nav-tabs-justified > li > a {
    border-bottom: 1px solid #ddd;
    border-radius: 2px 2px 0 0;
  }
  .nav-tabs-justified > .active > a,
  .nav-tabs-justified > .active > a:hover,
  .nav-tabs-justified > .active > a:focus {
    border-bottom-color: #fff;
  }
}
.tab-content > .tab-pane {
  display: none;
}
.tab-content > .active {
  display: block;
}
.nav-tabs .dropdown-menu {
  margin-top: -1px;
  border-top-right-radius: 0;
  border-top-left-radius: 0;
}
.navbar {
  position: relative;
  min-height: 30px;
  margin-bottom: 18px;
  border: 1px solid transparent;
}
@media (min-width: 541px) {
  .navbar {
    border-radius: 2px;
  }
}
@media (min-width: 541px) {
  .navbar-header {
    float: left;
  }
}
.navbar-collapse {
  overflow-x: visible;
  padding-right: 0px;
  padding-left: 0px;
  border-top: 1px solid transparent;
  box-shadow: inset 0 1px 0 rgba(255, 255, 255, 0.1);
  -webkit-overflow-scrolling: touch;
}
.navbar-collapse.in {
  overflow-y: auto;
}
@media (min-width: 541px) {
  .navbar-collapse {
    width: auto;
    border-top: 0;
    box-shadow: none;
  }
  .navbar-collapse.collapse {
    display: block !important;
    height: auto !important;
    padding-bottom: 0;
    overflow: visible !important;
  }
  .navbar-collapse.in {
    overflow-y: visible;
  }
  .navbar-fixed-top .navbar-collapse,
  .navbar-static-top .navbar-collapse,
  .navbar-fixed-bottom .navbar-collapse {
    padding-left: 0;
    padding-right: 0;
  }
}
.navbar-fixed-top .navbar-collapse,
.navbar-fixed-bottom .navbar-collapse {
  max-height: 340px;
}
@media (max-device-width: 540px) and (orientation: landscape) {
  .navbar-fixed-top .navbar-collapse,
  .navbar-fixed-bottom .navbar-collapse {
    max-height: 200px;
  }
}
.container > .navbar-header,
.container-fluid > .navbar-header,
.container > .navbar-collapse,
.container-fluid > .navbar-collapse {
  margin-right: 0px;
  margin-left: 0px;
}
@media (min-width: 541px) {
  .container > .navbar-header,
  .container-fluid > .navbar-header,
  .container > .navbar-collapse,
  .container-fluid > .navbar-collapse {
    margin-right: 0;
    margin-left: 0;
  }
}
.navbar-static-top {
  z-index: 1000;
  border-width: 0 0 1px;
}
@media (min-width: 541px) {
  .navbar-static-top {
    border-radius: 0;
  }
}
.navbar-fixed-top,
.navbar-fixed-bottom {
  position: fixed;
  right: 0;
  left: 0;
  z-index: 1030;
}
@media (min-width: 541px) {
  .navbar-fixed-top,
  .navbar-fixed-bottom {
    border-radius: 0;
  }
}
.navbar-fixed-top {
  top: 0;
  border-width: 0 0 1px;
}
.navbar-fixed-bottom {
  bottom: 0;
  margin-bottom: 0;
  border-width: 1px 0 0;
}
.navbar-brand {
  float: left;
  padding: 6px 0px;
  font-size: 17px;
  line-height: 18px;
  height: 30px;
}
.navbar-brand:hover,
.navbar-brand:focus {
  text-decoration: none;
}
.navbar-brand > img {
  display: block;
}
@media (min-width: 541px) {
  .navbar > .container .navbar-brand,
  .navbar > .container-fluid .navbar-brand {
    margin-left: 0px;
  }
}
.navbar-toggle {
  position: relative;
  float: right;
  margin-right: 0px;
  padding: 9px 10px;
  margin-top: -2px;
  margin-bottom: -2px;
  background-color: transparent;
  background-image: none;
  border: 1px solid transparent;
  border-radius: 2px;
}
.navbar-toggle:focus {
  outline: 0;
}
.navbar-toggle .icon-bar {
  display: block;
  width: 22px;
  height: 2px;
  border-radius: 1px;
}
.navbar-toggle .icon-bar + .icon-bar {
  margin-top: 4px;
}
@media (min-width: 541px) {
  .navbar-toggle {
    display: none;
  }
}
.navbar-nav {
  margin: 3px 0px;
}
.navbar-nav > li > a {
  padding-top: 10px;
  padding-bottom: 10px;
  line-height: 18px;
}
@media (max-width: 540px) {
  .navbar-nav .open .dropdown-menu {
    position: static;
    float: none;
    width: auto;
    margin-top: 0;
    background-color: transparent;
    border: 0;
    box-shadow: none;
  }
  .navbar-nav .open .dropdown-menu > li > a,
  .navbar-nav .open .dropdown-menu .dropdown-header {
    padding: 5px 15px 5px 25px;
  }
  .navbar-nav .open .dropdown-menu > li > a {
    line-height: 18px;
  }
  .navbar-nav .open .dropdown-menu > li > a:hover,
  .navbar-nav .open .dropdown-menu > li > a:focus {
    background-image: none;
  }
}
@media (min-width: 541px) {
  .navbar-nav {
    float: left;
    margin: 0;
  }
  .navbar-nav > li {
    float: left;
  }
  .navbar-nav > li > a {
    padding-top: 6px;
    padding-bottom: 6px;
  }
}
.navbar-form {
  margin-left: 0px;
  margin-right: 0px;
  padding: 10px 0px;
  border-top: 1px solid transparent;
  border-bottom: 1px solid transparent;
  -webkit-box-shadow: inset 0 1px 0 rgba(255, 255, 255, 0.1), 0 1px 0 rgba(255, 255, 255, 0.1);
  box-shadow: inset 0 1px 0 rgba(255, 255, 255, 0.1), 0 1px 0 rgba(255, 255, 255, 0.1);
  margin-top: -1px;
  margin-bottom: -1px;
}
@media (min-width: 768px) {
  .navbar-form .form-group {
    display: inline-block;
    margin-bottom: 0;
    vertical-align: middle;
  }
  .navbar-form .form-control {
    display: inline-block;
    width: auto;
    vertical-align: middle;
  }
  .navbar-form .form-control-static {
    display: inline-block;
  }
  .navbar-form .input-group {
    display: inline-table;
    vertical-align: middle;
  }
  .navbar-form .input-group .input-group-addon,
  .navbar-form .input-group .input-group-btn,
  .navbar-form .input-group .form-control {
    width: auto;
  }
  .navbar-form .input-group > .form-control {
    width: 100%;
  }
  .navbar-form .control-label {
    margin-bottom: 0;
    vertical-align: middle;
  }
  .navbar-form .radio,
  .navbar-form .checkbox {
    display: inline-block;
    margin-top: 0;
    margin-bottom: 0;
    vertical-align: middle;
  }
  .navbar-form .radio label,
  .navbar-form .checkbox label {
    padding-left: 0;
  }
  .navbar-form .radio input[type="radio"],
  .navbar-form .checkbox input[type="checkbox"] {
    position: relative;
    margin-left: 0;
  }
  .navbar-form .has-feedback .form-control-feedback {
    top: 0;
  }
}
@media (max-width: 540px) {
  .navbar-form .form-group {
    margin-bottom: 5px;
  }
  .navbar-form .form-group:last-child {
    margin-bottom: 0;
  }
}
@media (min-width: 541px) {
  .navbar-form {
    width: auto;
    border: 0;
    margin-left: 0;
    margin-right: 0;
    padding-top: 0;
    padding-bottom: 0;
    -webkit-box-shadow: none;
    box-shadow: none;
  }
}
.navbar-nav > li > .dropdown-menu {
  margin-top: 0;
  border-top-right-radius: 0;
  border-top-left-radius: 0;
}
.navbar-fixed-bottom .navbar-nav > li > .dropdown-menu {
  margin-bottom: 0;
  border-top-right-radius: 2px;
  border-top-left-radius: 2px;
  border-bottom-right-radius: 0;
  border-bottom-left-radius: 0;
}
.navbar-btn {
  margin-top: -1px;
  margin-bottom: -1px;
}
.navbar-btn.btn-sm {
  margin-top: 0px;
  margin-bottom: 0px;
}
.navbar-btn.btn-xs {
  margin-top: 4px;
  margin-bottom: 4px;
}
.navbar-text {
  margin-top: 6px;
  margin-bottom: 6px;
}
@media (min-width: 541px) {
  .navbar-text {
    float: left;
    margin-left: 0px;
    margin-right: 0px;
  }
}
@media (min-width: 541px) {
  .navbar-left {
    float: left !important;
    float: left;
  }
  .navbar-right {
    float: right !important;
    float: right;
    margin-right: 0px;
  }
  .navbar-right ~ .navbar-right {
    margin-right: 0;
  }
}
.navbar-default {
  background-color: #f8f8f8;
  border-color: #e7e7e7;
}
.navbar-default .navbar-brand {
  color: #777;
}
.navbar-default .navbar-brand:hover,
.navbar-default .navbar-brand:focus {
  color: #5e5e5e;
  background-color: transparent;
}
.navbar-default .navbar-text {
  color: #777;
}
.navbar-default .navbar-nav > li > a {
  color: #777;
}
.navbar-default .navbar-nav > li > a:hover,
.navbar-default .navbar-nav > li > a:focus {
  color: #333;
  background-color: transparent;
}
.navbar-default .navbar-nav > .active > a,
.navbar-default .navbar-nav > .active > a:hover,
.navbar-default .navbar-nav > .active > a:focus {
  color: #555;
  background-color: #e7e7e7;
}
.navbar-default .navbar-nav > .disabled > a,
.navbar-default .navbar-nav > .disabled > a:hover,
.navbar-default .navbar-nav > .disabled > a:focus {
  color: #ccc;
  background-color: transparent;
}
.navbar-default .navbar-toggle {
  border-color: #ddd;
}
.navbar-default .navbar-toggle:hover,
.navbar-default .navbar-toggle:focus {
  background-color: #ddd;
}
.navbar-default .navbar-toggle .icon-bar {
  background-color: #888;
}
.navbar-default .navbar-collapse,
.navbar-default .navbar-form {
  border-color: #e7e7e7;
}
.navbar-default .navbar-nav > .open > a,
.navbar-default .navbar-nav > .open > a:hover,
.navbar-default .navbar-nav > .open > a:focus {
  background-color: #e7e7e7;
  color: #555;
}
@media (max-width: 540px) {
  .navbar-default .navbar-nav .open .dropdown-menu > li > a {
    color: #777;
  }
  .navbar-default .navbar-nav .open .dropdown-menu > li > a:hover,
  .navbar-default .navbar-nav .open .dropdown-menu > li > a:focus {
    color: #333;
    background-color: transparent;
  }
  .navbar-default .navbar-nav .open .dropdown-menu > .active > a,
  .navbar-default .navbar-nav .open .dropdown-menu > .active > a:hover,
  .navbar-default .navbar-nav .open .dropdown-menu > .active > a:focus {
    color: #555;
    background-color: #e7e7e7;
  }
  .navbar-default .navbar-nav .open .dropdown-menu > .disabled > a,
  .navbar-default .navbar-nav .open .dropdown-menu > .disabled > a:hover,
  .navbar-default .navbar-nav .open .dropdown-menu > .disabled > a:focus {
    color: #ccc;
    background-color: transparent;
  }
}
.navbar-default .navbar-link {
  color: #777;
}
.navbar-default .navbar-link:hover {
  color: #333;
}
.navbar-default .btn-link {
  color: #777;
}
.navbar-default .btn-link:hover,
.navbar-default .btn-link:focus {
  color: #333;
}
.navbar-default .btn-link[disabled]:hover,
fieldset[disabled] .navbar-default .btn-link:hover,
.navbar-default .btn-link[disabled]:focus,
fieldset[disabled] .navbar-default .btn-link:focus {
  color: #ccc;
}
.navbar-inverse {
  background-color: #222;
  border-color: #080808;
}
.navbar-inverse .navbar-brand {
  color: #9d9d9d;
}
.navbar-inverse .navbar-brand:hover,
.navbar-inverse .navbar-brand:focus {
  color: #fff;
  background-color: transparent;
}
.navbar-inverse .navbar-text {
  color: #9d9d9d;
}
.navbar-inverse .navbar-nav > li > a {
  color: #9d9d9d;
}
.navbar-inverse .navbar-nav > li > a:hover,
.navbar-inverse .navbar-nav > li > a:focus {
  color: #fff;
  background-color: transparent;
}
.navbar-inverse .navbar-nav > .active > a,
.navbar-inverse .navbar-nav > .active > a:hover,
.navbar-inverse .navbar-nav > .active > a:focus {
  color: #fff;
  background-color: #080808;
}
.navbar-inverse .navbar-nav > .disabled > a,
.navbar-inverse .navbar-nav > .disabled > a:hover,
.navbar-inverse .navbar-nav > .disabled > a:focus {
  color: #444;
  background-color: transparent;
}
.navbar-inverse .navbar-toggle {
  border-color: #333;
}
.navbar-inverse .navbar-toggle:hover,
.navbar-inverse .navbar-toggle:focus {
  background-color: #333;
}
.navbar-inverse .navbar-toggle .icon-bar {
  background-color: #fff;
}
.navbar-inverse .navbar-collapse,
.navbar-inverse .navbar-form {
  border-color: #101010;
}
.navbar-inverse .navbar-nav > .open > a,
.navbar-inverse .navbar-nav > .open > a:hover,
.navbar-inverse .navbar-nav > .open > a:focus {
  background-color: #080808;
  color: #fff;
}
@media (max-width: 540px) {
  .navbar-inverse .navbar-nav .open .dropdown-menu > .dropdown-header {
    border-color: #080808;
  }
  .navbar-inverse .navbar-nav .open .dropdown-menu .divider {
    background-color: #080808;
  }
  .navbar-inverse .navbar-nav .open .dropdown-menu > li > a {
    color: #9d9d9d;
  }
  .navbar-inverse .navbar-nav .open .dropdown-menu > li > a:hover,
  .navbar-inverse .navbar-nav .open .dropdown-menu > li > a:focus {
    color: #fff;
    background-color: transparent;
  }
  .navbar-inverse .navbar-nav .open .dropdown-menu > .active > a,
  .navbar-inverse .navbar-nav .open .dropdown-menu > .active > a:hover,
  .navbar-inverse .navbar-nav .open .dropdown-menu > .active > a:focus {
    color: #fff;
    background-color: #080808;
  }
  .navbar-inverse .navbar-nav .open .dropdown-menu > .disabled > a,
  .navbar-inverse .navbar-nav .open .dropdown-menu > .disabled > a:hover,
  .navbar-inverse .navbar-nav .open .dropdown-menu > .disabled > a:focus {
    color: #444;
    background-color: transparent;
  }
}
.navbar-inverse .navbar-link {
  color: #9d9d9d;
}
.navbar-inverse .navbar-link:hover {
  color: #fff;
}
.navbar-inverse .btn-link {
  color: #9d9d9d;
}
.navbar-inverse .btn-link:hover,
.navbar-inverse .btn-link:focus {
  color: #fff;
}
.navbar-inverse .btn-link[disabled]:hover,
fieldset[disabled] .navbar-inverse .btn-link:hover,
.navbar-inverse .btn-link[disabled]:focus,
fieldset[disabled] .navbar-inverse .btn-link:focus {
  color: #444;
}
.breadcrumb {
  padding: 8px 15px;
  margin-bottom: 18px;
  list-style: none;
  background-color: #f5f5f5;
  border-radius: 2px;
}
.breadcrumb > li {
  display: inline-block;
}
.breadcrumb > li + li:before {
  content: "/\00a0";
  padding: 0 5px;
  color: #5e5e5e;
}
.breadcrumb > .active {
  color: #777777;
}
.pagination {
  display: inline-block;
  padding-left: 0;
  margin: 18px 0;
  border-radius: 2px;
}
.pagination > li {
  display: inline;
}
.pagination > li > a,
.pagination > li > span {
  position: relative;
  float: left;
  padding: 6px 12px;
  line-height: 1.42857143;
  text-decoration: none;
  color: #337ab7;
  background-color: #fff;
  border: 1px solid #ddd;
  margin-left: -1px;
}
.pagination > li:first-child > a,
.pagination > li:first-child > span {
  margin-left: 0;
  border-bottom-left-radius: 2px;
  border-top-left-radius: 2px;
}
.pagination > li:last-child > a,
.pagination > li:last-child > span {
  border-bottom-right-radius: 2px;
  border-top-right-radius: 2px;
}
.pagination > li > a:hover,
.pagination > li > span:hover,
.pagination > li > a:focus,
.pagination > li > span:focus {
  z-index: 2;
  color: #23527c;
  background-color: #eeeeee;
  border-color: #ddd;
}
.pagination > .active > a,
.pagination > .active > span,
.pagination > .active > a:hover,
.pagination > .active > span:hover,
.pagination > .active > a:focus,
.pagination > .active > span:focus {
  z-index: 3;
  color: #fff;
  background-color: #337ab7;
  border-color: #337ab7;
  cursor: default;
}
.pagination > .disabled > span,
.pagination > .disabled > span:hover,
.pagination > .disabled > span:focus,
.pagination > .disabled > a,
.pagination > .disabled > a:hover,
.pagination > .disabled > a:focus {
  color: #777777;
  background-color: #fff;
  border-color: #ddd;
  cursor: not-allowed;
}
.pagination-lg > li > a,
.pagination-lg > li > span {
  padding: 10px 16px;
  font-size: 17px;
  line-height: 1.3333333;
}
.pagination-lg > li:first-child > a,
.pagination-lg > li:first-child > span {
  border-bottom-left-radius: 3px;
  border-top-left-radius: 3px;
}
.pagination-lg > li:last-child > a,
.pagination-lg > li:last-child > span {
  border-bottom-right-radius: 3px;
  border-top-right-radius: 3px;
}
.pagination-sm > li > a,
.pagination-sm > li > span {
  padding: 5px 10px;
  font-size: 12px;
  line-height: 1.5;
}
.pagination-sm > li:first-child > a,
.pagination-sm > li:first-child > span {
  border-bottom-left-radius: 1px;
  border-top-left-radius: 1px;
}
.pagination-sm > li:last-child > a,
.pagination-sm > li:last-child > span {
  border-bottom-right-radius: 1px;
  border-top-right-radius: 1px;
}
.pager {
  padding-left: 0;
  margin: 18px 0;
  list-style: none;
  text-align: center;
}
.pager li {
  display: inline;
}
.pager li > a,
.pager li > span {
  display: inline-block;
  padding: 5px 14px;
  background-color: #fff;
  border: 1px solid #ddd;
  border-radius: 15px;
}
.pager li > a:hover,
.pager li > a:focus {
  text-decoration: none;
  background-color: #eeeeee;
}
.pager .next > a,
.pager .next > span {
  float: right;
}
.pager .previous > a,
.pager .previous > span {
  float: left;
}
.pager .disabled > a,
.pager .disabled > a:hover,
.pager .disabled > a:focus,
.pager .disabled > span {
  color: #777777;
  background-color: #fff;
  cursor: not-allowed;
}
.label {
  display: inline;
  padding: .2em .6em .3em;
  font-size: 75%;
  font-weight: bold;
  line-height: 1;
  color: #fff;
  text-align: center;
  white-space: nowrap;
  vertical-align: baseline;
  border-radius: .25em;
}
a.label:hover,
a.label:focus {
  color: #fff;
  text-decoration: none;
  cursor: pointer;
}
.label:empty {
  display: none;
}
.btn .label {
  position: relative;
  top: -1px;
}
.label-default {
  background-color: #777777;
}
.label-default[href]:hover,
.label-default[href]:focus {
  background-color: #5e5e5e;
}
.label-primary {
  background-color: #337ab7;
}
.label-primary[href]:hover,
.label-primary[href]:focus {
  background-color: #286090;
}
.label-success {
  background-color: #5cb85c;
}
.label-success[href]:hover,
.label-success[href]:focus {
  background-color: #449d44;
}
.label-info {
  background-color: #5bc0de;
}
.label-info[href]:hover,
.label-info[href]:focus {
  background-color: #31b0d5;
}
.label-warning {
  background-color: #f0ad4e;
}
.label-warning[href]:hover,
.label-warning[href]:focus {
  background-color: #ec971f;
}
.label-danger {
  background-color: #d9534f;
}
.label-danger[href]:hover,
.label-danger[href]:focus {
  background-color: #c9302c;
}
.badge {
  display: inline-block;
  min-width: 10px;
  padding: 3px 7px;
  font-size: 12px;
  font-weight: bold;
  color: #fff;
  line-height: 1;
  vertical-align: middle;
  white-space: nowrap;
  text-align: center;
  background-color: #777777;
  border-radius: 10px;
}
.badge:empty {
  display: none;
}
.btn .badge {
  position: relative;
  top: -1px;
}
.btn-xs .badge,
.btn-group-xs > .btn .badge {
  top: 0;
  padding: 1px 5px;
}
a.badge:hover,
a.badge:focus {
  color: #fff;
  text-decoration: none;
  cursor: pointer;
}
.list-group-item.active > .badge,
.nav-pills > .active > a > .badge {
  color: #337ab7;
  background-color: #fff;
}
.list-group-item > .badge {
  float: right;
}
.list-group-item > .badge + .badge {
  margin-right: 5px;
}
.nav-pills > li > a > .badge {
  margin-left: 3px;
}
.jumbotron {
  padding-top: 30px;
  padding-bottom: 30px;
  margin-bottom: 30px;
  color: inherit;
  background-color: #eeeeee;
}
.jumbotron h1,
.jumbotron .h1 {
  color: inherit;
}
.jumbotron p {
  margin-bottom: 15px;
  font-size: 20px;
  font-weight: 200;
}
.jumbotron > hr {
  border-top-color: #d5d5d5;
}
.container .jumbotron,
.container-fluid .jumbotron {
  border-radius: 3px;
  padding-left: 0px;
  padding-right: 0px;
}
.jumbotron .container {
  max-width: 100%;
}
@media screen and (min-width: 768px) {
  .jumbotron {
    padding-top: 48px;
    padding-bottom: 48px;
  }
  .container .jumbotron,
  .container-fluid .jumbotron {
    padding-left: 60px;
    padding-right: 60px;
  }
  .jumbotron h1,
  .jumbotron .h1 {
    font-size: 59px;
  }
}
.thumbnail {
  display: block;
  padding: 4px;
  margin-bottom: 18px;
  line-height: 1.42857143;
  background-color: #fff;
  border: 1px solid #ddd;
  border-radius: 2px;
  -webkit-transition: border 0.2s ease-in-out;
  -o-transition: border 0.2s ease-in-out;
  transition: border 0.2s ease-in-out;
}
.thumbnail > img,
.thumbnail a > img {
  margin-left: auto;
  margin-right: auto;
}
a.thumbnail:hover,
a.thumbnail:focus,
a.thumbnail.active {
  border-color: #337ab7;
}
.thumbnail .caption {
  padding: 9px;
  color: #000;
}
.alert {
  padding: 15px;
  margin-bottom: 18px;
  border: 1px solid transparent;
  border-radius: 2px;
}
.alert h4 {
  margin-top: 0;
  color: inherit;
}
.alert .alert-link {
  font-weight: bold;
}
.alert > p,
.alert > ul {
  margin-bottom: 0;
}
.alert > p + p {
  margin-top: 5px;
}
.alert-dismissable,
.alert-dismissible {
  padding-right: 35px;
}
.alert-dismissable .close,
.alert-dismissible .close {
  position: relative;
  top: -2px;
  right: -21px;
  color: inherit;
}
.alert-success {
  background-color: #dff0d8;
  border-color: #d6e9c6;
  color: #3c763d;
}
.alert-success hr {
  border-top-color: #c9e2b3;
}
.alert-success .alert-link {
  color: #2b542c;
}
.alert-info {
  background-color: #d9edf7;
  border-color: #bce8f1;
  color: #31708f;
}
.alert-info hr {
  border-top-color: #a6e1ec;
}
.alert-info .alert-link {
  color: #245269;
}
.alert-warning {
  background-color: #fcf8e3;
  border-color: #faebcc;
  color: #8a6d3b;
}
.alert-warning hr {
  border-top-color: #f7e1b5;
}
.alert-warning .alert-link {
  color: #66512c;
}
.alert-danger {
  background-color: #f2dede;
  border-color: #ebccd1;
  color: #a94442;
}
.alert-danger hr {
  border-top-color: #e4b9c0;
}
.alert-danger .alert-link {
  color: #843534;
}
@-webkit-keyframes progress-bar-stripes {
  from {
    background-position: 40px 0;
  }
  to {
    background-position: 0 0;
  }
}
@keyframes progress-bar-stripes {
  from {
    background-position: 40px 0;
  }
  to {
    background-position: 0 0;
  }
}
.progress {
  overflow: hidden;
  height: 18px;
  margin-bottom: 18px;
  background-color: #f5f5f5;
  border-radius: 2px;
  -webkit-box-shadow: inset 0 1px 2px rgba(0, 0, 0, 0.1);
  box-shadow: inset 0 1px 2px rgba(0, 0, 0, 0.1);
}
.progress-bar {
  float: left;
  width: 0%;
  height: 100%;
  font-size: 12px;
  line-height: 18px;
  color: #fff;
  text-align: center;
  background-color: #337ab7;
  -webkit-box-shadow: inset 0 -1px 0 rgba(0, 0, 0, 0.15);
  box-shadow: inset 0 -1px 0 rgba(0, 0, 0, 0.15);
  -webkit-transition: width 0.6s ease;
  -o-transition: width 0.6s ease;
  transition: width 0.6s ease;
}
.progress-striped .progress-bar,
.progress-bar-striped {
  background-image: -webkit-linear-gradient(45deg, rgba(255, 255, 255, 0.15) 25%, transparent 25%, transparent 50%, rgba(255, 255, 255, 0.15) 50%, rgba(255, 255, 255, 0.15) 75%, transparent 75%, transparent);
  background-image: -o-linear-gradient(45deg, rgba(255, 255, 255, 0.15) 25%, transparent 25%, transparent 50%, rgba(255, 255, 255, 0.15) 50%, rgba(255, 255, 255, 0.15) 75%, transparent 75%, transparent);
  background-image: linear-gradient(45deg, rgba(255, 255, 255, 0.15) 25%, transparent 25%, transparent 50%, rgba(255, 255, 255, 0.15) 50%, rgba(255, 255, 255, 0.15) 75%, transparent 75%, transparent);
  background-size: 40px 40px;
}
.progress.active .progress-bar,
.progress-bar.active {
  -webkit-animation: progress-bar-stripes 2s linear infinite;
  -o-animation: progress-bar-stripes 2s linear infinite;
  animation: progress-bar-stripes 2s linear infinite;
}
.progress-bar-success {
  background-color: #5cb85c;
}
.progress-striped .progress-bar-success {
  background-image: -webkit-linear-gradient(45deg, rgba(255, 255, 255, 0.15) 25%, transparent 25%, transparent 50%, rgba(255, 255, 255, 0.15) 50%, rgba(255, 255, 255, 0.15) 75%, transparent 75%, transparent);
  background-image: -o-linear-gradient(45deg, rgba(255, 255, 255, 0.15) 25%, transparent 25%, transparent 50%, rgba(255, 255, 255, 0.15) 50%, rgba(255, 255, 255, 0.15) 75%, transparent 75%, transparent);
  background-image: linear-gradient(45deg, rgba(255, 255, 255, 0.15) 25%, transparent 25%, transparent 50%, rgba(255, 255, 255, 0.15) 50%, rgba(255, 255, 255, 0.15) 75%, transparent 75%, transparent);
}
.progress-bar-info {
  background-color: #5bc0de;
}
.progress-striped .progress-bar-info {
  background-image: -webkit-linear-gradient(45deg, rgba(255, 255, 255, 0.15) 25%, transparent 25%, transparent 50%, rgba(255, 255, 255, 0.15) 50%, rgba(255, 255, 255, 0.15) 75%, transparent 75%, transparent);
  background-image: -o-linear-gradient(45deg, rgba(255, 255, 255, 0.15) 25%, transparent 25%, transparent 50%, rgba(255, 255, 255, 0.15) 50%, rgba(255, 255, 255, 0.15) 75%, transparent 75%, transparent);
  background-image: linear-gradient(45deg, rgba(255, 255, 255, 0.15) 25%, transparent 25%, transparent 50%, rgba(255, 255, 255, 0.15) 50%, rgba(255, 255, 255, 0.15) 75%, transparent 75%, transparent);
}
.progress-bar-warning {
  background-color: #f0ad4e;
}
.progress-striped .progress-bar-warning {
  background-image: -webkit-linear-gradient(45deg, rgba(255, 255, 255, 0.15) 25%, transparent 25%, transparent 50%, rgba(255, 255, 255, 0.15) 50%, rgba(255, 255, 255, 0.15) 75%, transparent 75%, transparent);
  background-image: -o-linear-gradient(45deg, rgba(255, 255, 255, 0.15) 25%, transparent 25%, transparent 50%, rgba(255, 255, 255, 0.15) 50%, rgba(255, 255, 255, 0.15) 75%, transparent 75%, transparent);
  background-image: linear-gradient(45deg, rgba(255, 255, 255, 0.15) 25%, transparent 25%, transparent 50%, rgba(255, 255, 255, 0.15) 50%, rgba(255, 255, 255, 0.15) 75%, transparent 75%, transparent);
}
.progress-bar-danger {
  background-color: #d9534f;
}
.progress-striped .progress-bar-danger {
  background-image: -webkit-linear-gradient(45deg, rgba(255, 255, 255, 0.15) 25%, transparent 25%, transparent 50%, rgba(255, 255, 255, 0.15) 50%, rgba(255, 255, 255, 0.15) 75%, transparent 75%, transparent);
  background-image: -o-linear-gradient(45deg, rgba(255, 255, 255, 0.15) 25%, transparent 25%, transparent 50%, rgba(255, 255, 255, 0.15) 50%, rgba(255, 255, 255, 0.15) 75%, transparent 75%, transparent);
  background-image: linear-gradient(45deg, rgba(255, 255, 255, 0.15) 25%, transparent 25%, transparent 50%, rgba(255, 255, 255, 0.15) 50%, rgba(255, 255, 255, 0.15) 75%, transparent 75%, transparent);
}
.media {
  margin-top: 15px;
}
.media:first-child {
  margin-top: 0;
}
.media,
.media-body {
  zoom: 1;
  overflow: hidden;
}
.media-body {
  width: 10000px;
}
.media-object {
  display: block;
}
.media-object.img-thumbnail {
  max-width: none;
}
.media-right,
.media > .pull-right {
  padding-left: 10px;
}
.media-left,
.media > .pull-left {
  padding-right: 10px;
}
.media-left,
.media-right,
.media-body {
  display: table-cell;
  vertical-align: top;
}
.media-middle {
  vertical-align: middle;
}
.media-bottom {
  vertical-align: bottom;
}
.media-heading {
  margin-top: 0;
  margin-bottom: 5px;
}
.media-list {
  padding-left: 0;
  list-style: none;
}
.list-group {
  margin-bottom: 20px;
  padding-left: 0;
}
.list-group-item {
  position: relative;
  display: block;
  padding: 10px 15px;
  margin-bottom: -1px;
  background-color: #fff;
  border: 1px solid #ddd;
}
.list-group-item:first-child {
  border-top-right-radius: 2px;
  border-top-left-radius: 2px;
}
.list-group-item:last-child {
  margin-bottom: 0;
  border-bottom-right-radius: 2px;
  border-bottom-left-radius: 2px;
}
a.list-group-item,
button.list-group-item {
  color: #555;
}
a.list-group-item .list-group-item-heading,
button.list-group-item .list-group-item-heading {
  color: #333;
}
a.list-group-item:hover,
button.list-group-item:hover,
a.list-group-item:focus,
button.list-group-item:focus {
  text-decoration: none;
  color: #555;
  background-color: #f5f5f5;
}
button.list-group-item {
  width: 100%;
  text-align: left;
}
.list-group-item.disabled,
.list-group-item.disabled:hover,
.list-group-item.disabled:focus {
  background-color: #eeeeee;
  color: #777777;
  cursor: not-allowed;
}
.list-group-item.disabled .list-group-item-heading,
.list-group-item.disabled:hover .list-group-item-heading,
.list-group-item.disabled:focus .list-group-item-heading {
  color: inherit;
}
.list-group-item.disabled .list-group-item-text,
.list-group-item.disabled:hover .list-group-item-text,
.list-group-item.disabled:focus .list-group-item-text {
  color: #777777;
}
.list-group-item.active,
.list-group-item.active:hover,
.list-group-item.active:focus {
  z-index: 2;
  color: #fff;
  background-color: #337ab7;
  border-color: #337ab7;
}
.list-group-item.active .list-group-item-heading,
.list-group-item.active:hover .list-group-item-heading,
.list-group-item.active:focus .list-group-item-heading,
.list-group-item.active .list-group-item-heading > small,
.list-group-item.active:hover .list-group-item-heading > small,
.list-group-item.active:focus .list-group-item-heading > small,
.list-group-item.active .list-group-item-heading > .small,
.list-group-item.active:hover .list-group-item-heading > .small,
.list-group-item.active:focus .list-group-item-heading > .small {
  color: inherit;
}
.list-group-item.active .list-group-item-text,
.list-group-item.active:hover .list-group-item-text,
.list-group-item.active:focus .list-group-item-text {
  color: #c7ddef;
}
.list-group-item-success {
  color: #3c763d;
  background-color: #dff0d8;
}
a.list-group-item-success,
button.list-group-item-success {
  color: #3c763d;
}
a.list-group-item-success .list-group-item-heading,
button.list-group-item-success .list-group-item-heading {
  color: inherit;
}
a.list-group-item-success:hover,
button.list-group-item-success:hover,
a.list-group-item-success:focus,
button.list-group-item-success:focus {
  color: #3c763d;
  background-color: #d0e9c6;
}
a.list-group-item-success.active,
button.list-group-item-success.active,
a.list-group-item-success.active:hover,
button.list-group-item-success.active:hover,
a.list-group-item-success.active:focus,
button.list-group-item-success.active:focus {
  color: #fff;
  background-color: #3c763d;
  border-color: #3c763d;
}
.list-group-item-info {
  color: #31708f;
  background-color: #d9edf7;
}
a.list-group-item-info,
button.list-group-item-info {
  color: #31708f;
}
a.list-group-item-info .list-group-item-heading,
button.list-group-item-info .list-group-item-heading {
  color: inherit;
}
a.list-group-item-info:hover,
button.list-group-item-info:hover,
a.list-group-item-info:focus,
button.list-group-item-info:focus {
  color: #31708f;
  background-color: #c4e3f3;
}
a.list-group-item-info.active,
button.list-group-item-info.active,
a.list-group-item-info.active:hover,
button.list-group-item-info.active:hover,
a.list-group-item-info.active:focus,
button.list-group-item-info.active:focus {
  color: #fff;
  background-color: #31708f;
  border-color: #31708f;
}
.list-group-item-warning {
  color: #8a6d3b;
  background-color: #fcf8e3;
}
a.list-group-item-warning,
button.list-group-item-warning {
  color: #8a6d3b;
}
a.list-group-item-warning .list-group-item-heading,
button.list-group-item-warning .list-group-item-heading {
  color: inherit;
}
a.list-group-item-warning:hover,
button.list-group-item-warning:hover,
a.list-group-item-warning:focus,
button.list-group-item-warning:focus {
  color: #8a6d3b;
  background-color: #faf2cc;
}
a.list-group-item-warning.active,
button.list-group-item-warning.active,
a.list-group-item-warning.active:hover,
button.list-group-item-warning.active:hover,
a.list-group-item-warning.active:focus,
button.list-group-item-warning.active:focus {
  color: #fff;
  background-color: #8a6d3b;
  border-color: #8a6d3b;
}
.list-group-item-danger {
  color: #a94442;
  background-color: #f2dede;
}
a.list-group-item-danger,
button.list-group-item-danger {
  color: #a94442;
}
a.list-group-item-danger .list-group-item-heading,
button.list-group-item-danger .list-group-item-heading {
  color: inherit;
}
a.list-group-item-danger:hover,
button.list-group-item-danger:hover,
a.list-group-item-danger:focus,
button.list-group-item-danger:focus {
  color: #a94442;
  background-color: #ebcccc;
}
a.list-group-item-danger.active,
button.list-group-item-danger.active,
a.list-group-item-danger.active:hover,
button.list-group-item-danger.active:hover,
a.list-group-item-danger.active:focus,
button.list-group-item-danger.active:focus {
  color: #fff;
  background-color: #a94442;
  border-color: #a94442;
}
.list-group-item-heading {
  margin-top: 0;
  margin-bottom: 5px;
}
.list-group-item-text {
  margin-bottom: 0;
  line-height: 1.3;
}
.panel {
  margin-bottom: 18px;
  background-color: #fff;
  border: 1px solid transparent;
  border-radius: 2px;
  -webkit-box-shadow: 0 1px 1px rgba(0, 0, 0, 0.05);
  box-shadow: 0 1px 1px rgba(0, 0, 0, 0.05);
}
.panel-body {
  padding: 15px;
}
.panel-heading {
  padding: 10px 15px;
  border-bottom: 1px solid transparent;
  border-top-right-radius: 1px;
  border-top-left-radius: 1px;
}
.panel-heading > .dropdown .dropdown-toggle {
  color: inherit;
}
.panel-title {
  margin-top: 0;
  margin-bottom: 0;
  font-size: 15px;
  color: inherit;
}
.panel-title > a,
.panel-title > small,
.panel-title > .small,
.panel-title > small > a,
.panel-title > .small > a {
  color: inherit;
}
.panel-footer {
  padding: 10px 15px;
  background-color: #f5f5f5;
  border-top: 1px solid #ddd;
  border-bottom-right-radius: 1px;
  border-bottom-left-radius: 1px;
}
.panel > .list-group,
.panel > .panel-collapse > .list-group {
  margin-bottom: 0;
}
.panel > .list-group .list-group-item,
.panel > .panel-collapse > .list-group .list-group-item {
  border-width: 1px 0;
  border-radius: 0;
}
.panel > .list-group:first-child .list-group-item:first-child,
.panel > .panel-collapse > .list-group:first-child .list-group-item:first-child {
  border-top: 0;
  border-top-right-radius: 1px;
  border-top-left-radius: 1px;
}
.panel > .list-group:last-child .list-group-item:last-child,
.panel > .panel-collapse > .list-group:last-child .list-group-item:last-child {
  border-bottom: 0;
  border-bottom-right-radius: 1px;
  border-bottom-left-radius: 1px;
}
.panel > .panel-heading + .panel-collapse > .list-group .list-group-item:first-child {
  border-top-right-radius: 0;
  border-top-left-radius: 0;
}
.panel-heading + .list-group .list-group-item:first-child {
  border-top-width: 0;
}
.list-group + .panel-footer {
  border-top-width: 0;
}
.panel > .table,
.panel > .table-responsive > .table,
.panel > .panel-collapse > .table {
  margin-bottom: 0;
}
.panel > .table caption,
.panel > .table-responsive > .table caption,
.panel > .panel-collapse > .table caption {
  padding-left: 15px;
  padding-right: 15px;
}
.panel > .table:first-child,
.panel > .table-responsive:first-child > .table:first-child {
  border-top-right-radius: 1px;
  border-top-left-radius: 1px;
}
.panel > .table:first-child > thead:first-child > tr:first-child,
.panel > .table-responsive:first-child > .table:first-child > thead:first-child > tr:first-child,
.panel > .table:first-child > tbody:first-child > tr:first-child,
.panel > .table-responsive:first-child > .table:first-child > tbody:first-child > tr:first-child {
  border-top-left-radius: 1px;
  border-top-right-radius: 1px;
}
.panel > .table:first-child > thead:first-child > tr:first-child td:first-child,
.panel > .table-responsive:first-child > .table:first-child > thead:first-child > tr:first-child td:first-child,
.panel > .table:first-child > tbody:first-child > tr:first-child td:first-child,
.panel > .table-responsive:first-child > .table:first-child > tbody:first-child > tr:first-child td:first-child,
.panel > .table:first-child > thead:first-child > tr:first-child th:first-child,
.panel > .table-responsive:first-child > .table:first-child > thead:first-child > tr:first-child th:first-child,
.panel > .table:first-child > tbody:first-child > tr:first-child th:first-child,
.panel > .table-responsive:first-child > .table:first-child > tbody:first-child > tr:first-child th:first-child {
  border-top-left-radius: 1px;
}
.panel > .table:first-child > thead:first-child > tr:first-child td:last-child,
.panel > .table-responsive:first-child > .table:first-child > thead:first-child > tr:first-child td:last-child,
.panel > .table:first-child > tbody:first-child > tr:first-child td:last-child,
.panel > .table-responsive:first-child > .table:first-child > tbody:first-child > tr:first-child td:last-child,
.panel > .table:first-child > thead:first-child > tr:first-child th:last-child,
.panel > .table-responsive:first-child > .table:first-child > thead:first-child > tr:first-child th:last-child,
.panel > .table:first-child > tbody:first-child > tr:first-child th:last-child,
.panel > .table-responsive:first-child > .table:first-child > tbody:first-child > tr:first-child th:last-child {
  border-top-right-radius: 1px;
}
.panel > .table:last-child,
.panel > .table-responsive:last-child > .table:last-child {
  border-bottom-right-radius: 1px;
  border-bottom-left-radius: 1px;
}
.panel > .table:last-child > tbody:last-child > tr:last-child,
.panel > .table-responsive:last-child > .table:last-child > tbody:last-child > tr:last-child,
.panel > .table:last-child > tfoot:last-child > tr:last-child,
.panel > .table-responsive:last-child > .table:last-child > tfoot:last-child > tr:last-child {
  border-bottom-left-radius: 1px;
  border-bottom-right-radius: 1px;
}
.panel > .table:last-child > tbody:last-child > tr:last-child td:first-child,
.panel > .table-responsive:last-child > .table:last-child > tbody:last-child > tr:last-child td:first-child,
.panel > .table:last-child > tfoot:last-child > tr:last-child td:first-child,
.panel > .table-responsive:last-child > .table:last-child > tfoot:last-child > tr:last-child td:first-child,
.panel > .table:last-child > tbody:last-child > tr:last-child th:first-child,
.panel > .table-responsive:last-child > .table:last-child > tbody:last-child > tr:last-child th:first-child,
.panel > .table:last-child > tfoot:last-child > tr:last-child th:first-child,
.panel > .table-responsive:last-child > .table:last-child > tfoot:last-child > tr:last-child th:first-child {
  border-bottom-left-radius: 1px;
}
.panel > .table:last-child > tbody:last-child > tr:last-child td:last-child,
.panel > .table-responsive:last-child > .table:last-child > tbody:last-child > tr:last-child td:last-child,
.panel > .table:last-child > tfoot:last-child > tr:last-child td:last-child,
.panel > .table-responsive:last-child > .table:last-child > tfoot:last-child > tr:last-child td:last-child,
.panel > .table:last-child > tbody:last-child > tr:last-child th:last-child,
.panel > .table-responsive:last-child > .table:last-child > tbody:last-child > tr:last-child th:last-child,
.panel > .table:last-child > tfoot:last-child > tr:last-child th:last-child,
.panel > .table-responsive:last-child > .table:last-child > tfoot:last-child > tr:last-child th:last-child {
  border-bottom-right-radius: 1px;
}
.panel > .panel-body + .table,
.panel > .panel-body + .table-responsive,
.panel > .table + .panel-body,
.panel > .table-responsive + .panel-body {
  border-top: 1px solid #ddd;
}
.panel > .table > tbody:first-child > tr:first-child th,
.panel > .table > tbody:first-child > tr:first-child td {
  border-top: 0;
}
.panel > .table-bordered,
.panel > .table-responsive > .table-bordered {
  border: 0;
}
.panel > .table-bordered > thead > tr > th:first-child,
.panel > .table-responsive > .table-bordered > thead > tr > th:first-child,
.panel > .table-bordered > tbody > tr > th:first-child,
.panel > .table-responsive > .table-bordered > tbody > tr > th:first-child,
.panel > .table-bordered > tfoot > tr > th:first-child,
.panel > .table-responsive > .table-bordered > tfoot > tr > th:first-child,
.panel > .table-bordered > thead > tr > td:first-child,
.panel > .table-responsive > .table-bordered > thead > tr > td:first-child,
.panel > .table-bordered > tbody > tr > td:first-child,
.panel > .table-responsive > .table-bordered > tbody > tr > td:first-child,
.panel > .table-bordered > tfoot > tr > td:first-child,
.panel > .table-responsive > .table-bordered > tfoot > tr > td:first-child {
  border-left: 0;
}
.panel > .table-bordered > thead > tr > th:last-child,
.panel > .table-responsive > .table-bordered > thead > tr > th:last-child,
.panel > .table-bordered > tbody > tr > th:last-child,
.panel > .table-responsive > .table-bordered > tbody > tr > th:last-child,
.panel > .table-bordered > tfoot > tr > th:last-child,
.panel > .table-responsive > .table-bordered > tfoot > tr > th:last-child,
.panel > .table-bordered > thead > tr > td:last-child,
.panel > .table-responsive > .table-bordered > thead > tr > td:last-child,
.panel > .table-bordered > tbody > tr > td:last-child,
.panel > .table-responsive > .table-bordered > tbody > tr > td:last-child,
.panel > .table-bordered > tfoot > tr > td:last-child,
.panel > .table-responsive > .table-bordered > tfoot > tr > td:last-child {
  border-right: 0;
}
.panel > .table-bordered > thead > tr:first-child > td,
.panel > .table-responsive > .table-bordered > thead > tr:first-child > td,
.panel > .table-bordered > tbody > tr:first-child > td,
.panel > .table-responsive > .table-bordered > tbody > tr:first-child > td,
.panel > .table-bordered > thead > tr:first-child > th,
.panel > .table-responsive > .table-bordered > thead > tr:first-child > th,
.panel > .table-bordered > tbody > tr:first-child > th,
.panel > .table-responsive > .table-bordered > tbody > tr:first-child > th {
  border-bottom: 0;
}
.panel > .table-bordered > tbody > tr:last-child > td,
.panel > .table-responsive > .table-bordered > tbody > tr:last-child > td,
.panel > .table-bordered > tfoot > tr:last-child > td,
.panel > .table-responsive > .table-bordered > tfoot > tr:last-child > td,
.panel > .table-bordered > tbody > tr:last-child > th,
.panel > .table-responsive > .table-bordered > tbody > tr:last-child > th,
.panel > .table-bordered > tfoot > tr:last-child > th,
.panel > .table-responsive > .table-bordered > tfoot > tr:last-child > th {
  border-bottom: 0;
}
.panel > .table-responsive {
  border: 0;
  margin-bottom: 0;
}
.panel-group {
  margin-bottom: 18px;
}
.panel-group .panel {
  margin-bottom: 0;
  border-radius: 2px;
}
.panel-group .panel + .panel {
  margin-top: 5px;
}
.panel-group .panel-heading {
  border-bottom: 0;
}
.panel-group .panel-heading + .panel-collapse > .panel-body,
.panel-group .panel-heading + .panel-collapse > .list-group {
  border-top: 1px solid #ddd;
}
.panel-group .panel-footer {
  border-top: 0;
}
.panel-group .panel-footer + .panel-collapse .panel-body {
  border-bottom: 1px solid #ddd;
}
.panel-default {
  border-color: #ddd;
}
.panel-default > .panel-heading {
  color: #333333;
  background-color: #f5f5f5;
  border-color: #ddd;
}
.panel-default > .panel-heading + .panel-collapse > .panel-body {
  border-top-color: #ddd;
}
.panel-default > .panel-heading .badge {
  color: #f5f5f5;
  background-color: #333333;
}
.panel-default > .panel-footer + .panel-collapse > .panel-body {
  border-bottom-color: #ddd;
}
.panel-primary {
  border-color: #337ab7;
}
.panel-primary > .panel-heading {
  color: #fff;
  background-color: #337ab7;
  border-color: #337ab7;
}
.panel-primary > .panel-heading + .panel-collapse > .panel-body {
  border-top-color: #337ab7;
}
.panel-primary > .panel-heading .badge {
  color: #337ab7;
  background-color: #fff;
}
.panel-primary > .panel-footer + .panel-collapse > .panel-body {
  border-bottom-color: #337ab7;
}
.panel-success {
  border-color: #d6e9c6;
}
.panel-success > .panel-heading {
  color: #3c763d;
  background-color: #dff0d8;
  border-color: #d6e9c6;
}
.panel-success > .panel-heading + .panel-collapse > .panel-body {
  border-top-color: #d6e9c6;
}
.panel-success > .panel-heading .badge {
  color: #dff0d8;
  background-color: #3c763d;
}
.panel-success > .panel-footer + .panel-collapse > .panel-body {
  border-bottom-color: #d6e9c6;
}
.panel-info {
  border-color: #bce8f1;
}
.panel-info > .panel-heading {
  color: #31708f;
  background-color: #d9edf7;
  border-color: #bce8f1;
}
.panel-info > .panel-heading + .panel-collapse > .panel-body {
  border-top-color: #bce8f1;
}
.panel-info > .panel-heading .badge {
  color: #d9edf7;
  background-color: #31708f;
}
.panel-info > .panel-footer + .panel-collapse > .panel-body {
  border-bottom-color: #bce8f1;
}
.panel-warning {
  border-color: #faebcc;
}
.panel-warning > .panel-heading {
  color: #8a6d3b;
  background-color: #fcf8e3;
  border-color: #faebcc;
}
.panel-warning > .panel-heading + .panel-collapse > .panel-body {
  border-top-color: #faebcc;
}
.panel-warning > .panel-heading .badge {
  color: #fcf8e3;
  background-color: #8a6d3b;
}
.panel-warning > .panel-footer + .panel-collapse > .panel-body {
  border-bottom-color: #faebcc;
}
.panel-danger {
  border-color: #ebccd1;
}
.panel-danger > .panel-heading {
  color: #a94442;
  background-color: #f2dede;
  border-color: #ebccd1;
}
.panel-danger > .panel-heading + .panel-collapse > .panel-body {
  border-top-color: #ebccd1;
}
.panel-danger > .panel-heading .badge {
  color: #f2dede;
  background-color: #a94442;
}
.panel-danger > .panel-footer + .panel-collapse > .panel-body {
  border-bottom-color: #ebccd1;
}
.embed-responsive {
  position: relative;
  display: block;
  height: 0;
  padding: 0;
  overflow: hidden;
}
.embed-responsive .embed-responsive-item,
.embed-responsive iframe,
.embed-responsive embed,
.embed-responsive object,
.embed-responsive video {
  position: absolute;
  top: 0;
  left: 0;
  bottom: 0;
  height: 100%;
  width: 100%;
  border: 0;
}
.embed-responsive-16by9 {
  padding-bottom: 56.25%;
}
.embed-responsive-4by3 {
  padding-bottom: 75%;
}
.well {
  min-height: 20px;
  padding: 19px;
  margin-bottom: 20px;
  background-color: #f5f5f5;
  border: 1px solid #e3e3e3;
  border-radius: 2px;
  -webkit-box-shadow: inset 0 1px 1px rgba(0, 0, 0, 0.05);
  box-shadow: inset 0 1px 1px rgba(0, 0, 0, 0.05);
}
.well blockquote {
  border-color: #ddd;
  border-color: rgba(0, 0, 0, 0.15);
}
.well-lg {
  padding: 24px;
  border-radius: 3px;
}
.well-sm {
  padding: 9px;
  border-radius: 1px;
}
.close {
  float: right;
  font-size: 19.5px;
  font-weight: bold;
  line-height: 1;
  color: #000;
  text-shadow: 0 1px 0 #fff;
  opacity: 0.2;
  filter: alpha(opacity=20);
}
.close:hover,
.close:focus {
  color: #000;
  text-decoration: none;
  cursor: pointer;
  opacity: 0.5;
  filter: alpha(opacity=50);
}
button.close {
  padding: 0;
  cursor: pointer;
  background: transparent;
  border: 0;
  -webkit-appearance: none;
}
.modal-open {
  overflow: hidden;
}
.modal {
  display: none;
  overflow: hidden;
  position: fixed;
  top: 0;
  right: 0;
  bottom: 0;
  left: 0;
  z-index: 1050;
  -webkit-overflow-scrolling: touch;
  outline: 0;
}
.modal.fade .modal-dialog {
  -webkit-transform: translate(0, -25%);
  -ms-transform: translate(0, -25%);
  -o-transform: translate(0, -25%);
  transform: translate(0, -25%);
  -webkit-transition: -webkit-transform 0.3s ease-out;
  -moz-transition: -moz-transform 0.3s ease-out;
  -o-transition: -o-transform 0.3s ease-out;
  transition: transform 0.3s ease-out;
}
.modal.in .modal-dialog {
  -webkit-transform: translate(0, 0);
  -ms-transform: translate(0, 0);
  -o-transform: translate(0, 0);
  transform: translate(0, 0);
}
.modal-open .modal {
  overflow-x: hidden;
  overflow-y: auto;
}
.modal-dialog {
  position: relative;
  width: auto;
  margin: 10px;
}
.modal-content {
  position: relative;
  background-color: #fff;
  border: 1px solid #999;
  border: 1px solid rgba(0, 0, 0, 0.2);
  border-radius: 3px;
  -webkit-box-shadow: 0 3px 9px rgba(0, 0, 0, 0.5);
  box-shadow: 0 3px 9px rgba(0, 0, 0, 0.5);
  background-clip: padding-box;
  outline: 0;
}
.modal-backdrop {
  position: fixed;
  top: 0;
  right: 0;
  bottom: 0;
  left: 0;
  z-index: 1040;
  background-color: #000;
}
.modal-backdrop.fade {
  opacity: 0;
  filter: alpha(opacity=0);
}
.modal-backdrop.in {
  opacity: 0.5;
  filter: alpha(opacity=50);
}
.modal-header {
  padding: 15px;
  border-bottom: 1px solid #e5e5e5;
}
.modal-header .close {
  margin-top: -2px;
}
.modal-title {
  margin: 0;
  line-height: 1.42857143;
}
.modal-body {
  position: relative;
  padding: 15px;
}
.modal-footer {
  padding: 15px;
  text-align: right;
  border-top: 1px solid #e5e5e5;
}
.modal-footer .btn + .btn {
  margin-left: 5px;
  margin-bottom: 0;
}
.modal-footer .btn-group .btn + .btn {
  margin-left: -1px;
}
.modal-footer .btn-block + .btn-block {
  margin-left: 0;
}
.modal-scrollbar-measure {
  position: absolute;
  top: -9999px;
  width: 50px;
  height: 50px;
  overflow: scroll;
}
@media (min-width: 768px) {
  .modal-dialog {
    width: 600px;
    margin: 30px auto;
  }
  .modal-content {
    -webkit-box-shadow: 0 5px 15px rgba(0, 0, 0, 0.5);
    box-shadow: 0 5px 15px rgba(0, 0, 0, 0.5);
  }
  .modal-sm {
    width: 300px;
  }
}
@media (min-width: 992px) {
  .modal-lg {
    width: 900px;
  }
}
.tooltip {
  position: absolute;
  z-index: 1070;
  display: block;
  font-family: "Helvetica Neue", Helvetica, Arial, sans-serif;
  font-style: normal;
  font-weight: normal;
  letter-spacing: normal;
  line-break: auto;
  line-height: 1.42857143;
  text-align: left;
  text-align: start;
  text-decoration: none;
  text-shadow: none;
  text-transform: none;
  white-space: normal;
  word-break: normal;
  word-spacing: normal;
  word-wrap: normal;
  font-size: 12px;
  opacity: 0;
  filter: alpha(opacity=0);
}
.tooltip.in {
  opacity: 0.9;
  filter: alpha(opacity=90);
}
.tooltip.top {
  margin-top: -3px;
  padding: 5px 0;
}
.tooltip.right {
  margin-left: 3px;
  padding: 0 5px;
}
.tooltip.bottom {
  margin-top: 3px;
  padding: 5px 0;
}
.tooltip.left {
  margin-left: -3px;
  padding: 0 5px;
}
.tooltip-inner {
  max-width: 200px;
  padding: 3px 8px;
  color: #fff;
  text-align: center;
  background-color: #000;
  border-radius: 2px;
}
.tooltip-arrow {
  position: absolute;
  width: 0;
  height: 0;
  border-color: transparent;
  border-style: solid;
}
.tooltip.top .tooltip-arrow {
  bottom: 0;
  left: 50%;
  margin-left: -5px;
  border-width: 5px 5px 0;
  border-top-color: #000;
}
.tooltip.top-left .tooltip-arrow {
  bottom: 0;
  right: 5px;
  margin-bottom: -5px;
  border-width: 5px 5px 0;
  border-top-color: #000;
}
.tooltip.top-right .tooltip-arrow {
  bottom: 0;
  left: 5px;
  margin-bottom: -5px;
  border-width: 5px 5px 0;
  border-top-color: #000;
}
.tooltip.right .tooltip-arrow {
  top: 50%;
  left: 0;
  margin-top: -5px;
  border-width: 5px 5px 5px 0;
  border-right-color: #000;
}
.tooltip.left .tooltip-arrow {
  top: 50%;
  right: 0;
  margin-top: -5px;
  border-width: 5px 0 5px 5px;
  border-left-color: #000;
}
.tooltip.bottom .tooltip-arrow {
  top: 0;
  left: 50%;
  margin-left: -5px;
  border-width: 0 5px 5px;
  border-bottom-color: #000;
}
.tooltip.bottom-left .tooltip-arrow {
  top: 0;
  right: 5px;
  margin-top: -5px;
  border-width: 0 5px 5px;
  border-bottom-color: #000;
}
.tooltip.bottom-right .tooltip-arrow {
  top: 0;
  left: 5px;
  margin-top: -5px;
  border-width: 0 5px 5px;
  border-bottom-color: #000;
}
.popover {
  position: absolute;
  top: 0;
  left: 0;
  z-index: 1060;
  display: none;
  max-width: 276px;
  padding: 1px;
  font-family: "Helvetica Neue", Helvetica, Arial, sans-serif;
  font-style: normal;
  font-weight: normal;
  letter-spacing: normal;
  line-break: auto;
  line-height: 1.42857143;
  text-align: left;
  text-align: start;
  text-decoration: none;
  text-shadow: none;
  text-transform: none;
  white-space: normal;
  word-break: normal;
  word-spacing: normal;
  word-wrap: normal;
  font-size: 13px;
  background-color: #fff;
  background-clip: padding-box;
  border: 1px solid #ccc;
  border: 1px solid rgba(0, 0, 0, 0.2);
  border-radius: 3px;
  -webkit-box-shadow: 0 5px 10px rgba(0, 0, 0, 0.2);
  box-shadow: 0 5px 10px rgba(0, 0, 0, 0.2);
}
.popover.top {
  margin-top: -10px;
}
.popover.right {
  margin-left: 10px;
}
.popover.bottom {
  margin-top: 10px;
}
.popover.left {
  margin-left: -10px;
}
.popover-title {
  margin: 0;
  padding: 8px 14px;
  font-size: 13px;
  background-color: #f7f7f7;
  border-bottom: 1px solid #ebebeb;
  border-radius: 2px 2px 0 0;
}
.popover-content {
  padding: 9px 14px;
}
.popover > .arrow,
.popover > .arrow:after {
  position: absolute;
  display: block;
  width: 0;
  height: 0;
  border-color: transparent;
  border-style: solid;
}
.popover > .arrow {
  border-width: 11px;
}
.popover > .arrow:after {
  border-width: 10px;
  content: "";
}
.popover.top > .arrow {
  left: 50%;
  margin-left: -11px;
  border-bottom-width: 0;
  border-top-color: #999999;
  border-top-color: rgba(0, 0, 0, 0.25);
  bottom: -11px;
}
.popover.top > .arrow:after {
  content: " ";
  bottom: 1px;
  margin-left: -10px;
  border-bottom-width: 0;
  border-top-color: #fff;
}
.popover.right > .arrow {
  top: 50%;
  left: -11px;
  margin-top: -11px;
  border-left-width: 0;
  border-right-color: #999999;
  border-right-color: rgba(0, 0, 0, 0.25);
}
.popover.right > .arrow:after {
  content: " ";
  left: 1px;
  bottom: -10px;
  border-left-width: 0;
  border-right-color: #fff;
}
.popover.bottom > .arrow {
  left: 50%;
  margin-left: -11px;
  border-top-width: 0;
  border-bottom-color: #999999;
  border-bottom-color: rgba(0, 0, 0, 0.25);
  top: -11px;
}
.popover.bottom > .arrow:after {
  content: " ";
  top: 1px;
  margin-left: -10px;
  border-top-width: 0;
  border-bottom-color: #fff;
}
.popover.left > .arrow {
  top: 50%;
  right: -11px;
  margin-top: -11px;
  border-right-width: 0;
  border-left-color: #999999;
  border-left-color: rgba(0, 0, 0, 0.25);
}
.popover.left > .arrow:after {
  content: " ";
  right: 1px;
  border-right-width: 0;
  border-left-color: #fff;
  bottom: -10px;
}
.carousel {
  position: relative;
}
.carousel-inner {
  position: relative;
  overflow: hidden;
  width: 100%;
}
.carousel-inner > .item {
  display: none;
  position: relative;
  -webkit-transition: 0.6s ease-in-out left;
  -o-transition: 0.6s ease-in-out left;
  transition: 0.6s ease-in-out left;
}
.carousel-inner > .item > img,
.carousel-inner > .item > a > img {
  line-height: 1;
}
@media all and (transform-3d), (-webkit-transform-3d) {
  .carousel-inner > .item {
    -webkit-transition: -webkit-transform 0.6s ease-in-out;
    -moz-transition: -moz-transform 0.6s ease-in-out;
    -o-transition: -o-transform 0.6s ease-in-out;
    transition: transform 0.6s ease-in-out;
    -webkit-backface-visibility: hidden;
    -moz-backface-visibility: hidden;
    backface-visibility: hidden;
    -webkit-perspective: 1000px;
    -moz-perspective: 1000px;
    perspective: 1000px;
  }
  .carousel-inner > .item.next,
  .carousel-inner > .item.active.right {
    -webkit-transform: translate3d(100%, 0, 0);
    transform: translate3d(100%, 0, 0);
    left: 0;
  }
  .carousel-inner > .item.prev,
  .carousel-inner > .item.active.left {
    -webkit-transform: translate3d(-100%, 0, 0);
    transform: translate3d(-100%, 0, 0);
    left: 0;
  }
  .carousel-inner > .item.next.left,
  .carousel-inner > .item.prev.right,
  .carousel-inner > .item.active {
    -webkit-transform: translate3d(0, 0, 0);
    transform: translate3d(0, 0, 0);
    left: 0;
  }
}
.carousel-inner > .active,
.carousel-inner > .next,
.carousel-inner > .prev {
  display: block;
}
.carousel-inner > .active {
  left: 0;
}
.carousel-inner > .next,
.carousel-inner > .prev {
  position: absolute;
  top: 0;
  width: 100%;
}
.carousel-inner > .next {
  left: 100%;
}
.carousel-inner > .prev {
  left: -100%;
}
.carousel-inner > .next.left,
.carousel-inner > .prev.right {
  left: 0;
}
.carousel-inner > .active.left {
  left: -100%;
}
.carousel-inner > .active.right {
  left: 100%;
}
.carousel-control {
  position: absolute;
  top: 0;
  left: 0;
  bottom: 0;
  width: 15%;
  opacity: 0.5;
  filter: alpha(opacity=50);
  font-size: 20px;
  color: #fff;
  text-align: center;
  text-shadow: 0 1px 2px rgba(0, 0, 0, 0.6);
  background-color: rgba(0, 0, 0, 0);
}
.carousel-control.left {
  background-image: -webkit-linear-gradient(left, rgba(0, 0, 0, 0.5) 0%, rgba(0, 0, 0, 0.0001) 100%);
  background-image: -o-linear-gradient(left, rgba(0, 0, 0, 0.5) 0%, rgba(0, 0, 0, 0.0001) 100%);
  background-image: linear-gradient(to right, rgba(0, 0, 0, 0.5) 0%, rgba(0, 0, 0, 0.0001) 100%);
  background-repeat: repeat-x;
  filter: progid:DXImageTransform.Microsoft.gradient(startColorstr='#80000000', endColorstr='#00000000', GradientType=1);
}
.carousel-control.right {
  left: auto;
  right: 0;
  background-image: -webkit-linear-gradient(left, rgba(0, 0, 0, 0.0001) 0%, rgba(0, 0, 0, 0.5) 100%);
  background-image: -o-linear-gradient(left, rgba(0, 0, 0, 0.0001) 0%, rgba(0, 0, 0, 0.5) 100%);
  background-image: linear-gradient(to right, rgba(0, 0, 0, 0.0001) 0%, rgba(0, 0, 0, 0.5) 100%);
  background-repeat: repeat-x;
  filter: progid:DXImageTransform.Microsoft.gradient(startColorstr='#00000000', endColorstr='#80000000', GradientType=1);
}
.carousel-control:hover,
.carousel-control:focus {
  outline: 0;
  color: #fff;
  text-decoration: none;
  opacity: 0.9;
  filter: alpha(opacity=90);
}
.carousel-control .icon-prev,
.carousel-control .icon-next,
.carousel-control .glyphicon-chevron-left,
.carousel-control .glyphicon-chevron-right {
  position: absolute;
  top: 50%;
  margin-top: -10px;
  z-index: 5;
  display: inline-block;
}
.carousel-control .icon-prev,
.carousel-control .glyphicon-chevron-left {
  left: 50%;
  margin-left: -10px;
}
.carousel-control .icon-next,
.carousel-control .glyphicon-chevron-right {
  right: 50%;
  margin-right: -10px;
}
.carousel-control .icon-prev,
.carousel-control .icon-next {
  width: 20px;
  height: 20px;
  line-height: 1;
  font-family: serif;
}
.carousel-control .icon-prev:before {
  content: '\2039';
}
.carousel-control .icon-next:before {
  content: '\203a';
}
.carousel-indicators {
  position: absolute;
  bottom: 10px;
  left: 50%;
  z-index: 15;
  width: 60%;
  margin-left: -30%;
  padding-left: 0;
  list-style: none;
  text-align: center;
}
.carousel-indicators li {
  display: inline-block;
  width: 10px;
  height: 10px;
  margin: 1px;
  text-indent: -999px;
  border: 1px solid #fff;
  border-radius: 10px;
  cursor: pointer;
  background-color: #000 \9;
  background-color: rgba(0, 0, 0, 0);
}
.carousel-indicators .active {
  margin: 0;
  width: 12px;
  height: 12px;
  background-color: #fff;
}
.carousel-caption {
  position: absolute;
  left: 15%;
  right: 15%;
  bottom: 20px;
  z-index: 10;
  padding-top: 20px;
  padding-bottom: 20px;
  color: #fff;
  text-align: center;
  text-shadow: 0 1px 2px rgba(0, 0, 0, 0.6);
}
.carousel-caption .btn {
  text-shadow: none;
}
@media screen and (min-width: 768px) {
  .carousel-control .glyphicon-chevron-left,
  .carousel-control .glyphicon-chevron-right,
  .carousel-control .icon-prev,
  .carousel-control .icon-next {
    width: 30px;
    height: 30px;
    margin-top: -10px;
    font-size: 30px;
  }
  .carousel-control .glyphicon-chevron-left,
  .carousel-control .icon-prev {
    margin-left: -10px;
  }
  .carousel-control .glyphicon-chevron-right,
  .carousel-control .icon-next {
    margin-right: -10px;
  }
  .carousel-caption {
    left: 20%;
    right: 20%;
    padding-bottom: 30px;
  }
  .carousel-indicators {
    bottom: 20px;
  }
}
.clearfix:before,
.clearfix:after,
.dl-horizontal dd:before,
.dl-horizontal dd:after,
.container:before,
.container:after,
.container-fluid:before,
.container-fluid:after,
.row:before,
.row:after,
.form-horizontal .form-group:before,
.form-horizontal .form-group:after,
.btn-toolbar:before,
.btn-toolbar:after,
.btn-group-vertical > .btn-group:before,
.btn-group-vertical > .btn-group:after,
.nav:before,
.nav:after,
.navbar:before,
.navbar:after,
.navbar-header:before,
.navbar-header:after,
.navbar-collapse:before,
.navbar-collapse:after,
.pager:before,
.pager:after,
.panel-body:before,
.panel-body:after,
.modal-header:before,
.modal-header:after,
.modal-footer:before,
.modal-footer:after,
.item_buttons:before,
.item_buttons:after {
  content: " ";
  display: table;
}
.clearfix:after,
.dl-horizontal dd:after,
.container:after,
.container-fluid:after,
.row:after,
.form-horizontal .form-group:after,
.btn-toolbar:after,
.btn-group-vertical > .btn-group:after,
.nav:after,
.navbar:after,
.navbar-header:after,
.navbar-collapse:after,
.pager:after,
.panel-body:after,
.modal-header:after,
.modal-footer:after,
.item_buttons:after {
  clear: both;
}
.center-block {
  display: block;
  margin-left: auto;
  margin-right: auto;
}
.pull-right {
  float: right !important;
}
.pull-left {
  float: left !important;
}
.hide {
  display: none !important;
}
.show {
  display: block !important;
}
.invisible {
  visibility: hidden;
}
.text-hide {
  font: 0/0 a;
  color: transparent;
  text-shadow: none;
  background-color: transparent;
  border: 0;
}
.hidden {
  display: none !important;
}
.affix {
  position: fixed;
}
@-ms-viewport {
  width: device-width;
}
.visible-xs,
.visible-sm,
.visible-md,
.visible-lg {
  display: none !important;
}
.visible-xs-block,
.visible-xs-inline,
.visible-xs-inline-block,
.visible-sm-block,
.visible-sm-inline,
.visible-sm-inline-block,
.visible-md-block,
.visible-md-inline,
.visible-md-inline-block,
.visible-lg-block,
.visible-lg-inline,
.visible-lg-inline-block {
  display: none !important;
}
@media (max-width: 767px) {
  .visible-xs {
    display: block !important;
  }
  table.visible-xs {
    display: table !important;
  }
  tr.visible-xs {
    display: table-row !important;
  }
  th.visible-xs,
  td.visible-xs {
    display: table-cell !important;
  }
}
@media (max-width: 767px) {
  .visible-xs-block {
    display: block !important;
  }
}
@media (max-width: 767px) {
  .visible-xs-inline {
    display: inline !important;
  }
}
@media (max-width: 767px) {
  .visible-xs-inline-block {
    display: inline-block !important;
  }
}
@media (min-width: 768px) and (max-width: 991px) {
  .visible-sm {
    display: block !important;
  }
  table.visible-sm {
    display: table !important;
  }
  tr.visible-sm {
    display: table-row !important;
  }
  th.visible-sm,
  td.visible-sm {
    display: table-cell !important;
  }
}
@media (min-width: 768px) and (max-width: 991px) {
  .visible-sm-block {
    display: block !important;
  }
}
@media (min-width: 768px) and (max-width: 991px) {
  .visible-sm-inline {
    display: inline !important;
  }
}
@media (min-width: 768px) and (max-width: 991px) {
  .visible-sm-inline-block {
    display: inline-block !important;
  }
}
@media (min-width: 992px) and (max-width: 1199px) {
  .visible-md {
    display: block !important;
  }
  table.visible-md {
    display: table !important;
  }
  tr.visible-md {
    display: table-row !important;
  }
  th.visible-md,
  td.visible-md {
    display: table-cell !important;
  }
}
@media (min-width: 992px) and (max-width: 1199px) {
  .visible-md-block {
    display: block !important;
  }
}
@media (min-width: 992px) and (max-width: 1199px) {
  .visible-md-inline {
    display: inline !important;
  }
}
@media (min-width: 992px) and (max-width: 1199px) {
  .visible-md-inline-block {
    display: inline-block !important;
  }
}
@media (min-width: 1200px) {
  .visible-lg {
    display: block !important;
  }
  table.visible-lg {
    display: table !important;
  }
  tr.visible-lg {
    display: table-row !important;
  }
  th.visible-lg,
  td.visible-lg {
    display: table-cell !important;
  }
}
@media (min-width: 1200px) {
  .visible-lg-block {
    display: block !important;
  }
}
@media (min-width: 1200px) {
  .visible-lg-inline {
    display: inline !important;
  }
}
@media (min-width: 1200px) {
  .visible-lg-inline-block {
    display: inline-block !important;
  }
}
@media (max-width: 767px) {
  .hidden-xs {
    display: none !important;
  }
}
@media (min-width: 768px) and (max-width: 991px) {
  .hidden-sm {
    display: none !important;
  }
}
@media (min-width: 992px) and (max-width: 1199px) {
  .hidden-md {
    display: none !important;
  }
}
@media (min-width: 1200px) {
  .hidden-lg {
    display: none !important;
  }
}
.visible-print {
  display: none !important;
}
@media print {
  .visible-print {
    display: block !important;
  }
  table.visible-print {
    display: table !important;
  }
  tr.visible-print {
    display: table-row !important;
  }
  th.visible-print,
  td.visible-print {
    display: table-cell !important;
  }
}
.visible-print-block {
  display: none !important;
}
@media print {
  .visible-print-block {
    display: block !important;
  }
}
.visible-print-inline {
  display: none !important;
}
@media print {
  .visible-print-inline {
    display: inline !important;
  }
}
.visible-print-inline-block {
  display: none !important;
}
@media print {
  .visible-print-inline-block {
    display: inline-block !important;
  }
}
@media print {
  .hidden-print {
    display: none !important;
  }
}
/*!
*
* Font Awesome
*
*/
/*!
 *  Font Awesome 4.2.0 by @davegandy - http://fontawesome.io - @fontawesome
 *  License - http://fontawesome.io/license (Font: SIL OFL 1.1, CSS: MIT License)
 */
/* FONT PATH
 * -------------------------- */
@font-face {
  font-family: 'FontAwesome';
  src: url('../components/font-awesome/fonts/fontawesome-webfont.eot?v=4.2.0');
  src: url('../components/font-awesome/fonts/fontawesome-webfont.eot?#iefix&v=4.2.0') format('embedded-opentype'), url('../components/font-awesome/fonts/fontawesome-webfont.woff?v=4.2.0') format('woff'), url('../components/font-awesome/fonts/fontawesome-webfont.ttf?v=4.2.0') format('truetype'), url('../components/font-awesome/fonts/fontawesome-webfont.svg?v=4.2.0#fontawesomeregular') format('svg');
  font-weight: normal;
  font-style: normal;
}
.fa {
  display: inline-block;
  font: normal normal normal 14px/1 FontAwesome;
  font-size: inherit;
  text-rendering: auto;
  -webkit-font-smoothing: antialiased;
  -moz-osx-font-smoothing: grayscale;
}
/* makes the font 33% larger relative to the icon container */
.fa-lg {
  font-size: 1.33333333em;
  line-height: 0.75em;
  vertical-align: -15%;
}
.fa-2x {
  font-size: 2em;
}
.fa-3x {
  font-size: 3em;
}
.fa-4x {
  font-size: 4em;
}
.fa-5x {
  font-size: 5em;
}
.fa-fw {
  width: 1.28571429em;
  text-align: center;
}
.fa-ul {
  padding-left: 0;
  margin-left: 2.14285714em;
  list-style-type: none;
}
.fa-ul > li {
  position: relative;
}
.fa-li {
  position: absolute;
  left: -2.14285714em;
  width: 2.14285714em;
  top: 0.14285714em;
  text-align: center;
}
.fa-li.fa-lg {
  left: -1.85714286em;
}
.fa-border {
  padding: .2em .25em .15em;
  border: solid 0.08em #eee;
  border-radius: .1em;
}
.pull-right {
  float: right;
}
.pull-left {
  float: left;
}
.fa.pull-left {
  margin-right: .3em;
}
.fa.pull-right {
  margin-left: .3em;
}
.fa-spin {
  -webkit-animation: fa-spin 2s infinite linear;
  animation: fa-spin 2s infinite linear;
}
@-webkit-keyframes fa-spin {
  0% {
    -webkit-transform: rotate(0deg);
    transform: rotate(0deg);
  }
  100% {
    -webkit-transform: rotate(359deg);
    transform: rotate(359deg);
  }
}
@keyframes fa-spin {
  0% {
    -webkit-transform: rotate(0deg);
    transform: rotate(0deg);
  }
  100% {
    -webkit-transform: rotate(359deg);
    transform: rotate(359deg);
  }
}
.fa-rotate-90 {
  filter: progid:DXImageTransform.Microsoft.BasicImage(rotation=1);
  -webkit-transform: rotate(90deg);
  -ms-transform: rotate(90deg);
  transform: rotate(90deg);
}
.fa-rotate-180 {
  filter: progid:DXImageTransform.Microsoft.BasicImage(rotation=2);
  -webkit-transform: rotate(180deg);
  -ms-transform: rotate(180deg);
  transform: rotate(180deg);
}
.fa-rotate-270 {
  filter: progid:DXImageTransform.Microsoft.BasicImage(rotation=3);
  -webkit-transform: rotate(270deg);
  -ms-transform: rotate(270deg);
  transform: rotate(270deg);
}
.fa-flip-horizontal {
  filter: progid:DXImageTransform.Microsoft.BasicImage(rotation=0, mirror=1);
  -webkit-transform: scale(-1, 1);
  -ms-transform: scale(-1, 1);
  transform: scale(-1, 1);
}
.fa-flip-vertical {
  filter: progid:DXImageTransform.Microsoft.BasicImage(rotation=2, mirror=1);
  -webkit-transform: scale(1, -1);
  -ms-transform: scale(1, -1);
  transform: scale(1, -1);
}
:root .fa-rotate-90,
:root .fa-rotate-180,
:root .fa-rotate-270,
:root .fa-flip-horizontal,
:root .fa-flip-vertical {
  filter: none;
}
.fa-stack {
  position: relative;
  display: inline-block;
  width: 2em;
  height: 2em;
  line-height: 2em;
  vertical-align: middle;
}
.fa-stack-1x,
.fa-stack-2x {
  position: absolute;
  left: 0;
  width: 100%;
  text-align: center;
}
.fa-stack-1x {
  line-height: inherit;
}
.fa-stack-2x {
  font-size: 2em;
}
.fa-inverse {
  color: #fff;
}
/* Font Awesome uses the Unicode Private Use Area (PUA) to ensure screen
   readers do not read off random characters that represent icons */
.fa-glass:before {
  content: "\f000";
}
.fa-music:before {
  content: "\f001";
}
.fa-search:before {
  content: "\f002";
}
.fa-envelope-o:before {
  content: "\f003";
}
.fa-heart:before {
  content: "\f004";
}
.fa-star:before {
  content: "\f005";
}
.fa-star-o:before {
  content: "\f006";
}
.fa-user:before {
  content: "\f007";
}
.fa-film:before {
  content: "\f008";
}
.fa-th-large:before {
  content: "\f009";
}
.fa-th:before {
  content: "\f00a";
}
.fa-th-list:before {
  content: "\f00b";
}
.fa-check:before {
  content: "\f00c";
}
.fa-remove:before,
.fa-close:before,
.fa-times:before {
  content: "\f00d";
}
.fa-search-plus:before {
  content: "\f00e";
}
.fa-search-minus:before {
  content: "\f010";
}
.fa-power-off:before {
  content: "\f011";
}
.fa-signal:before {
  content: "\f012";
}
.fa-gear:before,
.fa-cog:before {
  content: "\f013";
}
.fa-trash-o:before {
  content: "\f014";
}
.fa-home:before {
  content: "\f015";
}
.fa-file-o:before {
  content: "\f016";
}
.fa-clock-o:before {
  content: "\f017";
}
.fa-road:before {
  content: "\f018";
}
.fa-download:before {
  content: "\f019";
}
.fa-arrow-circle-o-down:before {
  content: "\f01a";
}
.fa-arrow-circle-o-up:before {
  content: "\f01b";
}
.fa-inbox:before {
  content: "\f01c";
}
.fa-play-circle-o:before {
  content: "\f01d";
}
.fa-rotate-right:before,
.fa-repeat:before {
  content: "\f01e";
}
.fa-refresh:before {
  content: "\f021";
}
.fa-list-alt:before {
  content: "\f022";
}
.fa-lock:before {
  content: "\f023";
}
.fa-flag:before {
  content: "\f024";
}
.fa-headphones:before {
  content: "\f025";
}
.fa-volume-off:before {
  content: "\f026";
}
.fa-volume-down:before {
  content: "\f027";
}
.fa-volume-up:before {
  content: "\f028";
}
.fa-qrcode:before {
  content: "\f029";
}
.fa-barcode:before {
  content: "\f02a";
}
.fa-tag:before {
  content: "\f02b";
}
.fa-tags:before {
  content: "\f02c";
}
.fa-book:before {
  content: "\f02d";
}
.fa-bookmark:before {
  content: "\f02e";
}
.fa-print:before {
  content: "\f02f";
}
.fa-camera:before {
  content: "\f030";
}
.fa-font:before {
  content: "\f031";
}
.fa-bold:before {
  content: "\f032";
}
.fa-italic:before {
  content: "\f033";
}
.fa-text-height:before {
  content: "\f034";
}
.fa-text-width:before {
  content: "\f035";
}
.fa-align-left:before {
  content: "\f036";
}
.fa-align-center:before {
  content: "\f037";
}
.fa-align-right:before {
  content: "\f038";
}
.fa-align-justify:before {
  content: "\f039";
}
.fa-list:before {
  content: "\f03a";
}
.fa-dedent:before,
.fa-outdent:before {
  content: "\f03b";
}
.fa-indent:before {
  content: "\f03c";
}
.fa-video-camera:before {
  content: "\f03d";
}
.fa-photo:before,
.fa-image:before,
.fa-picture-o:before {
  content: "\f03e";
}
.fa-pencil:before {
  content: "\f040";
}
.fa-map-marker:before {
  content: "\f041";
}
.fa-adjust:before {
  content: "\f042";
}
.fa-tint:before {
  content: "\f043";
}
.fa-edit:before,
.fa-pencil-square-o:before {
  content: "\f044";
}
.fa-share-square-o:before {
  content: "\f045";
}
.fa-check-square-o:before {
  content: "\f046";
}
.fa-arrows:before {
  content: "\f047";
}
.fa-step-backward:before {
  content: "\f048";
}
.fa-fast-backward:before {
  content: "\f049";
}
.fa-backward:before {
  content: "\f04a";
}
.fa-play:before {
  content: "\f04b";
}
.fa-pause:before {
  content: "\f04c";
}
.fa-stop:before {
  content: "\f04d";
}
.fa-forward:before {
  content: "\f04e";
}
.fa-fast-forward:before {
  content: "\f050";
}
.fa-step-forward:before {
  content: "\f051";
}
.fa-eject:before {
  content: "\f052";
}
.fa-chevron-left:before {
  content: "\f053";
}
.fa-chevron-right:before {
  content: "\f054";
}
.fa-plus-circle:before {
  content: "\f055";
}
.fa-minus-circle:before {
  content: "\f056";
}
.fa-times-circle:before {
  content: "\f057";
}
.fa-check-circle:before {
  content: "\f058";
}
.fa-question-circle:before {
  content: "\f059";
}
.fa-info-circle:before {
  content: "\f05a";
}
.fa-crosshairs:before {
  content: "\f05b";
}
.fa-times-circle-o:before {
  content: "\f05c";
}
.fa-check-circle-o:before {
  content: "\f05d";
}
.fa-ban:before {
  content: "\f05e";
}
.fa-arrow-left:before {
  content: "\f060";
}
.fa-arrow-right:before {
  content: "\f061";
}
.fa-arrow-up:before {
  content: "\f062";
}
.fa-arrow-down:before {
  content: "\f063";
}
.fa-mail-forward:before,
.fa-share:before {
  content: "\f064";
}
.fa-expand:before {
  content: "\f065";
}
.fa-compress:before {
  content: "\f066";
}
.fa-plus:before {
  content: "\f067";
}
.fa-minus:before {
  content: "\f068";
}
.fa-asterisk:before {
  content: "\f069";
}
.fa-exclamation-circle:before {
  content: "\f06a";
}
.fa-gift:before {
  content: "\f06b";
}
.fa-leaf:before {
  content: "\f06c";
}
.fa-fire:before {
  content: "\f06d";
}
.fa-eye:before {
  content: "\f06e";
}
.fa-eye-slash:before {
  content: "\f070";
}
.fa-warning:before,
.fa-exclamation-triangle:before {
  content: "\f071";
}
.fa-plane:before {
  content: "\f072";
}
.fa-calendar:before {
  content: "\f073";
}
.fa-random:before {
  content: "\f074";
}
.fa-comment:before {
  content: "\f075";
}
.fa-magnet:before {
  content: "\f076";
}
.fa-chevron-up:before {
  content: "\f077";
}
.fa-chevron-down:before {
  content: "\f078";
}
.fa-retweet:before {
  content: "\f079";
}
.fa-shopping-cart:before {
  content: "\f07a";
}
.fa-folder:before {
  content: "\f07b";
}
.fa-folder-open:before {
  content: "\f07c";
}
.fa-arrows-v:before {
  content: "\f07d";
}
.fa-arrows-h:before {
  content: "\f07e";
}
.fa-bar-chart-o:before,
.fa-bar-chart:before {
  content: "\f080";
}
.fa-twitter-square:before {
  content: "\f081";
}
.fa-facebook-square:before {
  content: "\f082";
}
.fa-camera-retro:before {
  content: "\f083";
}
.fa-key:before {
  content: "\f084";
}
.fa-gears:before,
.fa-cogs:before {
  content: "\f085";
}
.fa-comments:before {
  content: "\f086";
}
.fa-thumbs-o-up:before {
  content: "\f087";
}
.fa-thumbs-o-down:before {
  content: "\f088";
}
.fa-star-half:before {
  content: "\f089";
}
.fa-heart-o:before {
  content: "\f08a";
}
.fa-sign-out:before {
  content: "\f08b";
}
.fa-linkedin-square:before {
  content: "\f08c";
}
.fa-thumb-tack:before {
  content: "\f08d";
}
.fa-external-link:before {
  content: "\f08e";
}
.fa-sign-in:before {
  content: "\f090";
}
.fa-trophy:before {
  content: "\f091";
}
.fa-github-square:before {
  content: "\f092";
}
.fa-upload:before {
  content: "\f093";
}
.fa-lemon-o:before {
  content: "\f094";
}
.fa-phone:before {
  content: "\f095";
}
.fa-square-o:before {
  content: "\f096";
}
.fa-bookmark-o:before {
  content: "\f097";
}
.fa-phone-square:before {
  content: "\f098";
}
.fa-twitter:before {
  content: "\f099";
}
.fa-facebook:before {
  content: "\f09a";
}
.fa-github:before {
  content: "\f09b";
}
.fa-unlock:before {
  content: "\f09c";
}
.fa-credit-card:before {
  content: "\f09d";
}
.fa-rss:before {
  content: "\f09e";
}
.fa-hdd-o:before {
  content: "\f0a0";
}
.fa-bullhorn:before {
  content: "\f0a1";
}
.fa-bell:before {
  content: "\f0f3";
}
.fa-certificate:before {
  content: "\f0a3";
}
.fa-hand-o-right:before {
  content: "\f0a4";
}
.fa-hand-o-left:before {
  content: "\f0a5";
}
.fa-hand-o-up:before {
  content: "\f0a6";
}
.fa-hand-o-down:before {
  content: "\f0a7";
}
.fa-arrow-circle-left:before {
  content: "\f0a8";
}
.fa-arrow-circle-right:before {
  content: "\f0a9";
}
.fa-arrow-circle-up:before {
  content: "\f0aa";
}
.fa-arrow-circle-down:before {
  content: "\f0ab";
}
.fa-globe:before {
  content: "\f0ac";
}
.fa-wrench:before {
  content: "\f0ad";
}
.fa-tasks:before {
  content: "\f0ae";
}
.fa-filter:before {
  content: "\f0b0";
}
.fa-briefcase:before {
  content: "\f0b1";
}
.fa-arrows-alt:before {
  content: "\f0b2";
}
.fa-group:before,
.fa-users:before {
  content: "\f0c0";
}
.fa-chain:before,
.fa-link:before {
  content: "\f0c1";
}
.fa-cloud:before {
  content: "\f0c2";
}
.fa-flask:before {
  content: "\f0c3";
}
.fa-cut:before,
.fa-scissors:before {
  content: "\f0c4";
}
.fa-copy:before,
.fa-files-o:before {
  content: "\f0c5";
}
.fa-paperclip:before {
  content: "\f0c6";
}
.fa-save:before,
.fa-floppy-o:before {
  content: "\f0c7";
}
.fa-square:before {
  content: "\f0c8";
}
.fa-navicon:before,
.fa-reorder:before,
.fa-bars:before {
  content: "\f0c9";
}
.fa-list-ul:before {
  content: "\f0ca";
}
.fa-list-ol:before {
  content: "\f0cb";
}
.fa-strikethrough:before {
  content: "\f0cc";
}
.fa-underline:before {
  content: "\f0cd";
}
.fa-table:before {
  content: "\f0ce";
}
.fa-magic:before {
  content: "\f0d0";
}
.fa-truck:before {
  content: "\f0d1";
}
.fa-pinterest:before {
  content: "\f0d2";
}
.fa-pinterest-square:before {
  content: "\f0d3";
}
.fa-google-plus-square:before {
  content: "\f0d4";
}
.fa-google-plus:before {
  content: "\f0d5";
}
.fa-money:before {
  content: "\f0d6";
}
.fa-caret-down:before {
  content: "\f0d7";
}
.fa-caret-up:before {
  content: "\f0d8";
}
.fa-caret-left:before {
  content: "\f0d9";
}
.fa-caret-right:before {
  content: "\f0da";
}
.fa-columns:before {
  content: "\f0db";
}
.fa-unsorted:before,
.fa-sort:before {
  content: "\f0dc";
}
.fa-sort-down:before,
.fa-sort-desc:before {
  content: "\f0dd";
}
.fa-sort-up:before,
.fa-sort-asc:before {
  content: "\f0de";
}
.fa-envelope:before {
  content: "\f0e0";
}
.fa-linkedin:before {
  content: "\f0e1";
}
.fa-rotate-left:before,
.fa-undo:before {
  content: "\f0e2";
}
.fa-legal:before,
.fa-gavel:before {
  content: "\f0e3";
}
.fa-dashboard:before,
.fa-tachometer:before {
  content: "\f0e4";
}
.fa-comment-o:before {
  content: "\f0e5";
}
.fa-comments-o:before {
  content: "\f0e6";
}
.fa-flash:before,
.fa-bolt:before {
  content: "\f0e7";
}
.fa-sitemap:before {
  content: "\f0e8";
}
.fa-umbrella:before {
  content: "\f0e9";
}
.fa-paste:before,
.fa-clipboard:before {
  content: "\f0ea";
}
.fa-lightbulb-o:before {
  content: "\f0eb";
}
.fa-exchange:before {
  content: "\f0ec";
}
.fa-cloud-download:before {
  content: "\f0ed";
}
.fa-cloud-upload:before {
  content: "\f0ee";
}
.fa-user-md:before {
  content: "\f0f0";
}
.fa-stethoscope:before {
  content: "\f0f1";
}
.fa-suitcase:before {
  content: "\f0f2";
}
.fa-bell-o:before {
  content: "\f0a2";
}
.fa-coffee:before {
  content: "\f0f4";
}
.fa-cutlery:before {
  content: "\f0f5";
}
.fa-file-text-o:before {
  content: "\f0f6";
}
.fa-building-o:before {
  content: "\f0f7";
}
.fa-hospital-o:before {
  content: "\f0f8";
}
.fa-ambulance:before {
  content: "\f0f9";
}
.fa-medkit:before {
  content: "\f0fa";
}
.fa-fighter-jet:before {
  content: "\f0fb";
}
.fa-beer:before {
  content: "\f0fc";
}
.fa-h-square:before {
  content: "\f0fd";
}
.fa-plus-square:before {
  content: "\f0fe";
}
.fa-angle-double-left:before {
  content: "\f100";
}
.fa-angle-double-right:before {
  content: "\f101";
}
.fa-angle-double-up:before {
  content: "\f102";
}
.fa-angle-double-down:before {
  content: "\f103";
}
.fa-angle-left:before {
  content: "\f104";
}
.fa-angle-right:before {
  content: "\f105";
}
.fa-angle-up:before {
  content: "\f106";
}
.fa-angle-down:before {
  content: "\f107";
}
.fa-desktop:before {
  content: "\f108";
}
.fa-laptop:before {
  content: "\f109";
}
.fa-tablet:before {
  content: "\f10a";
}
.fa-mobile-phone:before,
.fa-mobile:before {
  content: "\f10b";
}
.fa-circle-o:before {
  content: "\f10c";
}
.fa-quote-left:before {
  content: "\f10d";
}
.fa-quote-right:before {
  content: "\f10e";
}
.fa-spinner:before {
  content: "\f110";
}
.fa-circle:before {
  content: "\f111";
}
.fa-mail-reply:before,
.fa-reply:before {
  content: "\f112";
}
.fa-github-alt:before {
  content: "\f113";
}
.fa-folder-o:before {
  content: "\f114";
}
.fa-folder-open-o:before {
  content: "\f115";
}
.fa-smile-o:before {
  content: "\f118";
}
.fa-frown-o:before {
  content: "\f119";
}
.fa-meh-o:before {
  content: "\f11a";
}
.fa-gamepad:before {
  content: "\f11b";
}
.fa-keyboard-o:before {
  content: "\f11c";
}
.fa-flag-o:before {
  content: "\f11d";
}
.fa-flag-checkered:before {
  content: "\f11e";
}
.fa-terminal:before {
  content: "\f120";
}
.fa-code:before {
  content: "\f121";
}
.fa-mail-reply-all:before,
.fa-reply-all:before {
  content: "\f122";
}
.fa-star-half-empty:before,
.fa-star-half-full:before,
.fa-star-half-o:before {
  content: "\f123";
}
.fa-location-arrow:before {
  content: "\f124";
}
.fa-crop:before {
  content: "\f125";
}
.fa-code-fork:before {
  content: "\f126";
}
.fa-unlink:before,
.fa-chain-broken:before {
  content: "\f127";
}
.fa-question:before {
  content: "\f128";
}
.fa-info:before {
  content: "\f129";
}
.fa-exclamation:before {
  content: "\f12a";
}
.fa-superscript:before {
  content: "\f12b";
}
.fa-subscript:before {
  content: "\f12c";
}
.fa-eraser:before {
  content: "\f12d";
}
.fa-puzzle-piece:before {
  content: "\f12e";
}
.fa-microphone:before {
  content: "\f130";
}
.fa-microphone-slash:before {
  content: "\f131";
}
.fa-shield:before {
  content: "\f132";
}
.fa-calendar-o:before {
  content: "\f133";
}
.fa-fire-extinguisher:before {
  content: "\f134";
}
.fa-rocket:before {
  content: "\f135";
}
.fa-maxcdn:before {
  content: "\f136";
}
.fa-chevron-circle-left:before {
  content: "\f137";
}
.fa-chevron-circle-right:before {
  content: "\f138";
}
.fa-chevron-circle-up:before {
  content: "\f139";
}
.fa-chevron-circle-down:before {
  content: "\f13a";
}
.fa-html5:before {
  content: "\f13b";
}
.fa-css3:before {
  content: "\f13c";
}
.fa-anchor:before {
  content: "\f13d";
}
.fa-unlock-alt:before {
  content: "\f13e";
}
.fa-bullseye:before {
  content: "\f140";
}
.fa-ellipsis-h:before {
  content: "\f141";
}
.fa-ellipsis-v:before {
  content: "\f142";
}
.fa-rss-square:before {
  content: "\f143";
}
.fa-play-circle:before {
  content: "\f144";
}
.fa-ticket:before {
  content: "\f145";
}
.fa-minus-square:before {
  content: "\f146";
}
.fa-minus-square-o:before {
  content: "\f147";
}
.fa-level-up:before {
  content: "\f148";
}
.fa-level-down:before {
  content: "\f149";
}
.fa-check-square:before {
  content: "\f14a";
}
.fa-pencil-square:before {
  content: "\f14b";
}
.fa-external-link-square:before {
  content: "\f14c";
}
.fa-share-square:before {
  content: "\f14d";
}
.fa-compass:before {
  content: "\f14e";
}
.fa-toggle-down:before,
.fa-caret-square-o-down:before {
  content: "\f150";
}
.fa-toggle-up:before,
.fa-caret-square-o-up:before {
  content: "\f151";
}
.fa-toggle-right:before,
.fa-caret-square-o-right:before {
  content: "\f152";
}
.fa-euro:before,
.fa-eur:before {
  content: "\f153";
}
.fa-gbp:before {
  content: "\f154";
}
.fa-dollar:before,
.fa-usd:before {
  content: "\f155";
}
.fa-rupee:before,
.fa-inr:before {
  content: "\f156";
}
.fa-cny:before,
.fa-rmb:before,
.fa-yen:before,
.fa-jpy:before {
  content: "\f157";
}
.fa-ruble:before,
.fa-rouble:before,
.fa-rub:before {
  content: "\f158";
}
.fa-won:before,
.fa-krw:before {
  content: "\f159";
}
.fa-bitcoin:before,
.fa-btc:before {
  content: "\f15a";
}
.fa-file:before {
  content: "\f15b";
}
.fa-file-text:before {
  content: "\f15c";
}
.fa-sort-alpha-asc:before {
  content: "\f15d";
}
.fa-sort-alpha-desc:before {
  content: "\f15e";
}
.fa-sort-amount-asc:before {
  content: "\f160";
}
.fa-sort-amount-desc:before {
  content: "\f161";
}
.fa-sort-numeric-asc:before {
  content: "\f162";
}
.fa-sort-numeric-desc:before {
  content: "\f163";
}
.fa-thumbs-up:before {
  content: "\f164";
}
.fa-thumbs-down:before {
  content: "\f165";
}
.fa-youtube-square:before {
  content: "\f166";
}
.fa-youtube:before {
  content: "\f167";
}
.fa-xing:before {
  content: "\f168";
}
.fa-xing-square:before {
  content: "\f169";
}
.fa-youtube-play:before {
  content: "\f16a";
}
.fa-dropbox:before {
  content: "\f16b";
}
.fa-stack-overflow:before {
  content: "\f16c";
}
.fa-instagram:before {
  content: "\f16d";
}
.fa-flickr:before {
  content: "\f16e";
}
.fa-adn:before {
  content: "\f170";
}
.fa-bitbucket:before {
  content: "\f171";
}
.fa-bitbucket-square:before {
  content: "\f172";
}
.fa-tumblr:before {
  content: "\f173";
}
.fa-tumblr-square:before {
  content: "\f174";
}
.fa-long-arrow-down:before {
  content: "\f175";
}
.fa-long-arrow-up:before {
  content: "\f176";
}
.fa-long-arrow-left:before {
  content: "\f177";
}
.fa-long-arrow-right:before {
  content: "\f178";
}
.fa-apple:before {
  content: "\f179";
}
.fa-windows:before {
  content: "\f17a";
}
.fa-android:before {
  content: "\f17b";
}
.fa-linux:before {
  content: "\f17c";
}
.fa-dribbble:before {
  content: "\f17d";
}
.fa-skype:before {
  content: "\f17e";
}
.fa-foursquare:before {
  content: "\f180";
}
.fa-trello:before {
  content: "\f181";
}
.fa-female:before {
  content: "\f182";
}
.fa-male:before {
  content: "\f183";
}
.fa-gittip:before {
  content: "\f184";
}
.fa-sun-o:before {
  content: "\f185";
}
.fa-moon-o:before {
  content: "\f186";
}
.fa-archive:before {
  content: "\f187";
}
.fa-bug:before {
  content: "\f188";
}
.fa-vk:before {
  content: "\f189";
}
.fa-weibo:before {
  content: "\f18a";
}
.fa-renren:before {
  content: "\f18b";
}
.fa-pagelines:before {
  content: "\f18c";
}
.fa-stack-exchange:before {
  content: "\f18d";
}
.fa-arrow-circle-o-right:before {
  content: "\f18e";
}
.fa-arrow-circle-o-left:before {
  content: "\f190";
}
.fa-toggle-left:before,
.fa-caret-square-o-left:before {
  content: "\f191";
}
.fa-dot-circle-o:before {
  content: "\f192";
}
.fa-wheelchair:before {
  content: "\f193";
}
.fa-vimeo-square:before {
  content: "\f194";
}
.fa-turkish-lira:before,
.fa-try:before {
  content: "\f195";
}
.fa-plus-square-o:before {
  content: "\f196";
}
.fa-space-shuttle:before {
  content: "\f197";
}
.fa-slack:before {
  content: "\f198";
}
.fa-envelope-square:before {
  content: "\f199";
}
.fa-wordpress:before {
  content: "\f19a";
}
.fa-openid:before {
  content: "\f19b";
}
.fa-institution:before,
.fa-bank:before,
.fa-university:before {
  content: "\f19c";
}
.fa-mortar-board:before,
.fa-graduation-cap:before {
  content: "\f19d";
}
.fa-yahoo:before {
  content: "\f19e";
}
.fa-google:before {
  content: "\f1a0";
}
.fa-reddit:before {
  content: "\f1a1";
}
.fa-reddit-square:before {
  content: "\f1a2";
}
.fa-stumbleupon-circle:before {
  content: "\f1a3";
}
.fa-stumbleupon:before {
  content: "\f1a4";
}
.fa-delicious:before {
  content: "\f1a5";
}
.fa-digg:before {
  content: "\f1a6";
}
.fa-pied-piper:before {
  content: "\f1a7";
}
.fa-pied-piper-alt:before {
  content: "\f1a8";
}
.fa-drupal:before {
  content: "\f1a9";
}
.fa-joomla:before {
  content: "\f1aa";
}
.fa-language:before {
  content: "\f1ab";
}
.fa-fax:before {
  content: "\f1ac";
}
.fa-building:before {
  content: "\f1ad";
}
.fa-child:before {
  content: "\f1ae";
}
.fa-paw:before {
  content: "\f1b0";
}
.fa-spoon:before {
  content: "\f1b1";
}
.fa-cube:before {
  content: "\f1b2";
}
.fa-cubes:before {
  content: "\f1b3";
}
.fa-behance:before {
  content: "\f1b4";
}
.fa-behance-square:before {
  content: "\f1b5";
}
.fa-steam:before {
  content: "\f1b6";
}
.fa-steam-square:before {
  content: "\f1b7";
}
.fa-recycle:before {
  content: "\f1b8";
}
.fa-automobile:before,
.fa-car:before {
  content: "\f1b9";
}
.fa-cab:before,
.fa-taxi:before {
  content: "\f1ba";
}
.fa-tree:before {
  content: "\f1bb";
}
.fa-spotify:before {
  content: "\f1bc";
}
.fa-deviantart:before {
  content: "\f1bd";
}
.fa-soundcloud:before {
  content: "\f1be";
}
.fa-database:before {
  content: "\f1c0";
}
.fa-file-pdf-o:before {
  content: "\f1c1";
}
.fa-file-word-o:before {
  content: "\f1c2";
}
.fa-file-excel-o:before {
  content: "\f1c3";
}
.fa-file-powerpoint-o:before {
  content: "\f1c4";
}
.fa-file-photo-o:before,
.fa-file-picture-o:before,
.fa-file-image-o:before {
  content: "\f1c5";
}
.fa-file-zip-o:before,
.fa-file-archive-o:before {
  content: "\f1c6";
}
.fa-file-sound-o:before,
.fa-file-audio-o:before {
  content: "\f1c7";
}
.fa-file-movie-o:before,
.fa-file-video-o:before {
  content: "\f1c8";
}
.fa-file-code-o:before {
  content: "\f1c9";
}
.fa-vine:before {
  content: "\f1ca";
}
.fa-codepen:before {
  content: "\f1cb";
}
.fa-jsfiddle:before {
  content: "\f1cc";
}
.fa-life-bouy:before,
.fa-life-buoy:before,
.fa-life-saver:before,
.fa-support:before,
.fa-life-ring:before {
  content: "\f1cd";
}
.fa-circle-o-notch:before {
  content: "\f1ce";
}
.fa-ra:before,
.fa-rebel:before {
  content: "\f1d0";
}
.fa-ge:before,
.fa-empire:before {
  content: "\f1d1";
}
.fa-git-square:before {
  content: "\f1d2";
}
.fa-git:before {
  content: "\f1d3";
}
.fa-hacker-news:before {
  content: "\f1d4";
}
.fa-tencent-weibo:before {
  content: "\f1d5";
}
.fa-qq:before {
  content: "\f1d6";
}
.fa-wechat:before,
.fa-weixin:before {
  content: "\f1d7";
}
.fa-send:before,
.fa-paper-plane:before {
  content: "\f1d8";
}
.fa-send-o:before,
.fa-paper-plane-o:before {
  content: "\f1d9";
}
.fa-history:before {
  content: "\f1da";
}
.fa-circle-thin:before {
  content: "\f1db";
}
.fa-header:before {
  content: "\f1dc";
}
.fa-paragraph:before {
  content: "\f1dd";
}
.fa-sliders:before {
  content: "\f1de";
}
.fa-share-alt:before {
  content: "\f1e0";
}
.fa-share-alt-square:before {
  content: "\f1e1";
}
.fa-bomb:before {
  content: "\f1e2";
}
.fa-soccer-ball-o:before,
.fa-futbol-o:before {
  content: "\f1e3";
}
.fa-tty:before {
  content: "\f1e4";
}
.fa-binoculars:before {
  content: "\f1e5";
}
.fa-plug:before {
  content: "\f1e6";
}
.fa-slideshare:before {
  content: "\f1e7";
}
.fa-twitch:before {
  content: "\f1e8";
}
.fa-yelp:before {
  content: "\f1e9";
}
.fa-newspaper-o:before {
  content: "\f1ea";
}
.fa-wifi:before {
  content: "\f1eb";
}
.fa-calculator:before {
  content: "\f1ec";
}
.fa-paypal:before {
  content: "\f1ed";
}
.fa-google-wallet:before {
  content: "\f1ee";
}
.fa-cc-visa:before {
  content: "\f1f0";
}
.fa-cc-mastercard:before {
  content: "\f1f1";
}
.fa-cc-discover:before {
  content: "\f1f2";
}
.fa-cc-amex:before {
  content: "\f1f3";
}
.fa-cc-paypal:before {
  content: "\f1f4";
}
.fa-cc-stripe:before {
  content: "\f1f5";
}
.fa-bell-slash:before {
  content: "\f1f6";
}
.fa-bell-slash-o:before {
  content: "\f1f7";
}
.fa-trash:before {
  content: "\f1f8";
}
.fa-copyright:before {
  content: "\f1f9";
}
.fa-at:before {
  content: "\f1fa";
}
.fa-eyedropper:before {
  content: "\f1fb";
}
.fa-paint-brush:before {
  content: "\f1fc";
}
.fa-birthday-cake:before {
  content: "\f1fd";
}
.fa-area-chart:before {
  content: "\f1fe";
}
.fa-pie-chart:before {
  content: "\f200";
}
.fa-line-chart:before {
  content: "\f201";
}
.fa-lastfm:before {
  content: "\f202";
}
.fa-lastfm-square:before {
  content: "\f203";
}
.fa-toggle-off:before {
  content: "\f204";
}
.fa-toggle-on:before {
  content: "\f205";
}
.fa-bicycle:before {
  content: "\f206";
}
.fa-bus:before {
  content: "\f207";
}
.fa-ioxhost:before {
  content: "\f208";
}
.fa-angellist:before {
  content: "\f209";
}
.fa-cc:before {
  content: "\f20a";
}
.fa-shekel:before,
.fa-sheqel:before,
.fa-ils:before {
  content: "\f20b";
}
.fa-meanpath:before {
  content: "\f20c";
}
/*!
*
* IPython base
*
*/
.modal.fade .modal-dialog {
  -webkit-transform: translate(0, 0);
  -ms-transform: translate(0, 0);
  -o-transform: translate(0, 0);
  transform: translate(0, 0);
}
code {
  color: #000;
}
pre {
  font-size: inherit;
  line-height: inherit;
}
label {
  font-weight: normal;
}
/* Make the page background atleast 100% the height of the view port */
/* Make the page itself atleast 70% the height of the view port */
.border-box-sizing {
  box-sizing: border-box;
  -moz-box-sizing: border-box;
  -webkit-box-sizing: border-box;
}
.corner-all {
  border-radius: 2px;
}
.no-padding {
  padding: 0px;
}
/* Flexible box model classes */
/* Taken from Alex Russell http://infrequently.org/2009/08/css-3-progress/ */
/* This file is a compatability layer.  It allows the usage of flexible box 
model layouts accross multiple browsers, including older browsers.  The newest,
universal implementation of the flexible box model is used when available (see
`Modern browsers` comments below).  Browsers that are known to implement this 
new spec completely include:

    Firefox 28.0+
    Chrome 29.0+
    Internet Explorer 11+ 
    Opera 17.0+

Browsers not listed, including Safari, are supported via the styling under the
`Old browsers` comments below.
*/
.hbox {
  /* Old browsers */
  display: -webkit-box;
  -webkit-box-orient: horizontal;
  -webkit-box-align: stretch;
  display: -moz-box;
  -moz-box-orient: horizontal;
  -moz-box-align: stretch;
  display: box;
  box-orient: horizontal;
  box-align: stretch;
  /* Modern browsers */
  display: flex;
  flex-direction: row;
  align-items: stretch;
}
.hbox > * {
  /* Old browsers */
  -webkit-box-flex: 0;
  -moz-box-flex: 0;
  box-flex: 0;
  /* Modern browsers */
  flex: none;
}
.vbox {
  /* Old browsers */
  display: -webkit-box;
  -webkit-box-orient: vertical;
  -webkit-box-align: stretch;
  display: -moz-box;
  -moz-box-orient: vertical;
  -moz-box-align: stretch;
  display: box;
  box-orient: vertical;
  box-align: stretch;
  /* Modern browsers */
  display: flex;
  flex-direction: column;
  align-items: stretch;
}
.vbox > * {
  /* Old browsers */
  -webkit-box-flex: 0;
  -moz-box-flex: 0;
  box-flex: 0;
  /* Modern browsers */
  flex: none;
}
.hbox.reverse,
.vbox.reverse,
.reverse {
  /* Old browsers */
  -webkit-box-direction: reverse;
  -moz-box-direction: reverse;
  box-direction: reverse;
  /* Modern browsers */
  flex-direction: row-reverse;
}
.hbox.box-flex0,
.vbox.box-flex0,
.box-flex0 {
  /* Old browsers */
  -webkit-box-flex: 0;
  -moz-box-flex: 0;
  box-flex: 0;
  /* Modern browsers */
  flex: none;
  width: auto;
}
.hbox.box-flex1,
.vbox.box-flex1,
.box-flex1 {
  /* Old browsers */
  -webkit-box-flex: 1;
  -moz-box-flex: 1;
  box-flex: 1;
  /* Modern browsers */
  flex: 1;
}
.hbox.box-flex,
.vbox.box-flex,
.box-flex {
  /* Old browsers */
  /* Old browsers */
  -webkit-box-flex: 1;
  -moz-box-flex: 1;
  box-flex: 1;
  /* Modern browsers */
  flex: 1;
}
.hbox.box-flex2,
.vbox.box-flex2,
.box-flex2 {
  /* Old browsers */
  -webkit-box-flex: 2;
  -moz-box-flex: 2;
  box-flex: 2;
  /* Modern browsers */
  flex: 2;
}
.box-group1 {
  /*  Deprecated */
  -webkit-box-flex-group: 1;
  -moz-box-flex-group: 1;
  box-flex-group: 1;
}
.box-group2 {
  /* Deprecated */
  -webkit-box-flex-group: 2;
  -moz-box-flex-group: 2;
  box-flex-group: 2;
}
.hbox.start,
.vbox.start,
.start {
  /* Old browsers */
  -webkit-box-pack: start;
  -moz-box-pack: start;
  box-pack: start;
  /* Modern browsers */
  justify-content: flex-start;
}
.hbox.end,
.vbox.end,
.end {
  /* Old browsers */
  -webkit-box-pack: end;
  -moz-box-pack: end;
  box-pack: end;
  /* Modern browsers */
  justify-content: flex-end;
}
.hbox.center,
.vbox.center,
.center {
  /* Old browsers */
  -webkit-box-pack: center;
  -moz-box-pack: center;
  box-pack: center;
  /* Modern browsers */
  justify-content: center;
}
.hbox.baseline,
.vbox.baseline,
.baseline {
  /* Old browsers */
  -webkit-box-pack: baseline;
  -moz-box-pack: baseline;
  box-pack: baseline;
  /* Modern browsers */
  justify-content: baseline;
}
.hbox.stretch,
.vbox.stretch,
.stretch {
  /* Old browsers */
  -webkit-box-pack: stretch;
  -moz-box-pack: stretch;
  box-pack: stretch;
  /* Modern browsers */
  justify-content: stretch;
}
.hbox.align-start,
.vbox.align-start,
.align-start {
  /* Old browsers */
  -webkit-box-align: start;
  -moz-box-align: start;
  box-align: start;
  /* Modern browsers */
  align-items: flex-start;
}
.hbox.align-end,
.vbox.align-end,
.align-end {
  /* Old browsers */
  -webkit-box-align: end;
  -moz-box-align: end;
  box-align: end;
  /* Modern browsers */
  align-items: flex-end;
}
.hbox.align-center,
.vbox.align-center,
.align-center {
  /* Old browsers */
  -webkit-box-align: center;
  -moz-box-align: center;
  box-align: center;
  /* Modern browsers */
  align-items: center;
}
.hbox.align-baseline,
.vbox.align-baseline,
.align-baseline {
  /* Old browsers */
  -webkit-box-align: baseline;
  -moz-box-align: baseline;
  box-align: baseline;
  /* Modern browsers */
  align-items: baseline;
}
.hbox.align-stretch,
.vbox.align-stretch,
.align-stretch {
  /* Old browsers */
  -webkit-box-align: stretch;
  -moz-box-align: stretch;
  box-align: stretch;
  /* Modern browsers */
  align-items: stretch;
}
div.error {
  margin: 2em;
  text-align: center;
}
div.error > h1 {
  font-size: 500%;
  line-height: normal;
}
div.error > p {
  font-size: 200%;
  line-height: normal;
}
div.traceback-wrapper {
  text-align: left;
  max-width: 800px;
  margin: auto;
}
/**
 * Primary styles
 *
 * Author: Jupyter Development Team
 */
body {
  background-color: #fff;
  /* This makes sure that the body covers the entire window and needs to
       be in a different element than the display: box in wrapper below */
  position: absolute;
  left: 0px;
  right: 0px;
  top: 0px;
  bottom: 0px;
  overflow: visible;
}
body > #header {
  /* Initially hidden to prevent FLOUC */
  display: none;
  background-color: #fff;
  /* Display over codemirror */
  position: relative;
  z-index: 100;
}
body > #header #header-container {
  padding-bottom: 5px;
  padding-top: 5px;
  box-sizing: border-box;
  -moz-box-sizing: border-box;
  -webkit-box-sizing: border-box;
}
body > #header .header-bar {
  width: 100%;
  height: 1px;
  background: #e7e7e7;
  margin-bottom: -1px;
}
@media print {
  body > #header {
    display: none !important;
  }
}
#header-spacer {
  width: 100%;
  visibility: hidden;
}
@media print {
  #header-spacer {
    display: none;
  }
}
#ipython_notebook {
  padding-left: 0px;
  padding-top: 1px;
  padding-bottom: 1px;
}
@media (max-width: 991px) {
  #ipython_notebook {
    margin-left: 10px;
  }
}
[dir="rtl"] #ipython_notebook {
  float: right !important;
}
#noscript {
  width: auto;
  padding-top: 16px;
  padding-bottom: 16px;
  text-align: center;
  font-size: 22px;
  color: red;
  font-weight: bold;
}
#ipython_notebook img {
  height: 28px;
}
#site {
  width: 100%;
  display: none;
  box-sizing: border-box;
  -moz-box-sizing: border-box;
  -webkit-box-sizing: border-box;
  overflow: auto;
}
@media print {
  #site {
    height: auto !important;
  }
}
/* Smaller buttons */
.ui-button .ui-button-text {
  padding: 0.2em 0.8em;
  font-size: 77%;
}
input.ui-button {
  padding: 0.3em 0.9em;
}
span#login_widget {
  float: right;
}
span#login_widget > .button,
#logout {
  color: #333;
  background-color: #fff;
  border-color: #ccc;
}
span#login_widget > .button:focus,
#logout:focus,
span#login_widget > .button.focus,
#logout.focus {
  color: #333;
  background-color: #e6e6e6;
  border-color: #8c8c8c;
}
span#login_widget > .button:hover,
#logout:hover {
  color: #333;
  background-color: #e6e6e6;
  border-color: #adadad;
}
span#login_widget > .button:active,
#logout:active,
span#login_widget > .button.active,
#logout.active,
.open > .dropdown-togglespan#login_widget > .button,
.open > .dropdown-toggle#logout {
  color: #333;
  background-color: #e6e6e6;
  border-color: #adadad;
}
span#login_widget > .button:active:hover,
#logout:active:hover,
span#login_widget > .button.active:hover,
#logout.active:hover,
.open > .dropdown-togglespan#login_widget > .button:hover,
.open > .dropdown-toggle#logout:hover,
span#login_widget > .button:active:focus,
#logout:active:focus,
span#login_widget > .button.active:focus,
#logout.active:focus,
.open > .dropdown-togglespan#login_widget > .button:focus,
.open > .dropdown-toggle#logout:focus,
span#login_widget > .button:active.focus,
#logout:active.focus,
span#login_widget > .button.active.focus,
#logout.active.focus,
.open > .dropdown-togglespan#login_widget > .button.focus,
.open > .dropdown-toggle#logout.focus {
  color: #333;
  background-color: #d4d4d4;
  border-color: #8c8c8c;
}
span#login_widget > .button:active,
#logout:active,
span#login_widget > .button.active,
#logout.active,
.open > .dropdown-togglespan#login_widget > .button,
.open > .dropdown-toggle#logout {
  background-image: none;
}
span#login_widget > .button.disabled:hover,
#logout.disabled:hover,
span#login_widget > .button[disabled]:hover,
#logout[disabled]:hover,
fieldset[disabled] span#login_widget > .button:hover,
fieldset[disabled] #logout:hover,
span#login_widget > .button.disabled:focus,
#logout.disabled:focus,
span#login_widget > .button[disabled]:focus,
#logout[disabled]:focus,
fieldset[disabled] span#login_widget > .button:focus,
fieldset[disabled] #logout:focus,
span#login_widget > .button.disabled.focus,
#logout.disabled.focus,
span#login_widget > .button[disabled].focus,
#logout[disabled].focus,
fieldset[disabled] span#login_widget > .button.focus,
fieldset[disabled] #logout.focus {
  background-color: #fff;
  border-color: #ccc;
}
span#login_widget > .button .badge,
#logout .badge {
  color: #fff;
  background-color: #333;
}
.nav-header {
  text-transform: none;
}
#header > span {
  margin-top: 10px;
}
.modal_stretch .modal-dialog {
  /* Old browsers */
  display: -webkit-box;
  -webkit-box-orient: vertical;
  -webkit-box-align: stretch;
  display: -moz-box;
  -moz-box-orient: vertical;
  -moz-box-align: stretch;
  display: box;
  box-orient: vertical;
  box-align: stretch;
  /* Modern browsers */
  display: flex;
  flex-direction: column;
  align-items: stretch;
  min-height: 80vh;
}
.modal_stretch .modal-dialog .modal-body {
  max-height: calc(100vh - 200px);
  overflow: auto;
  flex: 1;
}
@media (min-width: 768px) {
  .modal .modal-dialog {
    width: 700px;
  }
}
@media (min-width: 768px) {
  select.form-control {
    margin-left: 12px;
    margin-right: 12px;
  }
}
/*!
*
* IPython auth
*
*/
.center-nav {
  display: inline-block;
  margin-bottom: -4px;
}
/*!
*
* IPython tree view
*
*/
/* We need an invisible input field on top of the sentense*/
/* "Drag file onto the list ..." */
.alternate_upload {
  background-color: none;
  display: inline;
}
.alternate_upload.form {
  padding: 0;
  margin: 0;
}
.alternate_upload input.fileinput {
  text-align: center;
  vertical-align: middle;
  display: inline;
  opacity: 0;
  z-index: 2;
  width: 12ex;
  margin-right: -12ex;
}
.alternate_upload .btn-upload {
  height: 22px;
}
/**
 * Primary styles
 *
 * Author: Jupyter Development Team
 */
[dir="rtl"] #tabs li {
  float: right;
}
ul#tabs {
  margin-bottom: 4px;
}
[dir="rtl"] ul#tabs {
  margin-right: 0px;
}
ul#tabs a {
  padding-top: 6px;
  padding-bottom: 4px;
}
ul.breadcrumb a:focus,
ul.breadcrumb a:hover {
  text-decoration: none;
}
ul.breadcrumb i.icon-home {
  font-size: 16px;
  margin-right: 4px;
}
ul.breadcrumb span {
  color: #5e5e5e;
}
.list_toolbar {
  padding: 4px 0 4px 0;
  vertical-align: middle;
}
.list_toolbar .tree-buttons {
  padding-top: 1px;
}
[dir="rtl"] .list_toolbar .tree-buttons {
  float: left !important;
}
[dir="rtl"] .list_toolbar .pull-right {
  padding-top: 1px;
  float: left !important;
}
[dir="rtl"] .list_toolbar .pull-left {
  float: right !important;
}
.dynamic-buttons {
  padding-top: 3px;
  display: inline-block;
}
.list_toolbar [class*="span"] {
  min-height: 24px;
}
.list_header {
  font-weight: bold;
  background-color: #EEE;
}
.list_placeholder {
  font-weight: bold;
  padding-top: 4px;
  padding-bottom: 4px;
  padding-left: 7px;
  padding-right: 7px;
}
.list_container {
  margin-top: 4px;
  margin-bottom: 20px;
  border: 1px solid #ddd;
  border-radius: 2px;
}
.list_container > div {
  border-bottom: 1px solid #ddd;
}
.list_container > div:hover .list-item {
  background-color: red;
}
.list_container > div:last-child {
  border: none;
}
.list_item:hover .list_item {
  background-color: #ddd;
}
.list_item a {
  text-decoration: none;
}
.list_item:hover {
  background-color: #fafafa;
}
.list_header > div,
.list_item > div {
  padding-top: 4px;
  padding-bottom: 4px;
  padding-left: 7px;
  padding-right: 7px;
  line-height: 22px;
}
.list_header > div input,
.list_item > div input {
  margin-right: 7px;
  margin-left: 14px;
  vertical-align: baseline;
  line-height: 22px;
  position: relative;
  top: -1px;
}
.list_header > div .item_link,
.list_item > div .item_link {
  margin-left: -1px;
  vertical-align: baseline;
  line-height: 22px;
}
.new-file input[type=checkbox] {
  visibility: hidden;
}
.item_name {
  line-height: 22px;
  height: 24px;
}
.item_icon {
  font-size: 14px;
  color: #5e5e5e;
  margin-right: 7px;
  margin-left: 7px;
  line-height: 22px;
  vertical-align: baseline;
}
.item_buttons {
  line-height: 1em;
  margin-left: -5px;
}
.item_buttons .btn,
.item_buttons .btn-group,
.item_buttons .input-group {
  float: left;
}
.item_buttons > .btn,
.item_buttons > .btn-group,
.item_buttons > .input-group {
  margin-left: 5px;
}
.item_buttons .btn {
  min-width: 13ex;
}
.item_buttons .running-indicator {
  padding-top: 4px;
  color: #5cb85c;
}
.item_buttons .kernel-name {
  padding-top: 4px;
  color: #5bc0de;
  margin-right: 7px;
  float: left;
}
.toolbar_info {
  height: 24px;
  line-height: 24px;
}
.list_item input:not([type=checkbox]) {
  padding-top: 3px;
  padding-bottom: 3px;
  height: 22px;
  line-height: 14px;
  margin: 0px;
}
.highlight_text {
  color: blue;
}
#project_name {
  display: inline-block;
  padding-left: 7px;
  margin-left: -2px;
}
#project_name > .breadcrumb {
  padding: 0px;
  margin-bottom: 0px;
  background-color: transparent;
  font-weight: bold;
}
#tree-selector {
  padding-right: 0px;
}
[dir="rtl"] #tree-selector a {
  float: right;
}
#button-select-all {
  min-width: 50px;
}
#select-all {
  margin-left: 7px;
  margin-right: 2px;
}
.menu_icon {
  margin-right: 2px;
}
.tab-content .row {
  margin-left: 0px;
  margin-right: 0px;
}
.folder_icon:before {
  display: inline-block;
  font: normal normal normal 14px/1 FontAwesome;
  font-size: inherit;
  text-rendering: auto;
  -webkit-font-smoothing: antialiased;
  -moz-osx-font-smoothing: grayscale;
  content: "\f114";
}
.folder_icon:before.pull-left {
  margin-right: .3em;
}
.folder_icon:before.pull-right {
  margin-left: .3em;
}
.notebook_icon:before {
  display: inline-block;
  font: normal normal normal 14px/1 FontAwesome;
  font-size: inherit;
  text-rendering: auto;
  -webkit-font-smoothing: antialiased;
  -moz-osx-font-smoothing: grayscale;
  content: "\f02d";
  position: relative;
  top: -1px;
}
.notebook_icon:before.pull-left {
  margin-right: .3em;
}
.notebook_icon:before.pull-right {
  margin-left: .3em;
}
.running_notebook_icon:before {
  display: inline-block;
  font: normal normal normal 14px/1 FontAwesome;
  font-size: inherit;
  text-rendering: auto;
  -webkit-font-smoothing: antialiased;
  -moz-osx-font-smoothing: grayscale;
  content: "\f02d";
  position: relative;
  top: -1px;
  color: #5cb85c;
}
.running_notebook_icon:before.pull-left {
  margin-right: .3em;
}
.running_notebook_icon:before.pull-right {
  margin-left: .3em;
}
.file_icon:before {
  display: inline-block;
  font: normal normal normal 14px/1 FontAwesome;
  font-size: inherit;
  text-rendering: auto;
  -webkit-font-smoothing: antialiased;
  -moz-osx-font-smoothing: grayscale;
  content: "\f016";
  position: relative;
  top: -2px;
}
.file_icon:before.pull-left {
  margin-right: .3em;
}
.file_icon:before.pull-right {
  margin-left: .3em;
}
#notebook_toolbar .pull-right {
  padding-top: 0px;
  margin-right: -1px;
}
ul#new-menu {
  left: auto;
  right: 0;
}
[dir="rtl"] #new-menu {
  text-align: right;
}
.kernel-menu-icon {
  padding-right: 12px;
  width: 24px;
  content: "\f096";
}
.kernel-menu-icon:before {
  content: "\f096";
}
.kernel-menu-icon-current:before {
  content: "\f00c";
}
#tab_content {
  padding-top: 20px;
}
#running .panel-group .panel {
  margin-top: 3px;
  margin-bottom: 1em;
}
#running .panel-group .panel .panel-heading {
  background-color: #EEE;
  padding-top: 4px;
  padding-bottom: 4px;
  padding-left: 7px;
  padding-right: 7px;
  line-height: 22px;
}
#running .panel-group .panel .panel-heading a:focus,
#running .panel-group .panel .panel-heading a:hover {
  text-decoration: none;
}
#running .panel-group .panel .panel-body {
  padding: 0px;
}
#running .panel-group .panel .panel-body .list_container {
  margin-top: 0px;
  margin-bottom: 0px;
  border: 0px;
  border-radius: 0px;
}
#running .panel-group .panel .panel-body .list_container .list_item {
  border-bottom: 1px solid #ddd;
}
#running .panel-group .panel .panel-body .list_container .list_item:last-child {
  border-bottom: 0px;
}
[dir="rtl"] #running .col-sm-8 {
  float: right !important;
}
.delete-button {
  display: none;
}
.duplicate-button {
  display: none;
}
.rename-button {
  display: none;
}
.shutdown-button {
  display: none;
}
.dynamic-instructions {
  display: inline-block;
  padding-top: 4px;
}
/*!
*
* IPython text editor webapp
*
*/
.selected-keymap i.fa {
  padding: 0px 5px;
}
.selected-keymap i.fa:before {
  content: "\f00c";
}
#mode-menu {
  overflow: auto;
  max-height: 20em;
}
.edit_app #header {
  -webkit-box-shadow: 0px 0px 12px 1px rgba(87, 87, 87, 0.2);
  box-shadow: 0px 0px 12px 1px rgba(87, 87, 87, 0.2);
}
.edit_app #menubar .navbar {
  /* Use a negative 1 bottom margin, so the border overlaps the border of the
    header */
  margin-bottom: -1px;
}
.dirty-indicator {
  display: inline-block;
  font: normal normal normal 14px/1 FontAwesome;
  font-size: inherit;
  text-rendering: auto;
  -webkit-font-smoothing: antialiased;
  -moz-osx-font-smoothing: grayscale;
  width: 20px;
}
.dirty-indicator.pull-left {
  margin-right: .3em;
}
.dirty-indicator.pull-right {
  margin-left: .3em;
}
.dirty-indicator-dirty {
  display: inline-block;
  font: normal normal normal 14px/1 FontAwesome;
  font-size: inherit;
  text-rendering: auto;
  -webkit-font-smoothing: antialiased;
  -moz-osx-font-smoothing: grayscale;
  width: 20px;
}
.dirty-indicator-dirty.pull-left {
  margin-right: .3em;
}
.dirty-indicator-dirty.pull-right {
  margin-left: .3em;
}
.dirty-indicator-clean {
  display: inline-block;
  font: normal normal normal 14px/1 FontAwesome;
  font-size: inherit;
  text-rendering: auto;
  -webkit-font-smoothing: antialiased;
  -moz-osx-font-smoothing: grayscale;
  width: 20px;
}
.dirty-indicator-clean.pull-left {
  margin-right: .3em;
}
.dirty-indicator-clean.pull-right {
  margin-left: .3em;
}
.dirty-indicator-clean:before {
  display: inline-block;
  font: normal normal normal 14px/1 FontAwesome;
  font-size: inherit;
  text-rendering: auto;
  -webkit-font-smoothing: antialiased;
  -moz-osx-font-smoothing: grayscale;
  content: "\f00c";
}
.dirty-indicator-clean:before.pull-left {
  margin-right: .3em;
}
.dirty-indicator-clean:before.pull-right {
  margin-left: .3em;
}
#filename {
  font-size: 16pt;
  display: table;
  padding: 0px 5px;
}
#current-mode {
  padding-left: 5px;
  padding-right: 5px;
}
#texteditor-backdrop {
  padding-top: 20px;
  padding-bottom: 20px;
}
@media not print {
  #texteditor-backdrop {
    background-color: #EEE;
  }
}
@media print {
  #texteditor-backdrop #texteditor-container .CodeMirror-gutter,
  #texteditor-backdrop #texteditor-container .CodeMirror-gutters {
    background-color: #fff;
  }
}
@media not print {
  #texteditor-backdrop #texteditor-container .CodeMirror-gutter,
  #texteditor-backdrop #texteditor-container .CodeMirror-gutters {
    background-color: #fff;
  }
}
@media not print {
  #texteditor-backdrop #texteditor-container {
    padding: 0px;
    background-color: #fff;
    -webkit-box-shadow: 0px 0px 12px 1px rgba(87, 87, 87, 0.2);
    box-shadow: 0px 0px 12px 1px rgba(87, 87, 87, 0.2);
  }
}
/*!
*
* IPython notebook
*
*/
/* CSS font colors for translated ANSI colors. */
.ansibold {
  font-weight: bold;
}
/* use dark versions for foreground, to improve visibility */
.ansiblack {
  color: black;
}
.ansired {
  color: darkred;
}
.ansigreen {
  color: darkgreen;
}
.ansiyellow {
  color: #c4a000;
}
.ansiblue {
  color: darkblue;
}
.ansipurple {
  color: darkviolet;
}
.ansicyan {
  color: steelblue;
}
.ansigray {
  color: gray;
}
/* and light for background, for the same reason */
.ansibgblack {
  background-color: black;
}
.ansibgred {
  background-color: red;
}
.ansibggreen {
  background-color: green;
}
.ansibgyellow {
  background-color: yellow;
}
.ansibgblue {
  background-color: blue;
}
.ansibgpurple {
  background-color: magenta;
}
.ansibgcyan {
  background-color: cyan;
}
.ansibggray {
  background-color: gray;
}
div.cell {
  /* Old browsers */
  display: -webkit-box;
  -webkit-box-orient: vertical;
  -webkit-box-align: stretch;
  display: -moz-box;
  -moz-box-orient: vertical;
  -moz-box-align: stretch;
  display: box;
  box-orient: vertical;
  box-align: stretch;
  /* Modern browsers */
  display: flex;
  flex-direction: column;
  align-items: stretch;
  border-radius: 2px;
  box-sizing: border-box;
  -moz-box-sizing: border-box;
  -webkit-box-sizing: border-box;
  border-width: 1px;
  border-style: solid;
  border-color: transparent;
  width: 100%;
  padding: 5px;
  /* This acts as a spacer between cells, that is outside the border */
  margin: 0px;
  outline: none;
  border-left-width: 1px;
  padding-left: 5px;
  background: linear-gradient(to right, transparent -40px, transparent 1px, transparent 1px, transparent 100%);
}
div.cell.jupyter-soft-selected {
  border-left-color: #90CAF9;
  border-left-color: #E3F2FD;
  border-left-width: 1px;
  padding-left: 5px;
  border-right-color: #E3F2FD;
  border-right-width: 1px;
  background: #E3F2FD;
}
@media print {
  div.cell.jupyter-soft-selected {
    border-color: transparent;
  }
}
div.cell.selected {
  border-color: #ababab;
  border-left-width: 0px;
  padding-left: 6px;
  background: linear-gradient(to right, #42A5F5 -40px, #42A5F5 5px, transparent 5px, transparent 100%);
}
@media print {
  div.cell.selected {
    border-color: transparent;
  }
}
div.cell.selected.jupyter-soft-selected {
  border-left-width: 0;
  padding-left: 6px;
  background: linear-gradient(to right, #42A5F5 -40px, #42A5F5 7px, #E3F2FD 7px, #E3F2FD 100%);
}
.edit_mode div.cell.selected {
  border-color: #66BB6A;
  border-left-width: 0px;
  padding-left: 6px;
  background: linear-gradient(to right, #66BB6A -40px, #66BB6A 5px, transparent 5px, transparent 100%);
}
@media print {
  .edit_mode div.cell.selected {
    border-color: transparent;
  }
}
.prompt {
  /* This needs to be wide enough for 3 digit prompt numbers: In[100]: */
  min-width: 14ex;
  /* This padding is tuned to match the padding on the CodeMirror editor. */
  padding: 0.4em;
  margin: 0px;
  font-family: monospace;
  text-align: right;
  /* This has to match that of the the CodeMirror class line-height below */
  line-height: 1.21429em;
  /* Don't highlight prompt number selection */
  -webkit-touch-callout: none;
  -webkit-user-select: none;
  -khtml-user-select: none;
  -moz-user-select: none;
  -ms-user-select: none;
  user-select: none;
  /* Use default cursor */
  cursor: default;
}
@media (max-width: 540px) {
  .prompt {
    text-align: left;
  }
}
div.inner_cell {
  min-width: 0;
  /* Old browsers */
  display: -webkit-box;
  -webkit-box-orient: vertical;
  -webkit-box-align: stretch;
  display: -moz-box;
  -moz-box-orient: vertical;
  -moz-box-align: stretch;
  display: box;
  box-orient: vertical;
  box-align: stretch;
  /* Modern browsers */
  display: flex;
  flex-direction: column;
  align-items: stretch;
  /* Old browsers */
  -webkit-box-flex: 1;
  -moz-box-flex: 1;
  box-flex: 1;
  /* Modern browsers */
  flex: 1;
}
/* input_area and input_prompt must match in top border and margin for alignment */
div.input_area {
  border: 1px solid #cfcfcf;
  border-radius: 2px;
  background: #f7f7f7;
  line-height: 1.21429em;
}
/* This is needed so that empty prompt areas can collapse to zero height when there
   is no content in the output_subarea and the prompt. The main purpose of this is
   to make sure that empty JavaScript output_subareas have no height. */
div.prompt:empty {
  padding-top: 0;
  padding-bottom: 0;
}
div.unrecognized_cell {
  padding: 5px 5px 5px 0px;
  /* Old browsers */
  display: -webkit-box;
  -webkit-box-orient: horizontal;
  -webkit-box-align: stretch;
  display: -moz-box;
  -moz-box-orient: horizontal;
  -moz-box-align: stretch;
  display: box;
  box-orient: horizontal;
  box-align: stretch;
  /* Modern browsers */
  display: flex;
  flex-direction: row;
  align-items: stretch;
}
div.unrecognized_cell .inner_cell {
  border-radius: 2px;
  padding: 5px;
  font-weight: bold;
  color: red;
  border: 1px solid #cfcfcf;
  background: #eaeaea;
}
div.unrecognized_cell .inner_cell a {
  color: inherit;
  text-decoration: none;
}
div.unrecognized_cell .inner_cell a:hover {
  color: inherit;
  text-decoration: none;
}
@media (max-width: 540px) {
  div.unrecognized_cell > div.prompt {
    display: none;
  }
}
div.code_cell {
  /* avoid page breaking on code cells when printing */
}
@media print {
  div.code_cell {
    page-break-inside: avoid;
  }
}
/* any special styling for code cells that are currently running goes here */
div.input {
  page-break-inside: avoid;
  /* Old browsers */
  display: -webkit-box;
  -webkit-box-orient: horizontal;
  -webkit-box-align: stretch;
  display: -moz-box;
  -moz-box-orient: horizontal;
  -moz-box-align: stretch;
  display: box;
  box-orient: horizontal;
  box-align: stretch;
  /* Modern browsers */
  display: flex;
  flex-direction: row;
  align-items: stretch;
}
@media (max-width: 540px) {
  div.input {
    /* Old browsers */
    display: -webkit-box;
    -webkit-box-orient: vertical;
    -webkit-box-align: stretch;
    display: -moz-box;
    -moz-box-orient: vertical;
    -moz-box-align: stretch;
    display: box;
    box-orient: vertical;
    box-align: stretch;
    /* Modern browsers */
    display: flex;
    flex-direction: column;
    align-items: stretch;
  }
}
/* input_area and input_prompt must match in top border and margin for alignment */
div.input_prompt {
  color: #303F9F;
  border-top: 1px solid transparent;
}
div.input_area > div.highlight {
  margin: 0.4em;
  border: none;
  padding: 0px;
  background-color: transparent;
}
div.input_area > div.highlight > pre {
  margin: 0px;
  border: none;
  padding: 0px;
  background-color: transparent;
}
/* The following gets added to the <head> if it is detected that the user has a
 * monospace font with inconsistent normal/bold/italic height.  See
 * notebookmain.js.  Such fonts will have keywords vertically offset with
 * respect to the rest of the text.  The user should select a better font.
 * See: https://github.com/ipython/ipython/issues/1503
 *
 * .CodeMirror span {
 *      vertical-align: bottom;
 * }
 */
.CodeMirror {
  line-height: 1.21429em;
  /* Changed from 1em to our global default */
  font-size: 14px;
  height: auto;
  /* Changed to auto to autogrow */
  background: none;
  /* Changed from white to allow our bg to show through */
}
.CodeMirror-scroll {
  /*  The CodeMirror docs are a bit fuzzy on if overflow-y should be hidden or visible.*/
  /*  We have found that if it is visible, vertical scrollbars appear with font size changes.*/
  overflow-y: hidden;
  overflow-x: auto;
}
.CodeMirror-lines {
  /* In CM2, this used to be 0.4em, but in CM3 it went to 4px. We need the em value because */
  /* we have set a different line-height and want this to scale with that. */
  padding: 0.4em;
}
.CodeMirror-linenumber {
  padding: 0 8px 0 4px;
}
.CodeMirror-gutters {
  border-bottom-left-radius: 2px;
  border-top-left-radius: 2px;
}
.CodeMirror pre {
  /* In CM3 this went to 4px from 0 in CM2. We need the 0 value because of how we size */
  /* .CodeMirror-lines */
  padding: 0;
  border: 0;
  border-radius: 0;
}
/*

Original style from softwaremaniacs.org (c) Ivan Sagalaev <Maniac@SoftwareManiacs.Org>
Adapted from GitHub theme

*/
.highlight-base {
  color: #000;
}
.highlight-variable {
  color: #000;
}
.highlight-variable-2 {
  color: #1a1a1a;
}
.highlight-variable-3 {
  color: #333333;
}
.highlight-string {
  color: #BA2121;
}
.highlight-comment {
  color: #408080;
  font-style: italic;
}
.highlight-number {
  color: #080;
}
.highlight-atom {
  color: #88F;
}
.highlight-keyword {
  color: #008000;
  font-weight: bold;
}
.highlight-builtin {
  color: #008000;
}
.highlight-error {
  color: #f00;
}
.highlight-operator {
  color: #AA22FF;
  font-weight: bold;
}
.highlight-meta {
  color: #AA22FF;
}
/* previously not defined, copying from default codemirror */
.highlight-def {
  color: #00f;
}
.highlight-string-2 {
  color: #f50;
}
.highlight-qualifier {
  color: #555;
}
.highlight-bracket {
  color: #997;
}
.highlight-tag {
  color: #170;
}
.highlight-attribute {
  color: #00c;
}
.highlight-header {
  color: blue;
}
.highlight-quote {
  color: #090;
}
.highlight-link {
  color: #00c;
}
/* apply the same style to codemirror */
.cm-s-ipython span.cm-keyword {
  color: #008000;
  font-weight: bold;
}
.cm-s-ipython span.cm-atom {
  color: #88F;
}
.cm-s-ipython span.cm-number {
  color: #080;
}
.cm-s-ipython span.cm-def {
  color: #00f;
}
.cm-s-ipython span.cm-variable {
  color: #000;
}
.cm-s-ipython span.cm-operator {
  color: #AA22FF;
  font-weight: bold;
}
.cm-s-ipython span.cm-variable-2 {
  color: #1a1a1a;
}
.cm-s-ipython span.cm-variable-3 {
  color: #333333;
}
.cm-s-ipython span.cm-comment {
  color: #408080;
  font-style: italic;
}
.cm-s-ipython span.cm-string {
  color: #BA2121;
}
.cm-s-ipython span.cm-string-2 {
  color: #f50;
}
.cm-s-ipython span.cm-meta {
  color: #AA22FF;
}
.cm-s-ipython span.cm-qualifier {
  color: #555;
}
.cm-s-ipython span.cm-builtin {
  color: #008000;
}
.cm-s-ipython span.cm-bracket {
  color: #997;
}
.cm-s-ipython span.cm-tag {
  color: #170;
}
.cm-s-ipython span.cm-attribute {
  color: #00c;
}
.cm-s-ipython span.cm-header {
  color: blue;
}
.cm-s-ipython span.cm-quote {
  color: #090;
}
.cm-s-ipython span.cm-link {
  color: #00c;
}
.cm-s-ipython span.cm-error {
  color: #f00;
}
.cm-s-ipython span.cm-tab {
  background: url(data:image/png;base64,iVBORw0KGgoAAAANSUhEUgAAADAAAAAMCAYAAAAkuj5RAAAAAXNSR0IArs4c6QAAAGFJREFUSMft1LsRQFAQheHPowAKoACx3IgEKtaEHujDjORSgWTH/ZOdnZOcM/sgk/kFFWY0qV8foQwS4MKBCS3qR6ixBJvElOobYAtivseIE120FaowJPN75GMu8j/LfMwNjh4HUpwg4LUAAAAASUVORK5CYII=);
  background-position: right;
  background-repeat: no-repeat;
}
div.output_wrapper {
  /* this position must be relative to enable descendents to be absolute within it */
  position: relative;
  /* Old browsers */
  display: -webkit-box;
  -webkit-box-orient: vertical;
  -webkit-box-align: stretch;
  display: -moz-box;
  -moz-box-orient: vertical;
  -moz-box-align: stretch;
  display: box;
  box-orient: vertical;
  box-align: stretch;
  /* Modern browsers */
  display: flex;
  flex-direction: column;
  align-items: stretch;
  z-index: 1;
}
/* class for the output area when it should be height-limited */
div.output_scroll {
  /* ideally, this would be max-height, but FF barfs all over that */
  height: 24em;
  /* FF needs this *and the wrapper* to specify full width, or it will shrinkwrap */
  width: 100%;
  overflow: auto;
  border-radius: 2px;
  -webkit-box-shadow: inset 0 2px 8px rgba(0, 0, 0, 0.8);
  box-shadow: inset 0 2px 8px rgba(0, 0, 0, 0.8);
  display: block;
}
/* output div while it is collapsed */
div.output_collapsed {
  margin: 0px;
  padding: 0px;
  /* Old browsers */
  display: -webkit-box;
  -webkit-box-orient: vertical;
  -webkit-box-align: stretch;
  display: -moz-box;
  -moz-box-orient: vertical;
  -moz-box-align: stretch;
  display: box;
  box-orient: vertical;
  box-align: stretch;
  /* Modern browsers */
  display: flex;
  flex-direction: column;
  align-items: stretch;
}
div.out_prompt_overlay {
  height: 100%;
  padding: 0px 0.4em;
  position: absolute;
  border-radius: 2px;
}
div.out_prompt_overlay:hover {
  /* use inner shadow to get border that is computed the same on WebKit/FF */
  -webkit-box-shadow: inset 0 0 1px #000;
  box-shadow: inset 0 0 1px #000;
  background: rgba(240, 240, 240, 0.5);
}
div.output_prompt {
  color: #D84315;
}
/* This class is the outer container of all output sections. */
div.output_area {
  padding: 0px;
  page-break-inside: avoid;
  /* Old browsers */
  display: -webkit-box;
  -webkit-box-orient: horizontal;
  -webkit-box-align: stretch;
  display: -moz-box;
  -moz-box-orient: horizontal;
  -moz-box-align: stretch;
  display: box;
  box-orient: horizontal;
  box-align: stretch;
  /* Modern browsers */
  display: flex;
  flex-direction: row;
  align-items: stretch;
}
div.output_area .MathJax_Display {
  text-align: left !important;
}
div.output_area .rendered_html table {
  margin-left: 0;
  margin-right: 0;
}
div.output_area .rendered_html img {
  margin-left: 0;
  margin-right: 0;
}
div.output_area img,
div.output_area svg {
  max-width: 100%;
  height: auto;
}
div.output_area img.unconfined,
div.output_area svg.unconfined {
  max-width: none;
}
/* This is needed to protect the pre formating from global settings such
   as that of bootstrap */
.output {
  /* Old browsers */
  display: -webkit-box;
  -webkit-box-orient: vertical;
  -webkit-box-align: stretch;
  display: -moz-box;
  -moz-box-orient: vertical;
  -moz-box-align: stretch;
  display: box;
  box-orient: vertical;
  box-align: stretch;
  /* Modern browsers */
  display: flex;
  flex-direction: column;
  align-items: stretch;
}
@media (max-width: 540px) {
  div.output_area {
    /* Old browsers */
    display: -webkit-box;
    -webkit-box-orient: vertical;
    -webkit-box-align: stretch;
    display: -moz-box;
    -moz-box-orient: vertical;
    -moz-box-align: stretch;
    display: box;
    box-orient: vertical;
    box-align: stretch;
    /* Modern browsers */
    display: flex;
    flex-direction: column;
    align-items: stretch;
  }
}
div.output_area pre {
  margin: 0;
  padding: 0;
  border: 0;
  vertical-align: baseline;
  color: black;
  background-color: transparent;
  border-radius: 0;
}
/* This class is for the output subarea inside the output_area and after
   the prompt div. */
div.output_subarea {
  overflow-x: auto;
  padding: 0.4em;
  /* Old browsers */
  -webkit-box-flex: 1;
  -moz-box-flex: 1;
  box-flex: 1;
  /* Modern browsers */
  flex: 1;
  max-width: calc(100% - 14ex);
}
div.output_scroll div.output_subarea {
  overflow-x: visible;
}
/* The rest of the output_* classes are for special styling of the different
   output types */
/* all text output has this class: */
div.output_text {
  text-align: left;
  color: #000;
  /* This has to match that of the the CodeMirror class line-height below */
  line-height: 1.21429em;
}
/* stdout/stderr are 'text' as well as 'stream', but execute_result/error are *not* streams */
div.output_stderr {
  background: #fdd;
  /* very light red background for stderr */
}
div.output_latex {
  text-align: left;
}
/* Empty output_javascript divs should have no height */
div.output_javascript:empty {
  padding: 0;
}
.js-error {
  color: darkred;
}
/* raw_input styles */
div.raw_input_container {
  line-height: 1.21429em;
  padding-top: 5px;
}
pre.raw_input_prompt {
  /* nothing needed here. */
}
input.raw_input {
  font-family: monospace;
  font-size: inherit;
  color: inherit;
  width: auto;
  /* make sure input baseline aligns with prompt */
  vertical-align: baseline;
  /* padding + margin = 0.5em between prompt and cursor */
  padding: 0em 0.25em;
  margin: 0em 0.25em;
}
input.raw_input:focus {
  box-shadow: none;
}
p.p-space {
  margin-bottom: 10px;
}
div.output_unrecognized {
  padding: 5px;
  font-weight: bold;
  color: red;
}
div.output_unrecognized a {
  color: inherit;
  text-decoration: none;
}
div.output_unrecognized a:hover {
  color: inherit;
  text-decoration: none;
}
.rendered_html {
  color: #000;
  /* any extras will just be numbers: */
}
.rendered_html em {
  font-style: italic;
}
.rendered_html strong {
  font-weight: bold;
}
.rendered_html u {
  text-decoration: underline;
}
.rendered_html :link {
  text-decoration: underline;
}
.rendered_html :visited {
  text-decoration: underline;
}
.rendered_html h1 {
  font-size: 185.7%;
  margin: 1.08em 0 0 0;
  font-weight: bold;
  line-height: 1.0;
}
.rendered_html h2 {
  font-size: 157.1%;
  margin: 1.27em 0 0 0;
  font-weight: bold;
  line-height: 1.0;
}
.rendered_html h3 {
  font-size: 128.6%;
  margin: 1.55em 0 0 0;
  font-weight: bold;
  line-height: 1.0;
}
.rendered_html h4 {
  font-size: 100%;
  margin: 2em 0 0 0;
  font-weight: bold;
  line-height: 1.0;
}
.rendered_html h5 {
  font-size: 100%;
  margin: 2em 0 0 0;
  font-weight: bold;
  line-height: 1.0;
  font-style: italic;
}
.rendered_html h6 {
  font-size: 100%;
  margin: 2em 0 0 0;
  font-weight: bold;
  line-height: 1.0;
  font-style: italic;
}
.rendered_html h1:first-child {
  margin-top: 0.538em;
}
.rendered_html h2:first-child {
  margin-top: 0.636em;
}
.rendered_html h3:first-child {
  margin-top: 0.777em;
}
.rendered_html h4:first-child {
  margin-top: 1em;
}
.rendered_html h5:first-child {
  margin-top: 1em;
}
.rendered_html h6:first-child {
  margin-top: 1em;
}
.rendered_html ul {
  list-style: disc;
  margin: 0em 2em;
  padding-left: 0px;
}
.rendered_html ul ul {
  list-style: square;
  margin: 0em 2em;
}
.rendered_html ul ul ul {
  list-style: circle;
  margin: 0em 2em;
}
.rendered_html ol {
  list-style: decimal;
  margin: 0em 2em;
  padding-left: 0px;
}
.rendered_html ol ol {
  list-style: upper-alpha;
  margin: 0em 2em;
}
.rendered_html ol ol ol {
  list-style: lower-alpha;
  margin: 0em 2em;
}
.rendered_html ol ol ol ol {
  list-style: lower-roman;
  margin: 0em 2em;
}
.rendered_html ol ol ol ol ol {
  list-style: decimal;
  margin: 0em 2em;
}
.rendered_html * + ul {
  margin-top: 1em;
}
.rendered_html * + ol {
  margin-top: 1em;
}
.rendered_html hr {
  color: black;
  background-color: black;
}
.rendered_html pre {
  margin: 1em 2em;
}
.rendered_html pre,
.rendered_html code {
  border: 0;
  background-color: #fff;
  color: #000;
  font-size: 100%;
  padding: 0px;
}
.rendered_html blockquote {
  margin: 1em 2em;
}
.rendered_html table {
  margin-left: auto;
  margin-right: auto;
  border: 1px solid black;
  border-collapse: collapse;
}
.rendered_html tr,
.rendered_html th,
.rendered_html td {
  border: 1px solid black;
  border-collapse: collapse;
  margin: 1em 2em;
}
.rendered_html td,
.rendered_html th {
  text-align: left;
  vertical-align: middle;
  padding: 4px;
}
.rendered_html th {
  font-weight: bold;
}
.rendered_html * + table {
  margin-top: 1em;
}
.rendered_html p {
  text-align: left;
}
.rendered_html * + p {
  margin-top: 1em;
}
.rendered_html img {
  display: block;
  margin-left: auto;
  margin-right: auto;
}
.rendered_html * + img {
  margin-top: 1em;
}
.rendered_html img,
.rendered_html svg {
  max-width: 100%;
  height: auto;
}
.rendered_html img.unconfined,
.rendered_html svg.unconfined {
  max-width: none;
}
div.text_cell {
  /* Old browsers */
  display: -webkit-box;
  -webkit-box-orient: horizontal;
  -webkit-box-align: stretch;
  display: -moz-box;
  -moz-box-orient: horizontal;
  -moz-box-align: stretch;
  display: box;
  box-orient: horizontal;
  box-align: stretch;
  /* Modern browsers */
  display: flex;
  flex-direction: row;
  align-items: stretch;
}
@media (max-width: 540px) {
  div.text_cell > div.prompt {
    display: none;
  }
}
div.text_cell_render {
  /*font-family: "Helvetica Neue", Arial, Helvetica, Geneva, sans-serif;*/
  outline: none;
  resize: none;
  width: inherit;
  border-style: none;
  padding: 0.5em 0.5em 0.5em 0.4em;
  color: #000;
  box-sizing: border-box;
  -moz-box-sizing: border-box;
  -webkit-box-sizing: border-box;
}
a.anchor-link:link {
  text-decoration: none;
  padding: 0px 20px;
  visibility: hidden;
}
h1:hover .anchor-link,
h2:hover .anchor-link,
h3:hover .anchor-link,
h4:hover .anchor-link,
h5:hover .anchor-link,
h6:hover .anchor-link {
  visibility: visible;
}
.text_cell.rendered .input_area {
  display: none;
}
.text_cell.rendered .rendered_html {
  overflow-x: auto;
  overflow-y: hidden;
}
.text_cell.unrendered .text_cell_render {
  display: none;
}
.cm-header-1,
.cm-header-2,
.cm-header-3,
.cm-header-4,
.cm-header-5,
.cm-header-6 {
  font-weight: bold;
  font-family: "Helvetica Neue", Helvetica, Arial, sans-serif;
}
.cm-header-1 {
  font-size: 185.7%;
}
.cm-header-2 {
  font-size: 157.1%;
}
.cm-header-3 {
  font-size: 128.6%;
}
.cm-header-4 {
  font-size: 110%;
}
.cm-header-5 {
  font-size: 100%;
  font-style: italic;
}
.cm-header-6 {
  font-size: 100%;
  font-style: italic;
}
/*!
*
* IPython notebook webapp
*
*/
@media (max-width: 767px) {
  .notebook_app {
    padding-left: 0px;
    padding-right: 0px;
  }
}
#ipython-main-app {
  box-sizing: border-box;
  -moz-box-sizing: border-box;
  -webkit-box-sizing: border-box;
  height: 100%;
}
div#notebook_panel {
  margin: 0px;
  padding: 0px;
  box-sizing: border-box;
  -moz-box-sizing: border-box;
  -webkit-box-sizing: border-box;
  height: 100%;
}
div#notebook {
  font-size: 14px;
  line-height: 20px;
  overflow-y: hidden;
  overflow-x: auto;
  width: 100%;
  /* This spaces the page away from the edge of the notebook area */
  padding-top: 20px;
  margin: 0px;
  outline: none;
  box-sizing: border-box;
  -moz-box-sizing: border-box;
  -webkit-box-sizing: border-box;
  min-height: 100%;
}
@media not print {
  #notebook-container {
    padding: 15px;
    background-color: #fff;
    min-height: 0;
    -webkit-box-shadow: 0px 0px 12px 1px rgba(87, 87, 87, 0.2);
    box-shadow: 0px 0px 12px 1px rgba(87, 87, 87, 0.2);
  }
}
@media print {
  #notebook-container {
    width: 100%;
  }
}
div.ui-widget-content {
  border: 1px solid #ababab;
  outline: none;
}
pre.dialog {
  background-color: #f7f7f7;
  border: 1px solid #ddd;
  border-radius: 2px;
  padding: 0.4em;
  padding-left: 2em;
}
p.dialog {
  padding: 0.2em;
}
/* Word-wrap output correctly.  This is the CSS3 spelling, though Firefox seems
   to not honor it correctly.  Webkit browsers (Chrome, rekonq, Safari) do.
 */
pre,
code,
kbd,
samp {
  white-space: pre-wrap;
}
#fonttest {
  font-family: monospace;
}
p {
  margin-bottom: 0;
}
.end_space {
  min-height: 100px;
  transition: height .2s ease;
}
.notebook_app > #header {
  -webkit-box-shadow: 0px 0px 12px 1px rgba(87, 87, 87, 0.2);
  box-shadow: 0px 0px 12px 1px rgba(87, 87, 87, 0.2);
}
@media not print {
  .notebook_app {
    background-color: #EEE;
  }
}
kbd {
  border-style: solid;
  border-width: 1px;
  box-shadow: none;
  margin: 2px;
  padding-left: 2px;
  padding-right: 2px;
  padding-top: 1px;
  padding-bottom: 1px;
}
/* CSS for the cell toolbar */
.celltoolbar {
  border: thin solid #CFCFCF;
  border-bottom: none;
  background: #EEE;
  border-radius: 2px 2px 0px 0px;
  width: 100%;
  height: 29px;
  padding-right: 4px;
  /* Old browsers */
  display: -webkit-box;
  -webkit-box-orient: horizontal;
  -webkit-box-align: stretch;
  display: -moz-box;
  -moz-box-orient: horizontal;
  -moz-box-align: stretch;
  display: box;
  box-orient: horizontal;
  box-align: stretch;
  /* Modern browsers */
  display: flex;
  flex-direction: row;
  align-items: stretch;
  /* Old browsers */
  -webkit-box-pack: end;
  -moz-box-pack: end;
  box-pack: end;
  /* Modern browsers */
  justify-content: flex-end;
  display: -webkit-flex;
}
@media print {
  .celltoolbar {
    display: none;
  }
}
.ctb_hideshow {
  display: none;
  vertical-align: bottom;
}
/* ctb_show is added to the ctb_hideshow div to show the cell toolbar.
   Cell toolbars are only shown when the ctb_global_show class is also set.
*/
.ctb_global_show .ctb_show.ctb_hideshow {
  display: block;
}
.ctb_global_show .ctb_show + .input_area,
.ctb_global_show .ctb_show + div.text_cell_input,
.ctb_global_show .ctb_show ~ div.text_cell_render {
  border-top-right-radius: 0px;
  border-top-left-radius: 0px;
}
.ctb_global_show .ctb_show ~ div.text_cell_render {
  border: 1px solid #cfcfcf;
}
.celltoolbar {
  font-size: 87%;
  padding-top: 3px;
}
.celltoolbar select {
  display: block;
  width: 100%;
  height: 32px;
  padding: 6px 12px;
  font-size: 13px;
  line-height: 1.42857143;
  color: #555555;
  background-color: #fff;
  background-image: none;
  border: 1px solid #ccc;
  border-radius: 2px;
  -webkit-box-shadow: inset 0 1px 1px rgba(0, 0, 0, 0.075);
  box-shadow: inset 0 1px 1px rgba(0, 0, 0, 0.075);
  -webkit-transition: border-color ease-in-out .15s, box-shadow ease-in-out .15s;
  -o-transition: border-color ease-in-out .15s, box-shadow ease-in-out .15s;
  transition: border-color ease-in-out .15s, box-shadow ease-in-out .15s;
  height: 30px;
  padding: 5px 10px;
  font-size: 12px;
  line-height: 1.5;
  border-radius: 1px;
  width: inherit;
  font-size: inherit;
  height: 22px;
  padding: 0px;
  display: inline-block;
}
.celltoolbar select:focus {
  border-color: #66afe9;
  outline: 0;
  -webkit-box-shadow: inset 0 1px 1px rgba(0,0,0,.075), 0 0 8px rgba(102, 175, 233, 0.6);
  box-shadow: inset 0 1px 1px rgba(0,0,0,.075), 0 0 8px rgba(102, 175, 233, 0.6);
}
.celltoolbar select::-moz-placeholder {
  color: #999;
  opacity: 1;
}
.celltoolbar select:-ms-input-placeholder {
  color: #999;
}
.celltoolbar select::-webkit-input-placeholder {
  color: #999;
}
.celltoolbar select::-ms-expand {
  border: 0;
  background-color: transparent;
}
.celltoolbar select[disabled],
.celltoolbar select[readonly],
fieldset[disabled] .celltoolbar select {
  background-color: #eeeeee;
  opacity: 1;
}
.celltoolbar select[disabled],
fieldset[disabled] .celltoolbar select {
  cursor: not-allowed;
}
textarea.celltoolbar select {
  height: auto;
}
select.celltoolbar select {
  height: 30px;
  line-height: 30px;
}
textarea.celltoolbar select,
select[multiple].celltoolbar select {
  height: auto;
}
.celltoolbar label {
  margin-left: 5px;
  margin-right: 5px;
}
.completions {
  position: absolute;
  z-index: 110;
  overflow: hidden;
  border: 1px solid #ababab;
  border-radius: 2px;
  -webkit-box-shadow: 0px 6px 10px -1px #adadad;
  box-shadow: 0px 6px 10px -1px #adadad;
  line-height: 1;
}
.completions select {
  background: white;
  outline: none;
  border: none;
  padding: 0px;
  margin: 0px;
  overflow: auto;
  font-family: monospace;
  font-size: 110%;
  color: #000;
  width: auto;
}
.completions select option.context {
  color: #286090;
}
#kernel_logo_widget {
  float: right !important;
  float: right;
}
#kernel_logo_widget .current_kernel_logo {
  display: none;
  margin-top: -1px;
  margin-bottom: -1px;
  width: 32px;
  height: 32px;
}
#menubar {
  box-sizing: border-box;
  -moz-box-sizing: border-box;
  -webkit-box-sizing: border-box;
  margin-top: 1px;
}
#menubar .navbar {
  border-top: 1px;
  border-radius: 0px 0px 2px 2px;
  margin-bottom: 0px;
}
#menubar .navbar-toggle {
  float: left;
  padding-top: 7px;
  padding-bottom: 7px;
  border: none;
}
#menubar .navbar-collapse {
  clear: left;
}
.nav-wrapper {
  border-bottom: 1px solid #e7e7e7;
}
i.menu-icon {
  padding-top: 4px;
}
ul#help_menu li a {
  overflow: hidden;
  padding-right: 2.2em;
}
ul#help_menu li a i {
  margin-right: -1.2em;
}
.dropdown-submenu {
  position: relative;
}
.dropdown-submenu > .dropdown-menu {
  top: 0;
  left: 100%;
  margin-top: -6px;
  margin-left: -1px;
}
.dropdown-submenu:hover > .dropdown-menu {
  display: block;
}
.dropdown-submenu > a:after {
  display: inline-block;
  font: normal normal normal 14px/1 FontAwesome;
  font-size: inherit;
  text-rendering: auto;
  -webkit-font-smoothing: antialiased;
  -moz-osx-font-smoothing: grayscale;
  display: block;
  content: "\f0da";
  float: right;
  color: #333333;
  margin-top: 2px;
  margin-right: -10px;
}
.dropdown-submenu > a:after.pull-left {
  margin-right: .3em;
}
.dropdown-submenu > a:after.pull-right {
  margin-left: .3em;
}
.dropdown-submenu:hover > a:after {
  color: #262626;
}
.dropdown-submenu.pull-left {
  float: none;
}
.dropdown-submenu.pull-left > .dropdown-menu {
  left: -100%;
  margin-left: 10px;
}
#notification_area {
  float: right !important;
  float: right;
  z-index: 10;
}
.indicator_area {
  float: right !important;
  float: right;
  color: #777;
  margin-left: 5px;
  margin-right: 5px;
  width: 11px;
  z-index: 10;
  text-align: center;
  width: auto;
}
#kernel_indicator {
  float: right !important;
  float: right;
  color: #777;
  margin-left: 5px;
  margin-right: 5px;
  width: 11px;
  z-index: 10;
  text-align: center;
  width: auto;
  border-left: 1px solid;
}
#kernel_indicator .kernel_indicator_name {
  padding-left: 5px;
  padding-right: 5px;
}
#modal_indicator {
  float: right !important;
  float: right;
  color: #777;
  margin-left: 5px;
  margin-right: 5px;
  width: 11px;
  z-index: 10;
  text-align: center;
  width: auto;
}
#readonly-indicator {
  float: right !important;
  float: right;
  color: #777;
  margin-left: 5px;
  margin-right: 5px;
  width: 11px;
  z-index: 10;
  text-align: center;
  width: auto;
  margin-top: 2px;
  margin-bottom: 0px;
  margin-left: 0px;
  margin-right: 0px;
  display: none;
}
.modal_indicator:before {
  width: 1.28571429em;
  text-align: center;
}
.edit_mode .modal_indicator:before {
  display: inline-block;
  font: normal normal normal 14px/1 FontAwesome;
  font-size: inherit;
  text-rendering: auto;
  -webkit-font-smoothing: antialiased;
  -moz-osx-font-smoothing: grayscale;
  content: "\f040";
}
.edit_mode .modal_indicator:before.pull-left {
  margin-right: .3em;
}
.edit_mode .modal_indicator:before.pull-right {
  margin-left: .3em;
}
.command_mode .modal_indicator:before {
  display: inline-block;
  font: normal normal normal 14px/1 FontAwesome;
  font-size: inherit;
  text-rendering: auto;
  -webkit-font-smoothing: antialiased;
  -moz-osx-font-smoothing: grayscale;
  content: ' ';
}
.command_mode .modal_indicator:before.pull-left {
  margin-right: .3em;
}
.command_mode .modal_indicator:before.pull-right {
  margin-left: .3em;
}
.kernel_idle_icon:before {
  display: inline-block;
  font: normal normal normal 14px/1 FontAwesome;
  font-size: inherit;
  text-rendering: auto;
  -webkit-font-smoothing: antialiased;
  -moz-osx-font-smoothing: grayscale;
  content: "\f10c";
}
.kernel_idle_icon:before.pull-left {
  margin-right: .3em;
}
.kernel_idle_icon:before.pull-right {
  margin-left: .3em;
}
.kernel_busy_icon:before {
  display: inline-block;
  font: normal normal normal 14px/1 FontAwesome;
  font-size: inherit;
  text-rendering: auto;
  -webkit-font-smoothing: antialiased;
  -moz-osx-font-smoothing: grayscale;
  content: "\f111";
}
.kernel_busy_icon:before.pull-left {
  margin-right: .3em;
}
.kernel_busy_icon:before.pull-right {
  margin-left: .3em;
}
.kernel_dead_icon:before {
  display: inline-block;
  font: normal normal normal 14px/1 FontAwesome;
  font-size: inherit;
  text-rendering: auto;
  -webkit-font-smoothing: antialiased;
  -moz-osx-font-smoothing: grayscale;
  content: "\f1e2";
}
.kernel_dead_icon:before.pull-left {
  margin-right: .3em;
}
.kernel_dead_icon:before.pull-right {
  margin-left: .3em;
}
.kernel_disconnected_icon:before {
  display: inline-block;
  font: normal normal normal 14px/1 FontAwesome;
  font-size: inherit;
  text-rendering: auto;
  -webkit-font-smoothing: antialiased;
  -moz-osx-font-smoothing: grayscale;
  content: "\f127";
}
.kernel_disconnected_icon:before.pull-left {
  margin-right: .3em;
}
.kernel_disconnected_icon:before.pull-right {
  margin-left: .3em;
}
.notification_widget {
  color: #777;
  z-index: 10;
  background: rgba(240, 240, 240, 0.5);
  margin-right: 4px;
  color: #333;
  background-color: #fff;
  border-color: #ccc;
}
.notification_widget:focus,
.notification_widget.focus {
  color: #333;
  background-color: #e6e6e6;
  border-color: #8c8c8c;
}
.notification_widget:hover {
  color: #333;
  background-color: #e6e6e6;
  border-color: #adadad;
}
.notification_widget:active,
.notification_widget.active,
.open > .dropdown-toggle.notification_widget {
  color: #333;
  background-color: #e6e6e6;
  border-color: #adadad;
}
.notification_widget:active:hover,
.notification_widget.active:hover,
.open > .dropdown-toggle.notification_widget:hover,
.notification_widget:active:focus,
.notification_widget.active:focus,
.open > .dropdown-toggle.notification_widget:focus,
.notification_widget:active.focus,
.notification_widget.active.focus,
.open > .dropdown-toggle.notification_widget.focus {
  color: #333;
  background-color: #d4d4d4;
  border-color: #8c8c8c;
}
.notification_widget:active,
.notification_widget.active,
.open > .dropdown-toggle.notification_widget {
  background-image: none;
}
.notification_widget.disabled:hover,
.notification_widget[disabled]:hover,
fieldset[disabled] .notification_widget:hover,
.notification_widget.disabled:focus,
.notification_widget[disabled]:focus,
fieldset[disabled] .notification_widget:focus,
.notification_widget.disabled.focus,
.notification_widget[disabled].focus,
fieldset[disabled] .notification_widget.focus {
  background-color: #fff;
  border-color: #ccc;
}
.notification_widget .badge {
  color: #fff;
  background-color: #333;
}
.notification_widget.warning {
  color: #fff;
  background-color: #f0ad4e;
  border-color: #eea236;
}
.notification_widget.warning:focus,
.notification_widget.warning.focus {
  color: #fff;
  background-color: #ec971f;
  border-color: #985f0d;
}
.notification_widget.warning:hover {
  color: #fff;
  background-color: #ec971f;
  border-color: #d58512;
}
.notification_widget.warning:active,
.notification_widget.warning.active,
.open > .dropdown-toggle.notification_widget.warning {
  color: #fff;
  background-color: #ec971f;
  border-color: #d58512;
}
.notification_widget.warning:active:hover,
.notification_widget.warning.active:hover,
.open > .dropdown-toggle.notification_widget.warning:hover,
.notification_widget.warning:active:focus,
.notification_widget.warning.active:focus,
.open > .dropdown-toggle.notification_widget.warning:focus,
.notification_widget.warning:active.focus,
.notification_widget.warning.active.focus,
.open > .dropdown-toggle.notification_widget.warning.focus {
  color: #fff;
  background-color: #d58512;
  border-color: #985f0d;
}
.notification_widget.warning:active,
.notification_widget.warning.active,
.open > .dropdown-toggle.notification_widget.warning {
  background-image: none;
}
.notification_widget.warning.disabled:hover,
.notification_widget.warning[disabled]:hover,
fieldset[disabled] .notification_widget.warning:hover,
.notification_widget.warning.disabled:focus,
.notification_widget.warning[disabled]:focus,
fieldset[disabled] .notification_widget.warning:focus,
.notification_widget.warning.disabled.focus,
.notification_widget.warning[disabled].focus,
fieldset[disabled] .notification_widget.warning.focus {
  background-color: #f0ad4e;
  border-color: #eea236;
}
.notification_widget.warning .badge {
  color: #f0ad4e;
  background-color: #fff;
}
.notification_widget.success {
  color: #fff;
  background-color: #5cb85c;
  border-color: #4cae4c;
}
.notification_widget.success:focus,
.notification_widget.success.focus {
  color: #fff;
  background-color: #449d44;
  border-color: #255625;
}
.notification_widget.success:hover {
  color: #fff;
  background-color: #449d44;
  border-color: #398439;
}
.notification_widget.success:active,
.notification_widget.success.active,
.open > .dropdown-toggle.notification_widget.success {
  color: #fff;
  background-color: #449d44;
  border-color: #398439;
}
.notification_widget.success:active:hover,
.notification_widget.success.active:hover,
.open > .dropdown-toggle.notification_widget.success:hover,
.notification_widget.success:active:focus,
.notification_widget.success.active:focus,
.open > .dropdown-toggle.notification_widget.success:focus,
.notification_widget.success:active.focus,
.notification_widget.success.active.focus,
.open > .dropdown-toggle.notification_widget.success.focus {
  color: #fff;
  background-color: #398439;
  border-color: #255625;
}
.notification_widget.success:active,
.notification_widget.success.active,
.open > .dropdown-toggle.notification_widget.success {
  background-image: none;
}
.notification_widget.success.disabled:hover,
.notification_widget.success[disabled]:hover,
fieldset[disabled] .notification_widget.success:hover,
.notification_widget.success.disabled:focus,
.notification_widget.success[disabled]:focus,
fieldset[disabled] .notification_widget.success:focus,
.notification_widget.success.disabled.focus,
.notification_widget.success[disabled].focus,
fieldset[disabled] .notification_widget.success.focus {
  background-color: #5cb85c;
  border-color: #4cae4c;
}
.notification_widget.success .badge {
  color: #5cb85c;
  background-color: #fff;
}
.notification_widget.info {
  color: #fff;
  background-color: #5bc0de;
  border-color: #46b8da;
}
.notification_widget.info:focus,
.notification_widget.info.focus {
  color: #fff;
  background-color: #31b0d5;
  border-color: #1b6d85;
}
.notification_widget.info:hover {
  color: #fff;
  background-color: #31b0d5;
  border-color: #269abc;
}
.notification_widget.info:active,
.notification_widget.info.active,
.open > .dropdown-toggle.notification_widget.info {
  color: #fff;
  background-color: #31b0d5;
  border-color: #269abc;
}
.notification_widget.info:active:hover,
.notification_widget.info.active:hover,
.open > .dropdown-toggle.notification_widget.info:hover,
.notification_widget.info:active:focus,
.notification_widget.info.active:focus,
.open > .dropdown-toggle.notification_widget.info:focus,
.notification_widget.info:active.focus,
.notification_widget.info.active.focus,
.open > .dropdown-toggle.notification_widget.info.focus {
  color: #fff;
  background-color: #269abc;
  border-color: #1b6d85;
}
.notification_widget.info:active,
.notification_widget.info.active,
.open > .dropdown-toggle.notification_widget.info {
  background-image: none;
}
.notification_widget.info.disabled:hover,
.notification_widget.info[disabled]:hover,
fieldset[disabled] .notification_widget.info:hover,
.notification_widget.info.disabled:focus,
.notification_widget.info[disabled]:focus,
fieldset[disabled] .notification_widget.info:focus,
.notification_widget.info.disabled.focus,
.notification_widget.info[disabled].focus,
fieldset[disabled] .notification_widget.info.focus {
  background-color: #5bc0de;
  border-color: #46b8da;
}
.notification_widget.info .badge {
  color: #5bc0de;
  background-color: #fff;
}
.notification_widget.danger {
  color: #fff;
  background-color: #d9534f;
  border-color: #d43f3a;
}
.notification_widget.danger:focus,
.notification_widget.danger.focus {
  color: #fff;
  background-color: #c9302c;
  border-color: #761c19;
}
.notification_widget.danger:hover {
  color: #fff;
  background-color: #c9302c;
  border-color: #ac2925;
}
.notification_widget.danger:active,
.notification_widget.danger.active,
.open > .dropdown-toggle.notification_widget.danger {
  color: #fff;
  background-color: #c9302c;
  border-color: #ac2925;
}
.notification_widget.danger:active:hover,
.notification_widget.danger.active:hover,
.open > .dropdown-toggle.notification_widget.danger:hover,
.notification_widget.danger:active:focus,
.notification_widget.danger.active:focus,
.open > .dropdown-toggle.notification_widget.danger:focus,
.notification_widget.danger:active.focus,
.notification_widget.danger.active.focus,
.open > .dropdown-toggle.notification_widget.danger.focus {
  color: #fff;
  background-color: #ac2925;
  border-color: #761c19;
}
.notification_widget.danger:active,
.notification_widget.danger.active,
.open > .dropdown-toggle.notification_widget.danger {
  background-image: none;
}
.notification_widget.danger.disabled:hover,
.notification_widget.danger[disabled]:hover,
fieldset[disabled] .notification_widget.danger:hover,
.notification_widget.danger.disabled:focus,
.notification_widget.danger[disabled]:focus,
fieldset[disabled] .notification_widget.danger:focus,
.notification_widget.danger.disabled.focus,
.notification_widget.danger[disabled].focus,
fieldset[disabled] .notification_widget.danger.focus {
  background-color: #d9534f;
  border-color: #d43f3a;
}
.notification_widget.danger .badge {
  color: #d9534f;
  background-color: #fff;
}
div#pager {
  background-color: #fff;
  font-size: 14px;
  line-height: 20px;
  overflow: hidden;
  display: none;
  position: fixed;
  bottom: 0px;
  width: 100%;
  max-height: 50%;
  padding-top: 8px;
  -webkit-box-shadow: 0px 0px 12px 1px rgba(87, 87, 87, 0.2);
  box-shadow: 0px 0px 12px 1px rgba(87, 87, 87, 0.2);
  /* Display over codemirror */
  z-index: 100;
  /* Hack which prevents jquery ui resizable from changing top. */
  top: auto !important;
}
div#pager pre {
  line-height: 1.21429em;
  color: #000;
  background-color: #f7f7f7;
  padding: 0.4em;
}
div#pager #pager-button-area {
  position: absolute;
  top: 8px;
  right: 20px;
}
div#pager #pager-contents {
  position: relative;
  overflow: auto;
  width: 100%;
  height: 100%;
}
div#pager #pager-contents #pager-container {
  position: relative;
  padding: 15px 0px;
  box-sizing: border-box;
  -moz-box-sizing: border-box;
  -webkit-box-sizing: border-box;
}
div#pager .ui-resizable-handle {
  top: 0px;
  height: 8px;
  background: #f7f7f7;
  border-top: 1px solid #cfcfcf;
  border-bottom: 1px solid #cfcfcf;
  /* This injects handle bars (a short, wide = symbol) for 
        the resize handle. */
}
div#pager .ui-resizable-handle::after {
  content: '';
  top: 2px;
  left: 50%;
  height: 3px;
  width: 30px;
  margin-left: -15px;
  position: absolute;
  border-top: 1px solid #cfcfcf;
}
.quickhelp {
  /* Old browsers */
  display: -webkit-box;
  -webkit-box-orient: horizontal;
  -webkit-box-align: stretch;
  display: -moz-box;
  -moz-box-orient: horizontal;
  -moz-box-align: stretch;
  display: box;
  box-orient: horizontal;
  box-align: stretch;
  /* Modern browsers */
  display: flex;
  flex-direction: row;
  align-items: stretch;
  line-height: 1.8em;
}
.shortcut_key {
  display: inline-block;
  width: 21ex;
  text-align: right;
  font-family: monospace;
}
.shortcut_descr {
  display: inline-block;
  /* Old browsers */
  -webkit-box-flex: 1;
  -moz-box-flex: 1;
  box-flex: 1;
  /* Modern browsers */
  flex: 1;
}
span.save_widget {
  margin-top: 6px;
}
span.save_widget span.filename {
  height: 1em;
  line-height: 1em;
  padding: 3px;
  margin-left: 16px;
  border: none;
  font-size: 146.5%;
  border-radius: 2px;
}
span.save_widget span.filename:hover {
  background-color: #e6e6e6;
}
span.checkpoint_status,
span.autosave_status {
  font-size: small;
}
@media (max-width: 767px) {
  span.save_widget {
    font-size: small;
  }
  span.checkpoint_status,
  span.autosave_status {
    display: none;
  }
}
@media (min-width: 768px) and (max-width: 991px) {
  span.checkpoint_status {
    display: none;
  }
  span.autosave_status {
    font-size: x-small;
  }
}
.toolbar {
  padding: 0px;
  margin-left: -5px;
  margin-top: 2px;
  margin-bottom: 5px;
  box-sizing: border-box;
  -moz-box-sizing: border-box;
  -webkit-box-sizing: border-box;
}
.toolbar select,
.toolbar label {
  width: auto;
  vertical-align: middle;
  margin-right: 2px;
  margin-bottom: 0px;
  display: inline;
  font-size: 92%;
  margin-left: 0.3em;
  margin-right: 0.3em;
  padding: 0px;
  padding-top: 3px;
}
.toolbar .btn {
  padding: 2px 8px;
}
.toolbar .btn-group {
  margin-top: 0px;
  margin-left: 5px;
}
#maintoolbar {
  margin-bottom: -3px;
  margin-top: -8px;
  border: 0px;
  min-height: 27px;
  margin-left: 0px;
  padding-top: 11px;
  padding-bottom: 3px;
}
#maintoolbar .navbar-text {
  float: none;
  vertical-align: middle;
  text-align: right;
  margin-left: 5px;
  margin-right: 0px;
  margin-top: 0px;
}
.select-xs {
  height: 24px;
}
.pulse,
.dropdown-menu > li > a.pulse,
li.pulse > a.dropdown-toggle,
li.pulse.open > a.dropdown-toggle {
  background-color: #F37626;
  color: white;
}
/**
 * Primary styles
 *
 * Author: Jupyter Development Team
 */
/** WARNING IF YOU ARE EDITTING THIS FILE, if this is a .css file, It has a lot
 * of chance of beeing generated from the ../less/[samename].less file, you can
 * try to get back the less file by reverting somme commit in history
 **/
/*
 * We'll try to get something pretty, so we
 * have some strange css to have the scroll bar on
 * the left with fix button on the top right of the tooltip
 */
@-moz-keyframes fadeOut {
  from {
    opacity: 1;
  }
  to {
    opacity: 0;
  }
}
@-webkit-keyframes fadeOut {
  from {
    opacity: 1;
  }
  to {
    opacity: 0;
  }
}
@-moz-keyframes fadeIn {
  from {
    opacity: 0;
  }
  to {
    opacity: 1;
  }
}
@-webkit-keyframes fadeIn {
  from {
    opacity: 0;
  }
  to {
    opacity: 1;
  }
}
/*properties of tooltip after "expand"*/
.bigtooltip {
  overflow: auto;
  height: 200px;
  -webkit-transition-property: height;
  -webkit-transition-duration: 500ms;
  -moz-transition-property: height;
  -moz-transition-duration: 500ms;
  transition-property: height;
  transition-duration: 500ms;
}
/*properties of tooltip before "expand"*/
.smalltooltip {
  -webkit-transition-property: height;
  -webkit-transition-duration: 500ms;
  -moz-transition-property: height;
  -moz-transition-duration: 500ms;
  transition-property: height;
  transition-duration: 500ms;
  text-overflow: ellipsis;
  overflow: hidden;
  height: 80px;
}
.tooltipbuttons {
  position: absolute;
  padding-right: 15px;
  top: 0px;
  right: 0px;
}
.tooltiptext {
  /*avoid the button to overlap on some docstring*/
  padding-right: 30px;
}
.ipython_tooltip {
  max-width: 700px;
  /*fade-in animation when inserted*/
  -webkit-animation: fadeOut 400ms;
  -moz-animation: fadeOut 400ms;
  animation: fadeOut 400ms;
  -webkit-animation: fadeIn 400ms;
  -moz-animation: fadeIn 400ms;
  animation: fadeIn 400ms;
  vertical-align: middle;
  background-color: #f7f7f7;
  overflow: visible;
  border: #ababab 1px solid;
  outline: none;
  padding: 3px;
  margin: 0px;
  padding-left: 7px;
  font-family: monospace;
  min-height: 50px;
  -moz-box-shadow: 0px 6px 10px -1px #adadad;
  -webkit-box-shadow: 0px 6px 10px -1px #adadad;
  box-shadow: 0px 6px 10px -1px #adadad;
  border-radius: 2px;
  position: absolute;
  z-index: 1000;
}
.ipython_tooltip a {
  float: right;
}
.ipython_tooltip .tooltiptext pre {
  border: 0;
  border-radius: 0;
  font-size: 100%;
  background-color: #f7f7f7;
}
.pretooltiparrow {
  left: 0px;
  margin: 0px;
  top: -16px;
  width: 40px;
  height: 16px;
  overflow: hidden;
  position: absolute;
}
.pretooltiparrow:before {
  background-color: #f7f7f7;
  border: 1px #ababab solid;
  z-index: 11;
  content: "";
  position: absolute;
  left: 15px;
  top: 10px;
  width: 25px;
  height: 25px;
  -webkit-transform: rotate(45deg);
  -moz-transform: rotate(45deg);
  -ms-transform: rotate(45deg);
  -o-transform: rotate(45deg);
}
ul.typeahead-list i {
  margin-left: -10px;
  width: 18px;
}
ul.typeahead-list {
  max-height: 80vh;
  overflow: auto;
}
ul.typeahead-list > li > a {
  /** Firefox bug **/
  /* see https://github.com/jupyter/notebook/issues/559 */
  white-space: normal;
}
.cmd-palette .modal-body {
  padding: 7px;
}
.cmd-palette form {
  background: white;
}
.cmd-palette input {
  outline: none;
}
.no-shortcut {
  display: none;
}
.command-shortcut:before {
  content: "(command)";
  padding-right: 3px;
  color: #777777;
}
.edit-shortcut:before {
  content: "(edit)";
  padding-right: 3px;
  color: #777777;
}
#find-and-replace #replace-preview .match,
#find-and-replace #replace-preview .insert {
  background-color: #BBDEFB;
  border-color: #90CAF9;
  border-style: solid;
  border-width: 1px;
  border-radius: 0px;
}
#find-and-replace #replace-preview .replace .match {
  background-color: #FFCDD2;
  border-color: #EF9A9A;
  border-radius: 0px;
}
#find-and-replace #replace-preview .replace .insert {
  background-color: #C8E6C9;
  border-color: #A5D6A7;
  border-radius: 0px;
}
#find-and-replace #replace-preview {
  max-height: 60vh;
  overflow: auto;
}
#find-and-replace #replace-preview pre {
  padding: 5px 10px;
}
.terminal-app {
  background: #EEE;
}
.terminal-app #header {
  background: #fff;
  -webkit-box-shadow: 0px 0px 12px 1px rgba(87, 87, 87, 0.2);
  box-shadow: 0px 0px 12px 1px rgba(87, 87, 87, 0.2);
}
.terminal-app .terminal {
  width: 100%;
  float: left;
  font-family: monospace;
  color: white;
  background: black;
  padding: 0.4em;
  border-radius: 2px;
  -webkit-box-shadow: 0px 0px 12px 1px rgba(87, 87, 87, 0.4);
  box-shadow: 0px 0px 12px 1px rgba(87, 87, 87, 0.4);
}
.terminal-app .terminal,
.terminal-app .terminal dummy-screen {
  line-height: 1em;
  font-size: 14px;
}
.terminal-app .terminal .xterm-rows {
  padding: 10px;
}
.terminal-app .terminal-cursor {
  color: black;
  background: white;
}
.terminal-app #terminado-container {
  margin-top: 20px;
}
/*# sourceMappingURL=style.min.css.map */
    </style>
<style type="text/css">
    .highlight .hll { background-color: #ffffcc }
.highlight  { background: #f8f8f8; }
.highlight .c { color: #408080; font-style: italic } /* Comment */
.highlight .err { border: 1px solid #FF0000 } /* Error */
.highlight .k { color: #008000; font-weight: bold } /* Keyword */
.highlight .o { color: #666666 } /* Operator */
.highlight .ch { color: #408080; font-style: italic } /* Comment.Hashbang */
.highlight .cm { color: #408080; font-style: italic } /* Comment.Multiline */
.highlight .cp { color: #BC7A00 } /* Comment.Preproc */
.highlight .cpf { color: #408080; font-style: italic } /* Comment.PreprocFile */
.highlight .c1 { color: #408080; font-style: italic } /* Comment.Single */
.highlight .cs { color: #408080; font-style: italic } /* Comment.Special */
.highlight .gd { color: #A00000 } /* Generic.Deleted */
.highlight .ge { font-style: italic } /* Generic.Emph */
.highlight .gr { color: #FF0000 } /* Generic.Error */
.highlight .gh { color: #000080; font-weight: bold } /* Generic.Heading */
.highlight .gi { color: #00A000 } /* Generic.Inserted */
.highlight .go { color: #888888 } /* Generic.Output */
.highlight .gp { color: #000080; font-weight: bold } /* Generic.Prompt */
.highlight .gs { font-weight: bold } /* Generic.Strong */
.highlight .gu { color: #800080; font-weight: bold } /* Generic.Subheading */
.highlight .gt { color: #0044DD } /* Generic.Traceback */
.highlight .kc { color: #008000; font-weight: bold } /* Keyword.Constant */
.highlight .kd { color: #008000; font-weight: bold } /* Keyword.Declaration */
.highlight .kn { color: #008000; font-weight: bold } /* Keyword.Namespace */
.highlight .kp { color: #008000 } /* Keyword.Pseudo */
.highlight .kr { color: #008000; font-weight: bold } /* Keyword.Reserved */
.highlight .kt { color: #B00040 } /* Keyword.Type */
.highlight .m { color: #666666 } /* Literal.Number */
.highlight .s { color: #BA2121 } /* Literal.String */
.highlight .na { color: #7D9029 } /* Name.Attribute */
.highlight .nb { color: #008000 } /* Name.Builtin */
.highlight .nc { color: #0000FF; font-weight: bold } /* Name.Class */
.highlight .no { color: #880000 } /* Name.Constant */
.highlight .nd { color: #AA22FF } /* Name.Decorator */
.highlight .ni { color: #999999; font-weight: bold } /* Name.Entity */
.highlight .ne { color: #D2413A; font-weight: bold } /* Name.Exception */
.highlight .nf { color: #0000FF } /* Name.Function */
.highlight .nl { color: #A0A000 } /* Name.Label */
.highlight .nn { color: #0000FF; font-weight: bold } /* Name.Namespace */
.highlight .nt { color: #008000; font-weight: bold } /* Name.Tag */
.highlight .nv { color: #19177C } /* Name.Variable */
.highlight .ow { color: #AA22FF; font-weight: bold } /* Operator.Word */
.highlight .w { color: #bbbbbb } /* Text.Whitespace */
.highlight .mb { color: #666666 } /* Literal.Number.Bin */
.highlight .mf { color: #666666 } /* Literal.Number.Float */
.highlight .mh { color: #666666 } /* Literal.Number.Hex */
.highlight .mi { color: #666666 } /* Literal.Number.Integer */
.highlight .mo { color: #666666 } /* Literal.Number.Oct */
.highlight .sa { color: #BA2121 } /* Literal.String.Affix */
.highlight .sb { color: #BA2121 } /* Literal.String.Backtick */
.highlight .sc { color: #BA2121 } /* Literal.String.Char */
.highlight .dl { color: #BA2121 } /* Literal.String.Delimiter */
.highlight .sd { color: #BA2121; font-style: italic } /* Literal.String.Doc */
.highlight .s2 { color: #BA2121 } /* Literal.String.Double */
.highlight .se { color: #BB6622; font-weight: bold } /* Literal.String.Escape */
.highlight .sh { color: #BA2121 } /* Literal.String.Heredoc */
.highlight .si { color: #BB6688; font-weight: bold } /* Literal.String.Interpol */
.highlight .sx { color: #008000 } /* Literal.String.Other */
.highlight .sr { color: #BB6688 } /* Literal.String.Regex */
.highlight .s1 { color: #BA2121 } /* Literal.String.Single */
.highlight .ss { color: #19177C } /* Literal.String.Symbol */
.highlight .bp { color: #008000 } /* Name.Builtin.Pseudo */
.highlight .fm { color: #0000FF } /* Name.Function.Magic */
.highlight .vc { color: #19177C } /* Name.Variable.Class */
.highlight .vg { color: #19177C } /* Name.Variable.Global */
.highlight .vi { color: #19177C } /* Name.Variable.Instance */
.highlight .vm { color: #19177C } /* Name.Variable.Magic */
.highlight .il { color: #666666 } /* Literal.Number.Integer.Long */
    </style>
<style type="text/css">
    
/* Temporary definitions which will become obsolete with Notebook release 5.0 */
.ansi-black-fg { color: #3E424D; }
.ansi-black-bg { background-color: #3E424D; }
.ansi-black-intense-fg { color: #282C36; }
.ansi-black-intense-bg { background-color: #282C36; }
.ansi-red-fg { color: #E75C58; }
.ansi-red-bg { background-color: #E75C58; }
.ansi-red-intense-fg { color: #B22B31; }
.ansi-red-intense-bg { background-color: #B22B31; }
.ansi-green-fg { color: #00A250; }
.ansi-green-bg { background-color: #00A250; }
.ansi-green-intense-fg { color: #007427; }
.ansi-green-intense-bg { background-color: #007427; }
.ansi-yellow-fg { color: #DDB62B; }
.ansi-yellow-bg { background-color: #DDB62B; }
.ansi-yellow-intense-fg { color: #B27D12; }
.ansi-yellow-intense-bg { background-color: #B27D12; }
.ansi-blue-fg { color: #208FFB; }
.ansi-blue-bg { background-color: #208FFB; }
.ansi-blue-intense-fg { color: #0065CA; }
.ansi-blue-intense-bg { background-color: #0065CA; }
.ansi-magenta-fg { color: #D160C4; }
.ansi-magenta-bg { background-color: #D160C4; }
.ansi-magenta-intense-fg { color: #A03196; }
.ansi-magenta-intense-bg { background-color: #A03196; }
.ansi-cyan-fg { color: #60C6C8; }
.ansi-cyan-bg { background-color: #60C6C8; }
.ansi-cyan-intense-fg { color: #258F8F; }
.ansi-cyan-intense-bg { background-color: #258F8F; }
.ansi-white-fg { color: #C5C1B4; }
.ansi-white-bg { background-color: #C5C1B4; }
.ansi-white-intense-fg { color: #A1A6B2; }
.ansi-white-intense-bg { background-color: #A1A6B2; }

.ansi-bold { font-weight: bold; }

    </style>


<style type="text/css">
/* Overrides of notebook CSS for static HTML export */
body {
  overflow: visible;
  padding: 8px;
}

div#notebook {
  overflow: visible;
  border-top: none;
}

@media print {
  div.cell {
    display: block;
    page-break-inside: avoid;
  } 
  div.output_wrapper { 
    display: block;
    page-break-inside: avoid; 
  }
  div.output { 
    display: block;
    page-break-inside: avoid; 
  }
}
</style>

<!-- Custom stylesheet, it must be in the same directory as the html file -->
<link rel="stylesheet" href="custom.css">

<!-- Loading mathjax macro -->
<!-- Load mathjax -->
    <script src="https://cdn.mathjax.org/mathjax/latest/MathJax.js?config=TeX-AMS_HTML"></script>
    <!-- MathJax configuration -->
    <script type="text/x-mathjax-config">
    MathJax.Hub.Config({
        tex2jax: {
            inlineMath: [ ['$','$'], ["\\(","\\)"] ],
            displayMath: [ ['$$','$$'], ["\\[","\\]"] ],
            processEscapes: true,
            processEnvironments: true
        },
        // Center justify equations in code and markdown cells. Elsewhere
        // we use CSS to left justify single line equations in code cells.
        displayAlign: 'center',
        "HTML-CSS": {
            styles: {'.MathJax_Display': {"margin": 0}},
            linebreaks: { automatic: true }
        }
    });
    </script>
    <!-- End of mathjax configuration --></head>
<body>
  <div tabindex="-1" id="notebook" class="border-box-sizing">
    <div class="container" id="notebook-container">

<div class="cell border-box-sizing text_cell rendered">
<div class="prompt input_prompt">
</div>
<div class="inner_cell">
<div class="text_cell_render border-box-sizing rendered_html">
<h1 id="Machine-Learning-Engineer-Nanodegree">Machine Learning Engineer Nanodegree<a class="anchor-link" href="#Machine-Learning-Engineer-Nanodegree">&#182;</a></h1><h2 id="Model-Evaluation-&amp;-Validation">Model Evaluation &amp; Validation<a class="anchor-link" href="#Model-Evaluation-&amp;-Validation">&#182;</a></h2><h2 id="Project:-Predicting-Boston-Housing-Prices">Project: Predicting Boston Housing Prices<a class="anchor-link" href="#Project:-Predicting-Boston-Housing-Prices">&#182;</a></h2><p>Welcome to the first project of the Machine Learning Engineer Nanodegree! In this notebook, some template code has already been provided for you, and you will need to implement additional functionality to successfully complete this project. You will not need to modify the included code beyond what is requested. Sections that begin with <strong>'Implementation'</strong> in the header indicate that the following block of code will require additional functionality which you must provide. Instructions will be provided for each section and the specifics of the implementation are marked in the code block with a 'TODO' statement. Please be sure to read the instructions carefully!</p>
<p>In addition to implementing code, there will be questions that you must answer which relate to the project and your implementation. Each section where you will answer a question is preceded by a <strong>'Question X'</strong> header. Carefully read each question and provide thorough answers in the following text boxes that begin with <strong>'Answer:'</strong>. Your project submission will be evaluated based on your answers to each of the questions and the implementation you provide.</p>
<blockquote><p><strong>Note:</strong> Code and Markdown cells can be executed using the <strong>Shift + Enter</strong> keyboard shortcut. In addition, Markdown cells can be edited by typically double-clicking the cell to enter edit mode.</p>
</blockquote>

</div>
</div>
</div>
<div class="cell border-box-sizing text_cell rendered">
<div class="prompt input_prompt">
</div>
<div class="inner_cell">
<div class="text_cell_render border-box-sizing rendered_html">
<h2 id="Getting-Started">Getting Started<a class="anchor-link" href="#Getting-Started">&#182;</a></h2><p>In this project, you will evaluate the performance and predictive power of a model that has been trained and tested on data collected from homes in suburbs of Boston, Massachusetts. A model trained on this data that is seen as a <em>good fit</em> could then be used to make certain predictions about a home — in particular, its monetary value. This model would prove to be invaluable for someone like a real estate agent who could make use of such information on a daily basis.</p>
<p>The dataset for this project originates from the <a href="https://archive.ics.uci.edu/ml/datasets/Housing">UCI Machine Learning Repository</a>. The Boston housing data was collected in 1978 and each of the 506 entries represent aggregated data about 14 features for homes from various suburbs in Boston, Massachusetts. For the purposes of this project, the following preprocessing steps have been made to the dataset:</p>
<ul>
<li>16 data points have an <code>'MEDV'</code> value of 50.0. These data points likely contain <strong>missing or censored values</strong> and have been removed.</li>
<li>1 data point has an <code>'RM'</code> value of 8.78. This data point can be considered an <strong>outlier</strong> and has been removed.</li>
<li>The features <code>'RM'</code>, <code>'LSTAT'</code>, <code>'PTRATIO'</code>, and <code>'MEDV'</code> are essential. The remaining <strong>non-relevant features</strong> have been excluded.</li>
<li>The feature <code>'MEDV'</code> has been <strong>multiplicatively scaled</strong> to account for 35 years of market inflation.</li>
</ul>
<p>Run the code cell below to load the Boston housing dataset, along with a few of the necessary Python libraries required for this project. You will know the dataset loaded successfully if the size of the dataset is reported.</p>

</div>
</div>
</div>
<div class="cell border-box-sizing code_cell rendered">
<div class="input">
<div class="prompt input_prompt">In&nbsp;[79]:</div>
<div class="inner_cell">
    <div class="input_area">
<div class=" highlight hl-ipython3"><pre><span></span><span class="c1"># Import libraries necessary for this project</span>
<span class="kn">import</span> <span class="nn">numpy</span> <span class="k">as</span> <span class="nn">np</span>
<span class="kn">import</span> <span class="nn">pandas</span> <span class="k">as</span> <span class="nn">pd</span>
<span class="kn">from</span> <span class="nn">sklearn.cross_validation</span> <span class="k">import</span> <span class="n">ShuffleSplit</span>

<span class="c1"># Import supplementary visualizations code visuals.py</span>
<span class="kn">import</span> <span class="nn">visuals</span> <span class="k">as</span> <span class="nn">vs</span>

<span class="c1"># Pretty display for notebooks</span>
<span class="o">%</span><span class="k">matplotlib</span> inline

<span class="c1"># Load the Boston housing dataset</span>
<span class="n">data</span> <span class="o">=</span> <span class="n">pd</span><span class="o">.</span><span class="n">read_csv</span><span class="p">(</span><span class="s1">&#39;housing.csv&#39;</span><span class="p">)</span>
<span class="n">data_orig</span> <span class="o">=</span> <span class="n">data</span> <span class="c1">## </span>
<span class="n">prices</span> <span class="o">=</span> <span class="n">data</span><span class="p">[</span><span class="s1">&#39;MEDV&#39;</span><span class="p">]</span>

<span class="n">features</span> <span class="o">=</span> <span class="n">data</span><span class="o">.</span><span class="n">drop</span><span class="p">(</span><span class="s1">&#39;MEDV&#39;</span><span class="p">,</span> <span class="n">axis</span> <span class="o">=</span> <span class="mi">1</span><span class="p">)</span>
    
<span class="c1"># Success</span>
<span class="nb">print</span><span class="p">(</span><span class="s2">&quot;Boston housing dataset has </span><span class="si">{}</span><span class="s2"> data points with </span><span class="si">{}</span><span class="s2"> variables each.&quot;</span><span class="o">.</span><span class="n">format</span><span class="p">(</span><span class="o">*</span><span class="n">data</span><span class="o">.</span><span class="n">shape</span><span class="p">))</span>
</pre></div>

</div>
</div>
</div>

<div class="output_wrapper">
<div class="output">


<div class="output_area">
<div class="prompt"></div>

<div class="output_subarea output_stream output_stdout output_text">
<pre>Boston housing dataset has 489 data points with 4 variables each.
</pre>
</div>
</div>

</div>
</div>

</div>
<div class="cell border-box-sizing text_cell rendered">
<div class="prompt input_prompt">
</div>
<div class="inner_cell">
<div class="text_cell_render border-box-sizing rendered_html">
<h2 id="Data-Exploration">Data Exploration<a class="anchor-link" href="#Data-Exploration">&#182;</a></h2><p>In this first section of this project, you will make a cursory investigation about the Boston housing data and provide your observations. Familiarizing yourself with the data through an explorative process is a fundamental practice to help you better understand and justify your results.</p>
<p>Since the main goal of this project is to construct a working model which has the capability of predicting the value of houses, we will need to separate the dataset into <strong>features</strong> and the <strong>target variable</strong>. The <strong>features</strong>, <code>'RM'</code>, <code>'LSTAT'</code>, and <code>'PTRATIO'</code>, give us quantitative information about each data point. The <strong>target variable</strong>, <code>'MEDV'</code>, will be the variable we seek to predict. These are stored in <code>features</code> and <code>prices</code>, respectively.</p>

</div>
</div>
</div>
<div class="cell border-box-sizing text_cell rendered">
<div class="prompt input_prompt">
</div>
<div class="inner_cell">
<div class="text_cell_render border-box-sizing rendered_html">
<h3 id="Implementation:-Calculate-Statistics">Implementation: Calculate Statistics<a class="anchor-link" href="#Implementation:-Calculate-Statistics">&#182;</a></h3><p>For your very first coding implementation, you will calculate descriptive statistics about the Boston housing prices. Since <code>numpy</code> has already been imported for you, use this library to perform the necessary calculations. These statistics will be extremely important later on to analyze various prediction results from the constructed model.</p>
<p>In the code cell below, you will need to implement the following:</p>
<ul>
<li>Calculate the minimum, maximum, mean, median, and standard deviation of <code>'MEDV'</code>, which is stored in <code>prices</code>.<ul>
<li>Store each calculation in their respective variable.</li>
</ul>
</li>
</ul>

</div>
</div>
</div>
<div class="cell border-box-sizing code_cell rendered">
<div class="input">
<div class="prompt input_prompt">In&nbsp;[80]:</div>
<div class="inner_cell">
    <div class="input_area">
<div class=" highlight hl-ipython3"><pre><span></span><span class="c1"># TODO: Minimum price of the data</span>
<span class="n">minimum_price</span> <span class="o">=</span> <span class="n">np</span><span class="o">.</span><span class="n">max</span><span class="p">(</span><span class="n">prices</span><span class="p">)</span>

<span class="c1"># TODO: Maximum price of the data</span>
<span class="n">maximum_price</span> <span class="o">=</span> <span class="n">np</span><span class="o">.</span><span class="n">min</span><span class="p">(</span><span class="n">prices</span><span class="p">)</span>

<span class="c1"># TODO: Mean price of the data</span>
<span class="n">mean_price</span> <span class="o">=</span> <span class="n">np</span><span class="o">.</span><span class="n">mean</span><span class="p">(</span><span class="n">prices</span><span class="p">)</span>

<span class="c1"># TODO: Median price of the data</span>
<span class="n">median_price</span> <span class="o">=</span> <span class="n">np</span><span class="o">.</span><span class="n">median</span><span class="p">(</span><span class="n">prices</span><span class="p">)</span>

<span class="c1"># TODO: Standard deviation of prices of the data</span>
<span class="n">std_price</span> <span class="o">=</span> <span class="n">np</span><span class="o">.</span><span class="n">std</span><span class="p">(</span><span class="n">prices</span><span class="p">)</span>

<span class="c1"># Show the calculated statistics</span>
<span class="nb">print</span><span class="p">(</span><span class="s2">&quot;Statistics for Boston housing dataset:</span><span class="se">\n</span><span class="s2">&quot;</span><span class="p">)</span>
<span class="nb">print</span><span class="p">(</span><span class="s2">&quot;Minimum price: $</span><span class="si">{}</span><span class="s2">&quot;</span><span class="o">.</span><span class="n">format</span><span class="p">(</span><span class="n">minimum_price</span><span class="p">))</span> 
<span class="nb">print</span><span class="p">(</span><span class="s2">&quot;Maximum price: $</span><span class="si">{}</span><span class="s2">&quot;</span><span class="o">.</span><span class="n">format</span><span class="p">(</span><span class="n">maximum_price</span><span class="p">))</span>
<span class="nb">print</span><span class="p">(</span><span class="s2">&quot;Mean price: $</span><span class="si">{}</span><span class="s2">&quot;</span><span class="o">.</span><span class="n">format</span><span class="p">(</span><span class="n">mean_price</span><span class="p">))</span>
<span class="nb">print</span><span class="p">(</span><span class="s2">&quot;Median price $</span><span class="si">{}</span><span class="s2">&quot;</span><span class="o">.</span><span class="n">format</span><span class="p">(</span><span class="n">median_price</span><span class="p">))</span>
<span class="nb">print</span><span class="p">(</span><span class="s2">&quot;Standard deviation of prices: $</span><span class="si">{}</span><span class="s2">&quot;</span><span class="o">.</span><span class="n">format</span><span class="p">(</span><span class="n">std_price</span><span class="p">))</span>
</pre></div>

</div>
</div>
</div>

<div class="output_wrapper">
<div class="output">


<div class="output_area">
<div class="prompt"></div>

<div class="output_subarea output_stream output_stdout output_text">
<pre>Statistics for Boston housing dataset:

Minimum price: $1024800.0
Maximum price: $105000.0
Mean price: $454342.9447852761
Median price $438900.0
Standard deviation of prices: $165171.13154429477
</pre>
</div>
</div>

</div>
</div>

</div>
<div class="cell border-box-sizing text_cell rendered">
<div class="prompt input_prompt">
</div>
<div class="inner_cell">
<div class="text_cell_render border-box-sizing rendered_html">
<h3 id="Question-1---Feature-Observation">Question 1 - Feature Observation<a class="anchor-link" href="#Question-1---Feature-Observation">&#182;</a></h3><p>As a reminder, we are using three features from the Boston housing dataset: <code>'RM'</code>, <code>'LSTAT'</code>, and <code>'PTRATIO'</code>. For each data point (neighborhood):</p>
<ul>
<li><code>'RM'</code> is the average number of rooms among homes in the neighborhood.</li>
<li><code>'LSTAT'</code> is the percentage of homeowners in the neighborhood considered "lower class" (working poor).</li>
<li><code>'PTRATIO'</code> is the ratio of students to teachers in primary and secondary schools in the neighborhood.</li>
</ul>
<p><strong> Using your intuition, for each of the three features above, do you think that an increase in the value of that feature would lead to an </strong>increase<strong> in the value of <code>'MEDV'</code> or a </strong>decrease<strong> in the value of <code>'MEDV'</code>? Justify your answer for each.</strong></p>
<p><strong>Hint:</strong> This problem can phrased using examples like below.</p>
<ul>
<li>Would you expect a home that has an <code>'RM'</code> value(number of rooms) of 6 be worth more or less than a home that has an <code>'RM'</code> value of 7?</li>
<li>Would you expect a neighborhood that has an <code>'LSTAT'</code> value(percent of lower class workers) of 15 have home prices be worth more or less than a neighborhood that has an <code>'LSTAT'</code> value of 20?</li>
<li>Would you expect a neighborhood that has an <code>'PTRATIO'</code> value(ratio of students to teachers) of 10 have home prices be worth more or less than a neighborhood that has an <code>'PTRATIO'</code> value of 15?</li>
</ul>

</div>
</div>
</div>
<div class="cell border-box-sizing text_cell rendered">
<div class="prompt input_prompt">
</div>
<div class="inner_cell">
<div class="text_cell_render border-box-sizing rendered_html">
<p>More Number of rooms should increase the price of the apprtment , Lstat should be lower to have the appartment pricer , More number of students ( PTRATIO increase )indicates its a education center and the housing would be costlier.</p>

</div>
</div>
</div>
<div class="cell border-box-sizing code_cell rendered">
<div class="input">
<div class="prompt input_prompt">In&nbsp;[81]:</div>
<div class="inner_cell">
    <div class="input_area">
<div class=" highlight hl-ipython3"><pre><span></span><span class="c1">## It can be seen from the below graph the price tends to increase with the RM value</span>
<span class="c1">#print(data_orig.loc[:,[&#39;RM&#39;]].plot(kind=&#39;box&#39;))</span>
<span class="nb">print</span><span class="p">(</span><span class="n">data_orig</span><span class="o">.</span><span class="n">loc</span><span class="p">[:,[</span><span class="s1">&#39;RM&#39;</span><span class="p">,</span><span class="s1">&#39;MEDV&#39;</span><span class="p">]]</span><span class="o">.</span><span class="n">set_index</span><span class="p">(</span><span class="s1">&#39;RM&#39;</span><span class="p">)</span><span class="o">.</span><span class="n">sort_index</span><span class="p">()</span><span class="o">.</span><span class="n">plot</span><span class="p">(</span><span class="n">xticks</span><span class="o">=</span><span class="p">[</span><span class="mi">1</span><span class="p">,</span><span class="mi">2</span><span class="p">,</span><span class="mi">3</span><span class="p">,</span><span class="mi">4</span><span class="p">,</span><span class="mi">5</span><span class="p">,</span><span class="mi">6</span><span class="p">,</span><span class="mi">7</span><span class="p">,</span><span class="mi">8</span><span class="p">,</span><span class="mi">9</span><span class="p">,</span><span class="mi">10</span><span class="p">]))</span>
</pre></div>

</div>
</div>
</div>

<div class="output_wrapper">
<div class="output">


<div class="output_area">
<div class="prompt"></div>

<div class="output_subarea output_stream output_stdout output_text">
<pre>Axes(0.125,0.125;0.775x0.755)
</pre>
</div>
</div>

<div class="output_area">
<div class="prompt"></div>



<div class="output_png output_subarea ">
<img src="data:image/png;base64,iVBORw0KGgoAAAANSUhEUgAAAZcAAAEKCAYAAADenhiQAAAABHNCSVQICAgIfAhkiAAAAAlwSFlz
AAALEgAACxIB0t1+/AAAIABJREFUeJztvXmYXGWZ//25u6v3fUmapDtJJyGQnQAxgKACYYcRhpcl
OEgUXnVGfuK4zABeP18cEAdnFGdwYQaRARwlbCoICIRNUSEYFslGyJ501l6S3rtr6ef945xTfaq6
9q50VXXfn+vqq6qec85TT3cl51v3+ogxBkVRFEVJJ3mZXoCiKIoy/lBxURRFUdKOiouiKIqSdlRc
FEVRlLSj4qIoiqKkHRUXRVEUJe2ouCiKoihpR8VFURRFSTsqLoqiKEra8WR6AWNJfX29aW5uzvQy
FEVRcoq33367zRgzKZlrJpS4NDc3s3bt2kwvQ1EUJacQkV3JXqNuMUVRFCXtqLgoiqIoaUfFRVEU
RUk7EyrmEgmfz0dLSwsDAwOZXkpGKC4upqmpiYKCgkwvRVGUccSEF5eWlhYqKipobm5GRDK9nDHF
GEN7ezstLS3MnDkz08tRFGUcMeHdYgMDA9TV1U04YQEQEerq6ias1aYoytFjwosLMCGFxWEi/+6K
ohw9VFwURVGS4Im3W/jlmt2ZXkbWo+KSBYgI1157bfC13+9n0qRJXHLJJQA8+OCDTJo0iSVLlgR/
Nm7cyM6dOykpKeHEE09k3rx5LFu2jAcffBCAnTt30tTUxNDQUMh7LVmyhDVr1ozZ76YomabP6ycw
ZNI235Nvt/Drd1vSNt94ZcIH9LOBsrIy1q9fT39/PyUlJaxevZrGxsaQc66++mp+9KMfhYzt3LmT
2bNn8+677wKwfft2Lr/8cowxfPazn2X69Om8/vrrfOITnwDggw8+oLu7m1NOOWVsfjFFyTBDQ4aP
/9tr3HjWbD57enJJK8YY9nT0M72uNGT8SL+PxuqSdC5zXBLXchGRB0TkkIisd43VishqEdliP9a4
jt0qIltFZLOInO8aP1lE1tnH7hHb2S8iRSLyqD2+RkSaXdestN9ji4isdI3PtM/dal9bOPo/RWa5
6KKLePbZZwF45JFHuOaaa5KeY9asWdx9993cc889AFxzzTWsWrUqeHzVqlWsWLEiPQtWlBzgSL+P
tp5B/rrnSNLXvrTpEJ/43qvsO9IfMt7Z56W6VFP345GI5fIg8CPgYdfYLcDLxpi7ROQW+/XNIjIf
WAEsAKYCL4nIccaYAHAv8DlgDfAccAHwO+AG4LAx5lgRWQF8F7haRGqB24ClgAHeFpGnjTGH7XN+
YIxZJSL/Zc9x72j+EAD/8tsNbNzXNdppQpg/tZLb/mZB3PNWrFjB7bffziWXXML777/P9ddfz+uv
vx48/uijj/LHP/4x+PqNN96IOM9JJ53EBx98AMBVV13FkiVL+OEPf4jH4+HRRx/l8ccfH+VvpCi5
Q1vPIAA72/uSvnb93k6Mgc5+H1NdlsqRfh/VJSou8YhruRhj/gB0hA1fCjxkP38IuMw1vsoYM2iM
2QFsBZaJyBSg0hjzpjHGYAnVZRHmegJYbls15wOrjTEdtqCsBi6wj51tnxv+/jnL4sWL2blzJ488
8ggXXXTRiONXX3017733XvCnpCSyWW79eS0aGhpYuHAhL7/8Mu+99x4ej4eFCxcetd9BUbKNYXHp
Tfraba09APgDw/+nBv0B+rwBtVwSINWYS4MxZr/9/ADQYD9vBN50nddij/ns5+HjzjV7AIwxfhHp
BOrc42HX1AFHjDH+CHONikQsjKPJJz/5Sb7+9a/z2muv0d7entIc7777LvPmzQu+dlxjDQ0NKbna
FCWXaevxAnCkz8eRPi/VpYl70Le3WoLkcyXFdPb7AKhKYp6JyqgD+sYYIyLpS8VIMyLyeeDzANOn
T8/wamJz/fXXU11dzaJFi3jttdeSvn7nzp18/etf50tf+lJw7PLLL+fWW2+ltLSUl19+OY2rVZTs
p922XAB2tfclLC5DQ4YdbZa4uDPNjvRZ4lKjlktcUhWXgyIyxRiz33Z5HbLH9wLTXOc12WN77efh
4+5rWkTEA1QB7fb4mWHXvGYfqxYRj229uOcagTHmPuA+gKVLl2atCAI0NTVx0003RTwWHnP5yU9+
wtSpU9m2bRsnnngiAwMDVFRUcNNNN/GZz3wmeF51dTWnnXYaBw4cYNasWUf7V1CUrKLNJS4723s5
YVp1Qtcd6Bqg3xcAwBcYtlwccakuUcslHqmKy9PASuAu+/Ep1/gvReRurID+HOAtY0xARLpE5FSs
gP51wA/D5noDuAJ4xbaGXgC+48pEOw+41T72qn3uqrD3z0l6enpGjJ155pmceeaZAHzmM58JEQw3
/f39Ecfd/OY3vxnN8hQlJzDGjOg40d7jpbLYQ9eAn11JBPUdlxiEWy6Wm01jLvFJJBX5Eawb//Ei
0iIiN2CJyrkisgU4x36NMWYD8BiwEXgeuNHOFAP4InA/VpB/G1amGMDPgDoR2Qp8FSvzDGNMB3AH
8Bf753Z7DOBm4Kv2NXX2HIqiTFA27e9i6bdfYvOB7pDxtp5BGmtKmVJVzM62xIP629uGv/C5A/pH
nJiLZovFJa7lYoyJFgVeHuX8O4E7I4yvBUakKhljBoAro8z1APBAhPHtwLLoq1YUZSLxw1e20N7r
peVwH8cfUxEcb+vxUl9eSFWJJ6mMMbfl4naLdTpuMbVc4qLtXwhN351oTOTfXRkfbD3Uze/WHwAg
/J9zW88g9eVFNNeVJeUW29baQ3GBdXsMcYv1e8nPE8qLtLlJPCa8uBQXF9Pe3j4hb7LOfi7FxcWZ
XoqipMxP/7AjKCrh/4vbe7zUlRXSXF9Ge6+XrgFfQnNub+3l2MnlAPjCssWqSwq0m3gCTHj5bWpq
oqWlhdbW1kwvJSM4O1EqSq7ywcFuassK6ej1hoz3Dvrp9wWoryii2e4Ptru9j4WNVTHn6/cG2Huk
n1Nm1bJ+bxeBodBsMXWJJcaEF5eCggLdhVFRcpjDvd6guLg9EO12AWVdWSEz6soA2NHWG1dcnPqW
4xqs2I0vEOoWS6YQcyIz4d1iiqLkNo64QKhbrMNOG64tK2SGbbnsSiCo72SKHW+LS0i2WJ/2FUsU
FRdFUXIWr3+I7kE/dY64uNTFCcR78vMoLfQwuaIooQaWTqaYE3MJd4tVqVssIVRcFEXJWY64rBOL
6Ik5zfVliVkurT00VpdQUWxFDd7aeTh4rLPfp9X5CaLioihKzuK4viJZLuE015UmZrm09TJrUhn5
eVZG2G//ug9jDL7AED2Dfg3oJ4iKi6IoOYuTIRYp5hLOjLoyWrsH6Rn0Rz3HGMP21l5m1ZdRkD98
ezzQNRDsiKzikhgqLoqi5CyHe+0uxQlZLlbGWCzX2CFbfGZPLseTN1zLsnFfl6uvmLrFEkHFRVGU
rOd7L2zmwT/tGDE+7BYrAsDEsF2GM8aiu8acDcJm1ZcH3WLgiIvTEVktl0SY8HUuiqJkPz96dSsA
nzk9tCbtsO0Wqymzbvihlkuo0DTXW5ZLrB5jTqbYrEllIVX4G/Z1MW9KJaBusURRy0VRlJxhd5jV
0dHrpaLIQ5HHupW55cQponQ29iov8lBfXsSutuiWy/bWXkoK8jmmMrQl0sb9XcGOyJotlhgqLoqi
5AzXP/QXDnUNBF8f6fPa8RbLynBX6O/vtM6bUlUSHGuuK2VHLMulrYeZ9WXk5YX2Dtvd0ceeDkuU
tM4lMVRcFEXJeiqLPcybUsn+I/1cfd+bQYHp6PNRU1ZIpD6S+zr7KczPC6Ypg5UxFiugv73VSkOO
xBvb28kTqNCOyAmh4qIoStbjDQzxsTn1PHzDMg52DXDdA2/R2eezWr+UFuBoizvmsv/IAMdUFYdY
Ic11pRzsGqTPOzIdedAfoOVwH7MmlUdcw7u7D1NVUjDCqlEio+KiKErW4/UPUZifx8kzarnv00vZ
3trLZx98i4NdA8E0ZAjNFtvf2c+UqtDYiRPU390xMu6yq72PIQOzwyyXixdNob68EF/AUKNpyAmj
4qIoSlbjDwwxZKDQDtqfMaeee65Zwnt7jnCoe5Da0sKI+6vsOzLA1OqSkDGn1mVnhKD+tkPDacgO
O++6mB//3UnBTDGNtySOiouiKFmN0/LeXTF/wcIp/OvliwBoqCwe4RYLDBkOdg2MsFym27UukdKR
t9ut9mdGiLksmGq16dcal8TRyJSiKFmN1291JXYsF4erPzKd+VOqmD3ZausCw+LS1jOIf8gwJcxy
qSopoLasMGJQf1trD8dUFkfcwnj+VKfGRd1iiaLioihKVjMYCAAjxQVgUZNlUQhWTYsTcdl3pB+A
qVUjt/CeUVca0S0WK1NsgS0uVWq5JIy6xRRFyWocy6UoP/rtygm5OHUukWpcHGZGSEe2Glb2RBWX
5roy5kwuj7uLpTKMiouiKEeF37y7lze2tY96HifmEslyCWeE5VIdyXIpY1/nAAO+QHCsvddL14A/
JJjvJj9PWP3VT3DFyU1Jrn7iouKiKMpR4R8ffY9rfvrmqOdxLJeCBCwXR132dw5QUpAf0Y3VXG8F
9d3pyO6eYkp6UHFRFCWriRbQd+OkIjt1Lvs7+5lSXRwxRXlGMB152DW23e6GPDtKAaWSPCouiqJk
Nd4YAX2H8FTkfUcGmBoh3gJWlT6Ett7f1tpDoSdvRF2MkjoqLoqiZDVevx1zSSSgb7+OVJ3vUF1a
SHVpQUity/bWXmbWlYXs4aKMDhUXRVGyGm/AcYtFv/FLsCsy+AJDHOoeHFHj4mZGXVmouLRFT0NW
UkPFRVGUrCYYc8nPj3rOsOViVeYbE7nGxaHZVevi9Q+xu6NPxSXNqLgoipLVJBLQdzDGVeMSx3LZ
19nPoD/A7o4+AkNGg/lpRsVFUZSsxhdIIFvMfjRAy2HLImmqiS4uzXWlGAN7OvqDmWLRWu0rqaHi
oihKVjNc5xIj2O46tLu9HxFojGG5OK33d7X3BhtWqlssvai4KIqS1QwmZLkE+7+wu6OPYyqLKS6I
HqNxWu/vaOtle2sP9eVFVBZr37B0ouKiKEpWM9xbLJGAPuzp6GNabWnMOWtKC6go9rCrvS9mw0ol
dUYlLiLyFRHZICLrReQRESkWkVoRWS0iW+zHGtf5t4rIVhHZLCLnu8ZPFpF19rF7xC6rFZEiEXnU
Hl8jIs2ua1ba77FFRFaO5vdQFCV7SSrmYqy2LtPjiIuI0GynI29r7Rmx+6QyelIWFxFpBG4Clhpj
FgL5wArgFuBlY8wc4GX7NSIy3z6+ALgA+ImIOF9F7gU+B8yxfy6wx28ADhtjjgV+AHzXnqsWuA04
BVgG3OYWMUVRxg/JtH8Z8AU40DUQV1zAar3/zq7DHO7zMd/eaVJJH6N1i3mAEhHxAKXAPuBS4CH7
+EPAZfbzS4FVxphBY8wOYCuwTESmAJXGmDeN1S/74bBrnLmeAJbbVs35wGpjTIcx5jCwmmFBUhRl
HOH1D5EnxKyed47ssTPFEhGXmfVl9Hqt1jInTtfvpukmZXExxuwFvgfsBvYDncaYF4EGY8x++7QD
QIP9vBHY45qixR5rtJ+Hj4dcY4zxA51AXYy5FEXJEXa09dIz6I97njcwFLfGxYm5OP3C4sVcYLiB
ZXFBHscfUxH3fCU5RuMWq8GyLGYCU4EyEbnWfY5tiZgIl48ZIvJ5EVkrImtbW1szuRRFUWyMMZz1
vde44cG/xD3X6x+K2VcMhrPFnDb6iVguTgPLxY3VMdv5K6kxmr/oOcAOY0yrMcYH/Ar4KHDQdnVh
Px6yz98LTHNd32SP7bWfh4+HXGO73qqA9hhzjcAYc58xZqkxZumkSZNS/FUVRUknXf2WxfLWzo64
51qWS/RMMSDoF9t7uJ+Sgnzqy+Pvde9YLkumV8c9V0me0YjLbuBUESm14yDLgU3A04CTvbUSeMp+
/jSwws4Am4kVuH/LdqF1icip9jzXhV3jzHUF8IptDb0AnCciNbYFdZ49pihKltHvDYwYO9RttWip
KyuKe71lucTuVuy4xfxDhum1pRH3cQlnUkUR37vyBG44Y2bcc5Xk8aR6oTFmjYg8AbwD+IF3gfuA
cuAxEbkB2AVcZZ+/QUQeAzba599ojHH+1X0ReBAoAX5n/wD8DPi5iGwFOrCyzTDGdIjIHYBjU99u
jIn/FUhRlDFn3v/3PJu/fQFFLuuja8CyXCqK49+CvP4EYi6u59NqE9+TRbctPnqkLC4AxpjbsFKC
3QxiWTGRzr8TuDPC+FpgYYTxAeDKKHM9ADyQ5JIVRckAg/6hEHExJvFQbELi4rJUEgnmK0cfjWIp
ijLmDNnakojI+BLIFnOTSDBfOfqouCiKctQJj4AM2aKys72PRd96gZ/+YXvUa72BobjZXO75VVyy
AxUXRRnnrN/byaN/2Z3RNYQH2IdcFkv3gJ87n9sUDPKHM5hIKrJrehWX7EDFRVHGOZf88I/c/OS6
TC8jBH9gpDvsf9/YBcDBrgFu/dX7DPqtfJ/EAvrD6tJUo+KSDai4KIpy1Al3izn9wtw4GWTfeW4T
j7y1hxc2HASsmEtRghX6kyuKKCmMUxOjjAkqLoqiHHXCy04GI4iL4yrz5Fm3pQFv4paLg7rEsgcV
F0VRxhzH5eXm4Td2MegPUFJoi4vjFkskoG+Ll4pL9qDioijKqHlp40GefX9/1OMS5hiL5BYD6Oj1
UmLvIDngc1kuccQlX4RCT55u+pVFjKqIUlEUBeD/fXgtABcvvjji8Z++vp2Z9WX8zQlTgchuMYDe
QX9QXPq91jmJ1Ll48vN44u9PY9ak8pTWr6QfFRdFUY46d6/+EMAlLiPdYgCvftBKkSMutuUymGDM
ZXGTNqDMJtQtpijKmBPNLXbnc5soTsEtpmQf+okpijLmRHOLWccsURnwBTDGJLRZmJJ96CemKMqY
E0tc2nu8gOUWCwwZjEEtlxxEPzFFUcacaG4xgLaeQcDaB8YbsM5TyyX30E9MUZQxxx3Q/9sTG0OO
OeIy4B8KipCKS+6hn5iiKGPOoG/Ycrn90gUhx9q6LbfYgDcQdJ/pHve5h35iiqKkje4BX9xzugZ8
wT5iMNIq6ey35uj3BWg53A/A1OriNK5SGQtUXBRFSRvff/HDuOcs/taLvLTpYPB1QV7obcg/ZFkr
/b4A/XZ/sfKigjSuUhkLVFwURUkb0YojHRyxcJOXF9oaxme34x/wBQjYzSzVK5Z76EemKEpMTvnO
S/z8zV0Rj23Y18lf9xwJvo63a/G21p6I4z+9bin3X7cUAL+dITbgCzBk74ecF95WWcl6tP2LoihR
McZwsGuQb/5mPZ8+dcaI4xff88ew82PPt/VQZHE5d34Dxr7YZwtKv9eqcwHIz1NxyTXUclEUJSr+
oThqEcaja/cEU4kjcaAr8lbGYG2FnCfDlku/yy2mlkvuoeKiKEpUfPaNPpl7+zd/sz76fDGKJ8Gy
UBw9GzLD76+WS+6h4qIoSlS67ZTh8IyuWPRFCNo7xGr7AiMtlB77/VVccg+NuSiKEpVbnnwfINiG
JRGcVOJI9HqH61u+cdHcETtHhotIz6CKS66i4qIoSlQ+PBg5AB+LP21tDxZChuNORT5/wTHMqAvd
OTI/zHJx2u6HjyvZj7rFFEWJinGlf3X2xa++dzjQGTlw3+sSl/ryohHHw2teHDeaWi65h4qLoihR
cSeLnXD7i0lcFznLrN/lFisrGuk4CRcRR1zCRUfJflRcFEWJSjSRAFi98WDUY9GuixXsh5EBfXWL
5S4qLoqiRCW8zMXtJvvW0xuiXhdNk3rjiEt4mxene3ISyWpKlqAfmaIoUTFhKvHlVe8Fn+890h/1
uqiWi5399cyXzoh4fERA3+5V5lF1yTn0E1MUJSrhEvH0X/cldF20wv4+b4DjGspZ2FgV8Xh4bEXd
YrmLiouiTBBaDvclfc3K05pTeq/oMRd/TCskekA/pWUoGUQ/MkWZIPzvm7uTvubHr25N6b3C3WkO
fd4ABfnRrZCodS6aLZZzjEpcRKRaRJ4QkQ9EZJOInCYitSKyWkS22I81rvNvFZGtIrJZRM53jZ8s
IuvsY/eIWP/CRKRIRB61x9eISLPrmpX2e2wRkZWj+T0UZSJgRji5ovPoX3azq703qcr8kPeK8laD
/qGYWxZHq3PRxpW5x2gtl/8EnjfGzAVOADYBtwAvG2PmAC/brxGR+cAKYAFwAfATEcm357kX+Bww
x/65wB6/AThsjDkW+AHwXXuuWuA24BRgGXCbW8QURYlAEg2Ob35yHZf++E8pv1WsZsqepCwXLaLM
VVIWFxGpAj4O/AzAGOM1xhwBLgUesk97CLjMfn4psMoYM2iM2QFsBZaJyBSg0hjzprFs6YfDrnHm
egJYbls15wOrjTEdxpjDwGqGBUlRlAgkoi3fenoDL9tbEB+JUpH/woYDceM3gRjqkpzlogH9XGU0
vcVmAq3A/4jICcDbwJeBBmPMfvucA0CD/bwReNN1fYs95rOfh4871+wBMMb4RaQTqHOPR7hGUZQI
RIuDuHnwzzt58M87Y57zhZ+/Par3KvLkRz0Wqc5FRCv0c5HRuMU8wEnAvcaYE4FebBeYg22JJLfb
UJoRkc+LyFoRWdva2prJpShKRklAW9JGLLdYSWEMcZGRlotaLbnJaMSlBWgxxqyxXz+BJTYHbVcX
9uMh+/heYJrr+iZ7bK/9PHw85BoR8QBVQHuMuUZgjLnPGLPUGLN00qRJKfyaijK2+ANDdA8k3iQy
UWLd8JtveTZmxX3y7xX9zUoK4rvFCm0TZsA3pFZLjpKyuBhjDgB7ROR4e2g5sBF4GnCyt1YCT9nP
nwZW2BlgM7EC92/ZLrQuETnVjqdcF3aNM9cVwCu2NfQCcJ6I1NiB/PPsMUXJef7pifdZ9K3Em0Qm
SrxssXjusGSIJS6lhdG98Y6VUuixbk1queQuo93P5UvAL0SkENgOfBZLsB4TkRuAXcBVAMaYDSLy
GJYA+YEbjTFOo6EvAg8CJcDv7B+wkgV+LiJbgQ6sbDOMMR0icgfwF/u8240xHaP8XZSjxOYD3Wxv
7eHCRVMyvZSc4NfvRjTCR81YusVivVdxQXS3mGOlFHny6BkEX8BQ5FFxyUVGJS7GmPeApREOLY9y
/p3AnRHG1wILI4wPAFdGmesB4IFk1qtkhn9/YTNvbm/nIzNrI+7hoYw/YmWLlcQQl3DLBUC9YrmJ
VugrR51bLpzLgC/A3as/zPRSJjRPvWdZRENDJubNPx3E2uq4pDB++xe3uHhipC4r2Yt+aspR59jJ
5Vx76gxWvbWbDw50ZXo5OUMiqcPJcNiuW/nU/W8y+xvPpXXucLyBGJZLjJiL4xbLz5Og0Gh1fm6i
4qKMCV9ePoeK4gLufHZT2m+a45Wj9Wd6c3vi4ckrTm6Kf1IEfP4YlktMt5j1mCeCJyg0KS1ByTD6
sSljQk1ZITctn8PrW9p4dfOh+BcoY1YgdjTE3tmHJRIxxSVorQynI2u2WG6i4qKMGZ8+dQYz68u4
89lN+FJsiDiRyGULr73HG/VYaYwiSscFlicS7EGmdS65iYqLMmYUevL4xkXz2Nbayy/XJN/+faIx
dpZL+uc82DUQ9VisVGTHchGRYCBfm1bmJiouyphyzrzJnDarjh+89CGdURojKhZjZbgcjbc52DUY
9Vis9i956hYbN6i4KGOKiPB/L5lHZ7+Pe17ZkunlZDXJ7L8yqveJoWKpCtyh7uiWSyy3WH4Et5ha
LrmJiosy5iyYWsVVJ0/j4Td2sqOtN9PLmfAcDQk70BldXBIN6HvyVFxyGRUXJSN87fzjKMzP41+f
25TppWQtR8MtFslKORrv09YT3S1WFKtxpQzHXJx9X7TOJTdRcVEywuSKYr541rG8uPEgf97Wlunl
jEt2tPXSfMuzIWMzbx0unhzwBegd9Mec48l3WmIej0akBgALplYC8QL61mOeDG8qppZLbqLiomSM
G86YSWN1Cd9+ZtNRb0eSiyRjUQz4Atz8xPu0uyyGdXs7Y15zxndfZcFtL4xZbOfevzuZx//+NCqL
C6Ke405FLtBU5JxGxUXJGMUF+dx84Vw27u/iybdT+4Y8nkn0pn//69v5yJ0v8ejaPdz1uw8AONzr
ZX0ccXFcV3e/ODY93yqKPXykuTbmOXl57oC+ky121JemHAVUXJSM8jeLp3Di9Gr+/cXN9MRx0Uw0
ErVcvv3sJroHrL/d47ZIn3jHau77w/aErv/vBM9LlFn1ZYDVNt9NIqGT/GDMhaDl4snT21Quop+a
klFEhG9eMp/W7kH+67VtmV5OVpGrjkKno3FdWWHS17qbVQYD+nqXykn0Y1MyzknTa/jkCVP56evb
2XukP9PLGRM6+31xg+nx2r9sPtDNf/0++wTZEZeaFMQlGHPJG7ZYNKCfm6i4KFnBzRfOBeDfnv8g
wysZG074lxf5yJ0vjWqOT/7oj8EYSzbhVNbXpmS5WI95IhR6tOV+LqPiomQFjdUlfO5js3jqvX28
u/twppczJvR5o3cOhvhuscEobe2fW7c/xRWlB8dycYvLP5w5m6qS6FliDnnu3mJqueQ0Ki5K1vAP
Z85mUkURdzyzMac7Ao8Gd82PGYJVb+1mMEb7+kh88RfvpHtZSVEQZrlMriji5gvmIglYIMPtXxhu
/6KWS06i4qJkDWVFHr545mze2X1kwraF+dRP1wSfP7tuP7f8ah33vJxbPdiClkupJS7JfE1wB/QL
gwF9FZdcRMVFySpOmVkHxC8AHI/8Lsyd1T1gdY1u7R7ZSiVWS/tMExSXcltcklCXvAiWi0fFJSeJ
vpm1omSAOQ3lFHnyWNfSyaVLGjO9nDHlD1taQ1473+Ld+6rd9Mi7HNdQzgN/2jmGK0uOovxQyyUZ
2yU/QsxFLZfcRMVFySoK8vOYP7WS9yeg5eIPhN6EnW/xgaFhdXn6r/vGdE2pEJ6KnIzlErLNsUf3
c8ll1C2mZB2LG6vYsLeToSztN2aMOSprC5hwcbEe/fZ75UqSQ6EnjzyB6lIrO2woiXWHbHOsLfdz
GhUXJevBMzCLAAAdn0lEQVRY1FRNrzfA9iwN6t/xzCZmfeO5tN/sw5t35tvupWfe38+ft7bx/PoD
aX2/ZJhRV5rwuSdNr2H5vIagxZFcQN96zNOW+zmPiouSdSxqrAJg3d4jGV5JZB740w4gclv50TBC
XFw31U/dv4Z/yGCK8e//6ayEz73sxEZ+et3SYC+xVAL67t5i+XqXykn0Y1OyjtmTyigpyOf9luyO
u6R7m4Bw91Hue4NsyyUJdcmP1BVZm4vlJPqpKVmHJz+PBVMrWTfBxCU8oJ/rOOKYWp2Le7OwNC9M
GRP0Y1OykkVNVWzY15XVm4j5hyK3X4lFYMgw4ItccR9uufTGaQ+T7TgV+anVuQxvFqbZYrmJiouS
lSxuqqLfF2Bba0+mlxKVFLSFlQ+8xdxvPh/xmD9MSO94ZmMqy8oaHElIyS2W5265r+KSi6i4KFnJ
osZqgKyOu6Riufxxa1vUY9lspaWCpOIWc1fo56nlksuouChZyaz6MsoK81nXkp0ZY5CaGBQXhP6X
e+WDg3jt7sbjL+aSglsswmZhWueSm6i4KFlJXp6woLEqqyv1w4se49HvDTDgC7V2rn9wLf/+wgcp
zZcrJFNE6QTvRdQtluuouChZy+LGKjbu68IXSCG4MQYka2m88sGhiOPbW61i0XhV/+FWT7aTiltM
G1eOH0b9r1VE8kXkXRF5xn5dKyKrRWSL/VjjOvdWEdkqIptF5HzX+Mkiss4+do/YaSYiUiQij9rj
a0Sk2XXNSvs9tojIytH+Hkr2saipikH/EFsOZmdQP1m3WM+gL+K4z54nPKAfTkNlcVLvl2kkBXWJ
2HJfYy45STq+Cn0Z2OR6fQvwsjFmDvCy/RoRmQ+sABYAFwA/EZF8+5p7gc8Bc+yfC+zxG4DDxphj
gR8A37XnqgVuA04BlgG3uUVMGR8sbrKC+uuz1DWWilssEn7bMovnPursjyxO2UowWyyZrsiRNgtT
yyUnGZW4iEgTcDFwv2v4UuAh+/lDwGWu8VXGmEFjzA5gK7BMRKYAlcaYN42Vs/hw2DXOXE8Ay22r
5nxgtTGmwxhzGFjNsCAp44QZtaVUFHl4P4vawLhdV8laLn1R6lsct188N9uRvtwSl9EE9HWb49xn
tJbLfwD/DLid4g3GGGfXowNAg/28EdjjOq/FHmu0n4ePh1xjjPEDnUBdjLmUcURenrCwsSqrKvUH
XFsOJysuA1EsF58tKskEvnMBx5uVVEDfVURZ6Bl+ruQeKYuLiFwCHDLGvB3tHNsSyej/GBH5vIis
FZG1ra2t8S9QsorFTVVs2t8dTNfNNG7XVtKWSzS3mF0vM+7qXOzHVNu/DFsu6V2XMjaM5mM7Hfik
iOwEVgFni8j/AgdtVxf2o5MisxeY5rq+yR7baz8PHw+5RkQ8QBXQHmOuERhj7jPGLDXGLJ00aVJq
v6mSMRY1VeENDPHhwe5MLwUIFYh4Afhw+qO4xRx32HgTF0ddUqpzyRNXzEXVJRdJ+VMzxtxqjGky
xjRjBepfMcZcCzwNONlbK4Gn7OdPAyvsDLCZWIH7t2wXWpeInGrHU64Lu8aZ6wr7PQzwAnCeiNTY
gfzz7DFlnLHYrtRflyVBfbdAJCsG0QL6TsxlvNW5CMm7s/JdLfedbLF89YrlJEdjm+O7gMdE5AZg
F3AVgDFmg4g8BmwE/MCNxhjnf9sXgQeBEuB39g/Az4Cfi8hWoANLxDDGdIjIHcBf7PNuN8Z0HIXf
Rckw02pLqCop4P2WTq5ZlunVhFouSYtLNMvFSUUedxX6KVzj2izMoxX6OU1axMUY8xrwmv28HVge
5bw7gTsjjK8FFkYYHwCujDLXA8ADqa5ZyQ1EhEWNVUd147AL//N1Pn3qDD51yvS45/aHuMUix4G8
/iH++/fbuP6MmZQVDf8XixpzGbcB/dQtlzzXZmFaoZ+bqDNTyXoWNVWx+UB31Fb1o2HAF2DT/i62
HkqsULPf5w8+j9a38o3t7Xx/9Yes3ngw9Np4brFxFnNJRRLcRZSTKor46Oy6oGtUyS1UXJSsZ3Fj
Fb6AYfOB9Af123u9AAm3mOlLwHL50F7n9rbekPF4brFxJy4pucWG61yKPPn88nOnsqipKs0rU8YC
FRcl63FuLkejiWVHjyUuiaY6u62PaG6szXZm2/awvWj6vP5Ip2tA34XbLabkNiouStbTWF1CbVkh
649CMWV77yAA3gQtF7f1ES0Av8UWlx1hlkt4R+TweQIR5svl+kFJ4e7idospuY2Ki5L1iFiV+kfD
cmlP0nKJly02NGT40G60uaOtN2QXxmiWS7CIMoLlEr5RVkEO5eWmstI8tVzGDSouSk6wuLGKDw+m
P6jfYcdcBlMRlwhisPdIP/2+AAsbK+nzBjjQNRA8Fi3m4rR/iVSUGZ6G+3enzEhondlAStlirpiL
ktuouCg5waKmKgJDho37u9I6rxPQT9QtNhCniNJJOrhgwTEA7HDt1RLNLeYQaT+X8JFcchelli1m
PebS76lERsVFyQkW20H9dDex7HBiLv7ELCK3aytSzOVgt2WpnH5sPQDb7LjLQALzR7KEwt112eIu
+utt58U9JxWBULfY+EHFRckJjqkspr68KO1tYBy3WDIxF+fGFykVuXvAEp/jGiooKcgPZoxFK6B0
k0iyWLYUFFaVFMQ9JxXjQwP64wcVFyUnsCr1K9NuuQzXuSSWBjzgCwRvrJEEqavfhydPKC3MZ2Z9
WTBjLFoBpRJKnqu3mJLbqLgoOcOipmq2HOqOmnWVCqlYLo64HOgaYN+R/pDjXQM+KksKEBFmTSpj
ux1ziRbMH8+o5TKxUXFRcobFjVUMGdi4L31B/WARZRIV+o64/PjVbXz0rldCjnf1+6kstvqJzZpU
TsvhPgb9gbhusUjB/Ejk0k03pSLKPI25jBdUXJScIVipnybX2KA/QPegZQUlarkM+AJUxog3OJYL
wKz6MoYM7G7vi+sWO9Q9mND7j+VNt66scFTXp7LWAqcTsu4QlvPoJ6jkDA2VxTRUpi+o77jE8vMk
qTqXimJP1BtnV7+PymJbXCaVAbCttTek4WUk9hzuS+j902m4nDNv8qjeyxNHPVKpVaktK+T7V57A
xYumJH2tkl2ouCg5xaLG6rSJi1OdP7miKOFU5K5+H2WFHgo9w/913FZP14CfyhLLLTaz3hKXHW29
9Htji9fu9sTEJZ1usftXfoTvX3lCyte/8JWPxzye6kr/n5ObqB2l1aRkHhUXJadY1FjFttYeegZH
H9R3LJdjqooTirm09QxyqHuQ4xoqgu4bgO4BX/C523KpKC5gUkUR21t74iYhJG65jGUwIo5lEu9q
jZtMaFRclJxicVMVxsCGNFgvjrhMqSpOKBXZSYNe3FRFkctyGQyxXHwhMZlZdjpyvLY1ezr6Yx53
SCaOMamiKPGTI1BdGruWJZ7QaQuXiY2Ki5JTLGy0gvrv7TnCA3/cMSoLxqlxaagsJjBk4u6n8teW
I4jAgsaqEMvFcYsN+gMM+IaC2WJgxV22t/XGzRZL2HJJ2dkUZb4Y0/3H1UvirGUknz29eVTrUcYP
adnmWFHGikkVRUytKuaJt1vYcqiHfl+AG886NqW5OnoHyc8T6sutb/he/xAlhflRz9/T0c+UymLK
i0JjLo7l4lTnh1ou5XT07mF/5wDRqCktYE9HojGXhE4DEqv4j0VdeeS4x7M3nQFEFqY5kytG96bK
uEEtFyXnWNRUxVa7rcrja/eEtLVPho5eLzWlBRQXWIISLx05MDSEx7ZYCiNYLl39VuzFibnAcFA/
Vm3OtNrSmOLjJpn2L0umjW574GhW0oKpVTGPKwqouCg5yKLGquC38p3tfazddTiledp7vNSVFQWt
kMFAbNdVwAwX+bndYoN2pllX0HIJdYsBbNgXPUY0rbY05PXCxsqo5yYTxrj32pP4SHMN581vSPyi
GO/15D+cxhfPnB183VRTwnWnhW4BYEb0cVYmKiouSs6xqCn0G/nja/ekNE9Hr5faskKKbKFIxHJx
xCWSWyyS5dJUYwlHb4yYy/QwcYllESRjLRTk5/H433+UmbbARZwvxnThx06eUcs/XzA3+DovT7j9
0oUh54yznZqVUaDiouQci+ygPkB9eRHPvr8/pX5jHb1eassLg0IRX1xMcGfIiG4xOyXZHXNJZOfI
cHGJxVhW6BdqlbwyCvRfj5Jz1JYV0lRTAsDfnjiVXm+A59YdSHqetp5B6sqGxSVeOnJgaDjmEWq5
2G6xftst5rJcEknHbagMTRkWgWe+dAYvffUTI84dy95iBSmIixouioOKi5KTOJuHLW2upbmuNGnX
mC8wRNeAn9qywuBNNJ7lMmRMcKdEt0UyOMJyCU3CdKwNtyCFHhdKCkKz1BY2VnHs5PLg62tPnQ6k
rzBxdZzqekhNXBTFQf/1KDnJokYr7iLAFSc3sWZHR8ItVAAO2zUubsvFGy+g73aLRUxFtvZyCRcK
x9ooi5LmLCIhghRLP9JVmDinocJ+r+jzJeLSU5RoqLgoOYljueTnCZef1IQIPPF24taLU0BZW1YU
jC3Ea14ZGDJRssWcgL4/uJeLG0dcijzRa2jiubscERjLmEtKQqYRfcVGxUXJSU6dVcd3/nYRpx9b
z9TqEj42ZxJPvN0St8reoSMoLokH9Hu9/mBNTKTGlV0DvpDq/CD2PTpWmq5bXGZPKk/ovGjccuHc
YKHjWKPSojiouCg5SX6e8KlTpgdv9lee3MS+zgH+vK0toesdy6WuvDDYJyyeuOw70s/UaiuRoDBS
nUu/L+JeL461EU33hOFYyjXLpnHn3y4acY4jTIlYLstm1gYLHeOR7vwANVwUBxUXZVxw7vwGKos9
PL62JaHzO3qszblCAvoxOiN7/UMc6h6k0REXd8zF51gu/pBMMQfH2nBuvM11I1OPnZv8mcdPjtiC
xhEmbQap5AoqLsq4oLggn0uXNPLChgN09vvint/R60UEakoTc4sd7BrAGIbFxV3nEhguoqyI4BYb
dmVZClFdGtqzS4RgokC0DbicFjeJaMuIU9SaUDKAiosybrhyaROD/iF++9d9cc9t7/VSU1pIfp64
6lyii8veI1ZLfMctVhDRcvFFtFwcQXAsl0j64QhQflRxseca435e5y9oSGrjrlT7vCnjDxUXZdyw
qLGK4xsqePzt+K4xp/ULDFshz68/wGNr9/DO7sPBmhWHvYctcWmsiRVz8Y+ocYFhS8K57YYH5QUJ
CpAnL/J/ySGTeMwlGrdcODf+SWH896eX8s43z034fJUWxUFb7ivjBhHhyqVNfPvZTWw52B2s5YhE
e8+wuNSUFnDKzFr+tLWdVze3Bs+ZXFHEsZPLOXZyebAl/pSqYmBktpjXP0S/LxA55hKmCJFcW47F
EkVbXFaPcMuFc7nrdx9E/d2yLS4zK0ZvM2X8krLlIiLTRORVEdkoIhtE5Mv2eK2IrBaRLfZjjeua
W0Vkq4hsFpHzXeMni8g6+9g9Yv/vEJEiEXnUHl8jIs2ua1ba77FFRFam+nso44vLTmzEkydxrZf2
Xqv1C4AnP49Hv3AaG28/n1e/fiY/vW4pN18wl48fN4k+b4Bfv7OXVze3Mr22dDgVOazOpTtCXzEH
x1IpL7K+y0VybeUFYy7RLBf7icDff2J2xHMS4fgYgpsOwr1if7rlbJ668fSj+p5KdjIay8UPfM0Y
846IVABvi8hq4DPAy8aYu0TkFuAW4GYRmQ+sABYAU4GXROQ4Y0wAuBf4HLAGeA64APgdcANw2Bhz
rIisAL4LXC0itcBtwFIsS/xtEXnaGJNa73Vl3FBfXsRZcyfzq3f28k/nHx+1hYnbLebgyc9jZn0Z
M+vLONfVpt4Yw6HuwZC53NXrXv9QxHb7Do7hUuUIT5i2iCQQcwmmIlvHa0oLONwXOXEhlt3y1P85
PWZsabSEu8WcBAhl4pGy5WKM2W+Mecd+3g1sAhqBS4GH7NMeAi6zn18KrDLGDBpjdgBbgWUiMgWo
NMa8aaxo4MNh1zhzPQEst62a84HVxpgOW1BWYwmSonDlyU209Qzye5eLy01gyHCk3xe0XOIhIjRU
FoeIUaGr2r5n0B+x3b6Dk4XmiEukm79jsMQL6DuHI1lIiVBckE9Fko01FSUV0hLQt91VJ2JZHg3G
mP32oQOA8xWwEXD352ixxxrt5+HjIdcYY/xAJ1AXYy5F4ay5k6kvL+TxKO1gDvd5MYaksqDC8bgs
l3d2H6bNrpuJdNPvHgy1akYG9IdTkaMxHNCPLwbp0IuVYZuAKUqyjFpcRKQceBL4R2NMyF6utiWS
0QQSEfm8iKwVkbWtrZG/ySrji4L8PC5b0sjLmw7Rbt/03QRbv5QXjTiWKI4YVJcW0OcNsHrjQSCy
5eJYHc6xSDd/x4KI1r5muIgy5SXH5IRp1bxx69nB1/8StglYomgqsuIwKnERkQIsYfmFMeZX9vBB
29WF/XjIHt8LTHNd3mSP7bWfh4+HXCMiHqAKaI8x1wiMMfcZY5YaY5ZOmjQplV9TyUGuXDoN/5Dh
N++NrHlp77HEpX4UlovjvlrWXEuRJ4/n1lnGeqSYi0PQLRYuEDLs7op2cx4uokyvujizNdWUMKVK
4yNK+hhNtpgAPwM2GWPudh16GnCyt1YCT7nGV9gZYDOBOcBbtgutS0ROtee8LuwaZ64rgFdsa+gF
4DwRqbGz0c6zxxQFgOOPqWBxUxW/eHNXsA7FYdhyGb24FHjy+OjsuuGAfgTLxaEyGHMZKRDOfNEs
l1gFmIqSjYzGcjkd+DRwtoi8Z/9cBNwFnCsiW4Bz7NcYYzYAjwEbgeeBG+1MMYAvAvdjBfm3YWWK
gSVedSKyFfgqVuYZxpgO4A7gL/bP7faYogT5yjnHsb2tl7tXfxgy3tE73FcsVYJiEDCcPXdycKw0
yp4tEMNyYTiWEq25ZVIxlzDxunSJFY48z5UBd7RQr5jikHIqsjHmj0TPelwe5Zo7gTsjjK8FRjh5
jTEDwJVR5noAeCDR9SoTj7PmTuaaZdO47w/bWT63gWUzawFos91iNaVpEBdjOGvuZHhqA5XFnphu
q2FxGVmh/42L5vHPT7wf3KcmnJuWz2HzgW5On12f9FrnT61k510Xxz4pTaLQXK8Fk4qFtn9RxjX/
9+L5TKsp5WuPv0ePnbXV0eulqqRgVNv4OgH9oSFDU00pxzWUh6T4RuK8BQ1cumQqd142Mlh+wrRq
XvjKxykrivx9b96USl75+plUlYa+x8rTZvBvVyzm2ZvOYMHUSiC5oH86QzjPfOmMkPogZWKj4qKM
a8qKPNx91QnsPdzPHb/dCFjikmiNSzTclgvArRfO4/+cfWzMa4o8+fznihOZVhvacn80Gz5+9vSZ
XLV0GgumVmXcJbWwMbE9ZJSJgfYWU8Y9S5tr+cInZnPva9s4Z34D7b2Do4q3wHC/MCcAf5Yddxlr
3MKk4Q4lm1DLRZkQfOWc45g3pZJbf/U+u9v7Ri0uzr4r/kBmb+mRrJWULCGVJiXNqLgoE4JCTx7/
cfUSuvr97OscoG4UacgAJ8+o4ZSZtXzzkvmjXlsqYY90xUoSyT6Lx0tf/QRv3hoxh0eZwKhbTJkw
HH9MBV8//zi+89wHo7ZcigvyefQLpyV07rcvW0j9KMUsnHTFV86Z18A1y6bzlXPnAPBvVyyOmU4d
iWMnl6dnMcq4QsVFmVDccMYsBnxDXLjwmDF7z2tPHdmn6+Hrl3HdA28B0QsnEyEk5pKC4hR68vjX
yxcFX1+1dFqMsxUlcdQtpkwo8vOEm5bPibmR2Fjw8eMm8bE5Vs2KN80t8Md6K2RFiYSKi6JkCGfD
MV+GkwIU5Wig4qIoGaIgKC7JWy4//tRJXLToGJpqSkcc0y1alGxAYy6KkiEKPKmLy6KmKn7ydyeH
jGW6iFJR3KjloigZwtkqOd1uMbVclGxAxUVRMkRBXuqWSyS+cu5xAEyL4CpTlLFG3WKKkiEKPI7l
kh5xuWDhMfG7HyvKGKGWi6JkiGgdkBVlPKD/uhUlQ9x09hwwcPVHohcu/s9nPsKALxD1uKJkKyou
ipIhyoo83HrRvJjnZKrbsqKMFnWLKYqiKGlHxUVRFEVJOyouiqIoStpRcVEURVHSjoqLoiiKknZU
XBRFUZS0o+KiKIqipB0VF0VRFCXtSCpbo+YqItINbM70OsKoB9oyvYgwdE2Jk43r0jUlhq4pcY43
xiS1fetEq9DfbIxZmulFuBGRtbqm+GTjmiA716VrSgxdU+KIyNpkr1G3mKIoipJ2VFwURVGUtDPR
xOW+TC8gArqmxMjGNUF2rkvXlBi6psRJel0TKqCvKIqijA0TzXJRFEVRxoAJIS4i8oCIHBKR9Zle
i4OITBORV0Vko4hsEJEvZ8GaikXkLRH5q72mf8n0mhxEJF9E3hWRZzK9FgAR2Ski60TkvVQyaY4G
IlItIk+IyAcisklETsuCNR1v/42cny4R+ccsWNdX7H/j60XkEREpzoI1fdlez4ZM/Y0i3StFpFZE
VovIFvuxJpG5JoS4AA8CF2R6EWH4ga8ZY+YDpwI3isj8DK9pEDjbGHMCsAS4QEROzfCaHL4MbMr0
IsI4yxizJItSR/8TeN4YMxc4gSz4exljNtt/oyXAyUAf8OtMrklEGoGbgKXGmIVAPrAiw2taCHwO
WIb12V0iIsdmYCkPMvJeeQvwsjFmDvCy/TouE0JcjDF/ADoyvQ43xpj9xph37OfdWDeCxgyvyRhj
euyXBfZPxoNyItIEXAzcn+m1ZCsiUgV8HPgZgDHGa4w5ktlVjWA5sM0YsyvTC8Gq8SsREQ9QCuzL
8HrmAWuMMX3GGD/we+DysV5ElHvlpcBD9vOHgMsSmWtCiEu2IyLNwInAmsyuJOh+eg84BKw2xmR8
TcB/AP8MDGV6IS4M8JKIvC0in8/0YoCZQCvwP7b78H4RKcv0osJYATyS6UUYY/YC3wN2A/uBTmPM
i5ldFeuBj4lInYiUAhcB0zK8JocGY8x++/kBoCGRi1RcMoyIlANPAv9ojOnK9HqMMQHbhdEELLPN
9YwhIpcAh4wxb2dyHRE4w/47XYjl0vx4htfjAU4C7jXGnAj0kqD7YiwQkULgk8DjWbCWGqxv4zOB
qUCZiFybyTUZYzYB3wVeBJ4H3gMCmVxTJIyVXpyQN0PFJYOISAGWsPzCGPOrTK/Hje1SeZXMx6pO
Bz4pIjuBVcDZIvK/mV1S8NsvxphDWDGEZZldES1Ai8vSfAJLbLKFC4F3jDEHM70Q4BxghzGm1Rjj
A34FfDTDa8IY8zNjzMnGmI8Dh4EPM70mm4MiMgXAfjyUyEUqLhlCRATLP77JGHN3ptcDICKTRKTa
fl4CnAt8kMk1GWNuNcY0GWOasdwqrxhjMvotU0TKRKTCeQ6ch+XWyBjGmAPAHhE53h5aDmzM4JLC
uYYscInZ7AZOFZFS+//hcrIg+UFEJtuP07HiLb/M7IqCPA2stJ+vBJ5K5KIJ0bhSRB4BzgTqRaQF
uM0Y87PMrorTgU8D6+wYB8A3jDHPZXBNU4CHRCQf64vHY8aYrEj9zTIagF9b9yU8wC+NMc9ndkkA
fAn4he2C2g58NsPrAYICfC7whUyvBcAYs0ZEngDewcrafJfsqIx/UkTqAB9wYyYSMiLdK4G7gMdE
5AZgF3BVQnNphb6iKIqSbtQtpiiKoqQdFRdFURQl7ai4KIqiKGlHxUVRFEVJOyouiqIoStpRcVGU
MUJEAnZn4PUi8ltXTVGziBgR+bbr3HoR8YnIjzK3YkVJHRUXRRk7+u0OwQuxmgPe6Dq2A6s5p8OV
wIaxXJyipBMVF0XJDG8Q2gW7D9gkIk77/quBx8Z8VYqSJlRcFGWMsTsgLMdqq+FmFbBCRKZhNS3M
dBt4RUkZFRdFGTtK7FY/Ttvy1WHHn8dqk7ICeHSM16YoaUXFRVHGjn67Tf8MQAiNuWCM8QJvA1/D
6mqsKDmLiouijDHGmD6sbXa/Zu+E6Ob7wM3GmKzaOVVRkkXFRVEygDHmXeB9rFb07vENxpiHIl+l
KLmDdkVWFEVR0o5aLoqiKEraUXFRFEVR0o6Ki6IoipJ2VFwURVGUtKPioiiKoqQdFRdFURQl7ai4
KIqiKGlHxUVRFEVJO/8/yE76jtL6ZyIAAAAASUVORK5CYII=
"
>
</div>

</div>

</div>
</div>

</div>
<div class="cell border-box-sizing code_cell rendered">
<div class="input">
<div class="prompt input_prompt">In&nbsp;[82]:</div>
<div class="inner_cell">
    <div class="input_area">
<div class=" highlight hl-ipython3"><pre><span></span><span class="c1">## It can be seen from the below graph the price tends to decrease with the LSTAT value</span>
<span class="nb">print</span><span class="p">(</span><span class="n">data_orig</span><span class="o">.</span><span class="n">loc</span><span class="p">[:,[</span><span class="s1">&#39;LSTAT&#39;</span><span class="p">,</span><span class="s1">&#39;MEDV&#39;</span><span class="p">]]</span><span class="o">.</span><span class="n">set_index</span><span class="p">(</span><span class="s1">&#39;LSTAT&#39;</span><span class="p">)</span><span class="o">.</span><span class="n">sort_index</span><span class="p">()</span><span class="o">.</span><span class="n">plot</span><span class="p">(</span><span class="n">xticks</span><span class="o">=</span><span class="p">[</span><span class="mi">5</span><span class="p">,</span><span class="mi">10</span><span class="p">,</span><span class="mi">15</span><span class="p">,</span><span class="mi">20</span><span class="p">,</span><span class="mi">25</span><span class="p">,</span><span class="mi">30</span><span class="p">,</span><span class="mi">35</span><span class="p">,</span><span class="mi">40</span><span class="p">,</span><span class="mi">45</span><span class="p">]))</span>
</pre></div>

</div>
</div>
</div>

<div class="output_wrapper">
<div class="output">


<div class="output_area">
<div class="prompt"></div>

<div class="output_subarea output_stream output_stdout output_text">
<pre>Axes(0.125,0.125;0.775x0.755)
</pre>
</div>
</div>

<div class="output_area">
<div class="prompt"></div>



<div class="output_png output_subarea ">
<img src="data:image/png;base64,iVBORw0KGgoAAAANSUhEUgAAAZcAAAEKCAYAAADenhiQAAAABHNCSVQICAgIfAhkiAAAAAlwSFlz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"
>
</div>

</div>

</div>
</div>

</div>
<div class="cell border-box-sizing code_cell rendered">
<div class="input">
<div class="prompt input_prompt">In&nbsp;[83]:</div>
<div class="inner_cell">
    <div class="input_area">
<div class=" highlight hl-ipython3"><pre><span></span><span class="c1">## It can be seen from the below graph the price tends to decrease with the PTRATIO value, although its not a clear indication</span>
<span class="nb">print</span><span class="p">(</span><span class="n">data_orig</span><span class="o">.</span><span class="n">loc</span><span class="p">[:,[</span><span class="s1">&#39;PTRATIO&#39;</span><span class="p">,</span><span class="s1">&#39;MEDV&#39;</span><span class="p">]]</span><span class="o">.</span><span class="n">set_index</span><span class="p">(</span><span class="s1">&#39;PTRATIO&#39;</span><span class="p">)</span><span class="o">.</span><span class="n">sort_index</span><span class="p">()</span><span class="o">.</span><span class="n">plot</span><span class="p">(</span><span class="n">xticks</span><span class="o">=</span><span class="n">np</span><span class="o">.</span><span class="n">arange</span><span class="p">(</span><span class="mi">10</span><span class="p">,</span><span class="mi">27</span><span class="p">)))</span>
</pre></div>

</div>
</div>
</div>

<div class="output_wrapper">
<div class="output">


<div class="output_area">
<div class="prompt"></div>

<div class="output_subarea output_stream output_stdout output_text">
<pre>Axes(0.125,0.125;0.775x0.755)
</pre>
</div>
</div>

<div class="output_area">
<div class="prompt"></div>



<div class="output_png output_subarea ">
<img src="data:image/png;base64,iVBORw0KGgoAAAANSUhEUgAAAZcAAAEKCAYAAADenhiQAAAABHNCSVQICAgIfAhkiAAAAAlwSFlz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=
"
>
</div>

</div>

</div>
</div>

</div>
<div class="cell border-box-sizing text_cell rendered">
<div class="prompt input_prompt">
</div>
<div class="inner_cell">
<div class="text_cell_render border-box-sizing rendered_html">
<hr>
<h2 id="Developing-a-Model">Developing a Model<a class="anchor-link" href="#Developing-a-Model">&#182;</a></h2><p>In this second section of the project, you will develop the tools and techniques necessary for a model to make a prediction. Being able to make accurate evaluations of each model's performance through the use of these tools and techniques helps to greatly reinforce the confidence in your predictions.</p>

</div>
</div>
</div>
<div class="cell border-box-sizing text_cell rendered">
<div class="prompt input_prompt">
</div>
<div class="inner_cell">
<div class="text_cell_render border-box-sizing rendered_html">
<h3 id="Implementation:-Define-a-Performance-Metric">Implementation: Define a Performance Metric<a class="anchor-link" href="#Implementation:-Define-a-Performance-Metric">&#182;</a></h3><p>It is difficult to measure the quality of a given model without quantifying its performance over training and testing. This is typically done using some type of performance metric, whether it is through calculating some type of error, the goodness of fit, or some other useful measurement. For this project, you will be calculating the <a href="http://stattrek.com/statistics/dictionary.aspx?definition=coefficient_of_determination"><em>coefficient of determination</em></a>, R<sup>2</sup>, to quantify your model's performance. The coefficient of determination for a model is a useful statistic in regression analysis, as it often describes how "good" that model is at making predictions.</p>
<p>The values for R<sup>2</sup> range from 0 to 1, which captures the percentage of squared correlation between the predicted and actual values of the <strong>target variable</strong>. A model with an R<sup>2</sup> of 0 is no better than a model that always predicts the <em>mean</em> of the target variable, whereas a model with an R<sup>2</sup> of 1 perfectly predicts the target variable. Any value between 0 and 1 indicates what percentage of the target variable, using this model, can be explained by the <strong>features</strong>. <em>A model can be given a negative R<sup>2</sup> as well, which indicates that the model is <strong>arbitrarily worse</strong> than one that always predicts the mean of the target variable.</em></p>
<p>For the <code>performance_metric</code> function in the code cell below, you will need to implement the following:</p>
<ul>
<li>Use <code>r2_score</code> from <code>sklearn.metrics</code> to perform a performance calculation between <code>y_true</code> and <code>y_predict</code>.</li>
<li>Assign the performance score to the <code>score</code> variable.</li>
</ul>

</div>
</div>
</div>
<div class="cell border-box-sizing code_cell rendered">
<div class="input">
<div class="prompt input_prompt">In&nbsp;[84]:</div>
<div class="inner_cell">
    <div class="input_area">
<div class=" highlight hl-ipython3"><pre><span></span><span class="c1"># TODO: Import &#39;r2_score&#39;</span>
<span class="kn">from</span> <span class="nn">sklearn.metrics</span> <span class="k">import</span> <span class="n">r2_score</span>

<span class="k">def</span> <span class="nf">performance_metric</span><span class="p">(</span><span class="n">y_true</span><span class="p">,</span> <span class="n">y_predict</span><span class="p">):</span>
    <span class="sd">&quot;&quot;&quot; Calculates and returns the performance score between </span>
<span class="sd">        true and predicted values based on the metric chosen. &quot;&quot;&quot;</span>
    
    <span class="c1"># TODO: Calculate the performance score between &#39;y_true&#39; and &#39;y_predict&#39;</span>
    <span class="n">score</span> <span class="o">=</span> <span class="n">r2_score</span><span class="p">(</span><span class="n">y_true</span><span class="p">,</span><span class="n">y_predict</span><span class="p">)</span>
    
    <span class="c1"># Return the score</span>
    <span class="k">return</span> <span class="n">score</span>
</pre></div>

</div>
</div>
</div>

</div>
<div class="cell border-box-sizing text_cell rendered">
<div class="prompt input_prompt">
</div>
<div class="inner_cell">
<div class="text_cell_render border-box-sizing rendered_html">
<h3 id="Question-2---Goodness-of-Fit">Question 2 - Goodness of Fit<a class="anchor-link" href="#Question-2---Goodness-of-Fit">&#182;</a></h3><p>Assume that a dataset contains five data points and a model made the following predictions for the target variable:</p>
<table>
<thead><tr>
<th style="text-align:center">True Value</th>
<th style="text-align:center">Prediction</th>
</tr>
</thead>
<tbody>
<tr>
<td style="text-align:center">3.0</td>
<td style="text-align:center">2.5</td>
</tr>
<tr>
<td style="text-align:center">-0.5</td>
<td style="text-align:center">0.0</td>
</tr>
<tr>
<td style="text-align:center">2.0</td>
<td style="text-align:center">2.1</td>
</tr>
<tr>
<td style="text-align:center">7.0</td>
<td style="text-align:center">7.8</td>
</tr>
<tr>
<td style="text-align:center">4.2</td>
<td style="text-align:center">5.3</td>
</tr>
</tbody>
</table>
<p>Run the code cell below to use the <code>performance_metric</code> function and calculate this model's coefficient of determination.</p>

</div>
</div>
</div>
<div class="cell border-box-sizing code_cell rendered">
<div class="input">
<div class="prompt input_prompt">In&nbsp;[85]:</div>
<div class="inner_cell">
    <div class="input_area">
<div class=" highlight hl-ipython3"><pre><span></span><span class="c1"># Calculate the performance of this model</span>
<span class="n">score</span> <span class="o">=</span> <span class="n">performance_metric</span><span class="p">([</span><span class="mi">3</span><span class="p">,</span> <span class="o">-</span><span class="mf">0.5</span><span class="p">,</span> <span class="mi">2</span><span class="p">,</span> <span class="mi">7</span><span class="p">,</span> <span class="mf">4.2</span><span class="p">],</span> <span class="p">[</span><span class="mf">2.5</span><span class="p">,</span> <span class="mf">0.0</span><span class="p">,</span> <span class="mf">2.1</span><span class="p">,</span> <span class="mf">7.8</span><span class="p">,</span> <span class="mf">5.3</span><span class="p">])</span>
<span class="nb">print</span><span class="p">(</span><span class="s2">&quot;Model has a coefficient of determination, R^2, of </span><span class="si">{:.3f}</span><span class="s2">.&quot;</span><span class="o">.</span><span class="n">format</span><span class="p">(</span><span class="n">score</span><span class="p">))</span>
</pre></div>

</div>
</div>
</div>

<div class="output_wrapper">
<div class="output">


<div class="output_area">
<div class="prompt"></div>

<div class="output_subarea output_stream output_stdout output_text">
<pre>Model has a coefficient of determination, R^2, of 0.923.
</pre>
</div>
</div>

</div>
</div>

</div>
<div class="cell border-box-sizing text_cell rendered">
<div class="prompt input_prompt">
</div>
<div class="inner_cell">
<div class="text_cell_render border-box-sizing rendered_html">
<ul>
<li>Would you consider this model to have successfully captured the variation of the target variable? </li>
<li>Why or why not?</li>
</ul>
<p><strong> Hint: </strong>  The R2 score is the proportion of the variance in the dependent variable that is predictable from the independent variable. In other words:</p>
<ul>
<li>R2 score of 0 means that the dependent variable cannot be predicted from the independent variable.</li>
<li>R2 score of 1 means the dependent variable can be predicted from the independent variable.</li>
<li>R2 score between 0 and 1 indicates the extent to which the dependent variable is predictable. An </li>
<li>R2 score of 0.40 means that 40 percent of the variance in Y is predictable from X.</li>
</ul>

</div>
</div>
</div>
<div class="cell border-box-sizing text_cell rendered">
<div class="prompt input_prompt">
</div>
<div class="inner_cell">
<div class="text_cell_render border-box-sizing rendered_html">
<p>**Answer:given the r2 score is near to 1 the model is very good in predicting the target variable.</p>

</div>
</div>
</div>
<div class="cell border-box-sizing text_cell rendered">
<div class="prompt input_prompt">
</div>
<div class="inner_cell">
<div class="text_cell_render border-box-sizing rendered_html">
<h3 id="Implementation:-Shuffle-and-Split-Data">Implementation: Shuffle and Split Data<a class="anchor-link" href="#Implementation:-Shuffle-and-Split-Data">&#182;</a></h3><p>Your next implementation requires that you take the Boston housing dataset and split the data into training and testing subsets. Typically, the data is also shuffled into a random order when creating the training and testing subsets to remove any bias in the ordering of the dataset.</p>
<p>For the code cell below, you will need to implement the following:</p>
<ul>
<li>Use <code>train_test_split</code> from <code>sklearn.cross_validation</code> to shuffle and split the <code>features</code> and <code>prices</code> data into training and testing sets.<ul>
<li>Split the data into 80% training and 20% testing.</li>
<li>Set the <code>random_state</code> for <code>train_test_split</code> to a value of your choice. This ensures results are consistent.</li>
</ul>
</li>
<li>Assign the train and testing splits to <code>X_train</code>, <code>X_test</code>, <code>y_train</code>, and <code>y_test</code>.</li>
</ul>

</div>
</div>
</div>
<div class="cell border-box-sizing code_cell rendered">
<div class="input">
<div class="prompt input_prompt">In&nbsp;[86]:</div>
<div class="inner_cell">
    <div class="input_area">
<div class=" highlight hl-ipython3"><pre><span></span><span class="c1"># TODO: Import &#39;train_test_split&#39;</span>

<span class="kn">from</span> <span class="nn">sklearn.model_selection</span> <span class="k">import</span> <span class="n">train_test_split</span> 

<span class="c1"># TODO: Shuffle and split the data into training and testing subsets</span>
<span class="n">X_train</span><span class="p">,</span> <span class="n">X_test</span><span class="p">,</span> <span class="n">y_train</span><span class="p">,</span> <span class="n">y_test</span> <span class="o">=</span> <span class="n">train_test_split</span><span class="p">(</span><span class="n">features</span><span class="p">,</span> <span class="n">prices</span><span class="p">,</span> <span class="n">test_size</span><span class="o">=.</span><span class="mi">20</span><span class="p">,</span> <span class="n">random_state</span><span class="o">=</span><span class="mi">42</span><span class="p">)</span>

<span class="c1"># Success</span>
<span class="nb">print</span><span class="p">(</span><span class="s2">&quot;Training and testing split was successful.&quot;</span><span class="p">)</span>
</pre></div>

</div>
</div>
</div>

<div class="output_wrapper">
<div class="output">


<div class="output_area">
<div class="prompt"></div>

<div class="output_subarea output_stream output_stdout output_text">
<pre>Training and testing split was successful.
</pre>
</div>
</div>

</div>
</div>

</div>
<div class="cell border-box-sizing text_cell rendered">
<div class="prompt input_prompt">
</div>
<div class="inner_cell">
<div class="text_cell_render border-box-sizing rendered_html">
<h3 id="Question-3---Training-and-Testing">Question 3 - Training and Testing<a class="anchor-link" href="#Question-3---Training-and-Testing">&#182;</a></h3><ul>
<li>What is the benefit to splitting a dataset into some ratio of training and testing subsets for a learning algorithm?</li>
</ul>
<p><strong>Hint:</strong> Think about how overfitting or underfitting is contingent upon how splits on data is done.</p>

</div>
</div>
</div>
<div class="cell border-box-sizing text_cell rendered">
<div class="prompt input_prompt">
</div>
<div class="inner_cell">
<div class="text_cell_render border-box-sizing rendered_html">
<p>Answer:the data is divided into the training and testing data set as in most of the prediction problems we wouldn't have the future event to be predicted in hand , so we try to develop a model with the data in hand and also test the accuracy with the data in hand. The data used to build the model is the training data set the data to test the accuracy of the model is testing data set. it was the precise reason we split the data. Overfitting or underfitting the data is not dependent on how the data is split.</p>

</div>
</div>
</div>
<div class="cell border-box-sizing text_cell rendered">
<div class="prompt input_prompt">
</div>
<div class="inner_cell">
<div class="text_cell_render border-box-sizing rendered_html">
<hr>
<h2 id="Analyzing-Model-Performance">Analyzing Model Performance<a class="anchor-link" href="#Analyzing-Model-Performance">&#182;</a></h2><p>In this third section of the project, you'll take a look at several models' learning and testing performances on various subsets of training data. Additionally, you'll investigate one particular algorithm with an increasing <code>'max_depth'</code> parameter on the full training set to observe how model complexity affects performance. Graphing your model's performance based on varying criteria can be beneficial in the analysis process, such as visualizing behavior that may not have been apparent from the results alone.</p>

</div>
</div>
</div>
<div class="cell border-box-sizing text_cell rendered">
<div class="prompt input_prompt">
</div>
<div class="inner_cell">
<div class="text_cell_render border-box-sizing rendered_html">
<h3 id="Learning-Curves">Learning Curves<a class="anchor-link" href="#Learning-Curves">&#182;</a></h3><p>The following code cell produces four graphs for a decision tree model with different maximum depths. Each graph visualizes the learning curves of the model for both training and testing as the size of the training set is increased. Note that the shaded region of a learning curve denotes the uncertainty of that curve (measured as the standard deviation). The model is scored on both the training and testing sets using R<sup>2</sup>, the coefficient of determination.</p>
<p>Run the code cell below and use these graphs to answer the following question.</p>

</div>
</div>
</div>
<div class="cell border-box-sizing code_cell rendered">
<div class="input">
<div class="prompt input_prompt">In&nbsp;[87]:</div>
<div class="inner_cell">
    <div class="input_area">
<div class=" highlight hl-ipython3"><pre><span></span><span class="c1"># Produce learning curves for varying training set sizes and maximum depths</span>
<span class="n">vs</span><span class="o">.</span><span class="n">ModelLearning</span><span class="p">(</span><span class="n">features</span><span class="p">,</span> <span class="n">prices</span><span class="p">)</span>
</pre></div>

</div>
</div>
</div>

<div class="output_wrapper">
<div class="output">


<div class="output_area">
<div class="prompt"></div>



<div class="output_png output_subarea ">
<img src="data:image/png;base64,iVBORw0KGgoAAAANSUhEUgAAA0AAAAIKCAYAAAAK1y/8AAAABHNCSVQICAgIfAhkiAAAAAlwSFlz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"
>
</div>

</div>

</div>
</div>

</div>
<div class="cell border-box-sizing text_cell rendered">
<div class="prompt input_prompt">
</div>
<div class="inner_cell">
<div class="text_cell_render border-box-sizing rendered_html">
<h3 id="Question-4---Learning-the-Data">Question 4 - Learning the Data<a class="anchor-link" href="#Question-4---Learning-the-Data">&#182;</a></h3><ul>
<li>Choose one of the graphs above and state the maximum depth for the model. </li>
<li>What happens to the score of the training curve as more training points are added? What about the testing curve? </li>
<li>Would having more training points benefit the model? </li>
</ul>
<p><strong>Hint:</strong> Are the learning curves converging to particular scores? Generally speaking, the more data you have, the better. But if your training and testing curves are converging with a score above your benchmark threshold, would this be necessary?
Think about the pros and cons of adding more training points based on if the training and testing curves are converging.</p>

</div>
</div>
</div>
<div class="cell border-box-sizing text_cell rendered">
<div class="prompt input_prompt">
</div>
<div class="inner_cell">
<div class="text_cell_render border-box-sizing rendered_html">
<p>**Answer: The graph with max_depth of 3 seems to be right model as the scores are high and also converging. The training score would be relatively not changed by providing the more data but testing curve would be independant of the data given to it. If the model is trained on the correct paramters it would be predit the target variable correctly.</p>

</div>
</div>
</div>
<div class="cell border-box-sizing text_cell rendered">
<div class="prompt input_prompt">
</div>
<div class="inner_cell">
<div class="text_cell_render border-box-sizing rendered_html">
<h3 id="Complexity-Curves">Complexity Curves<a class="anchor-link" href="#Complexity-Curves">&#182;</a></h3><p>The following code cell produces a graph for a decision tree model that has been trained and validated on the training data using different maximum depths. The graph produces two complexity curves — one for training and one for validation. Similar to the <strong>learning curves</strong>, the shaded regions of both the complexity curves denote the uncertainty in those curves, and the model is scored on both the training and validation sets using the <code>performance_metric</code> function.</p>
<p><strong> Run the code cell below and use this graph to answer the following two questions Q5 and Q6. </strong></p>

</div>
</div>
</div>
<div class="cell border-box-sizing code_cell rendered">
<div class="input">
<div class="prompt input_prompt">In&nbsp;[88]:</div>
<div class="inner_cell">
    <div class="input_area">
<div class=" highlight hl-ipython3"><pre><span></span><span class="n">vs</span><span class="o">.</span><span class="n">ModelComplexity</span><span class="p">(</span><span class="n">X_train</span><span class="p">,</span> <span class="n">y_train</span><span class="p">)</span>
</pre></div>

</div>
</div>
</div>

<div class="output_wrapper">
<div class="output">


<div class="output_area">
<div class="prompt"></div>



<div class="output_png output_subarea ">
<img src="data:image/png;base64,iVBORw0KGgoAAAANSUhEUgAAAb0AAAFNCAYAAACUvLFdAAAABHNCSVQICAgIfAhkiAAAAAlwSFlz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"
>
</div>

</div>

</div>
</div>

</div>
<div class="cell border-box-sizing text_cell rendered">
<div class="prompt input_prompt">
</div>
<div class="inner_cell">
<div class="text_cell_render border-box-sizing rendered_html">
<h3 id="Question-5---Bias-Variance-Tradeoff">Question 5 - Bias-Variance Tradeoff<a class="anchor-link" href="#Question-5---Bias-Variance-Tradeoff">&#182;</a></h3><ul>
<li>When the model is trained with a maximum depth of 1, does the model suffer from high bias or from high variance? </li>
<li>How about when the model is trained with a maximum depth of 10? What visual cues in the graph justify your conclusions?</li>
</ul>
<p><strong>Hint:</strong> High bias is a sign of underfitting(model is not complex enough to pick up the nuances in the data) and high variance is a sign of overfitting(model is by-hearting the data and cannot generalize well). Think about which model(depth 1 or 10) aligns with which part of the tradeoff.</p>

</div>
</div>
</div>
<div class="cell border-box-sizing text_cell rendered">
<div class="prompt input_prompt">
</div>
<div class="inner_cell">
<div class="text_cell_render border-box-sizing rendered_html">
<p>**Answer: with maximum depth of 1 the model suffers from high bias ( underfit) that can be seen with the low scores on both training and validation. Where as when the depth is 10 it suffers from high varience ( overfit ) we can see the model predicts poorly on the validation although the training score is high.</p>

</div>
</div>
</div>
<div class="cell border-box-sizing text_cell rendered">
<div class="prompt input_prompt">
</div>
<div class="inner_cell">
<div class="text_cell_render border-box-sizing rendered_html">
<h3 id="Question-6---Best-Guess-Optimal-Model">Question 6 - Best-Guess Optimal Model<a class="anchor-link" href="#Question-6---Best-Guess-Optimal-Model">&#182;</a></h3><ul>
<li>Which maximum depth do you think results in a model that best generalizes to unseen data? </li>
<li>What intuition lead you to this answer?</li>
</ul>
<p><strong> Hint: </strong> Look at the graph above Question 5 and see where the validation scores lie for the various depths that have been assigned to the model. Does it get better with increased depth? At what point do we get our best validation score without overcomplicating our model? And remember, Occams Razor states "Among competing hypotheses, the one with the fewest assumptions should be selected."</p>

</div>
</div>
</div>
<div class="cell border-box-sizing text_cell rendered">
<div class="prompt input_prompt">
</div>
<div class="inner_cell">
<div class="text_cell_render border-box-sizing rendered_html">
<p>**Answer: The value should be 3 as we can see the scores are decent and the gap is also good enough. We can also see the similar behaviour from graph above ( at question #4)</p>

</div>
</div>
</div>
<div class="cell border-box-sizing text_cell rendered">
<div class="prompt input_prompt">
</div>
<div class="inner_cell">
<div class="text_cell_render border-box-sizing rendered_html">
<hr>
<h2 id="Evaluating-Model-Performance">Evaluating Model Performance<a class="anchor-link" href="#Evaluating-Model-Performance">&#182;</a></h2><p>In this final section of the project, you will construct a model and make a prediction on the client's feature set using an optimized model from <code>fit_model</code>.</p>

</div>
</div>
</div>
<div class="cell border-box-sizing text_cell rendered">
<div class="prompt input_prompt">
</div>
<div class="inner_cell">
<div class="text_cell_render border-box-sizing rendered_html">
<h3 id="Question-7---Grid-Search">Question 7 - Grid Search<a class="anchor-link" href="#Question-7---Grid-Search">&#182;</a></h3><ul>
<li>What is the grid search technique?</li>
<li>How it can be applied to optimize a learning algorithm?</li>
</ul>
<p><strong> Hint: </strong> When explaining the Grid Search technique, be sure to touch upon why it is used,  what the 'grid' entails and what the end goal of this method is. To solidify your answer, you can also give an example of a parameter in a model that can be optimized using this approach.</p>

</div>
</div>
</div>
<div class="cell border-box-sizing text_cell rendered">
<div class="prompt input_prompt">
</div>
<div class="inner_cell">
<div class="text_cell_render border-box-sizing rendered_html">
<p>**Answer: Grid search is a method to help us choose the right hyperparameters for the model. The grid would be combination of the hyperparameters that would be tested. Based on the value of the hyperparamter combination with the least error the model can perform better.</p>
<p>**from sklearn.model_selection import GridSearchCV # importing the model_selection 
parameters = {'kernel':['poly', 'rbf'],'C':[0.1, 1, 10]} # hyperparameters 'kernal' ,'c' would be tested with the values specified in paranthesis 
from sklearn.metrics import make_scorer # scorer to evalute the hyperparameter value 
from sklearn.metrics import f1_score
scorer = make_scorer(f1_score)
grid_obj = GridSearchCV(clf, parameters, scoring=scorer)# finding the best estimator 
grid_fit = grid_obj.fit(X, y)
best_clf = grid_fit.best<em>estimator</em></p>

</div>
</div>
</div>
<div class="cell border-box-sizing text_cell rendered">
<div class="prompt input_prompt">
</div>
<div class="inner_cell">
<div class="text_cell_render border-box-sizing rendered_html">
<h3 id="Question-8---Cross-Validation">Question 8 - Cross-Validation<a class="anchor-link" href="#Question-8---Cross-Validation">&#182;</a></h3><ul>
<li><p>What is the k-fold cross-validation training technique?</p>
</li>
<li><p>What benefit does this technique provide for grid search when optimizing a model?</p>
</li>
</ul>
<p><strong>Hint:</strong> When explaining the k-fold cross validation technique, be sure to touch upon what 'k' is, how the dataset is split into different parts for training and testing and the number of times it is run based on the 'k' value.</p>
<p>When thinking about how k-fold cross validation helps grid search, think about the main drawbacks of grid search which are hinged upon <strong>using a particular subset of data for training or testing</strong> and how k-fold cv could help alleviate that. You can refer to the <a href="http://scikit-learn.org/stable/modules/cross_validation.html#cross-validation">docs</a> for your answer.</p>

</div>
</div>
</div>
<div class="cell border-box-sizing text_cell rendered">
<div class="prompt input_prompt">
</div>
<div class="inner_cell">
<div class="text_cell_render border-box-sizing rendered_html">
<p>**Answer: k-fold cross validation is a method by which the training set is divided in to k-subsets and the model would be trained on k-1 subsets each time and tested ( as cross validation on the remaining set ) k times the score in each iteration would be averaged to get the final score. This method's advantage is to maximize the data for training ( if we create a cross-validation set that cannot be used for training ) the probelm is the intense compution this model require.</p>

</div>
</div>
</div>
<div class="cell border-box-sizing text_cell rendered">
<div class="prompt input_prompt">
</div>
<div class="inner_cell">
<div class="text_cell_render border-box-sizing rendered_html">
<h3 id="Implementation:-Fitting-a-Model">Implementation: Fitting a Model<a class="anchor-link" href="#Implementation:-Fitting-a-Model">&#182;</a></h3><p>Your final implementation requires that you bring everything together and train a model using the <strong>decision tree algorithm</strong>. To ensure that you are producing an optimized model, you will train the model using the grid search technique to optimize the <code>'max_depth'</code> parameter for the decision tree. The <code>'max_depth'</code> parameter can be thought of as how many questions the decision tree algorithm is allowed to ask about the data before making a prediction. Decision trees are part of a class of algorithms called <em>supervised learning algorithms</em>.</p>
<p>In addition, you will find your implementation is using <code>ShuffleSplit()</code> for an alternative form of cross-validation (see the <code>'cv_sets'</code> variable). While it is not the K-Fold cross-validation technique you describe in <strong>Question 8</strong>, this type of cross-validation technique is just as useful!. The <code>ShuffleSplit()</code> implementation below will create 10 (<code>'n_splits'</code>) shuffled sets, and for each shuffle, 20% (<code>'test_size'</code>) of the data will be used as the <em>validation set</em>. While you're working on your implementation, think about the contrasts and similarities it has to the K-fold cross-validation technique.</p>
<p>Please note that ShuffleSplit has different parameters in scikit-learn versions 0.17 and 0.18.
For the <code>fit_model</code> function in the code cell below, you will need to implement the following:</p>
<ul>
<li>Use <a href="http://scikit-learn.org/stable/modules/generated/sklearn.tree.DecisionTreeRegressor.html"><code>DecisionTreeRegressor</code></a> from <code>sklearn.tree</code> to create a decision tree regressor object.<ul>
<li>Assign this object to the <code>'regressor'</code> variable.</li>
</ul>
</li>
<li>Create a dictionary for <code>'max_depth'</code> with the values from 1 to 10, and assign this to the <code>'params'</code> variable.</li>
<li>Use <a href="http://scikit-learn.org/stable/modules/generated/sklearn.metrics.make_scorer.html"><code>make_scorer</code></a> from <code>sklearn.metrics</code> to create a scoring function object.<ul>
<li>Pass the <code>performance_metric</code> function as a parameter to the object.</li>
<li>Assign this scoring function to the <code>'scoring_fnc'</code> variable.</li>
</ul>
</li>
<li>Use <a href="http://scikit-learn.org/0.17/modules/generated/sklearn.grid_search.GridSearchCV.html"><code>GridSearchCV</code></a> from <code>sklearn.grid_search</code> to create a grid search object.<ul>
<li>Pass the variables <code>'regressor'</code>, <code>'params'</code>, <code>'scoring_fnc'</code>, and <code>'cv_sets'</code> as parameters to the object. </li>
<li>Assign the <code>GridSearchCV</code> object to the <code>'grid'</code> variable.</li>
</ul>
</li>
</ul>

</div>
</div>
</div>
<div class="cell border-box-sizing code_cell rendered">
<div class="input">
<div class="prompt input_prompt">In&nbsp;[89]:</div>
<div class="inner_cell">
    <div class="input_area">
<div class=" highlight hl-ipython3"><pre><span></span><span class="c1"># TODO: Import &#39;make_scorer&#39;, &#39;DecisionTreeRegressor&#39;, and &#39;GridSearchCV&#39;</span>
<span class="kn">from</span> <span class="nn">sklearn.model_selection</span> <span class="k">import</span> <span class="n">GridSearchCV</span>
<span class="kn">from</span> <span class="nn">sklearn.tree</span> <span class="k">import</span> <span class="n">DecisionTreeRegressor</span>
<span class="kn">from</span> <span class="nn">sklearn.metrics</span> <span class="k">import</span> <span class="n">make_scorer</span>

<span class="k">def</span> <span class="nf">fit_model</span><span class="p">(</span><span class="n">X</span><span class="p">,</span> <span class="n">y</span><span class="p">):</span>
    <span class="sd">&quot;&quot;&quot; Performs grid search over the &#39;max_depth&#39; parameter for a </span>
<span class="sd">        decision tree regressor trained on the input data [X, y]. &quot;&quot;&quot;</span>
    
    <span class="c1"># Create cross-validation sets from the training data</span>
    <span class="c1"># sklearn version 0.18: ShuffleSplit(n_splits=10, test_size=0.1, train_size=None, random_state=None)</span>
    <span class="c1"># sklearn versiin 0.17: ShuffleSplit(n, n_iter=10, test_size=0.1, train_size=None, random_state=None)</span>
    <span class="n">cv_sets</span> <span class="o">=</span> <span class="n">ShuffleSplit</span><span class="p">(</span><span class="n">X</span><span class="o">.</span><span class="n">shape</span><span class="p">[</span><span class="mi">0</span><span class="p">],</span> <span class="n">n_iter</span> <span class="o">=</span> <span class="mi">10</span><span class="p">,</span> <span class="n">test_size</span> <span class="o">=</span> <span class="mf">0.20</span><span class="p">,</span> <span class="n">random_state</span> <span class="o">=</span> <span class="mi">0</span><span class="p">)</span>

    <span class="c1"># TODO: Create a decision tree regressor object</span>
    <span class="n">regressor</span> <span class="o">=</span> <span class="n">DecisionTreeRegressor</span><span class="p">()</span>

    <span class="c1"># TODO: Create a dictionary for the parameter &#39;max_depth&#39; with a range from 1 to 10</span>
    <span class="n">params</span> <span class="o">=</span> <span class="p">{</span><span class="s1">&#39;max_depth&#39;</span><span class="p">:[</span><span class="mi">1</span><span class="p">,</span><span class="mi">2</span><span class="p">,</span><span class="mi">3</span><span class="p">,</span><span class="mi">4</span><span class="p">,</span><span class="mi">5</span><span class="p">,</span><span class="mi">6</span><span class="p">,</span><span class="mi">7</span><span class="p">,</span><span class="mi">8</span><span class="p">,</span><span class="mi">9</span><span class="p">,</span><span class="mi">10</span><span class="p">]}</span>
    
    <span class="c1"># TODO: Transform &#39;performance_metric&#39; into a scoring function using &#39;make_scorer&#39; </span>
    <span class="n">scoring_fnc</span> <span class="o">=</span> <span class="n">make_scorer</span><span class="p">(</span><span class="n">performance_metric</span><span class="p">)</span>

    <span class="c1"># TODO: Create the grid search cv object --&gt; GridSearchCV()</span>
    <span class="c1"># Make sure to include the right parameters in the object:</span>
    <span class="c1"># (estimator, param_grid, scoring, cv) which have values &#39;regressor&#39;, &#39;params&#39;, &#39;scoring_fnc&#39;, and &#39;cv_sets&#39; respectively.</span>
    <span class="n">grid</span> <span class="o">=</span> <span class="kc">None</span>
    <span class="n">grid</span> <span class="o">=</span> <span class="n">GridSearchCV</span><span class="p">(</span><span class="n">regressor</span><span class="p">,</span> <span class="n">params</span><span class="p">,</span> <span class="n">scoring</span><span class="o">=</span><span class="n">scoring_fnc</span><span class="p">,</span><span class="n">cv</span><span class="o">=</span><span class="n">cv_sets</span><span class="p">)</span>

    <span class="c1"># Fit the grid search object to the data to compute the optimal model</span>
    <span class="n">grid</span> <span class="o">=</span> <span class="n">grid</span><span class="o">.</span><span class="n">fit</span><span class="p">(</span><span class="n">X</span><span class="p">,</span> <span class="n">y</span><span class="p">)</span>

    <span class="c1"># Return the optimal model after fitting the data</span>
    <span class="k">return</span> <span class="n">grid</span><span class="o">.</span><span class="n">best_estimator_</span>
</pre></div>

</div>
</div>
</div>

</div>
<div class="cell border-box-sizing text_cell rendered">
<div class="prompt input_prompt">
</div>
<div class="inner_cell">
<div class="text_cell_render border-box-sizing rendered_html">
<h3 id="Making-Predictions">Making Predictions<a class="anchor-link" href="#Making-Predictions">&#182;</a></h3><p>Once a model has been trained on a given set of data, it can now be used to make predictions on new sets of input data. In the case of a <em>decision tree regressor</em>, the model has learned <em>what the best questions to ask about the input data are</em>, and can respond with a prediction for the <strong>target variable</strong>. You can use these predictions to gain information about data where the value of the target variable is unknown — such as data the model was not trained on.</p>

</div>
</div>
</div>
<div class="cell border-box-sizing text_cell rendered">
<div class="prompt input_prompt">
</div>
<div class="inner_cell">
<div class="text_cell_render border-box-sizing rendered_html">
<h3 id="Question-9---Optimal-Model">Question 9 - Optimal Model<a class="anchor-link" href="#Question-9---Optimal-Model">&#182;</a></h3><ul>
<li>What maximum depth does the optimal model have? How does this result compare to your guess in <strong>Question 6</strong>?  </li>
</ul>
<p>The optimal model have the max_depth of 4 instead of 3 from question 6.</p>

</div>
</div>
</div>
<div class="cell border-box-sizing code_cell rendered">
<div class="input">
<div class="prompt input_prompt">In&nbsp;[90]:</div>
<div class="inner_cell">
    <div class="input_area">
<div class=" highlight hl-ipython3"><pre><span></span><span class="c1"># Fit the training data to the model using grid search</span>
<span class="n">reg</span> <span class="o">=</span> <span class="n">fit_model</span><span class="p">(</span><span class="n">X_train</span><span class="p">,</span> <span class="n">y_train</span><span class="p">)</span>

<span class="c1"># Produce the value for &#39;max_depth&#39;</span>
<span class="nb">print</span><span class="p">(</span><span class="s2">&quot;Parameter &#39;max_depth&#39; is </span><span class="si">{}</span><span class="s2"> for the optimal model.&quot;</span><span class="o">.</span><span class="n">format</span><span class="p">(</span><span class="n">reg</span><span class="o">.</span><span class="n">get_params</span><span class="p">()[</span><span class="s1">&#39;max_depth&#39;</span><span class="p">]))</span>
</pre></div>

</div>
</div>
</div>

<div class="output_wrapper">
<div class="output">


<div class="output_area">
<div class="prompt"></div>

<div class="output_subarea output_stream output_stdout output_text">
<pre>Parameter &#39;max_depth&#39; is 4 for the optimal model.
</pre>
</div>
</div>

</div>
</div>

</div>
<div class="cell border-box-sizing text_cell rendered">
<div class="prompt input_prompt">
</div>
<div class="inner_cell">
<div class="text_cell_render border-box-sizing rendered_html">
<p><strong> Hint: </strong> The answer comes from the output of the code snipped above.</p>
<p><strong>Answer: </strong>Parameter 'max_depth' is 4 for the optimal model.</p>

</div>
</div>
</div>
<div class="cell border-box-sizing text_cell rendered">
<div class="prompt input_prompt">
</div>
<div class="inner_cell">
<div class="text_cell_render border-box-sizing rendered_html">
<h3 id="Question-10---Predicting-Selling-Prices">Question 10 - Predicting Selling Prices<a class="anchor-link" href="#Question-10---Predicting-Selling-Prices">&#182;</a></h3><p>Imagine that you were a real estate agent in the Boston area looking to use this model to help price homes owned by your clients that they wish to sell. You have collected the following information from three of your clients:</p>
<table>
<thead><tr>
<th style="text-align:center">Feature</th>
<th style="text-align:center">Client 1</th>
<th style="text-align:center">Client 2</th>
<th style="text-align:center">Client 3</th>
</tr>
</thead>
<tbody>
<tr>
<td style="text-align:center">Total number of rooms in home</td>
<td style="text-align:center">5 rooms</td>
<td style="text-align:center">4 rooms</td>
<td style="text-align:center">8 rooms</td>
</tr>
<tr>
<td style="text-align:center">Neighborhood poverty level (as %)</td>
<td style="text-align:center">17%</td>
<td style="text-align:center">32%</td>
<td style="text-align:center">3%</td>
</tr>
<tr>
<td style="text-align:center">Student-teacher ratio of nearby schools</td>
<td style="text-align:center">15-to-1</td>
<td style="text-align:center">22-to-1</td>
<td style="text-align:center">12-to-1</td>
</tr>
</tbody>
</table>
<ul>
<li>What price would you recommend each client sell his/her home at? </li>
<li>Do these prices seem reasonable given the values for the respective features? </li>
</ul>
<p><strong>Hint:</strong> Use the statistics you calculated in the <strong>Data Exploration</strong> section to help justify your response.  Of the three clients, client 3 has has the biggest house, in the best public school neighborhood with the lowest poverty level; while client 2 has the smallest house, in a neighborhood with a relatively high poverty rate and not the best public schools.</p>
<p>Run the code block below to have your optimized model make predictions for each client's home.</p>

</div>
</div>
</div>
<div class="cell border-box-sizing code_cell rendered">
<div class="input">
<div class="prompt input_prompt">In&nbsp;[91]:</div>
<div class="inner_cell">
    <div class="input_area">
<div class=" highlight hl-ipython3"><pre><span></span><span class="c1"># Produce a matrix for client data</span>
<span class="n">client_data</span> <span class="o">=</span> <span class="p">[[</span><span class="mi">5</span><span class="p">,</span> <span class="mi">17</span><span class="p">,</span> <span class="mi">15</span><span class="p">],</span> <span class="c1"># Client 1</span>
               <span class="p">[</span><span class="mi">4</span><span class="p">,</span> <span class="mi">32</span><span class="p">,</span> <span class="mi">22</span><span class="p">],</span> <span class="c1"># Client 2</span>
               <span class="p">[</span><span class="mi">8</span><span class="p">,</span> <span class="mi">3</span><span class="p">,</span> <span class="mi">12</span><span class="p">]]</span>  <span class="c1"># Client 3</span>

<span class="c1"># Show predictions</span>
<span class="k">for</span> <span class="n">i</span><span class="p">,</span> <span class="n">price</span> <span class="ow">in</span> <span class="nb">enumerate</span><span class="p">(</span><span class="n">reg</span><span class="o">.</span><span class="n">predict</span><span class="p">(</span><span class="n">client_data</span><span class="p">)):</span>
    <span class="nb">print</span><span class="p">(</span><span class="s2">&quot;Predicted selling price for Client </span><span class="si">{}</span><span class="s2">&#39;s home: $</span><span class="si">{:,.2f}</span><span class="s2">&quot;</span><span class="o">.</span><span class="n">format</span><span class="p">(</span><span class="n">i</span><span class="o">+</span><span class="mi">1</span><span class="p">,</span> <span class="n">price</span><span class="p">))</span>
</pre></div>

</div>
</div>
</div>

<div class="output_wrapper">
<div class="output">


<div class="output_area">
<div class="prompt"></div>

<div class="output_subarea output_stream output_stdout output_text">
<pre>Predicted selling price for Client 1&#39;s home: $403,025.00
Predicted selling price for Client 2&#39;s home: $237,478.72
Predicted selling price for Client 3&#39;s home: $931,636.36
</pre>
</div>
</div>

</div>
</div>

</div>
<div class="cell border-box-sizing text_cell rendered">
<div class="prompt input_prompt">
</div>
<div class="inner_cell">
<div class="text_cell_render border-box-sizing rendered_html">
<p><strong>Answer: </strong> 
Predicted selling price for Client 1's home: $403,025.00
Predicted selling price for Client 2's home: $237,478.72
Predicted selling price for Client 3's home: $931,636.36
these prices seems reasonable given the features we can recommond them to the clients. Variance could be added to give range of value instead of a single value.</p>

</div>
</div>
</div>
<div class="cell border-box-sizing code_cell rendered">
<div class="input">
<div class="prompt input_prompt">In&nbsp;[125]:</div>
<div class="inner_cell">
    <div class="input_area">
<div class=" highlight hl-ipython3"><pre><span></span><span class="c1">#data_orig[ ( data_orig.RM &lt; 5.1 ) &amp; ( data_orig.RM &gt; 4.9)].MEDV.plot(kind=&#39;box&#39;)</span>
<span class="n">data_orig</span><span class="p">[</span> <span class="p">(</span> <span class="n">data_orig</span><span class="o">.</span><span class="n">LSTAT</span> <span class="o">&lt;</span> <span class="mf">17.1</span> <span class="p">)</span> <span class="o">&amp;</span> <span class="p">(</span> <span class="n">data_orig</span><span class="o">.</span><span class="n">LSTAT</span> <span class="o">&gt;</span> <span class="mf">16.9</span><span class="p">)]</span><span class="o">.</span><span class="n">MEDV</span><span class="o">.</span><span class="n">plot</span><span class="p">(</span><span class="n">kind</span><span class="o">=</span><span class="s1">&#39;box&#39;</span><span class="p">)</span>
<span class="n">data_orig</span><span class="p">[</span> <span class="p">(</span> <span class="n">data_orig</span><span class="o">.</span><span class="n">LSTAT</span> <span class="o">&lt;</span> <span class="mf">17.1</span> <span class="p">)</span> <span class="o">&amp;</span> <span class="p">(</span> <span class="n">data_orig</span><span class="o">.</span><span class="n">LSTAT</span> <span class="o">&gt;</span> <span class="mf">16.9</span><span class="p">)]</span><span class="o">.</span><span class="n">MEDV</span><span class="o">.</span><span class="n">plot</span><span class="p">(</span><span class="n">kind</span><span class="o">=</span><span class="s1">&#39;box&#39;</span><span class="p">)</span>
</pre></div>

</div>
</div>
</div>

<div class="output_wrapper">
<div class="output">


<div class="output_area">
<div class="prompt output_prompt">Out[125]:</div>



<div class="output_text output_subarea output_execute_result">
<pre>&lt;matplotlib.axes._subplots.AxesSubplot at 0x11348bc88&gt;</pre>
</div>

</div>

<div class="output_area">
<div class="prompt"></div>



<div class="output_png output_subarea ">
<img src="data:image/png;base64,iVBORw0KGgoAAAANSUhEUgAAAY0AAAD8CAYAAACLrvgBAAAABHNCSVQICAgIfAhkiAAAAAlwSFlz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"
>
</div>

</div>

</div>
</div>

</div>
<div class="cell border-box-sizing text_cell rendered">
<div class="prompt input_prompt">
</div>
<div class="inner_cell">
<div class="text_cell_render border-box-sizing rendered_html">
<h3 id="Sensitivity">Sensitivity<a class="anchor-link" href="#Sensitivity">&#182;</a></h3><p>An optimal model is not necessarily a robust model. Sometimes, a model is either too complex or too simple to sufficiently generalize to new data. Sometimes, a model could use a learning algorithm that is not appropriate for the structure of the data given. Other times, the data itself could be too noisy or contain too few samples to allow a model to adequately capture the target variable — i.e., the model is underfitted.</p>
<p><strong>Run the code cell below to run the <code>fit_model</code> function ten times with different training and testing sets to see how the prediction for a specific client changes with respect to the data it's trained on.</strong></p>

</div>
</div>
</div>
<div class="cell border-box-sizing code_cell rendered">
<div class="input">
<div class="prompt input_prompt">In&nbsp;[92]:</div>
<div class="inner_cell">
    <div class="input_area">
<div class=" highlight hl-ipython3"><pre><span></span><span class="n">vs</span><span class="o">.</span><span class="n">PredictTrials</span><span class="p">(</span><span class="n">features</span><span class="p">,</span> <span class="n">prices</span><span class="p">,</span> <span class="n">fit_model</span><span class="p">,</span> <span class="n">client_data</span><span class="p">)</span>
</pre></div>

</div>
</div>
</div>

<div class="output_wrapper">
<div class="output">


<div class="output_area">
<div class="prompt"></div>

<div class="output_subarea output_stream output_stdout output_text">
<pre>Trial 1: $391,183.33
Trial 2: $419,700.00
Trial 3: $415,800.00
Trial 4: $420,622.22
Trial 5: $413,334.78
Trial 6: $411,931.58
Trial 7: $399,663.16
Trial 8: $407,232.00
Trial 9: $351,577.61
Trial 10: $413,700.00

Range in prices: $69,044.61
</pre>
</div>
</div>

</div>
</div>

</div>
<div class="cell border-box-sizing text_cell rendered">
<div class="prompt input_prompt">
</div>
<div class="inner_cell">
<div class="text_cell_render border-box-sizing rendered_html">
<h3 id="Question-11---Applicability">Question 11 - Applicability<a class="anchor-link" href="#Question-11---Applicability">&#182;</a></h3><ul>
<li>In a few sentences, discuss whether the constructed model should or should not be used in a real-world setting.  </li>
</ul>
<p><strong>Hint:</strong> Take a look at the range in prices as calculated in the code snippet above. Some questions to answering:</p>
<ul>
<li>How relevant today is data that was collected from 1978? How important is inflation?</li>
<li>Are the features present in the data sufficient to describe a home? Do you think factors like quality of apppliances in the home, square feet of the plot area, presence of pool or not etc should factor in?</li>
<li>Is the model robust enough to make consistent predictions?</li>
<li>Would data collected in an urban city like Boston be applicable in a rural city?</li>
<li>Is it fair to judge the price of an individual home based on the characteristics of the entire neighborhood?</li>
</ul>

</div>
</div>
</div>
<div class="cell border-box-sizing text_cell rendered">
<div class="prompt input_prompt">
</div>
<div class="inner_cell">
<div class="text_cell_render border-box-sizing rendered_html">
<p>**Answer: Inflation is defenitely important factor to be considered if the cost of the houses changed in the same propotion then the current model could still work.</p>
<p>**The quality of the appliances,plot area might also impact the price of the unit we can add the extra features to determine the prices much acurately.</p>
<p>**As seen from the above Prediction trails the model is able to predict with an variance of 33k which is decect , I beleive it is robust enough.</p>
<p>**The data collected from boston may not be applicable in rural city because there could be different weitage of the features to predict the price , we can defenitly use the same apporoach but the parameters of the model could change.</p>
<p>**I think it is fair ,as we see in the housing market in real world the houses in a perticular neighbourhood tend to go with a similar price range , yes it is possible few houses might be not aligning with this rule but I feel the number would be small can be ignored.</p>
<p>** in short this model can be used with the current market data.</p>

</div>
</div>
</div>
<div class="cell border-box-sizing text_cell rendered">
<div class="prompt input_prompt">
</div>
<div class="inner_cell">
<div class="text_cell_render border-box-sizing rendered_html">
<blockquote><p><strong>Note</strong>: Once you have completed all of the code implementations and successfully answered each question above, you may finalize your work by exporting the iPython Notebook as an HTML document. You can do this by using the menu above and navigating to<br>
<strong>File -&gt; Download as -&gt; HTML (.html)</strong>. Include the finished document along with this notebook as your submission.</p>
</blockquote>

</div>
</div>
</div>
    </div>
  </div>
</body>

 


</html>
